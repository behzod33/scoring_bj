{
 "cells": [
  {
   "cell_type": "code",
   "execution_count": 2,
   "metadata": {},
   "outputs": [],
   "source": [
    "import os\n",
    "import pandas as pd"
   ]
  },
  {
   "cell_type": "code",
   "execution_count": 2,
   "metadata": {},
   "outputs": [],
   "source": [
    "# Преобразование CSV в JSON\n",
    "def csv_to_json(csv_file, json_file):\n",
    "    df = pd.read_csv(csv_file)\n",
    "    df.to_json(json_file, orient='records', lines=True)\n",
    "\n",
    "# Преобразование JSON в CSV\n",
    "def json_to_csv(json_file, csv_file):\n",
    "    df = pd.read_json(json_file, orient='records', lines=True)\n",
    "    df.to_csv(csv_file, index=False)\n"
   ]
  },
  {
   "cell_type": "code",
   "execution_count": 3,
   "metadata": {},
   "outputs": [],
   "source": [
    "# # Преобразуем CSV в JSON\n",
    "# csv_to_json('ListPI1.csv', 'ListPI1.json')\n",
    "# csv_to_json('ListP1.csv', 'ListP1.json')\n",
    "# csv_to_json('ListB1.csv', 'ListB1.json')\n",
    "\n",
    "# # Преобразуем JSON обратно в CSV\n",
    "# json_to_csv('ListPI1.json', 'ListPI1.csv')\n",
    "# json_to_csv('ListP1.json', 'ListP1.csv')\n",
    "# json_to_csv('ListB1.json', 'ListB1.csv')"
   ]
  },
  {
   "cell_type": "code",
   "execution_count": 4,
   "metadata": {},
   "outputs": [
    {
     "name": "stderr",
     "output_type": "stream",
     "text": [
      "C:\\Users\\F_Jumaev\\AppData\\Local\\Temp\\ipykernel_15232\\2938144876.py:3: DtypeWarning: Columns (17,18,25,26,31,32,33) have mixed types. Specify dtype option on import or set low_memory=False.\n",
      "  data_loan = pd.read_csv('ListPI1.csv')\n",
      "C:\\Users\\F_Jumaev\\AppData\\Local\\Temp\\ipykernel_15232\\2938144876.py:5: DtypeWarning: Columns (20) have mixed types. Specify dtype option on import or set low_memory=False.\n",
      "  data_beh = pd.read_csv('ListB1.csv')\n"
     ]
    }
   ],
   "source": [
    "\n",
    "# os.chdir('source/')\n",
    "\n",
    "data_loan = pd.read_csv('ListPI1.csv')\n",
    "data_app = pd.read_csv('ListP1.csv')\n",
    "data_beh = pd.read_csv('ListB1.csv')\n",
    "\n",
    "# Загрузка данных из Excel\n",
    "# data_loan = pd.read_excel(\"full_data.xlsx\", sheet_name=0)\n",
    "# data_app = pd.read_excel(\"full_data.xlsx\", sheet_name=1)\n",
    "# data_beh = pd.read_excel(\"full_data.xlsx\", sheet_name=2)\n"
   ]
  },
  {
   "cell_type": "code",
   "execution_count": null,
   "metadata": {},
   "outputs": [],
   "source": []
  }
 ],
 "metadata": {
  "kernelspec": {
   "display_name": "Python 3 (ipykernel)",
   "language": "python",
   "name": "python3"
  },
  "language_info": {
   "codemirror_mode": {
    "name": "ipython",
    "version": 3
   },
   "file_extension": ".py",
   "mimetype": "text/x-python",
   "name": "python",
   "nbconvert_exporter": "python",
   "pygments_lexer": "ipython3",
   "version": "3.10.9"
  }
 },
 "nbformat": 4,
 "nbformat_minor": 2
}
