{
 "cells": [
  {
   "cell_type": "markdown",
   "id": "b026b5b8",
   "metadata": {},
   "source": [
    "# Импорт необходимых модумей"
   ]
  },
  {
   "cell_type": "code",
   "execution_count": 2,
   "id": "31e2bffc",
   "metadata": {},
   "outputs": [],
   "source": [
    "import pandas as pd\n",
    "import numpy as np\n",
    "from datetime import datetime\n",
    "from dateutil.relativedelta import relativedelta\n",
    "import locale\n",
    "import re\n",
    "import os\n",
    "import logging\n"
   ]
  },
  {
   "cell_type": "markdown",
   "id": "c0638cfb",
   "metadata": {},
   "source": [
    "# Загрузка данных"
   ]
  },
  {
   "cell_type": "code",
   "execution_count": 3,
   "id": "2cd61d38",
   "metadata": {},
   "outputs": [],
   "source": [
    "# Настройка логирования для отслеживания выполнения кода\n",
    "logging.basicConfig(level=logging.INFO, format='%(asctime)s - %(levelname)s - %(message)s')\n",
    "\n",
    "# Устанавливание рабочей директории\n",
    "os.chdir(\"source/\")\n",
    "\n",
    "# Отображать все столбцы\n",
    "pd.set_option('display.max_columns', None)\n",
    "\n",
    "# Отображать все строки\n",
    "pd.set_option('display.max_rows', None)\n"
   ]
  },
  {
   "cell_type": "code",
   "execution_count": 5,
   "id": "cf6ded01",
   "metadata": {},
   "outputs": [
    {
     "ename": "FileNotFoundError",
     "evalue": "[Errno 2] No such file or directory: 'ListPI1.csv'",
     "output_type": "error",
     "traceback": [
      "\u001b[1;31m---------------------------------------------------------------------------\u001b[0m",
      "\u001b[1;31mFileNotFoundError\u001b[0m                         Traceback (most recent call last)",
      "Cell \u001b[1;32mIn[5], line 2\u001b[0m\n\u001b[0;32m      1\u001b[0m \u001b[38;5;66;03m# Загрузка данных из CSV файлов\u001b[39;00m\n\u001b[1;32m----> 2\u001b[0m data_loan \u001b[38;5;241m=\u001b[39m \u001b[43mpd\u001b[49m\u001b[38;5;241;43m.\u001b[39;49m\u001b[43mread_csv\u001b[49m\u001b[43m(\u001b[49m\u001b[38;5;124;43m'\u001b[39;49m\u001b[38;5;124;43mListPI1.csv\u001b[39;49m\u001b[38;5;124;43m'\u001b[39;49m\u001b[43m)\u001b[49m\n\u001b[0;32m      3\u001b[0m data_app \u001b[38;5;241m=\u001b[39m pd\u001b[38;5;241m.\u001b[39mread_csv(\u001b[38;5;124m'\u001b[39m\u001b[38;5;124mListP1.csv\u001b[39m\u001b[38;5;124m'\u001b[39m)\n\u001b[0;32m      4\u001b[0m data_beh \u001b[38;5;241m=\u001b[39m pd\u001b[38;5;241m.\u001b[39mread_csv(\u001b[38;5;124m'\u001b[39m\u001b[38;5;124mListB1.csv\u001b[39m\u001b[38;5;124m'\u001b[39m)\n",
      "File \u001b[1;32mC:\\ProgramData\\anaconda3\\lib\\site-packages\\pandas\\util\\_decorators.py:211\u001b[0m, in \u001b[0;36mdeprecate_kwarg.<locals>._deprecate_kwarg.<locals>.wrapper\u001b[1;34m(*args, **kwargs)\u001b[0m\n\u001b[0;32m    209\u001b[0m     \u001b[38;5;28;01melse\u001b[39;00m:\n\u001b[0;32m    210\u001b[0m         kwargs[new_arg_name] \u001b[38;5;241m=\u001b[39m new_arg_value\n\u001b[1;32m--> 211\u001b[0m \u001b[38;5;28;01mreturn\u001b[39;00m func(\u001b[38;5;241m*\u001b[39margs, \u001b[38;5;241m*\u001b[39m\u001b[38;5;241m*\u001b[39mkwargs)\n",
      "File \u001b[1;32mC:\\ProgramData\\anaconda3\\lib\\site-packages\\pandas\\util\\_decorators.py:331\u001b[0m, in \u001b[0;36mdeprecate_nonkeyword_arguments.<locals>.decorate.<locals>.wrapper\u001b[1;34m(*args, **kwargs)\u001b[0m\n\u001b[0;32m    325\u001b[0m \u001b[38;5;28;01mif\u001b[39;00m \u001b[38;5;28mlen\u001b[39m(args) \u001b[38;5;241m>\u001b[39m num_allow_args:\n\u001b[0;32m    326\u001b[0m     warnings\u001b[38;5;241m.\u001b[39mwarn(\n\u001b[0;32m    327\u001b[0m         msg\u001b[38;5;241m.\u001b[39mformat(arguments\u001b[38;5;241m=\u001b[39m_format_argument_list(allow_args)),\n\u001b[0;32m    328\u001b[0m         \u001b[38;5;167;01mFutureWarning\u001b[39;00m,\n\u001b[0;32m    329\u001b[0m         stacklevel\u001b[38;5;241m=\u001b[39mfind_stack_level(),\n\u001b[0;32m    330\u001b[0m     )\n\u001b[1;32m--> 331\u001b[0m \u001b[38;5;28;01mreturn\u001b[39;00m func(\u001b[38;5;241m*\u001b[39margs, \u001b[38;5;241m*\u001b[39m\u001b[38;5;241m*\u001b[39mkwargs)\n",
      "File \u001b[1;32mC:\\ProgramData\\anaconda3\\lib\\site-packages\\pandas\\io\\parsers\\readers.py:950\u001b[0m, in \u001b[0;36mread_csv\u001b[1;34m(filepath_or_buffer, sep, delimiter, header, names, index_col, usecols, squeeze, prefix, mangle_dupe_cols, dtype, engine, converters, true_values, false_values, skipinitialspace, skiprows, skipfooter, nrows, na_values, keep_default_na, na_filter, verbose, skip_blank_lines, parse_dates, infer_datetime_format, keep_date_col, date_parser, dayfirst, cache_dates, iterator, chunksize, compression, thousands, decimal, lineterminator, quotechar, quoting, doublequote, escapechar, comment, encoding, encoding_errors, dialect, error_bad_lines, warn_bad_lines, on_bad_lines, delim_whitespace, low_memory, memory_map, float_precision, storage_options)\u001b[0m\n\u001b[0;32m    935\u001b[0m kwds_defaults \u001b[38;5;241m=\u001b[39m _refine_defaults_read(\n\u001b[0;32m    936\u001b[0m     dialect,\n\u001b[0;32m    937\u001b[0m     delimiter,\n\u001b[1;32m   (...)\u001b[0m\n\u001b[0;32m    946\u001b[0m     defaults\u001b[38;5;241m=\u001b[39m{\u001b[38;5;124m\"\u001b[39m\u001b[38;5;124mdelimiter\u001b[39m\u001b[38;5;124m\"\u001b[39m: \u001b[38;5;124m\"\u001b[39m\u001b[38;5;124m,\u001b[39m\u001b[38;5;124m\"\u001b[39m},\n\u001b[0;32m    947\u001b[0m )\n\u001b[0;32m    948\u001b[0m kwds\u001b[38;5;241m.\u001b[39mupdate(kwds_defaults)\n\u001b[1;32m--> 950\u001b[0m \u001b[38;5;28;01mreturn\u001b[39;00m \u001b[43m_read\u001b[49m\u001b[43m(\u001b[49m\u001b[43mfilepath_or_buffer\u001b[49m\u001b[43m,\u001b[49m\u001b[43m \u001b[49m\u001b[43mkwds\u001b[49m\u001b[43m)\u001b[49m\n",
      "File \u001b[1;32mC:\\ProgramData\\anaconda3\\lib\\site-packages\\pandas\\io\\parsers\\readers.py:605\u001b[0m, in \u001b[0;36m_read\u001b[1;34m(filepath_or_buffer, kwds)\u001b[0m\n\u001b[0;32m    602\u001b[0m _validate_names(kwds\u001b[38;5;241m.\u001b[39mget(\u001b[38;5;124m\"\u001b[39m\u001b[38;5;124mnames\u001b[39m\u001b[38;5;124m\"\u001b[39m, \u001b[38;5;28;01mNone\u001b[39;00m))\n\u001b[0;32m    604\u001b[0m \u001b[38;5;66;03m# Create the parser.\u001b[39;00m\n\u001b[1;32m--> 605\u001b[0m parser \u001b[38;5;241m=\u001b[39m TextFileReader(filepath_or_buffer, \u001b[38;5;241m*\u001b[39m\u001b[38;5;241m*\u001b[39mkwds)\n\u001b[0;32m    607\u001b[0m \u001b[38;5;28;01mif\u001b[39;00m chunksize \u001b[38;5;129;01mor\u001b[39;00m iterator:\n\u001b[0;32m    608\u001b[0m     \u001b[38;5;28;01mreturn\u001b[39;00m parser\n",
      "File \u001b[1;32mC:\\ProgramData\\anaconda3\\lib\\site-packages\\pandas\\io\\parsers\\readers.py:1442\u001b[0m, in \u001b[0;36mTextFileReader.__init__\u001b[1;34m(self, f, engine, **kwds)\u001b[0m\n\u001b[0;32m   1439\u001b[0m     \u001b[38;5;28mself\u001b[39m\u001b[38;5;241m.\u001b[39moptions[\u001b[38;5;124m\"\u001b[39m\u001b[38;5;124mhas_index_names\u001b[39m\u001b[38;5;124m\"\u001b[39m] \u001b[38;5;241m=\u001b[39m kwds[\u001b[38;5;124m\"\u001b[39m\u001b[38;5;124mhas_index_names\u001b[39m\u001b[38;5;124m\"\u001b[39m]\n\u001b[0;32m   1441\u001b[0m \u001b[38;5;28mself\u001b[39m\u001b[38;5;241m.\u001b[39mhandles: IOHandles \u001b[38;5;241m|\u001b[39m \u001b[38;5;28;01mNone\u001b[39;00m \u001b[38;5;241m=\u001b[39m \u001b[38;5;28;01mNone\u001b[39;00m\n\u001b[1;32m-> 1442\u001b[0m \u001b[38;5;28mself\u001b[39m\u001b[38;5;241m.\u001b[39m_engine \u001b[38;5;241m=\u001b[39m \u001b[38;5;28;43mself\u001b[39;49m\u001b[38;5;241;43m.\u001b[39;49m\u001b[43m_make_engine\u001b[49m\u001b[43m(\u001b[49m\u001b[43mf\u001b[49m\u001b[43m,\u001b[49m\u001b[43m \u001b[49m\u001b[38;5;28;43mself\u001b[39;49m\u001b[38;5;241;43m.\u001b[39;49m\u001b[43mengine\u001b[49m\u001b[43m)\u001b[49m\n",
      "File \u001b[1;32mC:\\ProgramData\\anaconda3\\lib\\site-packages\\pandas\\io\\parsers\\readers.py:1735\u001b[0m, in \u001b[0;36mTextFileReader._make_engine\u001b[1;34m(self, f, engine)\u001b[0m\n\u001b[0;32m   1733\u001b[0m     \u001b[38;5;28;01mif\u001b[39;00m \u001b[38;5;124m\"\u001b[39m\u001b[38;5;124mb\u001b[39m\u001b[38;5;124m\"\u001b[39m \u001b[38;5;129;01mnot\u001b[39;00m \u001b[38;5;129;01min\u001b[39;00m mode:\n\u001b[0;32m   1734\u001b[0m         mode \u001b[38;5;241m+\u001b[39m\u001b[38;5;241m=\u001b[39m \u001b[38;5;124m\"\u001b[39m\u001b[38;5;124mb\u001b[39m\u001b[38;5;124m\"\u001b[39m\n\u001b[1;32m-> 1735\u001b[0m \u001b[38;5;28mself\u001b[39m\u001b[38;5;241m.\u001b[39mhandles \u001b[38;5;241m=\u001b[39m \u001b[43mget_handle\u001b[49m\u001b[43m(\u001b[49m\n\u001b[0;32m   1736\u001b[0m \u001b[43m    \u001b[49m\u001b[43mf\u001b[49m\u001b[43m,\u001b[49m\n\u001b[0;32m   1737\u001b[0m \u001b[43m    \u001b[49m\u001b[43mmode\u001b[49m\u001b[43m,\u001b[49m\n\u001b[0;32m   1738\u001b[0m \u001b[43m    \u001b[49m\u001b[43mencoding\u001b[49m\u001b[38;5;241;43m=\u001b[39;49m\u001b[38;5;28;43mself\u001b[39;49m\u001b[38;5;241;43m.\u001b[39;49m\u001b[43moptions\u001b[49m\u001b[38;5;241;43m.\u001b[39;49m\u001b[43mget\u001b[49m\u001b[43m(\u001b[49m\u001b[38;5;124;43m\"\u001b[39;49m\u001b[38;5;124;43mencoding\u001b[39;49m\u001b[38;5;124;43m\"\u001b[39;49m\u001b[43m,\u001b[49m\u001b[43m \u001b[49m\u001b[38;5;28;43;01mNone\u001b[39;49;00m\u001b[43m)\u001b[49m\u001b[43m,\u001b[49m\n\u001b[0;32m   1739\u001b[0m \u001b[43m    \u001b[49m\u001b[43mcompression\u001b[49m\u001b[38;5;241;43m=\u001b[39;49m\u001b[38;5;28;43mself\u001b[39;49m\u001b[38;5;241;43m.\u001b[39;49m\u001b[43moptions\u001b[49m\u001b[38;5;241;43m.\u001b[39;49m\u001b[43mget\u001b[49m\u001b[43m(\u001b[49m\u001b[38;5;124;43m\"\u001b[39;49m\u001b[38;5;124;43mcompression\u001b[39;49m\u001b[38;5;124;43m\"\u001b[39;49m\u001b[43m,\u001b[49m\u001b[43m \u001b[49m\u001b[38;5;28;43;01mNone\u001b[39;49;00m\u001b[43m)\u001b[49m\u001b[43m,\u001b[49m\n\u001b[0;32m   1740\u001b[0m \u001b[43m    \u001b[49m\u001b[43mmemory_map\u001b[49m\u001b[38;5;241;43m=\u001b[39;49m\u001b[38;5;28;43mself\u001b[39;49m\u001b[38;5;241;43m.\u001b[39;49m\u001b[43moptions\u001b[49m\u001b[38;5;241;43m.\u001b[39;49m\u001b[43mget\u001b[49m\u001b[43m(\u001b[49m\u001b[38;5;124;43m\"\u001b[39;49m\u001b[38;5;124;43mmemory_map\u001b[39;49m\u001b[38;5;124;43m\"\u001b[39;49m\u001b[43m,\u001b[49m\u001b[43m \u001b[49m\u001b[38;5;28;43;01mFalse\u001b[39;49;00m\u001b[43m)\u001b[49m\u001b[43m,\u001b[49m\n\u001b[0;32m   1741\u001b[0m \u001b[43m    \u001b[49m\u001b[43mis_text\u001b[49m\u001b[38;5;241;43m=\u001b[39;49m\u001b[43mis_text\u001b[49m\u001b[43m,\u001b[49m\n\u001b[0;32m   1742\u001b[0m \u001b[43m    \u001b[49m\u001b[43merrors\u001b[49m\u001b[38;5;241;43m=\u001b[39;49m\u001b[38;5;28;43mself\u001b[39;49m\u001b[38;5;241;43m.\u001b[39;49m\u001b[43moptions\u001b[49m\u001b[38;5;241;43m.\u001b[39;49m\u001b[43mget\u001b[49m\u001b[43m(\u001b[49m\u001b[38;5;124;43m\"\u001b[39;49m\u001b[38;5;124;43mencoding_errors\u001b[39;49m\u001b[38;5;124;43m\"\u001b[39;49m\u001b[43m,\u001b[49m\u001b[43m \u001b[49m\u001b[38;5;124;43m\"\u001b[39;49m\u001b[38;5;124;43mstrict\u001b[39;49m\u001b[38;5;124;43m\"\u001b[39;49m\u001b[43m)\u001b[49m\u001b[43m,\u001b[49m\n\u001b[0;32m   1743\u001b[0m \u001b[43m    \u001b[49m\u001b[43mstorage_options\u001b[49m\u001b[38;5;241;43m=\u001b[39;49m\u001b[38;5;28;43mself\u001b[39;49m\u001b[38;5;241;43m.\u001b[39;49m\u001b[43moptions\u001b[49m\u001b[38;5;241;43m.\u001b[39;49m\u001b[43mget\u001b[49m\u001b[43m(\u001b[49m\u001b[38;5;124;43m\"\u001b[39;49m\u001b[38;5;124;43mstorage_options\u001b[39;49m\u001b[38;5;124;43m\"\u001b[39;49m\u001b[43m,\u001b[49m\u001b[43m \u001b[49m\u001b[38;5;28;43;01mNone\u001b[39;49;00m\u001b[43m)\u001b[49m\u001b[43m,\u001b[49m\n\u001b[0;32m   1744\u001b[0m \u001b[43m\u001b[49m\u001b[43m)\u001b[49m\n\u001b[0;32m   1745\u001b[0m \u001b[38;5;28;01massert\u001b[39;00m \u001b[38;5;28mself\u001b[39m\u001b[38;5;241m.\u001b[39mhandles \u001b[38;5;129;01mis\u001b[39;00m \u001b[38;5;129;01mnot\u001b[39;00m \u001b[38;5;28;01mNone\u001b[39;00m\n\u001b[0;32m   1746\u001b[0m f \u001b[38;5;241m=\u001b[39m \u001b[38;5;28mself\u001b[39m\u001b[38;5;241m.\u001b[39mhandles\u001b[38;5;241m.\u001b[39mhandle\n",
      "File \u001b[1;32mC:\\ProgramData\\anaconda3\\lib\\site-packages\\pandas\\io\\common.py:856\u001b[0m, in \u001b[0;36mget_handle\u001b[1;34m(path_or_buf, mode, encoding, compression, memory_map, is_text, errors, storage_options)\u001b[0m\n\u001b[0;32m    851\u001b[0m \u001b[38;5;28;01melif\u001b[39;00m \u001b[38;5;28misinstance\u001b[39m(handle, \u001b[38;5;28mstr\u001b[39m):\n\u001b[0;32m    852\u001b[0m     \u001b[38;5;66;03m# Check whether the filename is to be opened in binary mode.\u001b[39;00m\n\u001b[0;32m    853\u001b[0m     \u001b[38;5;66;03m# Binary mode does not support 'encoding' and 'newline'.\u001b[39;00m\n\u001b[0;32m    854\u001b[0m     \u001b[38;5;28;01mif\u001b[39;00m ioargs\u001b[38;5;241m.\u001b[39mencoding \u001b[38;5;129;01mand\u001b[39;00m \u001b[38;5;124m\"\u001b[39m\u001b[38;5;124mb\u001b[39m\u001b[38;5;124m\"\u001b[39m \u001b[38;5;129;01mnot\u001b[39;00m \u001b[38;5;129;01min\u001b[39;00m ioargs\u001b[38;5;241m.\u001b[39mmode:\n\u001b[0;32m    855\u001b[0m         \u001b[38;5;66;03m# Encoding\u001b[39;00m\n\u001b[1;32m--> 856\u001b[0m         handle \u001b[38;5;241m=\u001b[39m \u001b[38;5;28;43mopen\u001b[39;49m\u001b[43m(\u001b[49m\n\u001b[0;32m    857\u001b[0m \u001b[43m            \u001b[49m\u001b[43mhandle\u001b[49m\u001b[43m,\u001b[49m\n\u001b[0;32m    858\u001b[0m \u001b[43m            \u001b[49m\u001b[43mioargs\u001b[49m\u001b[38;5;241;43m.\u001b[39;49m\u001b[43mmode\u001b[49m\u001b[43m,\u001b[49m\n\u001b[0;32m    859\u001b[0m \u001b[43m            \u001b[49m\u001b[43mencoding\u001b[49m\u001b[38;5;241;43m=\u001b[39;49m\u001b[43mioargs\u001b[49m\u001b[38;5;241;43m.\u001b[39;49m\u001b[43mencoding\u001b[49m\u001b[43m,\u001b[49m\n\u001b[0;32m    860\u001b[0m \u001b[43m            \u001b[49m\u001b[43merrors\u001b[49m\u001b[38;5;241;43m=\u001b[39;49m\u001b[43merrors\u001b[49m\u001b[43m,\u001b[49m\n\u001b[0;32m    861\u001b[0m \u001b[43m            \u001b[49m\u001b[43mnewline\u001b[49m\u001b[38;5;241;43m=\u001b[39;49m\u001b[38;5;124;43m\"\u001b[39;49m\u001b[38;5;124;43m\"\u001b[39;49m\u001b[43m,\u001b[49m\n\u001b[0;32m    862\u001b[0m \u001b[43m        \u001b[49m\u001b[43m)\u001b[49m\n\u001b[0;32m    863\u001b[0m     \u001b[38;5;28;01melse\u001b[39;00m:\n\u001b[0;32m    864\u001b[0m         \u001b[38;5;66;03m# Binary mode\u001b[39;00m\n\u001b[0;32m    865\u001b[0m         handle \u001b[38;5;241m=\u001b[39m \u001b[38;5;28mopen\u001b[39m(handle, ioargs\u001b[38;5;241m.\u001b[39mmode)\n",
      "\u001b[1;31mFileNotFoundError\u001b[0m: [Errno 2] No such file or directory: 'ListPI1.csv'"
     ]
    }
   ],
   "source": [
    "# Загрузка данных из CSV файлов\n",
    "data_loan = pd.read_csv('ListPI1.csv')\n",
    "data_app = pd.read_csv('ListP1.csv')\n",
    "data_beh = pd.read_csv('ListB1.csv')\n"
   ]
  },
  {
   "cell_type": "markdown",
   "id": "59226f1e",
   "metadata": {},
   "source": [
    "# Преобразование названий столбцов в snake_case"
   ]
  },
  {
   "cell_type": "code",
   "execution_count": 4,
   "id": "2d141135",
   "metadata": {},
   "outputs": [
    {
     "name": "stderr",
     "output_type": "stream",
     "text": [
      "2024-12-06 15:16:40,631 - INFO - Преобразование названий столбцов в snake_case.\n"
     ]
    }
   ],
   "source": [
    "# Функция для преобразования названий столбцов в snake_case\n",
    "def to_snake_case(column_name):\n",
    "    return column_name.lower().replace('.', '_').replace('#', 'number').replace(' ', '_')\n",
    "\n",
    "logging.info(\"Преобразование названий столбцов в snake_case.\")\n",
    "data_loan.columns = [to_snake_case(col) for col in data_loan.columns]\n",
    "data_app.columns = [to_snake_case(col) for col in data_app.columns]\n",
    "data_beh.columns = [to_snake_case(col) for col in data_beh.columns]\n"
   ]
  },
  {
   "cell_type": "markdown",
   "id": "a4f81d55",
   "metadata": {},
   "source": [
    "# Переименование столбцов с русскими именами на английские"
   ]
  },
  {
   "cell_type": "code",
   "execution_count": 4,
   "id": "67ee511c",
   "metadata": {},
   "outputs": [
    {
     "name": "stderr",
     "output_type": "stream",
     "text": [
      "2024-12-06 16:39:33,984 - INFO - Переименование столбцов с русскими именами на английские.\n"
     ]
    },
    {
     "ename": "NameError",
     "evalue": "name 'data_loan' is not defined",
     "output_type": "error",
     "traceback": [
      "\u001b[1;31m---------------------------------------------------------------------------\u001b[0m",
      "\u001b[1;31mNameError\u001b[0m                                 Traceback (most recent call last)",
      "Cell \u001b[1;32mIn[4], line 10\u001b[0m\n\u001b[0;32m      1\u001b[0m rename_columns \u001b[38;5;241m=\u001b[39m {\n\u001b[0;32m      2\u001b[0m     \u001b[38;5;124m'\u001b[39m\u001b[38;5;124mналичие_эсхата_онлайн\u001b[39m\u001b[38;5;124m'\u001b[39m: \u001b[38;5;124m'\u001b[39m\u001b[38;5;124meskhata_online\u001b[39m\u001b[38;5;124m'\u001b[39m,\n\u001b[0;32m      3\u001b[0m     \u001b[38;5;124m'\u001b[39m\u001b[38;5;124mналичие_пластиковых_карт\u001b[39m\u001b[38;5;124m'\u001b[39m: \u001b[38;5;124m'\u001b[39m\u001b[38;5;124mplastic_cards\u001b[39m\u001b[38;5;124m'\u001b[39m,\n\u001b[1;32m   (...)\u001b[0m\n\u001b[0;32m      7\u001b[0m     \u001b[38;5;124m'\u001b[39m\u001b[38;5;124mколичество_кредитов__в_бки_(заемщик)\u001b[39m\u001b[38;5;124m'\u001b[39m: \u001b[38;5;124m'\u001b[39m\u001b[38;5;124mbki_number_of_loans\u001b[39m\u001b[38;5;124m'\u001b[39m\n\u001b[0;32m      8\u001b[0m }\n\u001b[0;32m      9\u001b[0m logging\u001b[38;5;241m.\u001b[39minfo(\u001b[38;5;124m\"\u001b[39m\u001b[38;5;124mПереименование столбцов с русскими именами на английские.\u001b[39m\u001b[38;5;124m\"\u001b[39m)\n\u001b[1;32m---> 10\u001b[0m \u001b[43mdata_loan\u001b[49m\u001b[38;5;241m.\u001b[39mrename(columns\u001b[38;5;241m=\u001b[39mrename_columns, inplace\u001b[38;5;241m=\u001b[39m\u001b[38;5;28;01mTrue\u001b[39;00m)\n\u001b[0;32m     11\u001b[0m data_app\u001b[38;5;241m.\u001b[39mrename(columns\u001b[38;5;241m=\u001b[39mrename_columns, inplace\u001b[38;5;241m=\u001b[39m\u001b[38;5;28;01mTrue\u001b[39;00m)\n\u001b[0;32m     12\u001b[0m data_beh\u001b[38;5;241m.\u001b[39mrename(columns\u001b[38;5;241m=\u001b[39mrename_columns, inplace\u001b[38;5;241m=\u001b[39m\u001b[38;5;28;01mTrue\u001b[39;00m)\n",
      "\u001b[1;31mNameError\u001b[0m: name 'data_loan' is not defined"
     ]
    }
   ],
   "source": [
    "rename_columns = {\n",
    "    'наличие_эсхата_онлайн': 'eskhata_online',\n",
    "    'наличие_пластиковых_карт': 'plastic_cards',\n",
    "    'наличие_депозита': 'deposit',\n",
    "    'кумулятивная_просрочка': 'cumulative_delinquency',\n",
    "    'рейтинг_бки': 'bki_rating',\n",
    "    'количество_кредитов__в_бки_(заемщик)': 'bki_number_of_loans'\n",
    "}\n",
    "logging.info(\"Переименование столбцов с русскими именами на английские.\")\n",
    "data_loan.rename(columns=rename_columns, inplace=True)\n",
    "data_app.rename(columns=rename_columns, inplace=True)\n",
    "data_beh.rename(columns=rename_columns, inplace=True)\n"
   ]
  },
  {
   "cell_type": "markdown",
   "id": "3567167a",
   "metadata": {},
   "source": [
    "# Подсчет количества дубликатов (не включая первую строку)"
   ]
  },
  {
   "cell_type": "code",
   "execution_count": 6,
   "id": "e6adf9a3",
   "metadata": {},
   "outputs": [
    {
     "name": "stderr",
     "output_type": "stream",
     "text": [
      "2024-12-06 15:16:40,703 - INFO - Проверка дублирующихся строк по account_id\n"
     ]
    },
    {
     "data": {
      "text/plain": [
       "32801"
      ]
     },
     "metadata": {},
     "output_type": "display_data"
    },
    {
     "data": {
      "text/plain": [
       "0"
      ]
     },
     "metadata": {},
     "output_type": "display_data"
    },
    {
     "data": {
      "text/plain": [
       "0"
      ]
     },
     "metadata": {},
     "output_type": "display_data"
    },
    {
     "name": "stderr",
     "output_type": "stream",
     "text": [
      "2024-12-06 15:16:40,767 - INFO - Проверка дублирующихся строк по customer_id\n"
     ]
    },
    {
     "data": {
      "text/plain": [
       "32801"
      ]
     },
     "metadata": {},
     "output_type": "display_data"
    },
    {
     "data": {
      "text/plain": [
       "0"
      ]
     },
     "metadata": {},
     "output_type": "display_data"
    },
    {
     "data": {
      "text/plain": [
       "0"
      ]
     },
     "metadata": {},
     "output_type": "display_data"
    },
    {
     "name": "stderr",
     "output_type": "stream",
     "text": [
      "2024-12-06 15:16:40,820 - INFO - Подсчет количества дубликатов по application_id\n"
     ]
    },
    {
     "data": {
      "text/plain": [
       "136"
      ]
     },
     "metadata": {},
     "output_type": "display_data"
    },
    {
     "data": {
      "text/plain": [
       "0"
      ]
     },
     "metadata": {},
     "output_type": "display_data"
    }
   ],
   "source": [
    "logging.info(\"Проверка дублирующихся строк по account_id\")\n",
    "display(data_loan.duplicated(subset='account_id').sum())\n",
    "display(data_app.duplicated(subset='account_id').sum())\n",
    "display(data_beh.duplicated(subset='account_id').sum())\n",
    "\n",
    "logging.info(\"Проверка дублирующихся строк по customer_id\")\n",
    "display(data_loan.duplicated(subset='account_id').sum())\n",
    "display(data_app.duplicated(subset='account_id').sum())\n",
    "display(data_beh.duplicated(subset='account_id').sum())\n",
    "\n",
    "logging.info(\"Подсчет количества дубликатов по application_id\")\n",
    "display(data_loan.duplicated(subset='application_id').sum())\n",
    "display(data_app.duplicated(subset='application_id').sum())\n",
    "\n"
   ]
  },
  {
   "cell_type": "markdown",
   "id": "9d3ecbac",
   "metadata": {},
   "source": [
    "# Удаление дубликатов"
   ]
  },
  {
   "cell_type": "code",
   "execution_count": 7,
   "id": "d21891e9",
   "metadata": {},
   "outputs": [
    {
     "name": "stderr",
     "output_type": "stream",
     "text": [
      "2024-12-06 15:16:40,980 - INFO - Удаление дубликатов по account_id.\n",
      "2024-12-06 15:16:41,153 - INFO - Удаление дубликатов по application_id.\n"
     ]
    }
   ],
   "source": [
    "# Удаление дубликатов по account_id\n",
    "logging.info(\"Удаление дубликатов по account_id.\")\n",
    "data_loan.drop_duplicates(subset='account_id', keep='first', inplace=True)\n",
    "\n",
    "# Удаление дубликатов по application_id\n",
    "logging.info(\"Удаление дубликатов по application_id.\")\n",
    "data_loan.drop_duplicates(subset='application_id', keep='first', inplace=True)\n",
    "\n",
    "\n",
    "# # Удаление дубликатов по customer_id\n",
    "# logging.info(\"Удаление дубликатов по customer_id.\")\n",
    "# data_loan.drop_duplicates(subset='customer_id_loan', keep='first', inplace=True)"
   ]
  },
  {
   "cell_type": "markdown",
   "id": "f4f88606",
   "metadata": {},
   "source": [
    "# Объединение данных по account_id"
   ]
  },
  {
   "cell_type": "code",
   "execution_count": 8,
   "id": "4109b66c",
   "metadata": {},
   "outputs": [
    {
     "name": "stderr",
     "output_type": "stream",
     "text": [
      "2024-12-06 15:16:41,362 - INFO - Объединение данных по 'account_id'.\n"
     ]
    }
   ],
   "source": [
    "logging.info(\"Объединение данных по 'account_id'.\")\n",
    "res = data_loan.merge(data_app, on=\"account_id\", how=\"left\", suffixes=('_loan', '_app'))\n",
    "res = res.merge(data_beh, on=\"account_id\", how=\"left\", suffixes=('', '_beh'))\n"
   ]
  },
  {
   "cell_type": "markdown",
   "id": "e1ba129c",
   "metadata": {},
   "source": [
    "# Удаление дублириющих переменных"
   ]
  },
  {
   "cell_type": "code",
   "execution_count": 9,
   "id": "53e9551a",
   "metadata": {},
   "outputs": [],
   "source": [
    "res = res.drop(['application_id_app', 'customer_id_app', 'customer_id'], axis=1)\n",
    "res = res.rename(columns={\n",
    "    'customer_id_loan': 'customer_id',\n",
    "    'application_id_loan': 'application_id'\n",
    "})\n"
   ]
  },
  {
   "cell_type": "markdown",
   "id": "8bd0dff3",
   "metadata": {},
   "source": [
    "# Переименование столбцов для удобства"
   ]
  },
  {
   "cell_type": "code",
   "execution_count": 10,
   "id": "dab63b10",
   "metadata": {},
   "outputs": [
    {
     "name": "stderr",
     "output_type": "stream",
     "text": [
      "2024-12-06 15:16:44,427 - INFO - Переименование столбцов\n"
     ]
    }
   ],
   "source": [
    "logging.info(\"Переименование столбцов\")\n",
    "res['dependants'] = res['number_dependants']\n",
    "res['months_at_current_address'] = res['number_months_at_current_address']\n",
    "res['months_at_job'] = res['number_months_at_job']"
   ]
  },
  {
   "cell_type": "code",
   "execution_count": 11,
   "id": "0e9150fb",
   "metadata": {},
   "outputs": [
    {
     "data": {
      "text/html": [
       "<div>\n",
       "<style scoped>\n",
       "    .dataframe tbody tr th:only-of-type {\n",
       "        vertical-align: middle;\n",
       "    }\n",
       "\n",
       "    .dataframe tbody tr th {\n",
       "        vertical-align: top;\n",
       "    }\n",
       "\n",
       "    .dataframe thead th {\n",
       "        text-align: right;\n",
       "    }\n",
       "</style>\n",
       "<table border=\"1\" class=\"dataframe\">\n",
       "  <thead>\n",
       "    <tr style=\"text-align: right;\">\n",
       "      <th></th>\n",
       "      <th>customer_id</th>\n",
       "      <th>application_id</th>\n",
       "      <th>account_id</th>\n",
       "      <th>date_of_birth</th>\n",
       "      <th>gender</th>\n",
       "      <th>city_of_living</th>\n",
       "      <th>region_of_living</th>\n",
       "      <th>city_of_registration</th>\n",
       "      <th>region_of_registration</th>\n",
       "      <th>work_phone_number</th>\n",
       "      <th>mobile_phone_number</th>\n",
       "      <th>education</th>\n",
       "      <th>marital_status</th>\n",
       "      <th>number_dependants</th>\n",
       "      <th>number_children</th>\n",
       "      <th>number_months_at_current_address</th>\n",
       "      <th>employment_type</th>\n",
       "      <th>employment_sector</th>\n",
       "      <th>employment_segment</th>\n",
       "      <th>number_months_at_job</th>\n",
       "      <th>net_main_income</th>\n",
       "      <th>source_of_main_income</th>\n",
       "      <th>additional_income</th>\n",
       "      <th>source_of_additional_income</th>\n",
       "      <th>reported_expenses</th>\n",
       "      <th>months_with_bank</th>\n",
       "      <th>current_exposure</th>\n",
       "      <th>client_type_</th>\n",
       "      <th>property_object</th>\n",
       "      <th>eskhata_online</th>\n",
       "      <th>plastic_cards</th>\n",
       "      <th>deposit</th>\n",
       "      <th>состояние</th>\n",
       "      <th>причина_отказа</th>\n",
       "      <th>branch_id</th>\n",
       "      <th>product_id</th>\n",
       "      <th>application_date</th>\n",
       "      <th>date_loan_granted</th>\n",
       "      <th>loan_amount</th>\n",
       "      <th>first_instalment_due_date</th>\n",
       "      <th>interest_rate</th>\n",
       "      <th>collateral_type</th>\n",
       "      <th>value_of_collateral</th>\n",
       "      <th>property_type/collateral_type</th>\n",
       "      <th>salary_payment_in_bank_account</th>\n",
       "      <th>loan_type</th>\n",
       "      <th>number_of_instalments</th>\n",
       "      <th>instalment_amount/min_instalment_amount</th>\n",
       "      <th>run_date</th>\n",
       "      <th>date_account_opened</th>\n",
       "      <th>current_balance</th>\n",
       "      <th>date_last_payment</th>\n",
       "      <th>date_final_payment</th>\n",
       "      <th>due_date</th>\n",
       "      <th>payment_amount</th>\n",
       "      <th>account_status</th>\n",
       "      <th>number_of_payments_in_arrears</th>\n",
       "      <th>cumulative_delinquency</th>\n",
       "      <th>amount_due_–_instalment</th>\n",
       "      <th>principal_amount</th>\n",
       "      <th>interest_accrued</th>\n",
       "      <th>outstanding_balance</th>\n",
       "      <th>arrears_amount</th>\n",
       "      <th>current_days_past_due</th>\n",
       "      <th>maximum_days_past_due</th>\n",
       "      <th>maximum_days_past_due_lifetime</th>\n",
       "      <th>default_flag</th>\n",
       "      <th>кол-во_пролонгации</th>\n",
       "      <th>bki_rating</th>\n",
       "      <th>bki_number_of_loans</th>\n",
       "      <th>ftd-1</th>\n",
       "      <th>ftd-2</th>\n",
       "      <th>ftd-3</th>\n",
       "      <th>ftd-4</th>\n",
       "      <th>dependants</th>\n",
       "      <th>months_at_current_address</th>\n",
       "      <th>months_at_job</th>\n",
       "    </tr>\n",
       "  </thead>\n",
       "  <tbody>\n",
       "    <tr>\n",
       "      <th>0</th>\n",
       "      <td>2.512152e+10</td>\n",
       "      <td>764446/КР</td>\n",
       "      <td>3.561914e+10</td>\n",
       "      <td>1998-01-07 00:00:00</td>\n",
       "      <td>Женский</td>\n",
       "      <td>нохияи Фирдавси</td>\n",
       "      <td>Душанбе</td>\n",
       "      <td>Фирдавси</td>\n",
       "      <td>Душанбе</td>\n",
       "      <td>992000805085</td>\n",
       "      <td>NaN</td>\n",
       "      <td>Высшее</td>\n",
       "      <td>Не замужем</td>\n",
       "      <td>0</td>\n",
       "      <td>2</td>\n",
       "      <td>0</td>\n",
       "      <td>Имеет другой источник дохода</td>\n",
       "      <td>NaN</td>\n",
       "      <td>NaN</td>\n",
       "      <td>0</td>\n",
       "      <td>3121.36</td>\n",
       "      <td>Прочее</td>\n",
       "      <td>NaN</td>\n",
       "      <td>NaN</td>\n",
       "      <td>1272.0</td>\n",
       "      <td>36</td>\n",
       "      <td>0.0</td>\n",
       "      <td>0</td>\n",
       "      <td>Квартира</td>\n",
       "      <td>Да</td>\n",
       "      <td>Да</td>\n",
       "      <td>0.0</td>\n",
       "      <td>NaN</td>\n",
       "      <td>NaN</td>\n",
       "      <td>ФИЛИАЛИ ЧСК \"БОНКИ ЭСХАТА\" ДАР Ш.ДУШАНБЕ</td>\n",
       "      <td>Карзхои гуногунмаксад</td>\n",
       "      <td>2021-10-19</td>\n",
       "      <td>2021-11-02</td>\n",
       "      <td>12300.0</td>\n",
       "      <td>2021-12-02</td>\n",
       "      <td>31.0</td>\n",
       "      <td>NaN</td>\n",
       "      <td>NaN</td>\n",
       "      <td>NaN</td>\n",
       "      <td>Нет</td>\n",
       "      <td>Многоцелевые кредиты_005_аннуитет</td>\n",
       "      <td>18.0</td>\n",
       "      <td>863.0</td>\n",
       "      <td>2023-06-30</td>\n",
       "      <td>2021-11-02</td>\n",
       "      <td>0.0</td>\n",
       "      <td>NaN</td>\n",
       "      <td>2023-04-20</td>\n",
       "      <td>NaN</td>\n",
       "      <td>NaN</td>\n",
       "      <td>Закрыт</td>\n",
       "      <td>NaN</td>\n",
       "      <td>0.0</td>\n",
       "      <td>0.0</td>\n",
       "      <td>0.0</td>\n",
       "      <td>0.0</td>\n",
       "      <td>0.0</td>\n",
       "      <td>0.0</td>\n",
       "      <td>0.0</td>\n",
       "      <td>0.0</td>\n",
       "      <td>0.0</td>\n",
       "      <td>NaN</td>\n",
       "      <td>0.0</td>\n",
       "      <td>NaN</td>\n",
       "      <td>0.0</td>\n",
       "      <td>0.0</td>\n",
       "      <td>0.0</td>\n",
       "      <td>0.0</td>\n",
       "      <td>0.0</td>\n",
       "      <td>0</td>\n",
       "      <td>0</td>\n",
       "      <td>0</td>\n",
       "    </tr>\n",
       "    <tr>\n",
       "      <th>1</th>\n",
       "      <td>8.471401e+08</td>\n",
       "      <td>766801/КР</td>\n",
       "      <td>3.573316e+10</td>\n",
       "      <td>1969-05-16 00:00:00</td>\n",
       "      <td>Мужской</td>\n",
       "      <td>Истаравшан</td>\n",
       "      <td>Вилояти Сугд</td>\n",
       "      <td>Истаравшан</td>\n",
       "      <td>Вилояти Сугд</td>\n",
       "      <td>992985675558</td>\n",
       "      <td>NaN</td>\n",
       "      <td>Среднее</td>\n",
       "      <td>Женат</td>\n",
       "      <td>2</td>\n",
       "      <td>2</td>\n",
       "      <td>6</td>\n",
       "      <td>Собственный бизнес</td>\n",
       "      <td>Самозанятость</td>\n",
       "      <td>Услуги транспорта</td>\n",
       "      <td>276</td>\n",
       "      <td>3800.00</td>\n",
       "      <td>Прочее</td>\n",
       "      <td>NaN</td>\n",
       "      <td>NaN</td>\n",
       "      <td>1500.0</td>\n",
       "      <td>143</td>\n",
       "      <td>4691.17</td>\n",
       "      <td>1</td>\n",
       "      <td>Дом</td>\n",
       "      <td>Нет</td>\n",
       "      <td>Нет</td>\n",
       "      <td>0.0</td>\n",
       "      <td>NaN</td>\n",
       "      <td>NaN</td>\n",
       "      <td>ФИЛИАЛИ ЧСК \"БОНКИ ЭСХАТА\" ДАР Ш.ИСТАРАВШАН</td>\n",
       "      <td>Карзхои гуногунмаксад</td>\n",
       "      <td>2021-10-25</td>\n",
       "      <td>2021-11-01</td>\n",
       "      <td>20000.0</td>\n",
       "      <td>2021-12-01</td>\n",
       "      <td>30.0</td>\n",
       "      <td>1) Поручитель;</td>\n",
       "      <td>1) 0;</td>\n",
       "      <td>1) Поручитель;</td>\n",
       "      <td>Нет</td>\n",
       "      <td>Многоцелевые кредиты_005_аннуитет</td>\n",
       "      <td>24.0</td>\n",
       "      <td>1118.0</td>\n",
       "      <td>2023-06-30</td>\n",
       "      <td>2021-11-01</td>\n",
       "      <td>0.0</td>\n",
       "      <td>2023-04-26</td>\n",
       "      <td>2023-10-26</td>\n",
       "      <td>2023-06-01</td>\n",
       "      <td>1118.0</td>\n",
       "      <td>Закрыт</td>\n",
       "      <td>NaN</td>\n",
       "      <td>0.0</td>\n",
       "      <td>0.0</td>\n",
       "      <td>0.0</td>\n",
       "      <td>0.0</td>\n",
       "      <td>0.0</td>\n",
       "      <td>0.0</td>\n",
       "      <td>0.0</td>\n",
       "      <td>0.0</td>\n",
       "      <td>0.0</td>\n",
       "      <td>NaN</td>\n",
       "      <td>0.0</td>\n",
       "      <td>NaN</td>\n",
       "      <td>5.0</td>\n",
       "      <td>0.0</td>\n",
       "      <td>0.0</td>\n",
       "      <td>0.0</td>\n",
       "      <td>0.0</td>\n",
       "      <td>2</td>\n",
       "      <td>6</td>\n",
       "      <td>276</td>\n",
       "    </tr>\n",
       "    <tr>\n",
       "      <th>2</th>\n",
       "      <td>6.286580e+09</td>\n",
       "      <td>766319/КР</td>\n",
       "      <td>3.573691e+10</td>\n",
       "      <td>1991-03-02 00:00:00</td>\n",
       "      <td>Мужской</td>\n",
       "      <td>Истаравшан</td>\n",
       "      <td>Вилояти Сугд</td>\n",
       "      <td>Истаравшан</td>\n",
       "      <td>Вилояти Сугд</td>\n",
       "      <td>992988621755</td>\n",
       "      <td>NaN</td>\n",
       "      <td>Среднее</td>\n",
       "      <td>Женат</td>\n",
       "      <td>3</td>\n",
       "      <td>2</td>\n",
       "      <td>9</td>\n",
       "      <td>Собственный бизнес</td>\n",
       "      <td>Самозанятость</td>\n",
       "      <td>Услуги транспорта</td>\n",
       "      <td>60</td>\n",
       "      <td>3500.00</td>\n",
       "      <td>Прочее</td>\n",
       "      <td>NaN</td>\n",
       "      <td>NaN</td>\n",
       "      <td>1000.0</td>\n",
       "      <td>61</td>\n",
       "      <td>4301.47</td>\n",
       "      <td>1</td>\n",
       "      <td>Дом</td>\n",
       "      <td>Нет</td>\n",
       "      <td>Нет</td>\n",
       "      <td>0.0</td>\n",
       "      <td>NaN</td>\n",
       "      <td>NaN</td>\n",
       "      <td>ФИЛИАЛИ ЧСК \"БОНКИ ЭСХАТА\" ДАР Ш.ИСТАРАВШАН</td>\n",
       "      <td>Карзхои гуногунмаксад</td>\n",
       "      <td>2021-10-25</td>\n",
       "      <td>2021-11-05</td>\n",
       "      <td>10000.0</td>\n",
       "      <td>2021-12-06</td>\n",
       "      <td>30.0</td>\n",
       "      <td>NaN</td>\n",
       "      <td>NaN</td>\n",
       "      <td>NaN</td>\n",
       "      <td>Нет</td>\n",
       "      <td>Многоцелевые кредиты_005_аннуитет</td>\n",
       "      <td>24.0</td>\n",
       "      <td>559.0</td>\n",
       "      <td>2023-06-30</td>\n",
       "      <td>2021-11-05</td>\n",
       "      <td>0.0</td>\n",
       "      <td>2023-04-03</td>\n",
       "      <td>2023-10-26</td>\n",
       "      <td>2023-06-05</td>\n",
       "      <td>559.0</td>\n",
       "      <td>Закрыт</td>\n",
       "      <td>NaN</td>\n",
       "      <td>19.0</td>\n",
       "      <td>0.0</td>\n",
       "      <td>0.0</td>\n",
       "      <td>0.0</td>\n",
       "      <td>0.0</td>\n",
       "      <td>0.0</td>\n",
       "      <td>0.0</td>\n",
       "      <td>0.0</td>\n",
       "      <td>7.0</td>\n",
       "      <td>NaN</td>\n",
       "      <td>0.0</td>\n",
       "      <td>NaN</td>\n",
       "      <td>2.0</td>\n",
       "      <td>0.0</td>\n",
       "      <td>1.0</td>\n",
       "      <td>0.0</td>\n",
       "      <td>7.0</td>\n",
       "      <td>3</td>\n",
       "      <td>9</td>\n",
       "      <td>60</td>\n",
       "    </tr>\n",
       "    <tr>\n",
       "      <th>3</th>\n",
       "      <td>1.493983e+10</td>\n",
       "      <td>766446/КР</td>\n",
       "      <td>3.574159e+10</td>\n",
       "      <td>1966-10-23 00:00:00</td>\n",
       "      <td>Мужской</td>\n",
       "      <td>Фархор</td>\n",
       "      <td>Вилояти Хатлон</td>\n",
       "      <td>Пархар</td>\n",
       "      <td>Вилояти Хатлон</td>\n",
       "      <td>+992900078418; ; ;</td>\n",
       "      <td>NaN</td>\n",
       "      <td>Среднее</td>\n",
       "      <td>Женат</td>\n",
       "      <td>1</td>\n",
       "      <td>2</td>\n",
       "      <td>39</td>\n",
       "      <td>Имеет другой источник дохода</td>\n",
       "      <td>NaN</td>\n",
       "      <td>NaN</td>\n",
       "      <td>0</td>\n",
       "      <td>2400.00</td>\n",
       "      <td>Доход семьи</td>\n",
       "      <td>NaN</td>\n",
       "      <td>NaN</td>\n",
       "      <td>1000.0</td>\n",
       "      <td>60</td>\n",
       "      <td>1153.52</td>\n",
       "      <td>1</td>\n",
       "      <td>Дом</td>\n",
       "      <td>Нет</td>\n",
       "      <td>Нет</td>\n",
       "      <td>0.0</td>\n",
       "      <td>NaN</td>\n",
       "      <td>NaN</td>\n",
       "      <td>ФИЛИАЛИ ЧСК \"БОНКИ ЭСХАТА\" ДАР Ш. КУЛОБ</td>\n",
       "      <td>Карзхои гуногунмаксад</td>\n",
       "      <td>2021-10-25</td>\n",
       "      <td>2021-11-03</td>\n",
       "      <td>3300.0</td>\n",
       "      <td>2021-12-03</td>\n",
       "      <td>31.0</td>\n",
       "      <td>NaN</td>\n",
       "      <td>NaN</td>\n",
       "      <td>NaN</td>\n",
       "      <td>Нет</td>\n",
       "      <td>Многоцелевые кредиты_005_аннуитет</td>\n",
       "      <td>12.0</td>\n",
       "      <td>323.0</td>\n",
       "      <td>2023-06-30</td>\n",
       "      <td>2021-11-03</td>\n",
       "      <td>0.0</td>\n",
       "      <td>2022-09-12</td>\n",
       "      <td>2022-10-26</td>\n",
       "      <td>NaN</td>\n",
       "      <td>NaN</td>\n",
       "      <td>Закрыт</td>\n",
       "      <td>NaN</td>\n",
       "      <td>0.0</td>\n",
       "      <td>0.0</td>\n",
       "      <td>0.0</td>\n",
       "      <td>0.0</td>\n",
       "      <td>0.0</td>\n",
       "      <td>0.0</td>\n",
       "      <td>0.0</td>\n",
       "      <td>0.0</td>\n",
       "      <td>0.0</td>\n",
       "      <td>NaN</td>\n",
       "      <td>0.0</td>\n",
       "      <td>NaN</td>\n",
       "      <td>0.0</td>\n",
       "      <td>0.0</td>\n",
       "      <td>0.0</td>\n",
       "      <td>0.0</td>\n",
       "      <td>0.0</td>\n",
       "      <td>1</td>\n",
       "      <td>39</td>\n",
       "      <td>0</td>\n",
       "    </tr>\n",
       "    <tr>\n",
       "      <th>4</th>\n",
       "      <td>3.283014e+10</td>\n",
       "      <td>767392/КР</td>\n",
       "      <td>3.575473e+10</td>\n",
       "      <td>2001-06-07 00:00:00</td>\n",
       "      <td>Мужской</td>\n",
       "      <td>поселки Варзобского района</td>\n",
       "      <td>Нохияхои тобеи Чумхури</td>\n",
       "      <td>поселки Варзобского района</td>\n",
       "      <td>Нохияхои тобеи Чумхури</td>\n",
       "      <td>NaN</td>\n",
       "      <td>992888051515</td>\n",
       "      <td>Среднее</td>\n",
       "      <td>Холост</td>\n",
       "      <td>0</td>\n",
       "      <td>0</td>\n",
       "      <td>2</td>\n",
       "      <td>Собственный бизнес</td>\n",
       "      <td>Самозанятость</td>\n",
       "      <td>Услуги транспорта</td>\n",
       "      <td>36</td>\n",
       "      <td>5700.00</td>\n",
       "      <td>Предпринимательство</td>\n",
       "      <td>NaN</td>\n",
       "      <td>NaN</td>\n",
       "      <td>3001.0</td>\n",
       "      <td>20</td>\n",
       "      <td>4938.37</td>\n",
       "      <td>0</td>\n",
       "      <td>Дом</td>\n",
       "      <td>Да</td>\n",
       "      <td>Нет</td>\n",
       "      <td>0.0</td>\n",
       "      <td>NaN</td>\n",
       "      <td>NaN</td>\n",
       "      <td>ФИЛИАЛИ ЧСК \"БОНКИ ЭСХАТА\" ДАР Ш.ДУШАНБЕ, Н.СИ...</td>\n",
       "      <td>Карзхои гуногунмаксад</td>\n",
       "      <td>2021-10-26</td>\n",
       "      <td>2021-11-03</td>\n",
       "      <td>5000.0</td>\n",
       "      <td>2021-12-03</td>\n",
       "      <td>31.0</td>\n",
       "      <td>NaN</td>\n",
       "      <td>NaN</td>\n",
       "      <td>NaN</td>\n",
       "      <td>Нет</td>\n",
       "      <td>Многоцелевые кредиты_005_аннуитет</td>\n",
       "      <td>6.0</td>\n",
       "      <td>910.0</td>\n",
       "      <td>2023-06-30</td>\n",
       "      <td>2021-11-03</td>\n",
       "      <td>0.0</td>\n",
       "      <td>2022-04-27</td>\n",
       "      <td>2022-04-27</td>\n",
       "      <td>NaN</td>\n",
       "      <td>NaN</td>\n",
       "      <td>Закрыт</td>\n",
       "      <td>NaN</td>\n",
       "      <td>0.0</td>\n",
       "      <td>0.0</td>\n",
       "      <td>0.0</td>\n",
       "      <td>0.0</td>\n",
       "      <td>0.0</td>\n",
       "      <td>0.0</td>\n",
       "      <td>0.0</td>\n",
       "      <td>0.0</td>\n",
       "      <td>0.0</td>\n",
       "      <td>NaN</td>\n",
       "      <td>0.0</td>\n",
       "      <td>NaN</td>\n",
       "      <td>1.0</td>\n",
       "      <td>0.0</td>\n",
       "      <td>0.0</td>\n",
       "      <td>0.0</td>\n",
       "      <td>0.0</td>\n",
       "      <td>0</td>\n",
       "      <td>2</td>\n",
       "      <td>36</td>\n",
       "    </tr>\n",
       "  </tbody>\n",
       "</table>\n",
       "</div>"
      ],
      "text/plain": [
       "    customer_id application_id    account_id        date_of_birth   gender  \\\n",
       "0  2.512152e+10      764446/КР  3.561914e+10  1998-01-07 00:00:00  Женский   \n",
       "1  8.471401e+08      766801/КР  3.573316e+10  1969-05-16 00:00:00  Мужской   \n",
       "2  6.286580e+09      766319/КР  3.573691e+10  1991-03-02 00:00:00  Мужской   \n",
       "3  1.493983e+10      766446/КР  3.574159e+10  1966-10-23 00:00:00  Мужской   \n",
       "4  3.283014e+10      767392/КР  3.575473e+10  2001-06-07 00:00:00  Мужской   \n",
       "\n",
       "               city_of_living        region_of_living  \\\n",
       "0             нохияи Фирдавси                 Душанбе   \n",
       "1                  Истаравшан            Вилояти Сугд   \n",
       "2                  Истаравшан            Вилояти Сугд   \n",
       "3                      Фархор          Вилояти Хатлон   \n",
       "4  поселки Варзобского района  Нохияхои тобеи Чумхури   \n",
       "\n",
       "         city_of_registration  region_of_registration    work_phone_number  \\\n",
       "0                    Фирдавси                 Душанбе         992000805085   \n",
       "1                  Истаравшан            Вилояти Сугд         992985675558   \n",
       "2                  Истаравшан            Вилояти Сугд         992988621755   \n",
       "3                      Пархар          Вилояти Хатлон  +992900078418; ; ;    \n",
       "4  поселки Варзобского района  Нохияхои тобеи Чумхури                  NaN   \n",
       "\n",
       "  mobile_phone_number education marital_status  number_dependants  \\\n",
       "0                 NaN    Высшее     Не замужем                  0   \n",
       "1                 NaN   Среднее          Женат                  2   \n",
       "2                 NaN   Среднее          Женат                  3   \n",
       "3                 NaN   Среднее          Женат                  1   \n",
       "4        992888051515   Среднее         Холост                  0   \n",
       "\n",
       "   number_children  number_months_at_current_address  \\\n",
       "0                2                                 0   \n",
       "1                2                                 6   \n",
       "2                2                                 9   \n",
       "3                2                                39   \n",
       "4                0                                 2   \n",
       "\n",
       "                employment_type employment_sector employment_segment  \\\n",
       "0  Имеет другой источник дохода               NaN                NaN   \n",
       "1            Собственный бизнес     Самозанятость  Услуги транспорта   \n",
       "2            Собственный бизнес     Самозанятость  Услуги транспорта   \n",
       "3  Имеет другой источник дохода               NaN                NaN   \n",
       "4            Собственный бизнес     Самозанятость  Услуги транспорта   \n",
       "\n",
       "   number_months_at_job  net_main_income source_of_main_income  \\\n",
       "0                     0          3121.36                Прочее   \n",
       "1                   276          3800.00                Прочее   \n",
       "2                    60          3500.00                Прочее   \n",
       "3                     0          2400.00           Доход семьи   \n",
       "4                    36          5700.00   Предпринимательство   \n",
       "\n",
       "   additional_income source_of_additional_income  reported_expenses  \\\n",
       "0                NaN                         NaN             1272.0   \n",
       "1                NaN                         NaN             1500.0   \n",
       "2                NaN                         NaN             1000.0   \n",
       "3                NaN                         NaN             1000.0   \n",
       "4                NaN                         NaN             3001.0   \n",
       "\n",
       "  months_with_bank current_exposure  client_type_ property_object  \\\n",
       "0               36              0.0             0        Квартира   \n",
       "1              143          4691.17             1             Дом   \n",
       "2               61          4301.47             1             Дом   \n",
       "3               60          1153.52             1             Дом   \n",
       "4               20          4938.37             0             Дом   \n",
       "\n",
       "  eskhata_online plastic_cards deposit состояние причина_отказа  \\\n",
       "0             Да            Да     0.0       NaN            NaN   \n",
       "1            Нет           Нет     0.0       NaN            NaN   \n",
       "2            Нет           Нет     0.0       NaN            NaN   \n",
       "3            Нет           Нет     0.0       NaN            NaN   \n",
       "4             Да           Нет     0.0       NaN            NaN   \n",
       "\n",
       "                                           branch_id             product_id  \\\n",
       "0           ФИЛИАЛИ ЧСК \"БОНКИ ЭСХАТА\" ДАР Ш.ДУШАНБЕ  Карзхои гуногунмаксад   \n",
       "1        ФИЛИАЛИ ЧСК \"БОНКИ ЭСХАТА\" ДАР Ш.ИСТАРАВШАН  Карзхои гуногунмаксад   \n",
       "2        ФИЛИАЛИ ЧСК \"БОНКИ ЭСХАТА\" ДАР Ш.ИСТАРАВШАН  Карзхои гуногунмаксад   \n",
       "3            ФИЛИАЛИ ЧСК \"БОНКИ ЭСХАТА\" ДАР Ш. КУЛОБ  Карзхои гуногунмаксад   \n",
       "4  ФИЛИАЛИ ЧСК \"БОНКИ ЭСХАТА\" ДАР Ш.ДУШАНБЕ, Н.СИ...  Карзхои гуногунмаксад   \n",
       "\n",
       "  application_date date_loan_granted  loan_amount first_instalment_due_date  \\\n",
       "0       2021-10-19        2021-11-02      12300.0                2021-12-02   \n",
       "1       2021-10-25        2021-11-01      20000.0                2021-12-01   \n",
       "2       2021-10-25        2021-11-05      10000.0                2021-12-06   \n",
       "3       2021-10-25        2021-11-03       3300.0                2021-12-03   \n",
       "4       2021-10-26        2021-11-03       5000.0                2021-12-03   \n",
       "\n",
       "   interest_rate  collateral_type value_of_collateral  \\\n",
       "0           31.0              NaN                 NaN   \n",
       "1           30.0  1) Поручитель;               1) 0;    \n",
       "2           30.0              NaN                 NaN   \n",
       "3           31.0              NaN                 NaN   \n",
       "4           31.0              NaN                 NaN   \n",
       "\n",
       "  property_type/collateral_type salary_payment_in_bank_account  \\\n",
       "0                           NaN                            Нет   \n",
       "1               1) Поручитель;                             Нет   \n",
       "2                           NaN                            Нет   \n",
       "3                           NaN                            Нет   \n",
       "4                           NaN                            Нет   \n",
       "\n",
       "                           loan_type  number_of_instalments  \\\n",
       "0  Многоцелевые кредиты_005_аннуитет                   18.0   \n",
       "1  Многоцелевые кредиты_005_аннуитет                   24.0   \n",
       "2  Многоцелевые кредиты_005_аннуитет                   24.0   \n",
       "3  Многоцелевые кредиты_005_аннуитет                   12.0   \n",
       "4  Многоцелевые кредиты_005_аннуитет                    6.0   \n",
       "\n",
       "   instalment_amount/min_instalment_amount    run_date date_account_opened  \\\n",
       "0                                    863.0  2023-06-30          2021-11-02   \n",
       "1                                   1118.0  2023-06-30          2021-11-01   \n",
       "2                                    559.0  2023-06-30          2021-11-05   \n",
       "3                                    323.0  2023-06-30          2021-11-03   \n",
       "4                                    910.0  2023-06-30          2021-11-03   \n",
       "\n",
       "   current_balance date_last_payment date_final_payment    due_date  \\\n",
       "0              0.0               NaN         2023-04-20         NaN   \n",
       "1              0.0        2023-04-26         2023-10-26  2023-06-01   \n",
       "2              0.0        2023-04-03         2023-10-26  2023-06-05   \n",
       "3              0.0        2022-09-12         2022-10-26         NaN   \n",
       "4              0.0        2022-04-27         2022-04-27         NaN   \n",
       "\n",
       "   payment_amount account_status  number_of_payments_in_arrears  \\\n",
       "0             NaN         Закрыт                            NaN   \n",
       "1          1118.0         Закрыт                            NaN   \n",
       "2           559.0         Закрыт                            NaN   \n",
       "3             NaN         Закрыт                            NaN   \n",
       "4             NaN         Закрыт                            NaN   \n",
       "\n",
       "   cumulative_delinquency  amount_due_–_instalment  principal_amount  \\\n",
       "0                     0.0                      0.0               0.0   \n",
       "1                     0.0                      0.0               0.0   \n",
       "2                    19.0                      0.0               0.0   \n",
       "3                     0.0                      0.0               0.0   \n",
       "4                     0.0                      0.0               0.0   \n",
       "\n",
       "   interest_accrued  outstanding_balance  arrears_amount  \\\n",
       "0               0.0                  0.0             0.0   \n",
       "1               0.0                  0.0             0.0   \n",
       "2               0.0                  0.0             0.0   \n",
       "3               0.0                  0.0             0.0   \n",
       "4               0.0                  0.0             0.0   \n",
       "\n",
       "   current_days_past_due  maximum_days_past_due  \\\n",
       "0                    0.0                    0.0   \n",
       "1                    0.0                    0.0   \n",
       "2                    0.0                    0.0   \n",
       "3                    0.0                    0.0   \n",
       "4                    0.0                    0.0   \n",
       "\n",
       "   maximum_days_past_due_lifetime default_flag  кол-во_пролонгации bki_rating  \\\n",
       "0                             0.0          NaN                 0.0        NaN   \n",
       "1                             0.0          NaN                 0.0        NaN   \n",
       "2                             7.0          NaN                 0.0        NaN   \n",
       "3                             0.0          NaN                 0.0        NaN   \n",
       "4                             0.0          NaN                 0.0        NaN   \n",
       "\n",
       "   bki_number_of_loans  ftd-1  ftd-2  ftd-3  ftd-4  dependants  \\\n",
       "0                  0.0    0.0    0.0    0.0    0.0           0   \n",
       "1                  5.0    0.0    0.0    0.0    0.0           2   \n",
       "2                  2.0    0.0    1.0    0.0    7.0           3   \n",
       "3                  0.0    0.0    0.0    0.0    0.0           1   \n",
       "4                  1.0    0.0    0.0    0.0    0.0           0   \n",
       "\n",
       "   months_at_current_address  months_at_job  \n",
       "0                          0              0  \n",
       "1                          6            276  \n",
       "2                          9             60  \n",
       "3                         39              0  \n",
       "4                          2             36  "
      ]
     },
     "execution_count": 11,
     "metadata": {},
     "output_type": "execute_result"
    }
   ],
   "source": [
    "res.head()"
   ]
  },
  {
   "cell_type": "code",
   "execution_count": 12,
   "id": "cb7bc140",
   "metadata": {},
   "outputs": [],
   "source": [
    "# Создание копии датафрейма для дальнейшей обработки\n",
    "df = res.copy()"
   ]
  },
  {
   "cell_type": "markdown",
   "id": "e6527b42",
   "metadata": {},
   "source": [
    "# Преобразование необходимых столбцов в числовые значения"
   ]
  },
  {
   "cell_type": "code",
   "execution_count": 13,
   "id": "353bf07e",
   "metadata": {},
   "outputs": [
    {
     "name": "stderr",
     "output_type": "stream",
     "text": [
      "2024-12-06 15:16:45,116 - INFO - Преобразование числовых столбцов в числовые значения.\n"
     ]
    }
   ],
   "source": [
    "numeric_columns = [\n",
    "    'net_main_income', 'additional_income', 'months_with_bank',\n",
    "    'reported_expenses', 'deposit', 'current_exposure'\n",
    "]\n",
    "missing_numeric = [col for col in numeric_columns if col not in df.columns]\n",
    "if missing_numeric:\n",
    "    logging.warning(f\"Отсутствуют следующие числовые столбцы: {missing_numeric}\")\n",
    "\n",
    "existing_numeric_columns = [col for col in numeric_columns if col in df.columns]\n",
    "logging.info(\"Преобразование числовых столбцов в числовые значения.\")\n",
    "df[existing_numeric_columns] = df[existing_numeric_columns].apply(pd.to_numeric, errors='coerce')"
   ]
  },
  {
   "cell_type": "code",
   "execution_count": 14,
   "id": "655a58b5",
   "metadata": {},
   "outputs": [
    {
     "name": "stderr",
     "output_type": "stream",
     "text": [
      "2024-12-06 15:16:46,080 - INFO - Преобразование столбцов с датами в формат datetime.\n"
     ]
    }
   ],
   "source": [
    "# Преобразование столбцов с датами в формат datetime\n",
    "date_columns = [\n",
    "    'application_date', 'date_of_birth', 'date_loan_granted', 'first_instalment_due_date',\n",
    "    'date_last_payment', 'date_final_payment', 'due_date', 'date_account_opened'\n",
    "]\n",
    "logging.info(\"Преобразование столбцов с датами в формат datetime.\")\n",
    "for col in date_columns:\n",
    "    if col in df.columns:\n",
    "        df[col] = pd.to_datetime(df[col], errors='coerce')\n"
   ]
  },
  {
   "cell_type": "code",
   "execution_count": 15,
   "id": "4a382307",
   "metadata": {},
   "outputs": [
    {
     "name": "stderr",
     "output_type": "stream",
     "text": [
      "2024-12-06 15:16:47,931 - INFO - Вычисление возраста.\n"
     ]
    }
   ],
   "source": [
    "\n",
    "# Вычисление возраста\n",
    "logging.info(\"Вычисление возраста.\")\n",
    "# Оптимизированное вычисление возраста\n",
    "df['age'] = df['application_date'].dt.year - df['date_of_birth'].dt.year\n",
    "# Корректировка возраста, если месяц или день рождения еще не наступили в году заявки\n",
    "df.loc[\n",
    "    (df['application_date'].dt.month < df['date_of_birth'].dt.month) |\n",
    "    ((df['application_date'].dt.month == df['date_of_birth'].dt.month) &\n",
    "     (df['application_date'].dt.day < df['date_of_birth'].dt.day)),\n",
    "    'age'\n",
    "] -= 1\n",
    "# Удаление отрицательных возрастов, если такие есть\n",
    "df['age'] = df['age'].where(df['age'] >= 0, np.nan)"
   ]
  },
  {
   "cell_type": "code",
   "execution_count": 16,
   "id": "87fbc091",
   "metadata": {},
   "outputs": [
    {
     "name": "stderr",
     "output_type": "stream",
     "text": [
      "2024-12-06 15:16:48,319 - INFO - Создание столбца 'loan_month'.\n",
      "2024-12-06 15:16:48,426 - INFO - Создание признака совпадения города проживания и регистрации.\n",
      "2024-12-06 15:16:48,482 - INFO - Создание признака наличия залога.\n"
     ]
    }
   ],
   "source": [
    "\n",
    "# Создание столбца loan_month как год * 100 + месяц\n",
    "logging.info(\"Создание столбца 'loan_month'.\")\n",
    "df['loan_month'] = df['application_date'].dt.year * 100 + df['application_date'].dt.month\n",
    "\n",
    "# Признак совпадения города проживания и регистрации\n",
    "logging.info(\"Создание признака совпадения города проживания и регистрации.\")\n",
    "df['city_of_living_eq_registration'] = (df['city_of_living'] == df['city_of_registration']).astype(int)\n",
    "\n",
    "# Признак наличия залога\n",
    "logging.info(\"Создание признака наличия залога.\")\n",
    "df['is_collateral'] = df['deposit'].notna().astype(int)"
   ]
  },
  {
   "cell_type": "code",
   "execution_count": 17,
   "id": "d3d3eb18",
   "metadata": {},
   "outputs": [
    {
     "name": "stderr",
     "output_type": "stream",
     "text": [
      "2024-12-06 15:16:48,505 - INFO - Создание временного DataFrame для анализа предыдущих заявок.\n",
      "2024-12-06 15:16:48,684 - INFO - Сортировка по 'customer_id' и 'application_date'.\n",
      "2024-12-06 15:16:49,381 - INFO - Добавление предыдущей даты заявки и предыдущей максимальной просрочки.\n",
      "2024-12-06 15:16:49,510 - INFO - Удаление записей без предыдущих заявок.\n"
     ]
    }
   ],
   "source": [
    "# Создание временного датафрейма для анализа предыдущих заявок\n",
    "logging.info(\"Создание временного DataFrame для анализа предыдущих заявок.\")\n",
    "temp_df = df.copy()\n",
    "\n",
    "# Сортировка по customer_id и application_date для корректного сдвига\n",
    "logging.info(\"Сортировка по 'customer_id' и 'application_date'.\")\n",
    "temp_df = temp_df.sort_values(['customer_id', 'application_date'])\n",
    "\n",
    "# Добавление предыдущей даты заявки и предыдущей максимальной просрочки\n",
    "logging.info(\"Добавление предыдущей даты заявки и предыдущей максимальной просрочки.\")\n",
    "temp_df['prev_application_date'] = temp_df.groupby('customer_id')['application_date'].shift(1)\n",
    "temp_df['prev_max_days_past_due'] = temp_df.groupby('customer_id')['maximum_days_past_due_lifetime'].shift(1)\n",
    "\n",
    "\n",
    "# Убираем записи без предыдущих заявок\n",
    "logging.info(\"Удаление записей без предыдущих заявок.\")\n",
    "temp_df = temp_df.dropna(subset=['prev_application_date'])"
   ]
  },
  {
   "cell_type": "code",
   "execution_count": 18,
   "id": "ab56a89f",
   "metadata": {},
   "outputs": [
    {
     "name": "stderr",
     "output_type": "stream",
     "text": [
      "2024-12-06 15:16:49,781 - INFO - Группировка по 'account_id' для подсчета количества предыдущих заявок и максимальной просрочки.\n",
      "2024-12-06 15:16:49,841 - INFO - Пример данных после группировки:\n"
     ]
    },
    {
     "name": "stdout",
     "output_type": "stream",
     "text": [
      "\n",
      "acc_numb_before.head():\n",
      "     account_id  cnt  max_max_days_past_due\n",
      "0  3.600220e+10    1                    4.0\n",
      "1  3.600311e+10    1                   17.0\n",
      "2  3.603127e+10    1                    0.0\n",
      "3  3.605477e+10    1                    3.0\n",
      "4  3.606057e+10    1                    0.0\n"
     ]
    }
   ],
   "source": [
    "# Группировка по account_id для подсчета количества предыдущих заявок и максимальной просрочки\n",
    "logging.info(\"Группировка по 'account_id' для подсчета количества предыдущих заявок и максимальной просрочки.\")\n",
    "acc_numb_before = temp_df.groupby('account_id').agg(\n",
    "    cnt=('customer_id', 'count'),\n",
    "    max_max_days_past_due=('prev_max_days_past_due', 'max')\n",
    ").reset_index()\n",
    "\n",
    "logging.info(\"Пример данных после группировки:\")\n",
    "print(\"\\nacc_numb_before.head():\")\n",
    "print(acc_numb_before.head())\n"
   ]
  },
  {
   "cell_type": "code",
   "execution_count": 19,
   "id": "623f5b62",
   "metadata": {},
   "outputs": [
    {
     "name": "stderr",
     "output_type": "stream",
     "text": [
      "2024-12-06 15:16:49,865 - INFO - Добавление флага существующего клиента.\n",
      "2024-12-06 15:16:49,865 - INFO - Объединение 'acc_numb_before' с основным DataFrame.\n"
     ]
    }
   ],
   "source": [
    "# Добавление флага существующего клиента\n",
    "logging.info(\"Добавление флага существующего клиента.\")\n",
    "acc_numb_before['existing_client'] = np.where(acc_numb_before['cnt'] > 1, 1, 0)\n",
    "\n",
    "# Объединение с основным датафреймом\n",
    "logging.info(\"Объединение 'acc_numb_before' с основным DataFrame.\")\n",
    "df = df.merge(\n",
    "    acc_numb_before[['account_id', 'cnt', 'max_max_days_past_due']], \n",
    "    on='account_id', \n",
    "    how='left'\n",
    ")"
   ]
  },
  {
   "cell_type": "code",
   "execution_count": 20,
   "id": "d6ac9045",
   "metadata": {},
   "outputs": [
    {
     "name": "stderr",
     "output_type": "stream",
     "text": [
      "2024-12-06 15:16:50,730 - INFO - Проверка наличия столбца 'cnt' после объединения.\n",
      "2024-12-06 15:16:50,730 - INFO - Заполнение пропусков в 'previous_loans_count' нулями.\n",
      "2024-12-06 15:16:50,748 - INFO - Создание бинарных признаков для просроченности.\n",
      "2024-12-06 15:16:50,752 - INFO - Удаление временных столбцов 'cnt' и 'max_max_days_past_due'.\n"
     ]
    },
    {
     "name": "stdout",
     "output_type": "stream",
     "text": [
      "\n",
      "Столбцы после объединения acc_numb_before:\n",
      "['customer_id', 'application_id', 'account_id', 'date_of_birth', 'gender', 'city_of_living', 'region_of_living', 'city_of_registration', 'region_of_registration', 'work_phone_number', 'mobile_phone_number', 'education', 'marital_status', 'number_dependants', 'number_children', 'number_months_at_current_address', 'employment_type', 'employment_sector', 'employment_segment', 'number_months_at_job', 'net_main_income', 'source_of_main_income', 'additional_income', 'source_of_additional_income', 'reported_expenses', 'months_with_bank', 'current_exposure', 'client_type_', 'property_object', 'eskhata_online', 'plastic_cards', 'deposit', 'состояние', 'причина_отказа', 'branch_id', 'product_id', 'application_date', 'date_loan_granted', 'loan_amount', 'first_instalment_due_date', 'interest_rate', 'collateral_type', 'value_of_collateral', 'property_type/collateral_type', 'salary_payment_in_bank_account', 'loan_type', 'number_of_instalments', 'instalment_amount/min_instalment_amount', 'run_date', 'date_account_opened', 'current_balance', 'date_last_payment', 'date_final_payment', 'due_date', 'payment_amount', 'account_status', 'number_of_payments_in_arrears', 'cumulative_delinquency', 'amount_due_–_instalment', 'principal_amount', 'interest_accrued', 'outstanding_balance', 'arrears_amount', 'current_days_past_due', 'maximum_days_past_due', 'maximum_days_past_due_lifetime', 'default_flag', 'кол-во_пролонгации', 'bki_rating', 'bki_number_of_loans', 'ftd-1', 'ftd-2', 'ftd-3', 'ftd-4', 'dependants', 'months_at_current_address', 'months_at_job', 'age', 'loan_month', 'city_of_living_eq_registration', 'is_collateral', 'cnt', 'max_max_days_past_due']\n"
     ]
    }
   ],
   "source": [
    "# Проверка наличия столбца 'cnt' после объединения\n",
    "logging.info(\"Проверка наличия столбца 'cnt' после объединения.\")\n",
    "print(\"\\nСтолбцы после объединения acc_numb_before:\")\n",
    "print(df.columns.tolist())\n",
    "if 'cnt' not in df.columns:\n",
    "    logging.error(\"Столбец 'cnt' отсутствует в DataFrame после объединения. Проверьте корректность группировки и объединения.\")\n",
    "    raise KeyError(\"Столбец 'cnt' отсутствует в DataFrame после объединения.\")\n",
    "else:\n",
    "    # Заполнение пропусков в previous_loans_count нулями\n",
    "    logging.info(\"Заполнение пропусков в 'previous_loans_count' нулями.\")\n",
    "    df['previous_loans_count'] = df['cnt'].fillna(0).astype(int)\n",
    "    \n",
    "    # Создание бинарных признаков для просроченности с использованием .loc\n",
    "    logging.info(\"Создание бинарных признаков для просроченности.\")\n",
    "    df.loc[:, 'gb_90ever'] = (df['maximum_days_past_due_lifetime'] >= 90).astype(int)\n",
    "    df.loc[:, 'gb_cum_dlq_90'] = (df['cumulative_delinquency'] >= 90).astype(int)\n",
    "    df.loc[:, 'gb_60ever'] = (df['maximum_days_past_due_lifetime'] >= 60).astype(int)\n",
    "    \n",
    "    # Удаление временных столбцов, если они больше не нужны\n",
    "    logging.info(\"Удаление временных столбцов 'cnt' и 'max_max_days_past_due'.\")\n",
    "    df.drop(['cnt', 'max_max_days_past_due'], axis=1, inplace=True)"
   ]
  },
  {
   "cell_type": "code",
   "execution_count": 21,
   "id": "404606b2",
   "metadata": {},
   "outputs": [
    {
     "name": "stderr",
     "output_type": "stream",
     "text": [
      "2024-12-06 15:16:51,055 - INFO - Сводные статистики по 'net_main_income'.\n",
      "2024-12-06 15:16:51,079 - INFO - Сводные статистики по 'age'.\n",
      "2024-12-06 15:16:51,108 - INFO - Сводные статистики по 'marital_status'.\n"
     ]
    },
    {
     "name": "stdout",
     "output_type": "stream",
     "text": [
      "\n",
      "Сводные статистики по net_main_income:\n",
      "count    2.356630e+05\n",
      "mean     5.173426e+03\n",
      "std      4.147526e+05\n",
      "min      1.000000e-02\n",
      "25%      1.950000e+03\n",
      "50%      2.787000e+03\n",
      "75%      4.000000e+03\n",
      "max      9.004431e+07\n",
      "Name: net_main_income, dtype: float64\n",
      "\n",
      "Сводные статистики по age:\n",
      "count    235696.000000\n",
      "mean         38.833540\n",
      "std          12.371292\n",
      "min           0.000000\n",
      "25%          29.000000\n",
      "50%          37.000000\n",
      "75%          48.000000\n",
      "max          94.000000\n",
      "Name: age, dtype: float64\n",
      "\n",
      "Сводные статистики по marital_status:\n",
      "count     235424\n",
      "unique         8\n",
      "top        Женат\n",
      "freq       99528\n",
      "Name: marital_status, dtype: object\n"
     ]
    }
   ],
   "source": [
    "\n",
    "\n",
    "# Сводные статистики\n",
    "logging.info(\"Сводные статистики по 'net_main_income'.\")\n",
    "print(\"\\nСводные статистики по net_main_income:\")\n",
    "print(df['net_main_income'].describe())\n",
    "\n",
    "logging.info(\"Сводные статистики по 'age'.\")\n",
    "print(\"\\nСводные статистики по age:\")\n",
    "print(df['age'].describe())\n",
    "\n",
    "logging.info(\"Сводные статистики по 'marital_status'.\")\n",
    "print(\"\\nСводные статистики по marital_status:\")\n",
    "print(df['marital_status'].describe())"
   ]
  },
  {
   "cell_type": "code",
   "execution_count": 22,
   "id": "9bc509a3",
   "metadata": {},
   "outputs": [
    {
     "name": "stderr",
     "output_type": "stream",
     "text": [
      "2024-12-06 15:16:51,204 - INFO - Преобразование строковых переменных в категориальные.\n"
     ]
    }
   ],
   "source": [
    "\n",
    "# Преобразование строковых переменных в категориальные\n",
    "logging.info(\"Преобразование строковых переменных в категориальные.\")\n",
    "object_columns = df.select_dtypes(include=['object']).columns\n",
    "df[object_columns] = df[object_columns].astype('category')"
   ]
  },
  {
   "cell_type": "code",
   "execution_count": 23,
   "id": "cb696664",
   "metadata": {},
   "outputs": [
    {
     "name": "stderr",
     "output_type": "stream",
     "text": [
      "2024-12-06 15:16:56,412 - INFO - Просмотр структуры датафрейма после преобразований.\n"
     ]
    },
    {
     "name": "stdout",
     "output_type": "stream",
     "text": [
      "\n",
      "Структура датафрейма после преобразований:\n",
      "<class 'pandas.core.frame.DataFrame'>\n",
      "Int64Index: 235699 entries, 0 to 235698\n",
      "Data columns (total 85 columns):\n",
      " #   Column                                   Non-Null Count   Dtype         \n",
      "---  ------                                   --------------   -----         \n",
      " 0   customer_id                              235699 non-null  float64       \n",
      " 1   application_id                           235699 non-null  category      \n",
      " 2   account_id                               235698 non-null  float64       \n",
      " 3   date_of_birth                            235698 non-null  datetime64[ns]\n",
      " 4   gender                                   235699 non-null  category      \n",
      " 5   city_of_living                           235699 non-null  category      \n",
      " 6   region_of_living                         235699 non-null  category      \n",
      " 7   city_of_registration                     235699 non-null  category      \n",
      " 8   region_of_registration                   235699 non-null  category      \n",
      " 9   work_phone_number                        225416 non-null  category      \n",
      " 10  mobile_phone_number                      14543 non-null   category      \n",
      " 11  education                                223508 non-null  category      \n",
      " 12  marital_status                           235424 non-null  category      \n",
      " 13  number_dependants                        235699 non-null  int64         \n",
      " 14  number_children                          235699 non-null  int64         \n",
      " 15  number_months_at_current_address         235699 non-null  int64         \n",
      " 16  employment_type                          235406 non-null  category      \n",
      " 17  employment_sector                        148292 non-null  category      \n",
      " 18  employment_segment                       148134 non-null  category      \n",
      " 19  number_months_at_job                     235699 non-null  int64         \n",
      " 20  net_main_income                          235663 non-null  float64       \n",
      " 21  source_of_main_income                    234635 non-null  category      \n",
      " 22  additional_income                        52927 non-null   float64       \n",
      " 23  source_of_additional_income              52497 non-null   category      \n",
      " 24  reported_expenses                        235691 non-null  float64       \n",
      " 25  months_with_bank                         235698 non-null  float64       \n",
      " 26  current_exposure                         235672 non-null  float64       \n",
      " 27  client_type_                             235699 non-null  int64         \n",
      " 28  property_object                          235684 non-null  category      \n",
      " 29  eskhata_online                           235699 non-null  category      \n",
      " 30  plastic_cards                            235699 non-null  category      \n",
      " 31  deposit                                  235698 non-null  float64       \n",
      " 32  состояние                                1 non-null       category      \n",
      " 33  причина_отказа                           1 non-null       category      \n",
      " 34  branch_id                                235698 non-null  category      \n",
      " 35  product_id                               235698 non-null  category      \n",
      " 36  application_date                         235698 non-null  datetime64[ns]\n",
      " 37  date_loan_granted                        235698 non-null  datetime64[ns]\n",
      " 38  loan_amount                              235698 non-null  float64       \n",
      " 39  first_instalment_due_date                235688 non-null  datetime64[ns]\n",
      " 40  interest_rate                            235698 non-null  float64       \n",
      " 41  collateral_type                          26477 non-null   category      \n",
      " 42  value_of_collateral                      26477 non-null   category      \n",
      " 43  property_type/collateral_type            26477 non-null   category      \n",
      " 44  salary_payment_in_bank_account           235698 non-null  category      \n",
      " 45  loan_type                                235698 non-null  category      \n",
      " 46  number_of_instalments                    235698 non-null  float64       \n",
      " 47  instalment_amount/min_instalment_amount  234490 non-null  float64       \n",
      " 48  run_date                                 235698 non-null  category      \n",
      " 49  date_account_opened                      235698 non-null  datetime64[ns]\n",
      " 50  current_balance                          235698 non-null  float64       \n",
      " 51  date_last_payment                        224178 non-null  datetime64[ns]\n",
      " 52  date_final_payment                       235698 non-null  datetime64[ns]\n",
      " 53  due_date                                 187783 non-null  datetime64[ns]\n",
      " 54  payment_amount                           187783 non-null  float64       \n",
      " 55  account_status                           235698 non-null  category      \n",
      " 56  number_of_payments_in_arrears            11872 non-null   float64       \n",
      " 57  cumulative_delinquency                   235698 non-null  float64       \n",
      " 58  amount_due_–_instalment                  235698 non-null  float64       \n",
      " 59  principal_amount                         235698 non-null  float64       \n",
      " 60  interest_accrued                         235698 non-null  float64       \n",
      " 61  outstanding_balance                      235698 non-null  float64       \n",
      " 62  arrears_amount                           235698 non-null  float64       \n",
      " 63  current_days_past_due                    235698 non-null  float64       \n",
      " 64  maximum_days_past_due                    235698 non-null  float64       \n",
      " 65  maximum_days_past_due_lifetime           235698 non-null  float64       \n",
      " 66  default_flag                             1682 non-null    category      \n",
      " 67  кол-во_пролонгации                       235698 non-null  float64       \n",
      " 68  bki_rating                               87382 non-null   category      \n",
      " 69  bki_number_of_loans                      235698 non-null  float64       \n",
      " 70  ftd-1                                    235698 non-null  float64       \n",
      " 71  ftd-2                                    235698 non-null  float64       \n",
      " 72  ftd-3                                    235698 non-null  float64       \n",
      " 73  ftd-4                                    235698 non-null  float64       \n",
      " 74  dependants                               235699 non-null  int64         \n",
      " 75  months_at_current_address                235699 non-null  int64         \n",
      " 76  months_at_job                            235699 non-null  int64         \n",
      " 77  age                                      235696 non-null  float64       \n",
      " 78  loan_month                               235698 non-null  float64       \n",
      " 79  city_of_living_eq_registration           235699 non-null  int32         \n",
      " 80  is_collateral                            235699 non-null  int32         \n",
      " 81  previous_loans_count                     235699 non-null  int32         \n",
      " 82  gb_90ever                                235699 non-null  int32         \n",
      " 83  gb_cum_dlq_90                            235699 non-null  int32         \n",
      " 84  gb_60ever                                235699 non-null  int32         \n",
      "dtypes: category(31), datetime64[ns](8), float64(32), int32(6), int64(8)\n",
      "memory usage: 118.4 MB\n",
      "None\n",
      "\n",
      "Названия столбцов:\n",
      "['customer_id', 'application_id', 'account_id', 'date_of_birth', 'gender', 'city_of_living', 'region_of_living', 'city_of_registration', 'region_of_registration', 'work_phone_number', 'mobile_phone_number', 'education', 'marital_status', 'number_dependants', 'number_children', 'number_months_at_current_address', 'employment_type', 'employment_sector', 'employment_segment', 'number_months_at_job', 'net_main_income', 'source_of_main_income', 'additional_income', 'source_of_additional_income', 'reported_expenses', 'months_with_bank', 'current_exposure', 'client_type_', 'property_object', 'eskhata_online', 'plastic_cards', 'deposit', 'состояние', 'причина_отказа', 'branch_id', 'product_id', 'application_date', 'date_loan_granted', 'loan_amount', 'first_instalment_due_date', 'interest_rate', 'collateral_type', 'value_of_collateral', 'property_type/collateral_type', 'salary_payment_in_bank_account', 'loan_type', 'number_of_instalments', 'instalment_amount/min_instalment_amount', 'run_date', 'date_account_opened', 'current_balance', 'date_last_payment', 'date_final_payment', 'due_date', 'payment_amount', 'account_status', 'number_of_payments_in_arrears', 'cumulative_delinquency', 'amount_due_–_instalment', 'principal_amount', 'interest_accrued', 'outstanding_balance', 'arrears_amount', 'current_days_past_due', 'maximum_days_past_due', 'maximum_days_past_due_lifetime', 'default_flag', 'кол-во_пролонгации', 'bki_rating', 'bki_number_of_loans', 'ftd-1', 'ftd-2', 'ftd-3', 'ftd-4', 'dependants', 'months_at_current_address', 'months_at_job', 'age', 'loan_month', 'city_of_living_eq_registration', 'is_collateral', 'previous_loans_count', 'gb_90ever', 'gb_cum_dlq_90', 'gb_60ever']\n"
     ]
    }
   ],
   "source": [
    "\n",
    "# Просмотр структуры датафрейма после преобразований\n",
    "logging.info(\"Просмотр структуры датафрейма после преобразований.\")\n",
    "print(\"\\nСтруктура датафрейма после преобразований:\")\n",
    "print(df.info())\n",
    "print(\"\\nНазвания столбцов:\")\n",
    "print(df.columns.tolist())"
   ]
  },
  {
   "cell_type": "code",
   "execution_count": 24,
   "id": "c8d07907",
   "metadata": {},
   "outputs": [],
   "source": [
    "# Выбор необходимых столбцов\n",
    "include_vars_1 = [\n",
    "    \"customer_id\",\n",
    "    \"account_id\",\n",
    "    # \"branch_id\",\n",
    "    # \"product_id\",\n",
    "    \"loan_amount\",\n",
    "    # \"collateral_type\",\n",
    "    \"is_collateral\",\n",
    "    \"salary_payment_in_bank_account\",\n",
    "    # \"date_of_birth\",\n",
    "    \"age\",\n",
    "    \"gender\",\n",
    "    # \"city_of_living\",\n",
    "    \"region_of_living\",\n",
    "    # \"city_of_registration\",\n",
    "    \"region_of_registration\",\n",
    "    \"city_of_living_eq_registration\",\n",
    "    \"education\",\n",
    "    \"marital_status\",\n",
    "    \"dependants\",\n",
    "    \"months_at_current_address\",\n",
    "    \"employment_type\",\n",
    "    # \"employment_sector\",\n",
    "    \"employment_segment\",\n",
    "    \"months_at_job\",\n",
    "    \"net_main_income\",\n",
    "    \"source_of_main_income\",\n",
    "    \"additional_income\",\n",
    "    # \"source_of_additional_income\",\n",
    "    \"reported_expenses\",\n",
    "    \"months_with_bank\",\n",
    "    # \"current_exposure\",\n",
    "    \"client_type_\",\n",
    "    \"property_object\",\n",
    "    \"eskhata_online\",\n",
    "    \"plastic_cards\",\n",
    "    \"deposit\",\n",
    "    \"gb_90ever\",\n",
    "    \"gb_cum_dlq_90\",\n",
    "    \"gb_60ever\",\n",
    "    \"bki_rating\",\n",
    "    \"bki_number_of_loans\",\n",
    "    \"loan_month\",\n",
    "    \"previous_loans_count\",\n",
    "    \"max_max_days_past_due\"\n",
    "]"
   ]
  },
  {
   "cell_type": "code",
   "execution_count": 25,
   "id": "60254e1b",
   "metadata": {},
   "outputs": [
    {
     "name": "stderr",
     "output_type": "stream",
     "text": [
      "2024-12-06 15:16:57,136 - WARNING - Отсутствуют следующие столбцы: ['max_max_days_past_due']\n"
     ]
    }
   ],
   "source": [
    "# Проверка наличия всех столбцов\n",
    "missing_columns = [col for col in include_vars_1 if col not in df.columns]\n",
    "if missing_columns:\n",
    "    logging.warning(f\"Отсутствуют следующие столбцы: {missing_columns}\")"
   ]
  },
  {
   "cell_type": "code",
   "execution_count": 26,
   "id": "d113fb05",
   "metadata": {},
   "outputs": [],
   "source": [
    "# Создание нового датафрейма с выбранными столбцами (только существующие)\n",
    "existing_include_vars = [col for col in include_vars_1 if col in df.columns]\n",
    "df_selected = df[existing_include_vars].copy()"
   ]
  },
  {
   "cell_type": "code",
   "execution_count": 27,
   "id": "0cc278cb",
   "metadata": {},
   "outputs": [
    {
     "name": "stderr",
     "output_type": "stream",
     "text": [
      "2024-12-06 15:16:57,316 - INFO - Группировка по 'loan_month' и вычисление показателей просроченности.\n"
     ]
    }
   ],
   "source": [
    "# Группировка по loan_month и вычисление показателей просроченности\n",
    "logging.info(\"Группировка по 'loan_month' и вычисление показателей просроченности.\")\n",
    "rep_gb_90ever_month = df_selected.groupby('loan_month').agg(\n",
    "    count=('gb_90ever', 'count'),\n",
    "    bad_num=('gb_90ever', 'sum'),\n",
    "    bad_rate=('gb_90ever', 'mean')  # Более эффективный способ вычисления среднего\n",
    ").reset_index()\n",
    "\n",
    "rep_gb_cum_dlq_90_month = df_selected.groupby('loan_month').agg(\n",
    "    count=('gb_cum_dlq_90', 'count'),\n",
    "    bad_num=('gb_cum_dlq_90', 'sum'),\n",
    "    bad_rate=('gb_cum_dlq_90', 'mean')\n",
    ").reset_index()\n",
    "\n",
    "rep_gb_60ever_month = df_selected.groupby('loan_month').agg(\n",
    "    count=('gb_60ever', 'count'),\n",
    "    bad_num=('gb_60ever', 'sum'),\n",
    "    bad_rate=('gb_60ever', 'mean')\n",
    ").reset_index()\n"
   ]
  },
  {
   "cell_type": "code",
   "execution_count": 28,
   "id": "2c53b2e8",
   "metadata": {},
   "outputs": [
    {
     "name": "stderr",
     "output_type": "stream",
     "text": [
      "2024-12-06 15:16:57,491 - INFO - Создание выборок по типу занятости.\n"
     ]
    }
   ],
   "source": [
    "# Создание выборок по типу занятости\n",
    "logging.info(\"Создание выборок по типу занятости.\")\n",
    "sample_empl = df_selected[\n",
    "    (df_selected['employment_type'] == \"Работает в организации\") &\n",
    "    (df_selected['employment_segment'].isin([\n",
    "        \"Мед. работник\",\n",
    "        \"Работник в сфере образования\",\n",
    "        \"Работник госструктур\",\n",
    "        \"Работник НПО (Ташкилоти Чамъияти)\",\n",
    "        \"Работник производства\",\n",
    "        \"Работник сельского хозяйство\",\n",
    "        \"Работник частной организации\",\n",
    "        \"Строитель\",\n",
    "        \"Экономист\"\n",
    "    ]))\n",
    "].copy()\n",
    "\n",
    "sample_bus = df_selected[\n",
    "    (df_selected['employment_type'] == \"Собственный бизнес\") &\n",
    "    (df_selected['employment_segment'].isin([\n",
    "        \"Агро\",\n",
    "        \"Производство\",\n",
    "        \"Торговля\",\n",
    "        \"Услуги\",\n",
    "        \"Услуги Мастера\",\n",
    "        \"Услуги транспорта\"\n",
    "    ]))\n",
    "].copy()\n",
    "\n",
    "sample_other = df_selected[\n",
    "    (df_selected['employment_type'] == \"Имеет другой источник дохода\") &\n",
    "    (df_selected['employment_segment'].isna())\n",
    "].copy()"
   ]
  },
  {
   "cell_type": "code",
   "execution_count": 29,
   "id": "613f53e3",
   "metadata": {},
   "outputs": [
    {
     "name": "stderr",
     "output_type": "stream",
     "text": [
      "2024-12-06 15:16:57,612 - INFO - Вывод размеров выборок.\n"
     ]
    },
    {
     "name": "stdout",
     "output_type": "stream",
     "text": [
      "\n",
      "Размер выборки для работников: 51547\n",
      "Размер выборки для бизнесменов: 79305\n",
      "Размер выборки для других источников дохода: 85248\n"
     ]
    }
   ],
   "source": [
    "# Вывод размеров выборок\n",
    "logging.info(\"Вывод размеров выборок.\")\n",
    "print(f\"\\nРазмер выборки для работников: {sample_empl.shape[0]}\")\n",
    "print(f\"Размер выборки для бизнесменов: {sample_bus.shape[0]}\")\n",
    "print(f\"Размер выборки для других источников дохода: {sample_other.shape[0]}\")"
   ]
  },
  {
   "cell_type": "code",
   "execution_count": 30,
   "id": "f1fad5b9",
   "metadata": {},
   "outputs": [
    {
     "name": "stderr",
     "output_type": "stream",
     "text": [
      "2024-12-06 15:16:57,638 - INFO - Структура выбранной выборки:\n"
     ]
    },
    {
     "name": "stdout",
     "output_type": "stream",
     "text": [
      "\n",
      "Структура выбранной выборки:\n",
      "<class 'pandas.core.frame.DataFrame'>\n",
      "Int64Index: 51547 entries, 8 to 235698\n",
      "Data columns (total 34 columns):\n",
      " #   Column                          Non-Null Count  Dtype   \n",
      "---  ------                          --------------  -----   \n",
      " 0   customer_id                     51547 non-null  float64 \n",
      " 1   account_id                      51546 non-null  float64 \n",
      " 2   loan_amount                     51546 non-null  float64 \n",
      " 3   is_collateral                   51547 non-null  int32   \n",
      " 4   salary_payment_in_bank_account  51546 non-null  category\n",
      " 5   age                             51545 non-null  float64 \n",
      " 6   gender                          51547 non-null  category\n",
      " 7   region_of_living                51547 non-null  category\n",
      " 8   region_of_registration          51547 non-null  category\n",
      " 9   city_of_living_eq_registration  51547 non-null  int32   \n",
      " 10  education                       48721 non-null  category\n",
      " 11  marital_status                  51463 non-null  category\n",
      " 12  dependants                      51547 non-null  int64   \n",
      " 13  months_at_current_address       51547 non-null  int64   \n",
      " 14  employment_type                 51547 non-null  category\n",
      " 15  employment_segment              51547 non-null  category\n",
      " 16  months_at_job                   51547 non-null  int64   \n",
      " 17  net_main_income                 51543 non-null  float64 \n",
      " 18  source_of_main_income           51302 non-null  category\n",
      " 19  additional_income               22899 non-null  float64 \n",
      " 20  reported_expenses               51547 non-null  float64 \n",
      " 21  months_with_bank                51546 non-null  float64 \n",
      " 22  client_type_                    51547 non-null  int64   \n",
      " 23  property_object                 51543 non-null  category\n",
      " 24  eskhata_online                  51547 non-null  category\n",
      " 25  plastic_cards                   51547 non-null  category\n",
      " 26  deposit                         51546 non-null  float64 \n",
      " 27  gb_90ever                       51547 non-null  int32   \n",
      " 28  gb_cum_dlq_90                   51547 non-null  int32   \n",
      " 29  gb_60ever                       51547 non-null  int32   \n",
      " 30  bki_rating                      19774 non-null  category\n",
      " 31  bki_number_of_loans             51546 non-null  float64 \n",
      " 32  loan_month                      51546 non-null  float64 \n",
      " 33  previous_loans_count            51547 non-null  int32   \n",
      "dtypes: category(13), float64(11), int32(6), int64(4)\n",
      "memory usage: 8.1 MB\n",
      "None\n"
     ]
    }
   ],
   "source": [
    "# --------- Создание выборки для анализа ---------------------------\n",
    "\n",
    "# Пример выбора выборки для анализа (можно переключаться между выборками)\n",
    "sample = sample_empl.copy()\n",
    "# sample = sample_bus.copy()\n",
    "# sample = sample_other.copy()\n",
    "\n",
    "logging.info(\"Структура выбранной выборки:\")\n",
    "print(\"\\nСтруктура выбранной выборки:\")\n",
    "print(sample.info())"
   ]
  },
  {
   "cell_type": "code",
   "execution_count": 31,
   "id": "bf11c526",
   "metadata": {},
   "outputs": [
    {
     "name": "stderr",
     "output_type": "stream",
     "text": [
      "2024-12-06 15:16:57,700 - INFO - Создание целевой переменной 'gb'.\n"
     ]
    }
   ],
   "source": [
    "# -------------------- Определение целевой переменной -------------------------\n",
    "# Создание переменной gb и присваивание значений из gb_60ever\n",
    "logging.info(\"Создание целевой переменной 'gb'.\")\n",
    "sample.loc[:, 'gb'] = sample['gb_60ever']\\\n",
    "\n",
    "# sample.loc[:, 'gb'] = sample['gb_cum_dlq_90']"
   ]
  },
  {
   "cell_type": "code",
   "execution_count": 32,
   "id": "1ee947f3",
   "metadata": {},
   "outputs": [],
   "source": [
    "\n",
    "# ------- Семплирование ---------------------------------------------------\n",
    "\n",
    "# Создание выборок для обучения и тестирования\n",
    "\n",
    "# Development Sample - выборка для обучения модели\n",
    "dev = sample[(sample['loan_month'] >= 202110) & (sample['loan_month'] < 202210)].drop(columns=['loan_month']).copy()\n",
    "\n",
    "# Out-of-time - выборка для тестирования модели на временную устойчивость\n",
    "oot = sample[(sample['loan_month'] >= 202210) & (sample['loan_month'] < 202303)].copy()\n",
    "\n",
    "# Out-of-time 2 - выборка для кросс-валидации внутри обучающей выборки\n",
    "oot2 = sample[(sample['loan_month'] >= 202207) & (sample['loan_month'] < 202210)].copy()\n",
    "\n",
    "# Development Final - выборка для финального обучения модели после тестирования\n",
    "dev_final = sample[(sample['loan_month'] >= 202110) & (sample['loan_month'] < 202302)].drop(columns=['loan_month']).copy()"
   ]
  },
  {
   "cell_type": "code",
   "execution_count": 33,
   "id": "4169890d",
   "metadata": {},
   "outputs": [
    {
     "name": "stderr",
     "output_type": "stream",
     "text": [
      "2024-12-06 15:16:57,937 - INFO - Изучение распределений в выборках.\n"
     ]
    },
    {
     "name": "stdout",
     "output_type": "stream",
     "text": [
      "\n",
      "Распределение в Development Sample:\n",
      "          gb\n",
      "count  27834\n",
      "sum      599\n",
      "            gb\n",
      "count  1.00000\n",
      "sum    0.02152\n",
      "\n",
      "Распределение в Out-of-time Sample:\n",
      "          gb\n",
      "count  12429\n",
      "sum       80\n",
      "             gb\n",
      "count  1.000000\n",
      "sum    0.006437\n",
      "\n",
      "Распределение в Out-of-time 2 Sample:\n",
      "         gb\n",
      "count  9355\n",
      "sum     139\n",
      "             gb\n",
      "count  1.000000\n",
      "sum    0.014858\n",
      "\n",
      "Распределение в Development Final Sample:\n",
      "          gb\n",
      "count  37636\n",
      "sum      669\n",
      "             gb\n",
      "count  1.000000\n",
      "sum    0.017776\n"
     ]
    }
   ],
   "source": [
    "# Изучение распределений\n",
    "logging.info(\"Изучение распределений в выборках.\")\n",
    "print(\"\\nРаспределение в Development Sample:\")\n",
    "print(dev[['gb']].agg(['count', 'sum']))\n",
    "print(dev[['gb']].agg(['count', 'sum']) / len(dev))\n",
    "\n",
    "print(\"\\nРаспределение в Out-of-time Sample:\")\n",
    "print(oot[['gb']].agg(['count', 'sum']))\n",
    "print(oot[['gb']].agg(['count', 'sum']) / len(oot))\n",
    "\n",
    "print(\"\\nРаспределение в Out-of-time 2 Sample:\")\n",
    "print(oot2[['gb']].agg(['count', 'sum']))\n",
    "print(oot2[['gb']].agg(['count', 'sum']) / len(oot2))\n",
    "\n",
    "print(\"\\nРаспределение в Development Final Sample:\")\n",
    "print(dev_final[['gb']].agg(['count', 'sum']))\n",
    "print(dev_final[['gb']].agg(['count', 'sum']) / len(dev_final))"
   ]
  },
  {
   "cell_type": "code",
   "execution_count": 34,
   "id": "c1142592",
   "metadata": {},
   "outputs": [
    {
     "name": "stderr",
     "output_type": "stream",
     "text": [
      "2024-12-06 15:16:58,062 - INFO - Вывод количества строк в каждой выборке.\n"
     ]
    },
    {
     "name": "stdout",
     "output_type": "stream",
     "text": [
      "\n",
      "Количество строк в Development Sample: 27834\n",
      "Количество строк в Out-of-time Sample: 12429\n",
      "Количество строк в Out-of-time 2 Sample: 9355\n",
      "Количество строк в Development Final Sample: 37636\n"
     ]
    }
   ],
   "source": [
    "# Вывод количества строк в каждой выборке\n",
    "logging.info(\"Вывод количества строк в каждой выборке.\")\n",
    "print(f\"\\nКоличество строк в Development Sample: {dev.shape[0]}\")\n",
    "print(f\"Количество строк в Out-of-time Sample: {oot.shape[0]}\")\n",
    "print(f\"Количество строк в Out-of-time 2 Sample: {oot2.shape[0]}\")\n",
    "print(f\"Количество строк в Development Final Sample: {dev_final.shape[0]}\")\n"
   ]
  },
  {
   "cell_type": "code",
   "execution_count": 35,
   "id": "ff0c4f60",
   "metadata": {},
   "outputs": [],
   "source": [
    "import pandas as pd\n",
    "import numpy as np\n",
    "import scorecardpy as sc\n",
    "from sklearn.linear_model import LogisticRegression\n",
    "from sklearn.model_selection import train_test_split\n",
    "from sklearn.metrics import roc_auc_score, classification_report, confusion_matrix\n",
    "from sklearn.preprocessing import StandardScaler\n",
    "from sklearn.impute import SimpleImputer\n",
    "from sklearn.feature_selection import VarianceThreshold\n",
    "from imblearn.over_sampling import SMOTE\n",
    "import matplotlib.pyplot as plt\n",
    "import seaborn as sns\n",
    "import logging\n",
    "import json\n",
    "import statsmodels.api as sm\n",
    "import joblib\n",
    "\n"
   ]
  },
  {
   "cell_type": "code",
   "execution_count": 36,
   "id": "8a2da978",
   "metadata": {},
   "outputs": [
    {
     "name": "stderr",
     "output_type": "stream",
     "text": [
      "2024-12-06 15:17:09,653 - INFO - Расчет Information Value (IV) для всех переменных в dev_final.\n"
     ]
    },
    {
     "name": "stdout",
     "output_type": "stream",
     "text": [
      "Структура iv_values_final:\n",
      "Index(['variable', 'info_value'], dtype='object')\n",
      "\n",
      "Первые 5 строк iv_values_final:\n",
      "             variable  info_value\n",
      "27          gb_60ever   17.210712\n",
      "20      gb_cum_dlq_90    7.762180\n",
      "23          gb_90ever    6.407824\n",
      "26  additional_income    2.209887\n",
      "22        loan_amount    1.865620\n"
     ]
    }
   ],
   "source": [
    "# -------------- Шаг 1: Расчет Information Value (IV) для dev_final --------------\n",
    "\n",
    "logging.info(\"Расчет Information Value (IV) для всех переменных в dev_final.\")\n",
    "# Рассчитываем IV для dev_final\n",
    "iv_values_final = sc.iv(dt=dev_final, y='gb')\n",
    "\n",
    "# Просмотр структуры и первых строк DataFrame iv_values_final\n",
    "print(\"Структура iv_values_final:\")\n",
    "print(iv_values_final.columns)\n",
    "\n",
    "print(\"\\nПервые 5 строк iv_values_final:\")\n",
    "print(iv_values_final.head())\n"
   ]
  },
  {
   "cell_type": "code",
   "execution_count": 37,
   "id": "7578b522",
   "metadata": {},
   "outputs": [
    {
     "name": "stderr",
     "output_type": "stream",
     "text": [
      "2024-12-06 15:19:18,414 - INFO - Отбор переменных на основе IV >= 0.01.\n",
      "2024-12-06 15:19:18,414 - INFO - Переменные с info_value >= 0.01: ['gb_60ever', 'gb_cum_dlq_90', 'gb_90ever', 'additional_income', 'loan_amount', 'reported_expenses', 'net_main_income', 'months_at_job', 'deposit', 'bki_number_of_loans', 'months_with_bank', 'age', 'employment_segment', 'marital_status', 'months_at_current_address', 'client_type_', 'bki_rating', 'customer_id', 'salary_payment_in_bank_account', 'region_of_living', 'dependants', 'region_of_registration', 'education', 'eskhata_online', 'gender', 'property_object', 'city_of_living_eq_registration', 'source_of_main_income', 'plastic_cards', 'previous_loans_count']\n"
     ]
    }
   ],
   "source": [
    "# -------------- Шаг 2: Отбор переменных на основе IV --------------\n",
    "\n",
    "logging.info(\"Отбор переменных на основе IV >= 0.01.\")\n",
    "# Отбор переменных с info_value >= 0.01\n",
    "selected_vars_iv = iv_values_final[\n",
    "    iv_values_final['info_value'] >= 0.01\n",
    "]['variable'].tolist()\n",
    "\n",
    "logging.info(f\"Переменные с info_value >= 0.01: {selected_vars_iv}\")\n"
   ]
  },
  {
   "cell_type": "code",
   "execution_count": 38,
   "id": "771a6bf7",
   "metadata": {},
   "outputs": [
    {
     "name": "stderr",
     "output_type": "stream",
     "text": [
      "2024-12-06 15:19:18,444 - INFO - Расчет доли пропусков для отобранных переменных.\n"
     ]
    },
    {
     "name": "stdout",
     "output_type": "stream",
     "text": [
      "Структура missing_rates:\n",
      "Index(['variable', 'missing'], dtype='object')\n",
      "\n",
      "Первые 5 строк missing_rates:\n",
      "            variable   missing\n",
      "0          gb_60ever  0.000000\n",
      "1      gb_cum_dlq_90  0.000000\n",
      "2          gb_90ever  0.000000\n",
      "3  additional_income  0.545382\n",
      "4        loan_amount  0.000000\n"
     ]
    }
   ],
   "source": [
    "# -------------- Шаг 3: Рассчет доли пропусков для отобранных переменных --------------\n",
    "\n",
    "logging.info(\"Расчет доли пропусков для отобранных переменных.\")\n",
    "# Рассчитываем долю пропусков для отобранных переменных\n",
    "missing_rates = dev_final[selected_vars_iv].isnull().mean().reset_index()\n",
    "missing_rates.columns = ['variable', 'missing']\n",
    "\n",
    "# Просмотр первых строк\n",
    "print(\"Структура missing_rates:\")\n",
    "print(missing_rates.columns)\n",
    "\n",
    "print(\"\\nПервые 5 строк missing_rates:\")\n",
    "print(missing_rates.head())\n"
   ]
  },
  {
   "cell_type": "code",
   "execution_count": 39,
   "id": "9fb100d2",
   "metadata": {},
   "outputs": [
    {
     "name": "stdout",
     "output_type": "stream",
     "text": [
      "Структура iv_with_missing:\n",
      "Index(['variable', 'info_value', 'missing'], dtype='object')\n",
      "\n",
      "Первые 5 строк iv_with_missing:\n",
      "            variable  info_value   missing\n",
      "0          gb_60ever   17.210712  0.000000\n",
      "1      gb_cum_dlq_90    7.762180  0.000000\n",
      "2          gb_90ever    6.407824  0.000000\n",
      "3  additional_income    2.209887  0.545382\n",
      "4        loan_amount    1.865620  0.000000\n"
     ]
    }
   ],
   "source": [
    "# -------------- Шаг 4: Объединение IV и missing_rates --------------\n",
    "\n",
    "# Объединяем IV и долю пропусков\n",
    "iv_with_missing = iv_values_final.merge(missing_rates, on='variable')\n",
    "\n",
    "# Просмотр первых строк\n",
    "print(\"Структура iv_with_missing:\")\n",
    "print(iv_with_missing.columns)\n",
    "\n",
    "print(\"\\nПервые 5 строк iv_with_missing:\")\n",
    "print(iv_with_missing.head())\n"
   ]
  },
  {
   "cell_type": "code",
   "execution_count": 40,
   "id": "cf709ea2",
   "metadata": {},
   "outputs": [
    {
     "name": "stderr",
     "output_type": "stream",
     "text": [
      "2024-12-06 15:19:18,522 - INFO - Фильтрация переменных по info_value >= 0.01 и missing <= 0.95.\n",
      "2024-12-06 15:19:18,527 - INFO - Отобранные переменные после фильтрации по IV и пропускам: ['additional_income', 'loan_amount', 'reported_expenses', 'net_main_income', 'months_at_job', 'deposit', 'bki_number_of_loans', 'months_with_bank', 'age', 'employment_segment', 'marital_status', 'months_at_current_address', 'client_type_', 'bki_rating', 'customer_id', 'salary_payment_in_bank_account', 'region_of_living', 'dependants', 'region_of_registration', 'education', 'eskhata_online', 'gender', 'property_object', 'city_of_living_eq_registration', 'source_of_main_income', 'plastic_cards', 'previous_loans_count']\n"
     ]
    }
   ],
   "source": [
    "# -------------- Шаг 5: Фильтрация переменных по IV и пропускам --------------\n",
    "\n",
    "logging.info(\"Фильтрация переменных по info_value >= 0.01 и missing <= 0.95.\")\n",
    "# Отбор переменных с info_value >= 0.01 и пропусками <= 0.95\n",
    "filtered_iv = iv_with_missing[\n",
    "    (iv_with_missing['info_value'] >= 0.01) &\n",
    "    (iv_with_missing['missing'] <= 0.95)\n",
    "]\n",
    "\n",
    "# Извлечение списка переменных\n",
    "selected_vars_final = filtered_iv['variable'].tolist()\n",
    "\n",
    "# Исключение вручную определенных переменных\n",
    "vars_to_remove = [\"customer_id_x\", \"account_id\", \"gb_90ever\", \"gb_60ever\", \"gb_cum_dlq_90\", \"current_exposure\"]\n",
    "selected_vars_final = [var for var in selected_vars_final if var not in vars_to_remove]\n",
    "\n",
    "logging.info(f\"Отобранные переменные после фильтрации по IV и пропускам: {selected_vars_final}\")\n"
   ]
  },
  {
   "cell_type": "code",
   "execution_count": 41,
   "id": "46137ab2",
   "metadata": {},
   "outputs": [
    {
     "name": "stderr",
     "output_type": "stream",
     "text": [
      "2024-12-06 15:19:18,606 - INFO - Создание dev_final_sel с отобранными переменными.\n",
      "2024-12-06 15:19:18,618 - INFO - Количество строк в dev_final_sel: 37636\n",
      "2024-12-06 15:19:18,619 - INFO - Количество столбцов в dev_final_sel: 28\n"
     ]
    }
   ],
   "source": [
    "# -------------- Шаг 6: Создание dev_final_sel --------------\n",
    "\n",
    "logging.info(\"Создание dev_final_sel с отобранными переменными.\")\n",
    "# Создание dev_final_sel с отобранными переменными\n",
    "dev_final_sel = dev_final[selected_vars_final + ['gb']].copy()\n",
    "\n",
    "logging.info(f\"Количество строк в dev_final_sel: {dev_final_sel.shape[0]}\")\n",
    "logging.info(f\"Количество столбцов в dev_final_sel: {dev_final_sel.shape[1]}\")\n",
    "\n"
   ]
  },
  {
   "cell_type": "code",
   "execution_count": 42,
   "id": "d4067ba6",
   "metadata": {},
   "outputs": [
    {
     "name": "stderr",
     "output_type": "stream",
     "text": [
      "2024-12-06 15:19:18,694 - INFO - Определение правил биннинга для переменных.\n"
     ]
    }
   ],
   "source": [
    "# -------------- Шаг 7: Определение правил биннинга --------------\n",
    "\n",
    "logging.info(\"Определение правил биннинга для переменных.\")\n",
    "\n",
    "breaks = {\n",
    "    'education': [\n",
    "        \"Высшее\", \"Ученая степень\", \"2 и более высших\",\n",
    "        \"Среднее\", \"Начальное\",\n",
    "        \"Среднее специальное\",\n",
    "        \"Неоконченное высшее\"\n",
    "    ],\n",
    "    'region_of_living': [\n",
    "        \"Вилояти Сугд\", \n",
    "        \"Вилояти Хатлон\", \"ВМКБ\",\n",
    "        \"Душанбе\", \n",
    "        \"Нохияхои тобеи Чумхури\"\n",
    "    ],\n",
    "    'marital_status': [\n",
    "        \"Женат\", \"Сожитель\",\n",
    "        \"Замужем\", \"Вдова\", \"Разведена\",\n",
    "        \"Холост\", \n",
    "        \"Не замужем\", \"Разведен\"\n",
    "    ],\n",
    "    'employment_segment': [\n",
    "        \"Мед. работник\", \"Работник в сфере образования\", \"Экономист\", \"Работник НПО (Ташкилоти Чамъияти)\",\n",
    "        \"Работник госструктур\", \"Строитель\",\n",
    "        \"Работник производства\", \"Работник сельского хозяйство\",\n",
    "        \"Работник частной организации\"\n",
    "    ],\n",
    "    'source_of_main_income': [\n",
    "        \"Доход семьи\",\n",
    "        \"Зарплата по основному месту работы\",\n",
    "        \"Предпринимательство\",\n",
    "        \"Пенсия\", \"Алименты\", \"Прочее\", \"missing\"\n",
    "    ],\n",
    "    'months_at_job': [31, 61, 145, 277],\n",
    "    'months_with_bank': [10, 25, 79],\n",
    "    'net_main_income': [\"missing\", \"1600\", 3400]\n",
    "}\n"
   ]
  },
  {
   "cell_type": "code",
   "execution_count": 43,
   "id": "f43b91b8",
   "metadata": {},
   "outputs": [
    {
     "name": "stderr",
     "output_type": "stream",
     "text": [
      "2024-12-06 15:19:18,722 - INFO - Обработка пропусков в категориальных переменных.\n",
      "C:\\Users\\F_Jumaev\\AppData\\Local\\Temp\\ipykernel_11848\\3735736292.py:10: FutureWarning: The `inplace` parameter in pandas.Categorical.add_categories is deprecated and will be removed in a future version. Removing unused categories will always return a new Categorical object.\n",
      "  dev_final_sel[var].cat.add_categories('missing', inplace=True)\n",
      "C:\\Users\\F_Jumaev\\AppData\\Local\\Temp\\ipykernel_11848\\3735736292.py:10: FutureWarning: The `inplace` parameter in pandas.Categorical.add_categories is deprecated and will be removed in a future version. Removing unused categories will always return a new Categorical object.\n",
      "  dev_final_sel[var].cat.add_categories('missing', inplace=True)\n",
      "C:\\Users\\F_Jumaev\\AppData\\Local\\Temp\\ipykernel_11848\\3735736292.py:10: FutureWarning: The `inplace` parameter in pandas.Categorical.add_categories is deprecated and will be removed in a future version. Removing unused categories will always return a new Categorical object.\n",
      "  dev_final_sel[var].cat.add_categories('missing', inplace=True)\n",
      "C:\\Users\\F_Jumaev\\AppData\\Local\\Temp\\ipykernel_11848\\3735736292.py:10: FutureWarning: The `inplace` parameter in pandas.Categorical.add_categories is deprecated and will be removed in a future version. Removing unused categories will always return a new Categorical object.\n",
      "  dev_final_sel[var].cat.add_categories('missing', inplace=True)\n",
      "C:\\Users\\F_Jumaev\\AppData\\Local\\Temp\\ipykernel_11848\\3735736292.py:10: FutureWarning: The `inplace` parameter in pandas.Categorical.add_categories is deprecated and will be removed in a future version. Removing unused categories will always return a new Categorical object.\n",
      "  dev_final_sel[var].cat.add_categories('missing', inplace=True)\n",
      "2024-12-06 15:19:18,746 - INFO - Применение биннинга и расчет WOE на dev_final_sel.\n"
     ]
    },
    {
     "name": "stdout",
     "output_type": "stream",
     "text": [
      "[INFO] creating woe binning ...\n"
     ]
    },
    {
     "name": "stderr",
     "output_type": "stream",
     "text": [
      "2024-12-06 15:19:40,888 - INFO - Биннинг и расчет WOE выполнены успешно.\n"
     ]
    },
    {
     "name": "stdout",
     "output_type": "stream",
     "text": [
      "Binning on 37636 rows and 28 columns in 00:00:22\n"
     ]
    }
   ],
   "source": [
    "# -------------- Шаг 8: Применение биннинга и расчет WOE --------------\n",
    "\n",
    "# 1. Обработка пропусков в категориальных переменных: добавление категории 'missing'\n",
    "logging.info(\"Обработка пропусков в категориальных переменных.\")\n",
    "for var in selected_vars_final:\n",
    "    if dev_final_sel[var].dtype == 'object' or pd.api.types.is_categorical_dtype(dev_final_sel[var]):\n",
    "        if dev_final_sel[var].isnull().any():\n",
    "            dev_final_sel[var] = dev_final_sel[var].astype('category')\n",
    "            if 'missing' not in dev_final_sel[var].cat.categories:\n",
    "                dev_final_sel[var].cat.add_categories('missing', inplace=True)\n",
    "            dev_final_sel[var].fillna('missing', inplace=True)\n",
    "\n",
    "logging.info(\"Применение биннинга и расчет WOE на dev_final_sel.\")\n",
    "try:\n",
    "    bins_final5_M1_Employee = sc.woebin(\n",
    "        dt=dev_final_sel,\n",
    "        y=\"gb\",\n",
    "        method=\"tree\",\n",
    "        breaks_list=breaks,\n",
    "        check_cate_num=False,\n",
    "        count_distr_limit=0.05,\n",
    "        bin_num_limit=5\n",
    "    )\n",
    "    logging.info(\"Биннинг и расчет WOE выполнены успешно.\")\n",
    "except Exception as e:\n",
    "    logging.error(f\"Ошибка при биннинге и расчете WOE: {e}\")\n",
    "    raise"
   ]
  },
  {
   "cell_type": "code",
   "execution_count": 44,
   "id": "6c76f107",
   "metadata": {
    "scrolled": true
   },
   "outputs": [
    {
     "name": "stderr",
     "output_type": "stream",
     "text": [
      "2024-12-06 15:19:40,926 - INFO - Сохранение результатов биннинга в JSON и Excel.\n",
      "2024-12-06 15:19:40,984 - INFO - Биннинг сохранён вручную в JSON формате.\n",
      "2024-12-06 15:19:42,616 - INFO - Биннинг сохранён в Excel формате.\n",
      "2024-12-06 15:19:42,619 - INFO - Визуализация биннинга для переменной 'loan_amount'.\n",
      "2024-12-06 15:19:42,725 - ERROR - Ошибка при визуализации биннинга для переменной 'loan_amount': 0\n"
     ]
    }
   ],
   "source": [
    "# -------------- Сохранение результатов биннинга --------------\n",
    "\n",
    "logging.info(\"Сохранение результатов биннинга в JSON и Excel.\")\n",
    "try:\n",
    "    # Альтернативное сохранение биннинга в JSON вручную\n",
    "    with open(\"M1_Employee_bins5.json\", \"w\", encoding='utf-8') as f:\n",
    "        # Преобразуем объекты pandas DataFrame в словари для JSON\n",
    "        bins_json = {var: bins.to_dict(orient='records') for var, bins in bins_final5_M1_Employee.items()}\n",
    "        json.dump(bins_json, f, ensure_ascii=False, indent=4)\n",
    "    logging.info(\"Биннинг сохранён вручную в JSON формате.\")\n",
    "except Exception as e:\n",
    "    logging.error(f\"Ошибка при сохранении биннинга в JSON: {e}\")\n",
    "    raise\n",
    "\n",
    "# Сохранение биннинга в Excel\n",
    "try:\n",
    "    with pd.ExcelWriter(\"M1_Employee_bins5.xlsx\") as writer:\n",
    "        for var, bins in bins_final5_M1_Employee.items():\n",
    "            # Ограничение на длину имени листа в Excel (максимум 31 символ)\n",
    "            sheet_name = var[:31]\n",
    "            bins.to_excel(writer, sheet_name=sheet_name)\n",
    "    logging.info(\"Биннинг сохранён в Excel формате.\")\n",
    "except Exception as e:\n",
    "    logging.error(f\"Ошибка при сохранении биннинга в Excel: {e}\")\n",
    "    raise\n",
    "\n",
    "# Визуализация биннинга для одной из переменных (например, loan_amount)\n",
    "var_to_plot = 'loan_amount'  # Замените на актуальное имя переменной\n",
    "if var_to_plot in bins_final5_M1_Employee:\n",
    "    logging.info(f\"Визуализация биннинга для переменной '{var_to_plot}'.\")\n",
    "    try:\n",
    "        # Передача аргументов как позиционных\n",
    "        sc.woebin_plot(bins_final5_M1_Employee, var_to_plot, 1)\n",
    "        plt.show()\n",
    "    except Exception as e:\n",
    "        logging.error(f\"Ошибка при визуализации биннинга для переменной '{var_to_plot}': {e}\")\n",
    "else:\n",
    "    logging.warning(f\"Переменная '{var_to_plot}' не найдена в биннинге. Проверьте правильность имени.\")"
   ]
  },
  {
   "cell_type": "code",
   "execution_count": 45,
   "id": "1198e24d",
   "metadata": {},
   "outputs": [
    {
     "name": "stderr",
     "output_type": "stream",
     "text": [
      "2024-12-06 15:19:42,761 - INFO - Разбиение данных на Train и Test (Out-of-sample).\n",
      "2024-12-06 15:19:42,805 - INFO - Количество строк в Train: 25216\n",
      "2024-12-06 15:19:42,805 - INFO - Количество строк в Test: 12420\n"
     ]
    }
   ],
   "source": [
    "\n",
    "# -------------- Шаг 9: Разбиение данных на Train и Test --------------\n",
    "\n",
    "logging.info(\"Разбиение данных на Train и Test (Out-of-sample).\")\n",
    "train, test = train_test_split(\n",
    "    dev_final_sel,\n",
    "    test_size=0.33,\n",
    "    random_state=30,\n",
    "    stratify=dev_final_sel['gb']\n",
    ")\n",
    "\n",
    "logging.info(f\"Количество строк в Train: {train.shape[0]}\")\n",
    "logging.info(f\"Количество строк в Test: {test.shape[0]}\")\n"
   ]
  },
  {
   "cell_type": "code",
   "execution_count": 46,
   "id": "c58608e8",
   "metadata": {},
   "outputs": [
    {
     "name": "stderr",
     "output_type": "stream",
     "text": [
      "2024-12-06 15:19:42,870 - INFO - Применение WOE кодирования к всем выборкам.\n"
     ]
    },
    {
     "name": "stdout",
     "output_type": "stream",
     "text": [
      "[INFO] converting into woe values ...\n"
     ]
    },
    {
     "name": "stderr",
     "output_type": "stream",
     "text": [
      "C:\\Users\\F_Jumaev\\AppData\\Roaming\\Python\\Python310\\site-packages\\scorecardpy\\woebin.py:1059: SettingWithCopyWarning: \n",
      "A value is trying to be set on a copy of a slice from a DataFrame.\n",
      "Try using .loc[row_indexer,col_indexer] = value instead\n",
      "\n",
      "See the caveats in the documentation: https://pandas.pydata.org/pandas-docs/stable/user_guide/indexing.html#returning-a-view-versus-a-copy\n",
      "  dtx.loc[:,x_i] = dtx.loc[:,x_i].astype(str).replace('nan', 'missing')\n",
      "C:\\Users\\F_Jumaev\\AppData\\Roaming\\Python\\Python310\\site-packages\\scorecardpy\\woebin.py:1059: SettingWithCopyWarning: \n",
      "A value is trying to be set on a copy of a slice from a DataFrame.\n",
      "Try using .loc[row_indexer,col_indexer] = value instead\n",
      "\n",
      "See the caveats in the documentation: https://pandas.pydata.org/pandas-docs/stable/user_guide/indexing.html#returning-a-view-versus-a-copy\n",
      "  dtx.loc[:,x_i] = dtx.loc[:,x_i].astype(str).replace('nan', 'missing')\n",
      "C:\\Users\\F_Jumaev\\AppData\\Roaming\\Python\\Python310\\site-packages\\scorecardpy\\woebin.py:1059: SettingWithCopyWarning: \n",
      "A value is trying to be set on a copy of a slice from a DataFrame.\n",
      "Try using .loc[row_indexer,col_indexer] = value instead\n",
      "\n",
      "See the caveats in the documentation: https://pandas.pydata.org/pandas-docs/stable/user_guide/indexing.html#returning-a-view-versus-a-copy\n",
      "  dtx.loc[:,x_i] = dtx.loc[:,x_i].astype(str).replace('nan', 'missing')\n",
      "C:\\Users\\F_Jumaev\\AppData\\Roaming\\Python\\Python310\\site-packages\\scorecardpy\\woebin.py:1059: SettingWithCopyWarning: \n",
      "A value is trying to be set on a copy of a slice from a DataFrame.\n",
      "Try using .loc[row_indexer,col_indexer] = value instead\n",
      "\n",
      "See the caveats in the documentation: https://pandas.pydata.org/pandas-docs/stable/user_guide/indexing.html#returning-a-view-versus-a-copy\n",
      "  dtx.loc[:,x_i] = dtx.loc[:,x_i].astype(str).replace('nan', 'missing')\n",
      "C:\\Users\\F_Jumaev\\AppData\\Roaming\\Python\\Python310\\site-packages\\scorecardpy\\woebin.py:1059: SettingWithCopyWarning: \n",
      "A value is trying to be set on a copy of a slice from a DataFrame.\n",
      "Try using .loc[row_indexer,col_indexer] = value instead\n",
      "\n",
      "See the caveats in the documentation: https://pandas.pydata.org/pandas-docs/stable/user_guide/indexing.html#returning-a-view-versus-a-copy\n",
      "  dtx.loc[:,x_i] = dtx.loc[:,x_i].astype(str).replace('nan', 'missing')\n",
      "C:\\Users\\F_Jumaev\\AppData\\Roaming\\Python\\Python310\\site-packages\\scorecardpy\\woebin.py:1059: SettingWithCopyWarning: \n",
      "A value is trying to be set on a copy of a slice from a DataFrame.\n",
      "Try using .loc[row_indexer,col_indexer] = value instead\n",
      "\n",
      "See the caveats in the documentation: https://pandas.pydata.org/pandas-docs/stable/user_guide/indexing.html#returning-a-view-versus-a-copy\n",
      "  dtx.loc[:,x_i] = dtx.loc[:,x_i].astype(str).replace('nan', 'missing')\n",
      "C:\\Users\\F_Jumaev\\AppData\\Roaming\\Python\\Python310\\site-packages\\scorecardpy\\woebin.py:1059: SettingWithCopyWarning: \n",
      "A value is trying to be set on a copy of a slice from a DataFrame.\n",
      "Try using .loc[row_indexer,col_indexer] = value instead\n",
      "\n",
      "See the caveats in the documentation: https://pandas.pydata.org/pandas-docs/stable/user_guide/indexing.html#returning-a-view-versus-a-copy\n",
      "  dtx.loc[:,x_i] = dtx.loc[:,x_i].astype(str).replace('nan', 'missing')\n",
      "C:\\Users\\F_Jumaev\\AppData\\Roaming\\Python\\Python310\\site-packages\\scorecardpy\\woebin.py:1059: SettingWithCopyWarning: \n",
      "A value is trying to be set on a copy of a slice from a DataFrame.\n",
      "Try using .loc[row_indexer,col_indexer] = value instead\n",
      "\n",
      "See the caveats in the documentation: https://pandas.pydata.org/pandas-docs/stable/user_guide/indexing.html#returning-a-view-versus-a-copy\n",
      "  dtx.loc[:,x_i] = dtx.loc[:,x_i].astype(str).replace('nan', 'missing')\n",
      "C:\\Users\\F_Jumaev\\AppData\\Roaming\\Python\\Python310\\site-packages\\scorecardpy\\woebin.py:1059: SettingWithCopyWarning: \n",
      "A value is trying to be set on a copy of a slice from a DataFrame.\n",
      "Try using .loc[row_indexer,col_indexer] = value instead\n",
      "\n",
      "See the caveats in the documentation: https://pandas.pydata.org/pandas-docs/stable/user_guide/indexing.html#returning-a-view-versus-a-copy\n",
      "  dtx.loc[:,x_i] = dtx.loc[:,x_i].astype(str).replace('nan', 'missing')\n",
      "C:\\Users\\F_Jumaev\\AppData\\Roaming\\Python\\Python310\\site-packages\\scorecardpy\\woebin.py:1059: SettingWithCopyWarning: \n",
      "A value is trying to be set on a copy of a slice from a DataFrame.\n",
      "Try using .loc[row_indexer,col_indexer] = value instead\n",
      "\n",
      "See the caveats in the documentation: https://pandas.pydata.org/pandas-docs/stable/user_guide/indexing.html#returning-a-view-versus-a-copy\n",
      "  dtx.loc[:,x_i] = dtx.loc[:,x_i].astype(str).replace('nan', 'missing')\n",
      "C:\\Users\\F_Jumaev\\AppData\\Roaming\\Python\\Python310\\site-packages\\scorecardpy\\woebin.py:1059: SettingWithCopyWarning: \n",
      "A value is trying to be set on a copy of a slice from a DataFrame.\n",
      "Try using .loc[row_indexer,col_indexer] = value instead\n",
      "\n",
      "See the caveats in the documentation: https://pandas.pydata.org/pandas-docs/stable/user_guide/indexing.html#returning-a-view-versus-a-copy\n",
      "  dtx.loc[:,x_i] = dtx.loc[:,x_i].astype(str).replace('nan', 'missing')\n",
      "C:\\Users\\F_Jumaev\\AppData\\Roaming\\Python\\Python310\\site-packages\\scorecardpy\\woebin.py:1059: SettingWithCopyWarning: \n",
      "A value is trying to be set on a copy of a slice from a DataFrame.\n",
      "Try using .loc[row_indexer,col_indexer] = value instead\n",
      "\n",
      "See the caveats in the documentation: https://pandas.pydata.org/pandas-docs/stable/user_guide/indexing.html#returning-a-view-versus-a-copy\n",
      "  dtx.loc[:,x_i] = dtx.loc[:,x_i].astype(str).replace('nan', 'missing')\n"
     ]
    },
    {
     "name": "stdout",
     "output_type": "stream",
     "text": [
      "[INFO] converting into woe values ...\n"
     ]
    },
    {
     "name": "stderr",
     "output_type": "stream",
     "text": [
      "C:\\Users\\F_Jumaev\\AppData\\Roaming\\Python\\Python310\\site-packages\\scorecardpy\\woebin.py:1059: SettingWithCopyWarning: \n",
      "A value is trying to be set on a copy of a slice from a DataFrame.\n",
      "Try using .loc[row_indexer,col_indexer] = value instead\n",
      "\n",
      "See the caveats in the documentation: https://pandas.pydata.org/pandas-docs/stable/user_guide/indexing.html#returning-a-view-versus-a-copy\n",
      "  dtx.loc[:,x_i] = dtx.loc[:,x_i].astype(str).replace('nan', 'missing')\n",
      "C:\\Users\\F_Jumaev\\AppData\\Roaming\\Python\\Python310\\site-packages\\scorecardpy\\woebin.py:1059: SettingWithCopyWarning: \n",
      "A value is trying to be set on a copy of a slice from a DataFrame.\n",
      "Try using .loc[row_indexer,col_indexer] = value instead\n",
      "\n",
      "See the caveats in the documentation: https://pandas.pydata.org/pandas-docs/stable/user_guide/indexing.html#returning-a-view-versus-a-copy\n",
      "  dtx.loc[:,x_i] = dtx.loc[:,x_i].astype(str).replace('nan', 'missing')\n",
      "C:\\Users\\F_Jumaev\\AppData\\Roaming\\Python\\Python310\\site-packages\\scorecardpy\\woebin.py:1059: SettingWithCopyWarning: \n",
      "A value is trying to be set on a copy of a slice from a DataFrame.\n",
      "Try using .loc[row_indexer,col_indexer] = value instead\n",
      "\n",
      "See the caveats in the documentation: https://pandas.pydata.org/pandas-docs/stable/user_guide/indexing.html#returning-a-view-versus-a-copy\n",
      "  dtx.loc[:,x_i] = dtx.loc[:,x_i].astype(str).replace('nan', 'missing')\n",
      "C:\\Users\\F_Jumaev\\AppData\\Roaming\\Python\\Python310\\site-packages\\scorecardpy\\woebin.py:1059: SettingWithCopyWarning: \n",
      "A value is trying to be set on a copy of a slice from a DataFrame.\n",
      "Try using .loc[row_indexer,col_indexer] = value instead\n",
      "\n",
      "See the caveats in the documentation: https://pandas.pydata.org/pandas-docs/stable/user_guide/indexing.html#returning-a-view-versus-a-copy\n",
      "  dtx.loc[:,x_i] = dtx.loc[:,x_i].astype(str).replace('nan', 'missing')\n",
      "C:\\Users\\F_Jumaev\\AppData\\Roaming\\Python\\Python310\\site-packages\\scorecardpy\\woebin.py:1059: SettingWithCopyWarning: \n",
      "A value is trying to be set on a copy of a slice from a DataFrame.\n",
      "Try using .loc[row_indexer,col_indexer] = value instead\n",
      "\n",
      "See the caveats in the documentation: https://pandas.pydata.org/pandas-docs/stable/user_guide/indexing.html#returning-a-view-versus-a-copy\n",
      "  dtx.loc[:,x_i] = dtx.loc[:,x_i].astype(str).replace('nan', 'missing')\n",
      "C:\\Users\\F_Jumaev\\AppData\\Roaming\\Python\\Python310\\site-packages\\scorecardpy\\woebin.py:1059: SettingWithCopyWarning: \n",
      "A value is trying to be set on a copy of a slice from a DataFrame.\n",
      "Try using .loc[row_indexer,col_indexer] = value instead\n",
      "\n",
      "See the caveats in the documentation: https://pandas.pydata.org/pandas-docs/stable/user_guide/indexing.html#returning-a-view-versus-a-copy\n",
      "  dtx.loc[:,x_i] = dtx.loc[:,x_i].astype(str).replace('nan', 'missing')\n",
      "C:\\Users\\F_Jumaev\\AppData\\Roaming\\Python\\Python310\\site-packages\\scorecardpy\\woebin.py:1059: SettingWithCopyWarning: \n",
      "A value is trying to be set on a copy of a slice from a DataFrame.\n",
      "Try using .loc[row_indexer,col_indexer] = value instead\n",
      "\n",
      "See the caveats in the documentation: https://pandas.pydata.org/pandas-docs/stable/user_guide/indexing.html#returning-a-view-versus-a-copy\n",
      "  dtx.loc[:,x_i] = dtx.loc[:,x_i].astype(str).replace('nan', 'missing')\n",
      "C:\\Users\\F_Jumaev\\AppData\\Roaming\\Python\\Python310\\site-packages\\scorecardpy\\woebin.py:1059: SettingWithCopyWarning: \n",
      "A value is trying to be set on a copy of a slice from a DataFrame.\n",
      "Try using .loc[row_indexer,col_indexer] = value instead\n",
      "\n",
      "See the caveats in the documentation: https://pandas.pydata.org/pandas-docs/stable/user_guide/indexing.html#returning-a-view-versus-a-copy\n",
      "  dtx.loc[:,x_i] = dtx.loc[:,x_i].astype(str).replace('nan', 'missing')\n",
      "C:\\Users\\F_Jumaev\\AppData\\Roaming\\Python\\Python310\\site-packages\\scorecardpy\\woebin.py:1059: SettingWithCopyWarning: \n",
      "A value is trying to be set on a copy of a slice from a DataFrame.\n",
      "Try using .loc[row_indexer,col_indexer] = value instead\n",
      "\n",
      "See the caveats in the documentation: https://pandas.pydata.org/pandas-docs/stable/user_guide/indexing.html#returning-a-view-versus-a-copy\n",
      "  dtx.loc[:,x_i] = dtx.loc[:,x_i].astype(str).replace('nan', 'missing')\n",
      "C:\\Users\\F_Jumaev\\AppData\\Roaming\\Python\\Python310\\site-packages\\scorecardpy\\woebin.py:1059: SettingWithCopyWarning: \n",
      "A value is trying to be set on a copy of a slice from a DataFrame.\n",
      "Try using .loc[row_indexer,col_indexer] = value instead\n",
      "\n",
      "See the caveats in the documentation: https://pandas.pydata.org/pandas-docs/stable/user_guide/indexing.html#returning-a-view-versus-a-copy\n",
      "  dtx.loc[:,x_i] = dtx.loc[:,x_i].astype(str).replace('nan', 'missing')\n",
      "C:\\Users\\F_Jumaev\\AppData\\Roaming\\Python\\Python310\\site-packages\\scorecardpy\\woebin.py:1059: SettingWithCopyWarning: \n",
      "A value is trying to be set on a copy of a slice from a DataFrame.\n",
      "Try using .loc[row_indexer,col_indexer] = value instead\n",
      "\n",
      "See the caveats in the documentation: https://pandas.pydata.org/pandas-docs/stable/user_guide/indexing.html#returning-a-view-versus-a-copy\n",
      "  dtx.loc[:,x_i] = dtx.loc[:,x_i].astype(str).replace('nan', 'missing')\n",
      "C:\\Users\\F_Jumaev\\AppData\\Roaming\\Python\\Python310\\site-packages\\scorecardpy\\woebin.py:1059: SettingWithCopyWarning: \n",
      "A value is trying to be set on a copy of a slice from a DataFrame.\n",
      "Try using .loc[row_indexer,col_indexer] = value instead\n",
      "\n",
      "See the caveats in the documentation: https://pandas.pydata.org/pandas-docs/stable/user_guide/indexing.html#returning-a-view-versus-a-copy\n",
      "  dtx.loc[:,x_i] = dtx.loc[:,x_i].astype(str).replace('nan', 'missing')\n"
     ]
    },
    {
     "name": "stdout",
     "output_type": "stream",
     "text": [
      "[INFO] converting into woe values ...\n"
     ]
    },
    {
     "name": "stderr",
     "output_type": "stream",
     "text": [
      "C:\\Users\\F_Jumaev\\AppData\\Roaming\\Python\\Python310\\site-packages\\scorecardpy\\woebin.py:1059: SettingWithCopyWarning: \n",
      "A value is trying to be set on a copy of a slice from a DataFrame.\n",
      "Try using .loc[row_indexer,col_indexer] = value instead\n",
      "\n",
      "See the caveats in the documentation: https://pandas.pydata.org/pandas-docs/stable/user_guide/indexing.html#returning-a-view-versus-a-copy\n",
      "  dtx.loc[:,x_i] = dtx.loc[:,x_i].astype(str).replace('nan', 'missing')\n",
      "C:\\Users\\F_Jumaev\\AppData\\Roaming\\Python\\Python310\\site-packages\\scorecardpy\\woebin.py:1059: SettingWithCopyWarning: \n",
      "A value is trying to be set on a copy of a slice from a DataFrame.\n",
      "Try using .loc[row_indexer,col_indexer] = value instead\n",
      "\n",
      "See the caveats in the documentation: https://pandas.pydata.org/pandas-docs/stable/user_guide/indexing.html#returning-a-view-versus-a-copy\n",
      "  dtx.loc[:,x_i] = dtx.loc[:,x_i].astype(str).replace('nan', 'missing')\n",
      "C:\\Users\\F_Jumaev\\AppData\\Roaming\\Python\\Python310\\site-packages\\scorecardpy\\woebin.py:1059: SettingWithCopyWarning: \n",
      "A value is trying to be set on a copy of a slice from a DataFrame.\n",
      "Try using .loc[row_indexer,col_indexer] = value instead\n",
      "\n",
      "See the caveats in the documentation: https://pandas.pydata.org/pandas-docs/stable/user_guide/indexing.html#returning-a-view-versus-a-copy\n",
      "  dtx.loc[:,x_i] = dtx.loc[:,x_i].astype(str).replace('nan', 'missing')\n",
      "C:\\Users\\F_Jumaev\\AppData\\Roaming\\Python\\Python310\\site-packages\\scorecardpy\\woebin.py:1059: SettingWithCopyWarning: \n",
      "A value is trying to be set on a copy of a slice from a DataFrame.\n",
      "Try using .loc[row_indexer,col_indexer] = value instead\n",
      "\n",
      "See the caveats in the documentation: https://pandas.pydata.org/pandas-docs/stable/user_guide/indexing.html#returning-a-view-versus-a-copy\n",
      "  dtx.loc[:,x_i] = dtx.loc[:,x_i].astype(str).replace('nan', 'missing')\n",
      "C:\\Users\\F_Jumaev\\AppData\\Roaming\\Python\\Python310\\site-packages\\scorecardpy\\woebin.py:1059: SettingWithCopyWarning: \n",
      "A value is trying to be set on a copy of a slice from a DataFrame.\n",
      "Try using .loc[row_indexer,col_indexer] = value instead\n",
      "\n",
      "See the caveats in the documentation: https://pandas.pydata.org/pandas-docs/stable/user_guide/indexing.html#returning-a-view-versus-a-copy\n",
      "  dtx.loc[:,x_i] = dtx.loc[:,x_i].astype(str).replace('nan', 'missing')\n",
      "C:\\Users\\F_Jumaev\\AppData\\Roaming\\Python\\Python310\\site-packages\\scorecardpy\\woebin.py:1059: SettingWithCopyWarning: \n",
      "A value is trying to be set on a copy of a slice from a DataFrame.\n",
      "Try using .loc[row_indexer,col_indexer] = value instead\n",
      "\n",
      "See the caveats in the documentation: https://pandas.pydata.org/pandas-docs/stable/user_guide/indexing.html#returning-a-view-versus-a-copy\n",
      "  dtx.loc[:,x_i] = dtx.loc[:,x_i].astype(str).replace('nan', 'missing')\n",
      "C:\\Users\\F_Jumaev\\AppData\\Roaming\\Python\\Python310\\site-packages\\scorecardpy\\woebin.py:1059: SettingWithCopyWarning: \n",
      "A value is trying to be set on a copy of a slice from a DataFrame.\n",
      "Try using .loc[row_indexer,col_indexer] = value instead\n",
      "\n",
      "See the caveats in the documentation: https://pandas.pydata.org/pandas-docs/stable/user_guide/indexing.html#returning-a-view-versus-a-copy\n",
      "  dtx.loc[:,x_i] = dtx.loc[:,x_i].astype(str).replace('nan', 'missing')\n",
      "C:\\Users\\F_Jumaev\\AppData\\Roaming\\Python\\Python310\\site-packages\\scorecardpy\\woebin.py:1059: SettingWithCopyWarning: \n",
      "A value is trying to be set on a copy of a slice from a DataFrame.\n",
      "Try using .loc[row_indexer,col_indexer] = value instead\n",
      "\n",
      "See the caveats in the documentation: https://pandas.pydata.org/pandas-docs/stable/user_guide/indexing.html#returning-a-view-versus-a-copy\n",
      "  dtx.loc[:,x_i] = dtx.loc[:,x_i].astype(str).replace('nan', 'missing')\n",
      "C:\\Users\\F_Jumaev\\AppData\\Roaming\\Python\\Python310\\site-packages\\scorecardpy\\woebin.py:1059: SettingWithCopyWarning: \n",
      "A value is trying to be set on a copy of a slice from a DataFrame.\n",
      "Try using .loc[row_indexer,col_indexer] = value instead\n",
      "\n",
      "See the caveats in the documentation: https://pandas.pydata.org/pandas-docs/stable/user_guide/indexing.html#returning-a-view-versus-a-copy\n",
      "  dtx.loc[:,x_i] = dtx.loc[:,x_i].astype(str).replace('nan', 'missing')\n",
      "C:\\Users\\F_Jumaev\\AppData\\Roaming\\Python\\Python310\\site-packages\\scorecardpy\\woebin.py:1059: SettingWithCopyWarning: \n",
      "A value is trying to be set on a copy of a slice from a DataFrame.\n",
      "Try using .loc[row_indexer,col_indexer] = value instead\n",
      "\n",
      "See the caveats in the documentation: https://pandas.pydata.org/pandas-docs/stable/user_guide/indexing.html#returning-a-view-versus-a-copy\n",
      "  dtx.loc[:,x_i] = dtx.loc[:,x_i].astype(str).replace('nan', 'missing')\n",
      "C:\\Users\\F_Jumaev\\AppData\\Roaming\\Python\\Python310\\site-packages\\scorecardpy\\woebin.py:1059: SettingWithCopyWarning: \n",
      "A value is trying to be set on a copy of a slice from a DataFrame.\n",
      "Try using .loc[row_indexer,col_indexer] = value instead\n",
      "\n",
      "See the caveats in the documentation: https://pandas.pydata.org/pandas-docs/stable/user_guide/indexing.html#returning-a-view-versus-a-copy\n",
      "  dtx.loc[:,x_i] = dtx.loc[:,x_i].astype(str).replace('nan', 'missing')\n",
      "C:\\Users\\F_Jumaev\\AppData\\Roaming\\Python\\Python310\\site-packages\\scorecardpy\\woebin.py:1059: SettingWithCopyWarning: \n",
      "A value is trying to be set on a copy of a slice from a DataFrame.\n",
      "Try using .loc[row_indexer,col_indexer] = value instead\n",
      "\n",
      "See the caveats in the documentation: https://pandas.pydata.org/pandas-docs/stable/user_guide/indexing.html#returning-a-view-versus-a-copy\n",
      "  dtx.loc[:,x_i] = dtx.loc[:,x_i].astype(str).replace('nan', 'missing')\n"
     ]
    },
    {
     "name": "stdout",
     "output_type": "stream",
     "text": [
      "[INFO] converting into woe values ...\n"
     ]
    },
    {
     "name": "stderr",
     "output_type": "stream",
     "text": [
      "C:\\Users\\F_Jumaev\\AppData\\Roaming\\Python\\Python310\\site-packages\\scorecardpy\\woebin.py:1059: SettingWithCopyWarning: \n",
      "A value is trying to be set on a copy of a slice from a DataFrame.\n",
      "Try using .loc[row_indexer,col_indexer] = value instead\n",
      "\n",
      "See the caveats in the documentation: https://pandas.pydata.org/pandas-docs/stable/user_guide/indexing.html#returning-a-view-versus-a-copy\n",
      "  dtx.loc[:,x_i] = dtx.loc[:,x_i].astype(str).replace('nan', 'missing')\n",
      "C:\\Users\\F_Jumaev\\AppData\\Roaming\\Python\\Python310\\site-packages\\scorecardpy\\woebin.py:1059: SettingWithCopyWarning: \n",
      "A value is trying to be set on a copy of a slice from a DataFrame.\n",
      "Try using .loc[row_indexer,col_indexer] = value instead\n",
      "\n",
      "See the caveats in the documentation: https://pandas.pydata.org/pandas-docs/stable/user_guide/indexing.html#returning-a-view-versus-a-copy\n",
      "  dtx.loc[:,x_i] = dtx.loc[:,x_i].astype(str).replace('nan', 'missing')\n",
      "C:\\Users\\F_Jumaev\\AppData\\Roaming\\Python\\Python310\\site-packages\\scorecardpy\\woebin.py:1059: SettingWithCopyWarning: \n",
      "A value is trying to be set on a copy of a slice from a DataFrame.\n",
      "Try using .loc[row_indexer,col_indexer] = value instead\n",
      "\n",
      "See the caveats in the documentation: https://pandas.pydata.org/pandas-docs/stable/user_guide/indexing.html#returning-a-view-versus-a-copy\n",
      "  dtx.loc[:,x_i] = dtx.loc[:,x_i].astype(str).replace('nan', 'missing')\n",
      "C:\\Users\\F_Jumaev\\AppData\\Roaming\\Python\\Python310\\site-packages\\scorecardpy\\woebin.py:1059: SettingWithCopyWarning: \n",
      "A value is trying to be set on a copy of a slice from a DataFrame.\n",
      "Try using .loc[row_indexer,col_indexer] = value instead\n",
      "\n",
      "See the caveats in the documentation: https://pandas.pydata.org/pandas-docs/stable/user_guide/indexing.html#returning-a-view-versus-a-copy\n",
      "  dtx.loc[:,x_i] = dtx.loc[:,x_i].astype(str).replace('nan', 'missing')\n",
      "C:\\Users\\F_Jumaev\\AppData\\Roaming\\Python\\Python310\\site-packages\\scorecardpy\\woebin.py:1059: SettingWithCopyWarning: \n",
      "A value is trying to be set on a copy of a slice from a DataFrame.\n",
      "Try using .loc[row_indexer,col_indexer] = value instead\n",
      "\n",
      "See the caveats in the documentation: https://pandas.pydata.org/pandas-docs/stable/user_guide/indexing.html#returning-a-view-versus-a-copy\n",
      "  dtx.loc[:,x_i] = dtx.loc[:,x_i].astype(str).replace('nan', 'missing')\n",
      "C:\\Users\\F_Jumaev\\AppData\\Roaming\\Python\\Python310\\site-packages\\scorecardpy\\woebin.py:1059: SettingWithCopyWarning: \n",
      "A value is trying to be set on a copy of a slice from a DataFrame.\n",
      "Try using .loc[row_indexer,col_indexer] = value instead\n",
      "\n",
      "See the caveats in the documentation: https://pandas.pydata.org/pandas-docs/stable/user_guide/indexing.html#returning-a-view-versus-a-copy\n",
      "  dtx.loc[:,x_i] = dtx.loc[:,x_i].astype(str).replace('nan', 'missing')\n",
      "C:\\Users\\F_Jumaev\\AppData\\Roaming\\Python\\Python310\\site-packages\\scorecardpy\\woebin.py:1059: SettingWithCopyWarning: \n",
      "A value is trying to be set on a copy of a slice from a DataFrame.\n",
      "Try using .loc[row_indexer,col_indexer] = value instead\n",
      "\n",
      "See the caveats in the documentation: https://pandas.pydata.org/pandas-docs/stable/user_guide/indexing.html#returning-a-view-versus-a-copy\n",
      "  dtx.loc[:,x_i] = dtx.loc[:,x_i].astype(str).replace('nan', 'missing')\n",
      "C:\\Users\\F_Jumaev\\AppData\\Roaming\\Python\\Python310\\site-packages\\scorecardpy\\woebin.py:1059: SettingWithCopyWarning: \n",
      "A value is trying to be set on a copy of a slice from a DataFrame.\n",
      "Try using .loc[row_indexer,col_indexer] = value instead\n",
      "\n",
      "See the caveats in the documentation: https://pandas.pydata.org/pandas-docs/stable/user_guide/indexing.html#returning-a-view-versus-a-copy\n",
      "  dtx.loc[:,x_i] = dtx.loc[:,x_i].astype(str).replace('nan', 'missing')\n",
      "C:\\Users\\F_Jumaev\\AppData\\Roaming\\Python\\Python310\\site-packages\\scorecardpy\\woebin.py:1059: SettingWithCopyWarning: \n",
      "A value is trying to be set on a copy of a slice from a DataFrame.\n",
      "Try using .loc[row_indexer,col_indexer] = value instead\n",
      "\n",
      "See the caveats in the documentation: https://pandas.pydata.org/pandas-docs/stable/user_guide/indexing.html#returning-a-view-versus-a-copy\n",
      "  dtx.loc[:,x_i] = dtx.loc[:,x_i].astype(str).replace('nan', 'missing')\n",
      "C:\\Users\\F_Jumaev\\AppData\\Roaming\\Python\\Python310\\site-packages\\scorecardpy\\woebin.py:1059: SettingWithCopyWarning: \n",
      "A value is trying to be set on a copy of a slice from a DataFrame.\n",
      "Try using .loc[row_indexer,col_indexer] = value instead\n",
      "\n",
      "See the caveats in the documentation: https://pandas.pydata.org/pandas-docs/stable/user_guide/indexing.html#returning-a-view-versus-a-copy\n",
      "  dtx.loc[:,x_i] = dtx.loc[:,x_i].astype(str).replace('nan', 'missing')\n",
      "C:\\Users\\F_Jumaev\\AppData\\Roaming\\Python\\Python310\\site-packages\\scorecardpy\\woebin.py:1059: SettingWithCopyWarning: \n",
      "A value is trying to be set on a copy of a slice from a DataFrame.\n",
      "Try using .loc[row_indexer,col_indexer] = value instead\n",
      "\n",
      "See the caveats in the documentation: https://pandas.pydata.org/pandas-docs/stable/user_guide/indexing.html#returning-a-view-versus-a-copy\n",
      "  dtx.loc[:,x_i] = dtx.loc[:,x_i].astype(str).replace('nan', 'missing')\n",
      "C:\\Users\\F_Jumaev\\AppData\\Roaming\\Python\\Python310\\site-packages\\scorecardpy\\woebin.py:1059: SettingWithCopyWarning: \n",
      "A value is trying to be set on a copy of a slice from a DataFrame.\n",
      "Try using .loc[row_indexer,col_indexer] = value instead\n",
      "\n",
      "See the caveats in the documentation: https://pandas.pydata.org/pandas-docs/stable/user_guide/indexing.html#returning-a-view-versus-a-copy\n",
      "  dtx.loc[:,x_i] = dtx.loc[:,x_i].astype(str).replace('nan', 'missing')\n"
     ]
    },
    {
     "name": "stdout",
     "output_type": "stream",
     "text": [
      "[INFO] converting into woe values ...\n"
     ]
    },
    {
     "name": "stderr",
     "output_type": "stream",
     "text": [
      "C:\\Users\\F_Jumaev\\AppData\\Roaming\\Python\\Python310\\site-packages\\scorecardpy\\woebin.py:1059: SettingWithCopyWarning: \n",
      "A value is trying to be set on a copy of a slice from a DataFrame.\n",
      "Try using .loc[row_indexer,col_indexer] = value instead\n",
      "\n",
      "See the caveats in the documentation: https://pandas.pydata.org/pandas-docs/stable/user_guide/indexing.html#returning-a-view-versus-a-copy\n",
      "  dtx.loc[:,x_i] = dtx.loc[:,x_i].astype(str).replace('nan', 'missing')\n",
      "C:\\Users\\F_Jumaev\\AppData\\Roaming\\Python\\Python310\\site-packages\\scorecardpy\\woebin.py:1059: SettingWithCopyWarning: \n",
      "A value is trying to be set on a copy of a slice from a DataFrame.\n",
      "Try using .loc[row_indexer,col_indexer] = value instead\n",
      "\n",
      "See the caveats in the documentation: https://pandas.pydata.org/pandas-docs/stable/user_guide/indexing.html#returning-a-view-versus-a-copy\n",
      "  dtx.loc[:,x_i] = dtx.loc[:,x_i].astype(str).replace('nan', 'missing')\n",
      "C:\\Users\\F_Jumaev\\AppData\\Roaming\\Python\\Python310\\site-packages\\scorecardpy\\woebin.py:1059: SettingWithCopyWarning: \n",
      "A value is trying to be set on a copy of a slice from a DataFrame.\n",
      "Try using .loc[row_indexer,col_indexer] = value instead\n",
      "\n",
      "See the caveats in the documentation: https://pandas.pydata.org/pandas-docs/stable/user_guide/indexing.html#returning-a-view-versus-a-copy\n",
      "  dtx.loc[:,x_i] = dtx.loc[:,x_i].astype(str).replace('nan', 'missing')\n",
      "C:\\Users\\F_Jumaev\\AppData\\Roaming\\Python\\Python310\\site-packages\\scorecardpy\\woebin.py:1059: SettingWithCopyWarning: \n",
      "A value is trying to be set on a copy of a slice from a DataFrame.\n",
      "Try using .loc[row_indexer,col_indexer] = value instead\n",
      "\n",
      "See the caveats in the documentation: https://pandas.pydata.org/pandas-docs/stable/user_guide/indexing.html#returning-a-view-versus-a-copy\n",
      "  dtx.loc[:,x_i] = dtx.loc[:,x_i].astype(str).replace('nan', 'missing')\n",
      "C:\\Users\\F_Jumaev\\AppData\\Roaming\\Python\\Python310\\site-packages\\scorecardpy\\woebin.py:1059: SettingWithCopyWarning: \n",
      "A value is trying to be set on a copy of a slice from a DataFrame.\n",
      "Try using .loc[row_indexer,col_indexer] = value instead\n",
      "\n",
      "See the caveats in the documentation: https://pandas.pydata.org/pandas-docs/stable/user_guide/indexing.html#returning-a-view-versus-a-copy\n",
      "  dtx.loc[:,x_i] = dtx.loc[:,x_i].astype(str).replace('nan', 'missing')\n",
      "C:\\Users\\F_Jumaev\\AppData\\Roaming\\Python\\Python310\\site-packages\\scorecardpy\\woebin.py:1059: SettingWithCopyWarning: \n",
      "A value is trying to be set on a copy of a slice from a DataFrame.\n",
      "Try using .loc[row_indexer,col_indexer] = value instead\n",
      "\n",
      "See the caveats in the documentation: https://pandas.pydata.org/pandas-docs/stable/user_guide/indexing.html#returning-a-view-versus-a-copy\n",
      "  dtx.loc[:,x_i] = dtx.loc[:,x_i].astype(str).replace('nan', 'missing')\n",
      "C:\\Users\\F_Jumaev\\AppData\\Roaming\\Python\\Python310\\site-packages\\scorecardpy\\woebin.py:1059: SettingWithCopyWarning: \n",
      "A value is trying to be set on a copy of a slice from a DataFrame.\n",
      "Try using .loc[row_indexer,col_indexer] = value instead\n",
      "\n",
      "See the caveats in the documentation: https://pandas.pydata.org/pandas-docs/stable/user_guide/indexing.html#returning-a-view-versus-a-copy\n",
      "  dtx.loc[:,x_i] = dtx.loc[:,x_i].astype(str).replace('nan', 'missing')\n",
      "C:\\Users\\F_Jumaev\\AppData\\Roaming\\Python\\Python310\\site-packages\\scorecardpy\\woebin.py:1059: SettingWithCopyWarning: \n",
      "A value is trying to be set on a copy of a slice from a DataFrame.\n",
      "Try using .loc[row_indexer,col_indexer] = value instead\n",
      "\n",
      "See the caveats in the documentation: https://pandas.pydata.org/pandas-docs/stable/user_guide/indexing.html#returning-a-view-versus-a-copy\n",
      "  dtx.loc[:,x_i] = dtx.loc[:,x_i].astype(str).replace('nan', 'missing')\n",
      "C:\\Users\\F_Jumaev\\AppData\\Roaming\\Python\\Python310\\site-packages\\scorecardpy\\woebin.py:1059: SettingWithCopyWarning: \n",
      "A value is trying to be set on a copy of a slice from a DataFrame.\n",
      "Try using .loc[row_indexer,col_indexer] = value instead\n",
      "\n",
      "See the caveats in the documentation: https://pandas.pydata.org/pandas-docs/stable/user_guide/indexing.html#returning-a-view-versus-a-copy\n",
      "  dtx.loc[:,x_i] = dtx.loc[:,x_i].astype(str).replace('nan', 'missing')\n",
      "C:\\Users\\F_Jumaev\\AppData\\Roaming\\Python\\Python310\\site-packages\\scorecardpy\\woebin.py:1059: SettingWithCopyWarning: \n",
      "A value is trying to be set on a copy of a slice from a DataFrame.\n",
      "Try using .loc[row_indexer,col_indexer] = value instead\n",
      "\n",
      "See the caveats in the documentation: https://pandas.pydata.org/pandas-docs/stable/user_guide/indexing.html#returning-a-view-versus-a-copy\n",
      "  dtx.loc[:,x_i] = dtx.loc[:,x_i].astype(str).replace('nan', 'missing')\n",
      "C:\\Users\\F_Jumaev\\AppData\\Roaming\\Python\\Python310\\site-packages\\scorecardpy\\woebin.py:1059: SettingWithCopyWarning: \n",
      "A value is trying to be set on a copy of a slice from a DataFrame.\n",
      "Try using .loc[row_indexer,col_indexer] = value instead\n",
      "\n",
      "See the caveats in the documentation: https://pandas.pydata.org/pandas-docs/stable/user_guide/indexing.html#returning-a-view-versus-a-copy\n",
      "  dtx.loc[:,x_i] = dtx.loc[:,x_i].astype(str).replace('nan', 'missing')\n",
      "C:\\Users\\F_Jumaev\\AppData\\Roaming\\Python\\Python310\\site-packages\\scorecardpy\\woebin.py:1059: SettingWithCopyWarning: \n",
      "A value is trying to be set on a copy of a slice from a DataFrame.\n",
      "Try using .loc[row_indexer,col_indexer] = value instead\n",
      "\n",
      "See the caveats in the documentation: https://pandas.pydata.org/pandas-docs/stable/user_guide/indexing.html#returning-a-view-versus-a-copy\n",
      "  dtx.loc[:,x_i] = dtx.loc[:,x_i].astype(str).replace('nan', 'missing')\n"
     ]
    },
    {
     "name": "stdout",
     "output_type": "stream",
     "text": [
      "[INFO] converting into woe values ...\n"
     ]
    },
    {
     "name": "stderr",
     "output_type": "stream",
     "text": [
      "C:\\Users\\F_Jumaev\\AppData\\Roaming\\Python\\Python310\\site-packages\\scorecardpy\\woebin.py:1059: SettingWithCopyWarning: \n",
      "A value is trying to be set on a copy of a slice from a DataFrame.\n",
      "Try using .loc[row_indexer,col_indexer] = value instead\n",
      "\n",
      "See the caveats in the documentation: https://pandas.pydata.org/pandas-docs/stable/user_guide/indexing.html#returning-a-view-versus-a-copy\n",
      "  dtx.loc[:,x_i] = dtx.loc[:,x_i].astype(str).replace('nan', 'missing')\n",
      "C:\\Users\\F_Jumaev\\AppData\\Roaming\\Python\\Python310\\site-packages\\scorecardpy\\woebin.py:1059: SettingWithCopyWarning: \n",
      "A value is trying to be set on a copy of a slice from a DataFrame.\n",
      "Try using .loc[row_indexer,col_indexer] = value instead\n",
      "\n",
      "See the caveats in the documentation: https://pandas.pydata.org/pandas-docs/stable/user_guide/indexing.html#returning-a-view-versus-a-copy\n",
      "  dtx.loc[:,x_i] = dtx.loc[:,x_i].astype(str).replace('nan', 'missing')\n",
      "C:\\Users\\F_Jumaev\\AppData\\Roaming\\Python\\Python310\\site-packages\\scorecardpy\\woebin.py:1059: SettingWithCopyWarning: \n",
      "A value is trying to be set on a copy of a slice from a DataFrame.\n",
      "Try using .loc[row_indexer,col_indexer] = value instead\n",
      "\n",
      "See the caveats in the documentation: https://pandas.pydata.org/pandas-docs/stable/user_guide/indexing.html#returning-a-view-versus-a-copy\n",
      "  dtx.loc[:,x_i] = dtx.loc[:,x_i].astype(str).replace('nan', 'missing')\n",
      "C:\\Users\\F_Jumaev\\AppData\\Roaming\\Python\\Python310\\site-packages\\scorecardpy\\woebin.py:1059: SettingWithCopyWarning: \n",
      "A value is trying to be set on a copy of a slice from a DataFrame.\n",
      "Try using .loc[row_indexer,col_indexer] = value instead\n",
      "\n",
      "See the caveats in the documentation: https://pandas.pydata.org/pandas-docs/stable/user_guide/indexing.html#returning-a-view-versus-a-copy\n",
      "  dtx.loc[:,x_i] = dtx.loc[:,x_i].astype(str).replace('nan', 'missing')\n",
      "C:\\Users\\F_Jumaev\\AppData\\Roaming\\Python\\Python310\\site-packages\\scorecardpy\\woebin.py:1059: SettingWithCopyWarning: \n",
      "A value is trying to be set on a copy of a slice from a DataFrame.\n",
      "Try using .loc[row_indexer,col_indexer] = value instead\n",
      "\n",
      "See the caveats in the documentation: https://pandas.pydata.org/pandas-docs/stable/user_guide/indexing.html#returning-a-view-versus-a-copy\n",
      "  dtx.loc[:,x_i] = dtx.loc[:,x_i].astype(str).replace('nan', 'missing')\n",
      "C:\\Users\\F_Jumaev\\AppData\\Roaming\\Python\\Python310\\site-packages\\scorecardpy\\woebin.py:1059: SettingWithCopyWarning: \n",
      "A value is trying to be set on a copy of a slice from a DataFrame.\n",
      "Try using .loc[row_indexer,col_indexer] = value instead\n",
      "\n",
      "See the caveats in the documentation: https://pandas.pydata.org/pandas-docs/stable/user_guide/indexing.html#returning-a-view-versus-a-copy\n",
      "  dtx.loc[:,x_i] = dtx.loc[:,x_i].astype(str).replace('nan', 'missing')\n",
      "C:\\Users\\F_Jumaev\\AppData\\Roaming\\Python\\Python310\\site-packages\\scorecardpy\\woebin.py:1059: SettingWithCopyWarning: \n",
      "A value is trying to be set on a copy of a slice from a DataFrame.\n",
      "Try using .loc[row_indexer,col_indexer] = value instead\n",
      "\n",
      "See the caveats in the documentation: https://pandas.pydata.org/pandas-docs/stable/user_guide/indexing.html#returning-a-view-versus-a-copy\n",
      "  dtx.loc[:,x_i] = dtx.loc[:,x_i].astype(str).replace('nan', 'missing')\n",
      "C:\\Users\\F_Jumaev\\AppData\\Roaming\\Python\\Python310\\site-packages\\scorecardpy\\woebin.py:1059: SettingWithCopyWarning: \n",
      "A value is trying to be set on a copy of a slice from a DataFrame.\n",
      "Try using .loc[row_indexer,col_indexer] = value instead\n",
      "\n",
      "See the caveats in the documentation: https://pandas.pydata.org/pandas-docs/stable/user_guide/indexing.html#returning-a-view-versus-a-copy\n",
      "  dtx.loc[:,x_i] = dtx.loc[:,x_i].astype(str).replace('nan', 'missing')\n",
      "C:\\Users\\F_Jumaev\\AppData\\Roaming\\Python\\Python310\\site-packages\\scorecardpy\\woebin.py:1059: SettingWithCopyWarning: \n",
      "A value is trying to be set on a copy of a slice from a DataFrame.\n",
      "Try using .loc[row_indexer,col_indexer] = value instead\n",
      "\n",
      "See the caveats in the documentation: https://pandas.pydata.org/pandas-docs/stable/user_guide/indexing.html#returning-a-view-versus-a-copy\n",
      "  dtx.loc[:,x_i] = dtx.loc[:,x_i].astype(str).replace('nan', 'missing')\n",
      "C:\\Users\\F_Jumaev\\AppData\\Roaming\\Python\\Python310\\site-packages\\scorecardpy\\woebin.py:1059: SettingWithCopyWarning: \n",
      "A value is trying to be set on a copy of a slice from a DataFrame.\n",
      "Try using .loc[row_indexer,col_indexer] = value instead\n",
      "\n",
      "See the caveats in the documentation: https://pandas.pydata.org/pandas-docs/stable/user_guide/indexing.html#returning-a-view-versus-a-copy\n",
      "  dtx.loc[:,x_i] = dtx.loc[:,x_i].astype(str).replace('nan', 'missing')\n",
      "C:\\Users\\F_Jumaev\\AppData\\Roaming\\Python\\Python310\\site-packages\\scorecardpy\\woebin.py:1059: SettingWithCopyWarning: \n",
      "A value is trying to be set on a copy of a slice from a DataFrame.\n",
      "Try using .loc[row_indexer,col_indexer] = value instead\n",
      "\n",
      "See the caveats in the documentation: https://pandas.pydata.org/pandas-docs/stable/user_guide/indexing.html#returning-a-view-versus-a-copy\n",
      "  dtx.loc[:,x_i] = dtx.loc[:,x_i].astype(str).replace('nan', 'missing')\n",
      "C:\\Users\\F_Jumaev\\AppData\\Roaming\\Python\\Python310\\site-packages\\scorecardpy\\woebin.py:1059: SettingWithCopyWarning: \n",
      "A value is trying to be set on a copy of a slice from a DataFrame.\n",
      "Try using .loc[row_indexer,col_indexer] = value instead\n",
      "\n",
      "See the caveats in the documentation: https://pandas.pydata.org/pandas-docs/stable/user_guide/indexing.html#returning-a-view-versus-a-copy\n",
      "  dtx.loc[:,x_i] = dtx.loc[:,x_i].astype(str).replace('nan', 'missing')\n"
     ]
    },
    {
     "name": "stdout",
     "output_type": "stream",
     "text": [
      "[INFO] converting into woe values ...\n"
     ]
    },
    {
     "name": "stderr",
     "output_type": "stream",
     "text": [
      "C:\\Users\\F_Jumaev\\AppData\\Roaming\\Python\\Python310\\site-packages\\scorecardpy\\woebin.py:1059: SettingWithCopyWarning: \n",
      "A value is trying to be set on a copy of a slice from a DataFrame.\n",
      "Try using .loc[row_indexer,col_indexer] = value instead\n",
      "\n",
      "See the caveats in the documentation: https://pandas.pydata.org/pandas-docs/stable/user_guide/indexing.html#returning-a-view-versus-a-copy\n",
      "  dtx.loc[:,x_i] = dtx.loc[:,x_i].astype(str).replace('nan', 'missing')\n",
      "C:\\Users\\F_Jumaev\\AppData\\Roaming\\Python\\Python310\\site-packages\\scorecardpy\\woebin.py:1059: SettingWithCopyWarning: \n",
      "A value is trying to be set on a copy of a slice from a DataFrame.\n",
      "Try using .loc[row_indexer,col_indexer] = value instead\n",
      "\n",
      "See the caveats in the documentation: https://pandas.pydata.org/pandas-docs/stable/user_guide/indexing.html#returning-a-view-versus-a-copy\n",
      "  dtx.loc[:,x_i] = dtx.loc[:,x_i].astype(str).replace('nan', 'missing')\n",
      "C:\\Users\\F_Jumaev\\AppData\\Roaming\\Python\\Python310\\site-packages\\scorecardpy\\woebin.py:1059: SettingWithCopyWarning: \n",
      "A value is trying to be set on a copy of a slice from a DataFrame.\n",
      "Try using .loc[row_indexer,col_indexer] = value instead\n",
      "\n",
      "See the caveats in the documentation: https://pandas.pydata.org/pandas-docs/stable/user_guide/indexing.html#returning-a-view-versus-a-copy\n",
      "  dtx.loc[:,x_i] = dtx.loc[:,x_i].astype(str).replace('nan', 'missing')\n",
      "C:\\Users\\F_Jumaev\\AppData\\Roaming\\Python\\Python310\\site-packages\\scorecardpy\\woebin.py:1059: SettingWithCopyWarning: \n",
      "A value is trying to be set on a copy of a slice from a DataFrame.\n",
      "Try using .loc[row_indexer,col_indexer] = value instead\n",
      "\n",
      "See the caveats in the documentation: https://pandas.pydata.org/pandas-docs/stable/user_guide/indexing.html#returning-a-view-versus-a-copy\n",
      "  dtx.loc[:,x_i] = dtx.loc[:,x_i].astype(str).replace('nan', 'missing')\n",
      "C:\\Users\\F_Jumaev\\AppData\\Roaming\\Python\\Python310\\site-packages\\scorecardpy\\woebin.py:1059: SettingWithCopyWarning: \n",
      "A value is trying to be set on a copy of a slice from a DataFrame.\n",
      "Try using .loc[row_indexer,col_indexer] = value instead\n",
      "\n",
      "See the caveats in the documentation: https://pandas.pydata.org/pandas-docs/stable/user_guide/indexing.html#returning-a-view-versus-a-copy\n",
      "  dtx.loc[:,x_i] = dtx.loc[:,x_i].astype(str).replace('nan', 'missing')\n",
      "C:\\Users\\F_Jumaev\\AppData\\Roaming\\Python\\Python310\\site-packages\\scorecardpy\\woebin.py:1059: SettingWithCopyWarning: \n",
      "A value is trying to be set on a copy of a slice from a DataFrame.\n",
      "Try using .loc[row_indexer,col_indexer] = value instead\n",
      "\n",
      "See the caveats in the documentation: https://pandas.pydata.org/pandas-docs/stable/user_guide/indexing.html#returning-a-view-versus-a-copy\n",
      "  dtx.loc[:,x_i] = dtx.loc[:,x_i].astype(str).replace('nan', 'missing')\n",
      "C:\\Users\\F_Jumaev\\AppData\\Roaming\\Python\\Python310\\site-packages\\scorecardpy\\woebin.py:1059: SettingWithCopyWarning: \n",
      "A value is trying to be set on a copy of a slice from a DataFrame.\n",
      "Try using .loc[row_indexer,col_indexer] = value instead\n",
      "\n",
      "See the caveats in the documentation: https://pandas.pydata.org/pandas-docs/stable/user_guide/indexing.html#returning-a-view-versus-a-copy\n",
      "  dtx.loc[:,x_i] = dtx.loc[:,x_i].astype(str).replace('nan', 'missing')\n",
      "C:\\Users\\F_Jumaev\\AppData\\Roaming\\Python\\Python310\\site-packages\\scorecardpy\\woebin.py:1059: SettingWithCopyWarning: \n",
      "A value is trying to be set on a copy of a slice from a DataFrame.\n",
      "Try using .loc[row_indexer,col_indexer] = value instead\n",
      "\n",
      "See the caveats in the documentation: https://pandas.pydata.org/pandas-docs/stable/user_guide/indexing.html#returning-a-view-versus-a-copy\n",
      "  dtx.loc[:,x_i] = dtx.loc[:,x_i].astype(str).replace('nan', 'missing')\n",
      "C:\\Users\\F_Jumaev\\AppData\\Roaming\\Python\\Python310\\site-packages\\scorecardpy\\woebin.py:1059: SettingWithCopyWarning: \n",
      "A value is trying to be set on a copy of a slice from a DataFrame.\n",
      "Try using .loc[row_indexer,col_indexer] = value instead\n",
      "\n",
      "See the caveats in the documentation: https://pandas.pydata.org/pandas-docs/stable/user_guide/indexing.html#returning-a-view-versus-a-copy\n",
      "  dtx.loc[:,x_i] = dtx.loc[:,x_i].astype(str).replace('nan', 'missing')\n",
      "C:\\Users\\F_Jumaev\\AppData\\Roaming\\Python\\Python310\\site-packages\\scorecardpy\\woebin.py:1059: SettingWithCopyWarning: \n",
      "A value is trying to be set on a copy of a slice from a DataFrame.\n",
      "Try using .loc[row_indexer,col_indexer] = value instead\n",
      "\n",
      "See the caveats in the documentation: https://pandas.pydata.org/pandas-docs/stable/user_guide/indexing.html#returning-a-view-versus-a-copy\n",
      "  dtx.loc[:,x_i] = dtx.loc[:,x_i].astype(str).replace('nan', 'missing')\n",
      "C:\\Users\\F_Jumaev\\AppData\\Roaming\\Python\\Python310\\site-packages\\scorecardpy\\woebin.py:1059: SettingWithCopyWarning: \n",
      "A value is trying to be set on a copy of a slice from a DataFrame.\n",
      "Try using .loc[row_indexer,col_indexer] = value instead\n",
      "\n",
      "See the caveats in the documentation: https://pandas.pydata.org/pandas-docs/stable/user_guide/indexing.html#returning-a-view-versus-a-copy\n",
      "  dtx.loc[:,x_i] = dtx.loc[:,x_i].astype(str).replace('nan', 'missing')\n",
      "C:\\Users\\F_Jumaev\\AppData\\Roaming\\Python\\Python310\\site-packages\\scorecardpy\\woebin.py:1059: SettingWithCopyWarning: \n",
      "A value is trying to be set on a copy of a slice from a DataFrame.\n",
      "Try using .loc[row_indexer,col_indexer] = value instead\n",
      "\n",
      "See the caveats in the documentation: https://pandas.pydata.org/pandas-docs/stable/user_guide/indexing.html#returning-a-view-versus-a-copy\n",
      "  dtx.loc[:,x_i] = dtx.loc[:,x_i].astype(str).replace('nan', 'missing')\n"
     ]
    },
    {
     "name": "stdout",
     "output_type": "stream",
     "text": [
      "Woe transformating on 51547 rows and 27 columns in 00:00:10\n"
     ]
    }
   ],
   "source": [
    "# -------------- Шаг 10: Применение WOE кодирования к всем выборкам --------------\n",
    "\n",
    "logging.info(\"Применение WOE кодирования к всем выборкам.\")\n",
    "dev_woe = sc.woebin_ply(dev, bins_final5_M1_Employee)\n",
    "oot_woe = sc.woebin_ply(oot, bins_final5_M1_Employee)\n",
    "oot2_woe = sc.woebin_ply(oot2, bins_final5_M1_Employee)\n",
    "\n",
    "train_woe = sc.woebin_ply(train, bins_final5_M1_Employee)\n",
    "test_woe = sc.woebin_ply(test, bins_final5_M1_Employee)\n",
    "\n",
    "# Для финального полного обучающего семпла\n",
    "dev_final_woe = sc.woebin_ply(dev_final_sel, bins_final5_M1_Employee)\n",
    "\n",
    "# Для всего семпла\n",
    "sample_woe = sc.woebin_ply(sample, bins_final5_M1_Employee)"
   ]
  },
  {
   "cell_type": "code",
   "execution_count": 47,
   "id": "a20d1337",
   "metadata": {},
   "outputs": [
    {
     "name": "stderr",
     "output_type": "stream",
     "text": [
      "2024-12-06 15:20:21,454 - INFO - Расчет Information Value для WOE-переменных.\n"
     ]
    },
    {
     "name": "stdout",
     "output_type": "stream",
     "text": [
      "Структура iv_values_final_woe:\n",
      "Index(['variable', 'info_value'], dtype='object')\n",
      "\n",
      "Первые 5 строк iv_values_final_woe:\n",
      "                  variable  info_value\n",
      "24       months_at_job_woe    0.407732\n",
      "2     months_with_bank_woe    0.381764\n",
      "21                 age_woe    0.356403\n",
      "6   employment_segment_woe    0.346704\n",
      "22      marital_status_woe    0.274859\n"
     ]
    }
   ],
   "source": [
    "# -------------- Шаг 11: Расчет Information Value для WOE-переменных --------------\n",
    "\n",
    "logging.info(\"Расчет Information Value для WOE-переменных.\")\n",
    "iv_values_final_woe = sc.iv(dt=dev_final_woe, y='gb')\n",
    "\n",
    "# Просмотр структуры и первых строк IV для WOE-переменных\n",
    "print(\"Структура iv_values_final_woe:\")\n",
    "print(iv_values_final_woe.columns)\n",
    "\n",
    "print(\"\\nПервые 5 строк iv_values_final_woe:\")\n",
    "print(iv_values_final_woe.head())\n",
    "\n",
    "# Сохранение IV значений\n",
    "iv_values_final_woe.to_excel(\"M1_Employee_iv_values_woe_5.xlsx\", index=False)"
   ]
  },
  {
   "cell_type": "code",
   "execution_count": 48,
   "id": "4d3c9770",
   "metadata": {},
   "outputs": [
    {
     "name": "stderr",
     "output_type": "stream",
     "text": [
      "2024-12-06 15:20:24,758 - INFO - Расчет корреляционной матрицы.\n"
     ]
    },
    {
     "ename": "KeyError",
     "evalue": "\"None of [Index(['additional_income', 'loan_amount', 'reported_expenses',\\n       'net_main_income', 'months_at_job', 'deposit', 'bki_number_of_loans',\\n       'months_with_bank', 'age', 'employment_segment', 'marital_status',\\n       'months_at_current_address', 'client_type_', 'bki_rating',\\n       'customer_id', 'salary_payment_in_bank_account', 'region_of_living',\\n       'dependants', 'region_of_registration', 'education', 'eskhata_online',\\n       'gender', 'property_object', 'city_of_living_eq_registration',\\n       'source_of_main_income', 'plastic_cards', 'previous_loans_count'],\\n      dtype='object')] are in the [columns]\"",
     "output_type": "error",
     "traceback": [
      "\u001b[1;31m---------------------------------------------------------------------------\u001b[0m",
      "\u001b[1;31mKeyError\u001b[0m                                  Traceback (most recent call last)",
      "Cell \u001b[1;32mIn[48], line 4\u001b[0m\n\u001b[0;32m      1\u001b[0m \u001b[38;5;66;03m# -------------- Шаг 12: Проверка корреляции между признаками --------------\u001b[39;00m\n\u001b[0;32m      3\u001b[0m logging\u001b[38;5;241m.\u001b[39minfo(\u001b[38;5;124m\"\u001b[39m\u001b[38;5;124mРасчет корреляционной матрицы.\u001b[39m\u001b[38;5;124m\"\u001b[39m)\n\u001b[1;32m----> 4\u001b[0m cor_matrix \u001b[38;5;241m=\u001b[39m \u001b[43mdev_final_woe\u001b[49m\u001b[43m[\u001b[49m\u001b[43mselected_vars_final\u001b[49m\u001b[43m]\u001b[49m\u001b[38;5;241m.\u001b[39mcorr()\n\u001b[0;32m      6\u001b[0m \u001b[38;5;66;03m# Сохранение корреляционной матрицы в Excel\u001b[39;00m\n\u001b[0;32m      7\u001b[0m cor_matrix\u001b[38;5;241m.\u001b[39mto_excel(\u001b[38;5;124m\"\u001b[39m\u001b[38;5;124mM1_Employee_corrM.xlsx\u001b[39m\u001b[38;5;124m\"\u001b[39m)\n",
      "File \u001b[1;32mC:\\ProgramData\\anaconda3\\lib\\site-packages\\pandas\\core\\frame.py:3813\u001b[0m, in \u001b[0;36mDataFrame.__getitem__\u001b[1;34m(self, key)\u001b[0m\n\u001b[0;32m   3811\u001b[0m     \u001b[38;5;28;01mif\u001b[39;00m is_iterator(key):\n\u001b[0;32m   3812\u001b[0m         key \u001b[38;5;241m=\u001b[39m \u001b[38;5;28mlist\u001b[39m(key)\n\u001b[1;32m-> 3813\u001b[0m     indexer \u001b[38;5;241m=\u001b[39m \u001b[38;5;28;43mself\u001b[39;49m\u001b[38;5;241;43m.\u001b[39;49m\u001b[43mcolumns\u001b[49m\u001b[38;5;241;43m.\u001b[39;49m\u001b[43m_get_indexer_strict\u001b[49m\u001b[43m(\u001b[49m\u001b[43mkey\u001b[49m\u001b[43m,\u001b[49m\u001b[43m \u001b[49m\u001b[38;5;124;43m\"\u001b[39;49m\u001b[38;5;124;43mcolumns\u001b[39;49m\u001b[38;5;124;43m\"\u001b[39;49m\u001b[43m)\u001b[49m[\u001b[38;5;241m1\u001b[39m]\n\u001b[0;32m   3815\u001b[0m \u001b[38;5;66;03m# take() does not accept boolean indexers\u001b[39;00m\n\u001b[0;32m   3816\u001b[0m \u001b[38;5;28;01mif\u001b[39;00m \u001b[38;5;28mgetattr\u001b[39m(indexer, \u001b[38;5;124m\"\u001b[39m\u001b[38;5;124mdtype\u001b[39m\u001b[38;5;124m\"\u001b[39m, \u001b[38;5;28;01mNone\u001b[39;00m) \u001b[38;5;241m==\u001b[39m \u001b[38;5;28mbool\u001b[39m:\n",
      "File \u001b[1;32mC:\\ProgramData\\anaconda3\\lib\\site-packages\\pandas\\core\\indexes\\base.py:6070\u001b[0m, in \u001b[0;36mIndex._get_indexer_strict\u001b[1;34m(self, key, axis_name)\u001b[0m\n\u001b[0;32m   6067\u001b[0m \u001b[38;5;28;01melse\u001b[39;00m:\n\u001b[0;32m   6068\u001b[0m     keyarr, indexer, new_indexer \u001b[38;5;241m=\u001b[39m \u001b[38;5;28mself\u001b[39m\u001b[38;5;241m.\u001b[39m_reindex_non_unique(keyarr)\n\u001b[1;32m-> 6070\u001b[0m \u001b[38;5;28;43mself\u001b[39;49m\u001b[38;5;241;43m.\u001b[39;49m\u001b[43m_raise_if_missing\u001b[49m\u001b[43m(\u001b[49m\u001b[43mkeyarr\u001b[49m\u001b[43m,\u001b[49m\u001b[43m \u001b[49m\u001b[43mindexer\u001b[49m\u001b[43m,\u001b[49m\u001b[43m \u001b[49m\u001b[43maxis_name\u001b[49m\u001b[43m)\u001b[49m\n\u001b[0;32m   6072\u001b[0m keyarr \u001b[38;5;241m=\u001b[39m \u001b[38;5;28mself\u001b[39m\u001b[38;5;241m.\u001b[39mtake(indexer)\n\u001b[0;32m   6073\u001b[0m \u001b[38;5;28;01mif\u001b[39;00m \u001b[38;5;28misinstance\u001b[39m(key, Index):\n\u001b[0;32m   6074\u001b[0m     \u001b[38;5;66;03m# GH 42790 - Preserve name from an Index\u001b[39;00m\n",
      "File \u001b[1;32mC:\\ProgramData\\anaconda3\\lib\\site-packages\\pandas\\core\\indexes\\base.py:6130\u001b[0m, in \u001b[0;36mIndex._raise_if_missing\u001b[1;34m(self, key, indexer, axis_name)\u001b[0m\n\u001b[0;32m   6128\u001b[0m     \u001b[38;5;28;01mif\u001b[39;00m use_interval_msg:\n\u001b[0;32m   6129\u001b[0m         key \u001b[38;5;241m=\u001b[39m \u001b[38;5;28mlist\u001b[39m(key)\n\u001b[1;32m-> 6130\u001b[0m     \u001b[38;5;28;01mraise\u001b[39;00m \u001b[38;5;167;01mKeyError\u001b[39;00m(\u001b[38;5;124mf\u001b[39m\u001b[38;5;124m\"\u001b[39m\u001b[38;5;124mNone of [\u001b[39m\u001b[38;5;132;01m{\u001b[39;00mkey\u001b[38;5;132;01m}\u001b[39;00m\u001b[38;5;124m] are in the [\u001b[39m\u001b[38;5;132;01m{\u001b[39;00maxis_name\u001b[38;5;132;01m}\u001b[39;00m\u001b[38;5;124m]\u001b[39m\u001b[38;5;124m\"\u001b[39m)\n\u001b[0;32m   6132\u001b[0m not_found \u001b[38;5;241m=\u001b[39m \u001b[38;5;28mlist\u001b[39m(ensure_index(key)[missing_mask\u001b[38;5;241m.\u001b[39mnonzero()[\u001b[38;5;241m0\u001b[39m]]\u001b[38;5;241m.\u001b[39munique())\n\u001b[0;32m   6133\u001b[0m \u001b[38;5;28;01mraise\u001b[39;00m \u001b[38;5;167;01mKeyError\u001b[39;00m(\u001b[38;5;124mf\u001b[39m\u001b[38;5;124m\"\u001b[39m\u001b[38;5;132;01m{\u001b[39;00mnot_found\u001b[38;5;132;01m}\u001b[39;00m\u001b[38;5;124m not in index\u001b[39m\u001b[38;5;124m\"\u001b[39m)\n",
      "\u001b[1;31mKeyError\u001b[0m: \"None of [Index(['additional_income', 'loan_amount', 'reported_expenses',\\n       'net_main_income', 'months_at_job', 'deposit', 'bki_number_of_loans',\\n       'months_with_bank', 'age', 'employment_segment', 'marital_status',\\n       'months_at_current_address', 'client_type_', 'bki_rating',\\n       'customer_id', 'salary_payment_in_bank_account', 'region_of_living',\\n       'dependants', 'region_of_registration', 'education', 'eskhata_online',\\n       'gender', 'property_object', 'city_of_living_eq_registration',\\n       'source_of_main_income', 'plastic_cards', 'previous_loans_count'],\\n      dtype='object')] are in the [columns]\""
     ]
    }
   ],
   "source": [
    "# -------------- Шаг 12: Проверка корреляции между признаками --------------\n",
    "\n",
    "logging.info(\"Расчет корреляционной матрицы.\")\n",
    "cor_matrix = dev_final_woe[selected_vars_final].corr()\n",
    "\n",
    "# Сохранение корреляционной матрицы в Excel\n",
    "cor_matrix.to_excel(\"M1_Employee_corrM.xlsx\")\n",
    "\n",
    "# Визуализация корреляционной матрицы\n",
    "logging.info(\"Визуализация корреляционной матрицы.\")\n",
    "plt.figure(figsize=(12, 10))\n",
    "sns.heatmap(cor_matrix, annot=True, fmt=\".2f\", cmap='coolwarm')\n",
    "plt.title('Корреляционная матрица')\n",
    "plt.show()\n"
   ]
  },
  {
   "cell_type": "code",
   "execution_count": null,
   "id": "4843edb0",
   "metadata": {},
   "outputs": [],
   "source": [
    "\n",
    "# -------------- Шаг 13: Пошаговый отбор переменных (Stepwise Selection) --------------\n",
    "\n",
    "# Функция для пошагового отбора переменных на основе p-значений\n",
    "def stepwise_selection(X, y, \n",
    "                       initial_list=[], \n",
    "                       threshold_in=0.05, \n",
    "                       threshold_out=0.05, \n",
    "                       verbose=True):\n",
    "    \"\"\"Пошаговый отбор переменных на основе p-значений.\"\"\"\n",
    "    included = list(initial_list)\n",
    "    while True:\n",
    "        changed=False\n",
    "        # Добавление переменной\n",
    "        excluded = list(set(X.columns) - set(included))\n",
    "        new_pval = pd.Series(index=excluded, dtype=float)\n",
    "        for new_column in excluded:\n",
    "            try:\n",
    "                model = sm.Logit(y, sm.add_constant(pd.DataFrame(X[included + [new_column]]))).fit(disp=0)\n",
    "                new_pval[new_column] = model.pvalues[new_column]\n",
    "            except:\n",
    "                new_pval[new_column] = 1\n",
    "        if not new_pval.empty:\n",
    "            best_pval = new_pval.min()\n",
    "            if best_pval < threshold_in:\n",
    "                best_feature = new_pval.idxmin()\n",
    "                included.append(best_feature)\n",
    "                changed=True\n",
    "                if verbose:\n",
    "                    print(f'Добавлена переменная {best_feature} с p-value {best_pval}')\n",
    "        # Удаление переменной\n",
    "        if len(included) > 0:\n",
    "            model = sm.Logit(y, sm.add_constant(pd.DataFrame(X[included]))).fit(disp=0)\n",
    "            pvalues = model.pvalues.drop('const')\n",
    "            worst_pval = pvalues.max()\n",
    "            if worst_pval > threshold_out:\n",
    "                changed=True\n",
    "                worst_feature = pvalues.idxmax()\n",
    "                included.remove(worst_feature)\n",
    "                if verbose:\n",
    "                    print(f'Удалена переменная {worst_feature} с p-value {worst_pval}')\n",
    "        if not changed:\n",
    "            break\n",
    "    return included\n"
   ]
  },
  {
   "cell_type": "code",
   "execution_count": null,
   "id": "976e3943",
   "metadata": {},
   "outputs": [],
   "source": [
    "# Разделение данных на признаки и целевую переменную\n",
    "logging.info(\"Разделение данных на признаки и целевую переменную.\")\n",
    "X_train = train_woe.drop(['gb'], axis=1)\n",
    "y_train = train_woe['gb']\n",
    "\n",
    "# Пошаговый отбор переменных на основе p-значений\n",
    "logging.info(\"Пошаговый отбор переменных на основе p-значений.\")\n",
    "selected_features_stepwise = stepwise_selection(X_train, y_train)\n",
    "\n",
    "logging.info(f\"Отобранные переменные после пошагового отбора: {selected_features_stepwise}\")"
   ]
  },
  {
   "cell_type": "code",
   "execution_count": null,
   "id": "38d39752",
   "metadata": {},
   "outputs": [],
   "source": [
    "# -------------- Шаг 14: Обучение модели с отобранными переменными --------------\n",
    "\n",
    "logging.info(\"Обучение модели с отобранными переменными.\")\n",
    "X_train_selected = X_train[selected_features_stepwise]\n",
    "model_selected = LogisticRegression(max_iter=1000)\n",
    "model_selected.fit(X_train_selected, y_train)"
   ]
  },
  {
   "cell_type": "code",
   "execution_count": null,
   "id": "11ec8564",
   "metadata": {},
   "outputs": [],
   "source": [
    "# Вывод коэффициентов модели\n",
    "logging.info(\"Коэффициенты модели с отобранными переменными:\")\n",
    "coefficients_selected = pd.DataFrame({\n",
    "    'Variable': selected_features_stepwise,\n",
    "    'Coefficient': model_selected.coef_[0]\n",
    "})\n",
    "print(coefficients_selected)"
   ]
  },
  {
   "cell_type": "code",
   "execution_count": null,
   "id": "189b3d1e",
   "metadata": {},
   "outputs": [],
   "source": [
    "# -------------- Шаг 15: Подготовка данных для предсказания --------------\n",
    "\n",
    "# Обучение и сохранение scaler и imputer\n",
    "logging.info(\"Обучение SimpleImputer и StandardScaler.\")\n",
    "# Обучение импьютера на тренировочных данных\n",
    "imputer = SimpleImputer(strategy='mean')\n",
    "imputer.fit(X_train_selected)\n",
    "\n",
    "# Обучение скейлера на импутиванных данных\n",
    "X_train_imputed = imputer.transform(X_train_selected)\n",
    "scaler = StandardScaler()\n",
    "scaler.fit(X_train_imputed)\n",
    "\n",
    "# Сохранение scaler и imputer\n",
    "logging.info(\"Сохранение scaler и imputer на диск.\")\n",
    "joblib.dump(scaler, 'scaler.joblib')\n",
    "joblib.dump(imputer, 'imputer.joblib')"
   ]
  },
  {
   "cell_type": "code",
   "execution_count": null,
   "id": "f0718c88",
   "metadata": {},
   "outputs": [],
   "source": [
    "# Загрузка scaler и imputer (если необходимо)\n",
    "# scaler = joblib.load('scaler.joblib')\n",
    "# imputer = joblib.load('imputer.joblib')\n",
    "\n",
    "# Функция для подготовки данных перед предсказанием\n",
    "def prepare_data(df, bins, selected_features, scaler, imputer):\n",
    "    \"\"\"\n",
    "    Применяет WOE кодирование, обработку пропусков и масштабирование к данным.\n",
    "    \"\"\"\n",
    "    # Применение WOE кодирования\n",
    "    df_woe = sc.woebin_ply(df, bins)\n",
    "    \n",
    "    # Выбор отобранных признаков\n",
    "    X = df_woe[selected_features]\n",
    "    \n",
    "    # Обработка пропусков\n",
    "    X_imputed = imputer.transform(X)\n",
    "    \n",
    "    # Масштабирование\n",
    "    X_scaled = scaler.transform(X_imputed)\n",
    "    \n",
    "    return X_scaled"
   ]
  },
  {
   "cell_type": "code",
   "execution_count": null,
   "id": "c6731571",
   "metadata": {},
   "outputs": [],
   "source": [
    "# Применение функции подготовки данных к различным выборкам\n",
    "logging.info(\"Подготовка данных для предсказания на различных подвыборках.\")\n",
    "\n",
    "X_train_selected_scaled = prepare_data(train, bins_final5_M1_Employee, selected_features_stepwise, scaler, imputer)\n",
    "y_train_selected = train['gb']\n",
    "\n",
    "X_test_selected_scaled = prepare_data(test, bins_final5_M1_Employee, selected_features_stepwise, scaler, imputer)\n",
    "y_test_selected = test['gb']\n",
    "\n",
    "X_oot_selected_scaled = prepare_data(oot, bins_final5_M1_Employee, selected_features_stepwise, scaler, imputer)\n",
    "y_oot_selected = oot['gb']\n",
    "\n",
    "X_oot2_selected_scaled = prepare_data(oot2, bins_final5_M1_Employee, selected_features_stepwise, scaler, imputer)\n",
    "y_oot2_selected = oot2['gb']\n",
    "\n",
    "X_dev_final_selected_scaled = prepare_data(dev_final, bins_final5_M1_Employee, selected_features_stepwise, scaler, imputer)\n",
    "y_dev_final_selected = dev_final['gb']\n",
    "\n"
   ]
  },
  {
   "cell_type": "code",
   "execution_count": null,
   "id": "0d3c8c33",
   "metadata": {},
   "outputs": [],
   "source": [
    "# -------------- Шаг 16: Предсказания и оценка модели --------------\n",
    "\n",
    "# Функция для оценки модели\n",
    "def evaluate_model(y_true, y_pred, y_pred_proba, dataset_name):\n",
    "    \"\"\"\n",
    "    Выводит ROC-AUC, отчет по классификации и матрицу ошибок.\n",
    "    \"\"\"\n",
    "    auc = roc_auc_score(y_true, y_pred_proba)\n",
    "    logging.info(f\"ROC-AUC на {dataset_name} выборке: {auc:.4f}\")\n",
    "    print(f\"\\nОтчёт по классификации на {dataset_name} выборке:\")\n",
    "    print(classification_report(y_true, y_pred))\n",
    "    print(f\"Матрица ошибок на {dataset_name} выборке:\")\n",
    "    print(confusion_matrix(y_true, y_pred))\n",
    "    return auc\n"
   ]
  },
  {
   "cell_type": "code",
   "execution_count": null,
   "id": "6886b88e",
   "metadata": {},
   "outputs": [],
   "source": [
    "# Предсказания на различных подвыборках\n",
    "logging.info(\"Предсказания на тренировочной выборке.\")\n",
    "train_pred_proba = model_selected.predict_proba(X_train_selected_scaled)[:, 1]\n",
    "train_pred = model_selected.predict(X_train_selected_scaled)\n",
    "\n",
    "logging.info(\"Предсказания на тестовой выборке (out-of-sample).\")\n",
    "test_pred_proba = model_selected.predict_proba(X_test_selected_scaled)[:, 1]\n",
    "test_pred = model_selected.predict(X_test_selected_scaled)\n",
    "\n",
    "logging.info(\"Предсказания на out-of-time выборке.\")\n",
    "oot_pred_proba = model_selected.predict_proba(X_oot_selected_scaled)[:, 1]\n",
    "oot_pred = model_selected.predict(X_oot_selected_scaled)\n",
    "\n",
    "logging.info(\"Предсказания на out-of-time 2 выборке.\")\n",
    "oot2_pred_proba = model_selected.predict_proba(X_oot2_selected_scaled)[:, 1]\n",
    "oot2_pred = model_selected.predict(X_oot2_selected_scaled)\n",
    "\n",
    "logging.info(\"Предсказания на Development Final выборке.\")\n",
    "dev_final_pred_proba = model_selected.predict_proba(X_dev_final_selected_scaled)[:, 1]\n",
    "dev_final_pred = model_selected.predict(X_dev_final_selected_scaled)\n"
   ]
  },
  {
   "cell_type": "code",
   "execution_count": null,
   "id": "4a0835a2",
   "metadata": {},
   "outputs": [],
   "source": [
    "# Оценка модели на различных подвыборках\n",
    "auc_train = evaluate_model(y_train_selected, train_pred, train_pred_proba, \"тренировочной\")\n",
    "auc_test = evaluate_model(y_test_selected, test_pred, test_pred_proba, \"тестовой (out-of-sample)\")\n",
    "auc_oot = evaluate_model(y_oot_selected, oot_pred, oot_pred_proba, \"out-of-time\")\n",
    "auc_oot2 = evaluate_model(y_oot2_selected, oot2_pred, oot2_pred_proba, \"out-of-time 2\")\n",
    "auc_dev_final = evaluate_model(y_dev_final_selected, dev_final_pred, dev_final_pred_proba, \"Development Final\")\n"
   ]
  },
  {
   "cell_type": "code",
   "execution_count": null,
   "id": "99495374",
   "metadata": {},
   "outputs": [],
   "source": [
    "# -------------- Шаг 17: Визуализация ROC-кривых --------------\n",
    "\n",
    "# Функция для построения ROC-кривой\n",
    "from sklearn.metrics import roc_curve, auc\n",
    "\n",
    "def plot_roc(y_true, y_pred_proba, dataset_name):\n",
    "    \"\"\"\n",
    "    Построение ROC-кривой для заданной выборки.\n",
    "    \"\"\"\n",
    "    fpr, tpr, _ = roc_curve(y_true, y_pred_proba)\n",
    "    roc_auc = auc(fpr, tpr)\n",
    "    plt.plot(fpr, tpr, label=f'{dataset_name} (AUC = {roc_auc:.2f})')"
   ]
  },
  {
   "cell_type": "code",
   "execution_count": null,
   "id": "ec0035d5",
   "metadata": {},
   "outputs": [],
   "source": [
    "# Построение ROC-кривых\n",
    "plt.figure(figsize=(10, 8))\n",
    "plot_roc(y_train_selected, train_pred_proba, 'Тренировочная')\n",
    "plot_roc(y_test_selected, test_pred_proba, 'Тестовая (Out-of-sample)')\n",
    "plot_roc(y_oot_selected, oot_pred_proba, 'Out-of-time')\n",
    "plot_roc(y_oot2_selected, oot2_pred_proba, 'Out-of-time 2')\n",
    "plot_roc(y_dev_final_selected, dev_final_pred_proba, 'Development Final')\n",
    "\n",
    "plt.plot([0, 1], [0, 1], 'k--', label='Случайная модель (AUC = 0.50)')\n",
    "plt.xlim([0.0, 1.0])\n",
    "plt.ylim([0.0, 1.05])\n",
    "plt.xlabel('False Positive Rate (FPR)')\n",
    "plt.ylabel('True Positive Rate (TPR)')\n",
    "plt.title('ROC-кривые для различных выборок')\n",
    "plt.legend(loc='lower right')\n",
    "plt.grid(True)\n",
    "plt.show()"
   ]
  },
  {
   "cell_type": "code",
   "execution_count": null,
   "id": "45354d50",
   "metadata": {},
   "outputs": [],
   "source": [
    "# -------------- Шаг 18: Сохранение результатов оценки в Excel --------------\n",
    "\n",
    "# Создание DataFrame с ROC-AUC для различных выборок\n",
    "roc_auc_df = pd.DataFrame({\n",
    "    'Выборка': ['Тренировочная', 'Тестовая (Out-of-sample)', 'Out-of-time', 'Out-of-time 2', 'Development Final'],\n",
    "    'ROC-AUC': [auc_train, auc_test, auc_oot, auc_oot2, auc_dev_final]\n",
    "})\n",
    "\n",
    "# Сохранение ROC-AUC в Excel\n",
    "logging.info(\"Сохранение ROC-AUC результатов в Excel.\")\n",
    "roc_auc_df.to_excel(\"ROC_AUC_Results.xlsx\", index=False)\n"
   ]
  },
  {
   "cell_type": "code",
   "execution_count": null,
   "id": "b76e497d",
   "metadata": {},
   "outputs": [],
   "source": [
    "# Создание DataFrame с матрицами ошибок\n",
    "confusion_matrices = {\n",
    "    'Тренировочная': confusion_matrix(y_train_selected, train_pred),\n",
    "    'Тестовая (Out-of-sample)': confusion_matrix(y_test_selected, test_pred),\n",
    "    'Out-of-time': confusion_matrix(y_oot_selected, oot_pred),\n",
    "    'Out-of-time 2': confusion_matrix(y_oot2_selected, oot2_pred),\n",
    "    'Development Final': confusion_matrix(y_dev_final_selected, dev_final_pred)\n",
    "}"
   ]
  },
  {
   "cell_type": "code",
   "execution_count": null,
   "id": "505c4a55",
   "metadata": {},
   "outputs": [],
   "source": [
    "# Сохранение матриц ошибок в Excel\n",
    "logging.info(\"Сохранение матриц ошибок в Excel.\")\n",
    "with pd.ExcelWriter('Confusion_Matrices.xlsx') as writer:\n",
    "    for dataset, cm in confusion_matrices.items():\n",
    "        cm_df = pd.DataFrame(cm, index=['Негативный', 'Позитивный'], columns=['Негативный', 'Позитивный'])\n",
    "        cm_df.to_excel(writer, sheet_name=dataset[:31])  # Ограничение на длину имени листа в Excel\n",
    "\n",
    "logging.info(\"Сохранение результатов оценки модели завершено.\")\n"
   ]
  },
  {
   "cell_type": "code",
   "execution_count": null,
   "id": "cbba1106",
   "metadata": {
    "scrolled": true
   },
   "outputs": [],
   "source": [
    "# -------------- Шаг 19: Сохранение модели и трансформеров --------------\n",
    "\n",
    "logging.info(\"Сохранение модели и трансформеров на диск.\")\n",
    "joblib.dump(model_selected, 'logistic_regression_model_selected.joblib')\n",
    "joblib.dump(scaler, 'scaler.joblib')\n",
    "joblib.dump(imputer, 'imputer.joblib')\n",
    "sc.woebin_save(bins_final5_M1_Employee, \"M1_Employee_bins5.json\")\n"
   ]
  },
  {
   "cell_type": "code",
   "execution_count": null,
   "id": "8ab22384",
   "metadata": {},
   "outputs": [],
   "source": []
  },
  {
   "cell_type": "markdown",
   "id": "500a0973",
   "metadata": {},
   "source": [
    "# Анализ важности признаков"
   ]
  },
  {
   "cell_type": "code",
   "execution_count": null,
   "id": "8254e8e5",
   "metadata": {},
   "outputs": [],
   "source": [
    "# Визуализация коэффициентов модели\n",
    "coefficients_selected = coefficients_selected.sort_values(by='Coefficient', ascending=False)\n",
    "plt.figure(figsize=(10, 8))\n",
    "sns.barplot(x='Coefficient', y='Variable', data=coefficients_selected)\n",
    "plt.title('Важность признаков по коэффициентам логистической регрессии')\n",
    "plt.xlabel('Коэффициент')\n",
    "plt.ylabel('Признак')\n",
    "plt.tight_layout()\n",
    "plt.show()\n"
   ]
  },
  {
   "cell_type": "markdown",
   "id": "4df604e0",
   "metadata": {},
   "source": [
    "# Калибровка модели"
   ]
  },
  {
   "cell_type": "code",
   "execution_count": null,
   "id": "9aa284ac",
   "metadata": {},
   "outputs": [],
   "source": [
    "from sklearn.calibration import CalibratedClassifierCV, calibration_curve\n",
    "\n",
    "# Обучение калиброванной модели\n",
    "logging.info(\"Обучение калиброванной модели.\")\n",
    "calibrated_model = CalibratedClassifierCV(base_estimator=model_selected, method='sigmoid', cv='prefit')\n",
    "calibrated_model.fit(X_train_selected_scaled, y_train_selected)\n",
    "\n",
    "# Предсказания калиброванной модели на тестовой выборке\n",
    "calibrated_test_pred_proba = calibrated_model.predict_proba(X_test_selected_scaled)[:, 1]\n",
    "\n",
    "# Оценка калиброванной модели\n",
    "auc_calibrated_test = roc_auc_score(y_test_selected, calibrated_test_pred_proba)\n",
    "logging.info(f\"ROC-AUC на тестовой выборке после калибровки: {auc_calibrated_test:.4f}\")\n",
    "\n",
    "# Визуализация ROC-кривой для калиброванной модели\n",
    "fpr, tpr, _ = roc_curve(y_test_selected, calibrated_test_pred_proba)\n",
    "roc_auc = auc(fpr, tpr)\n",
    "\n",
    "plt.figure(figsize=(8, 6))\n",
    "plt.plot(fpr, tpr, label=f'Калиброванная модель (AUC = {roc_auc:.2f})')\n",
    "plt.plot([0, 1], [0, 1], 'k--', label='Случайная модель (AUC = 0.50)')\n",
    "plt.xlim([0.0, 1.0])\n",
    "plt.ylim([0.0, 1.05])\n",
    "plt.xlabel('False Positive Rate (FPR)')\n",
    "plt.ylabel('True Positive Rate (TPR)')\n",
    "plt.title('ROC-кривая калиброванной модели')\n",
    "plt.legend(loc='lower right')\n",
    "plt.grid(True)\n",
    "plt.show()\n"
   ]
  },
  {
   "cell_type": "code",
   "execution_count": null,
   "id": "c8ddd0bb",
   "metadata": {},
   "outputs": [],
   "source": [
    "# Регуляризация модели"
   ]
  },
  {
   "cell_type": "code",
   "execution_count": null,
   "id": "b21ec060",
   "metadata": {},
   "outputs": [],
   "source": [
    "# Пример с регуляризацией L1 (Lasso)\n",
    "logging.info(\"Обучение модели с регуляризацией L1.\")\n",
    "model_l1 = LogisticRegression(penalty='l1', solver='liblinear', max_iter=1000)\n",
    "model_l1.fit(X_train_selected_scaled, y_train_selected)\n",
    "\n",
    "# Предсказания и оценка модели с L1 регуляризацией\n",
    "train_pred_proba_l1 = model_l1.predict_proba(X_train_selected_scaled)[:, 1]\n",
    "train_pred_l1 = model_l1.predict(X_train_selected_scaled)\n",
    "\n",
    "auc_train_l1 = evaluate_model(y_train_selected, train_pred_l1, train_pred_proba_l1, \"тренировочной (L1)\")\n"
   ]
  },
  {
   "cell_type": "code",
   "execution_count": null,
   "id": "5fec4113",
   "metadata": {},
   "outputs": [],
   "source": [
    "# Кросс-валидация"
   ]
  },
  {
   "cell_type": "code",
   "execution_count": null,
   "id": "7edd7a7b",
   "metadata": {},
   "outputs": [],
   "source": [
    "from sklearn.model_selection import cross_val_score\n",
    "\n",
    "# Кросс-валидация с 5 фолдами\n",
    "logging.info(\"Проведение кросс-валидации с 5 фолдами.\")\n",
    "cv_scores = cross_val_score(model_selected, X_train_selected_scaled, y_train_selected, cv=5, scoring='roc_auc')\n",
    "logging.info(f\"Средний ROC-AUC по кросс-валидации: {cv_scores.mean():.4f}\")\n",
    "logging.info(f\"Стандартное отклонение ROC-AUC по кросс-валидации: {cv_scores.std():.4f}\")\n"
   ]
  },
  {
   "cell_type": "code",
   "execution_count": null,
   "id": "c1a7ba69",
   "metadata": {},
   "outputs": [],
   "source": [
    "# Обработка новых данных"
   ]
  },
  {
   "cell_type": "code",
   "execution_count": null,
   "id": "ad69a350",
   "metadata": {},
   "outputs": [],
   "source": [
    "# Пример обработки новых данных\n",
    "new_data = pd.read_excel(\"New_Data.xlsx\")\n",
    "\n",
    "# Преобразование названий столбцов в snake_case (если необходимо)\n",
    "new_data.columns = [to_snake_case(col) for col in new_data.columns]\n",
    "\n",
    "# Применение WOE кодирования\n",
    "new_data_woe = sc.woebin_ply(new_data, bins_loaded)\n",
    "\n",
    "# Выбор отобранных признаков\n",
    "X_new = new_data_woe[selected_features_stepwise]\n",
    "\n",
    "# Преобразование категориальных признаков с помощью One-Hot Encoding\n",
    "X_new = pd.get_dummies(X_new, drop_first=True)\n",
    "\n",
    "# Убедиться, что все признаки присутствуют\n",
    "missing_cols_new = set(selected_features_stepwise) - set(X_new.columns)\n",
    "for c in missing_cols_new:\n",
    "    X_new[c] = 0\n",
    "X_new = X_new[selected_features_stepwise]\n",
    "\n",
    "# Обработка пропусков\n",
    "X_new_imputed = imputer_loaded.transform(X_new)\n",
    "\n",
    "# Масштабирование\n",
    "X_new_scaled = scaler_loaded.transform(X_new_imputed)\n",
    "\n",
    "# Предсказание вероятностей\n",
    "new_pred_proba = model_loaded.predict_proba(X_new_scaled)[:, 1]\n",
    "new_pred = model_loaded.predict(X_new_scaled)\n",
    "\n",
    "# Добавление предсказаний к данным\n",
    "new_data['Predicted_Prob'] = new_pred_proba\n",
    "new_data['Predicted_Class'] = new_pred\n",
    "\n",
    "# Сохранение результатов\n",
    "new_data.to_excel(\"New_Data_With_Predictions.xlsx\", index=False)\n"
   ]
  },
  {
   "cell_type": "code",
   "execution_count": null,
   "id": "9aacfddc",
   "metadata": {},
   "outputs": [],
   "source": []
  },
  {
   "cell_type": "code",
   "execution_count": null,
   "id": "ce86b667",
   "metadata": {},
   "outputs": [],
   "source": []
  }
 ],
 "metadata": {
  "kernelspec": {
   "display_name": "Python 3 (ipykernel)",
   "language": "python",
   "name": "python3"
  },
  "language_info": {
   "codemirror_mode": {
    "name": "ipython",
    "version": 3
   },
   "file_extension": ".py",
   "mimetype": "text/x-python",
   "name": "python",
   "nbconvert_exporter": "python",
   "pygments_lexer": "ipython3",
   "version": "3.10.9"
  }
 },
 "nbformat": 4,
 "nbformat_minor": 5
}
