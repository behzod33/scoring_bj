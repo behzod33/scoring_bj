{
 "cells": [
  {
   "cell_type": "markdown",
   "id": "69f2c29d",
   "metadata": {},
   "source": [
    "# DATA PROCESSING`"
   ]
  },
  {
   "cell_type": "markdown",
   "id": "b026b5b8",
   "metadata": {},
   "source": [
    "# Импорт необходимых модумей"
   ]
  },
  {
   "cell_type": "code",
   "execution_count": 3,
   "id": "31e2bffc",
   "metadata": {},
   "outputs": [],
   "source": [
    "import pandas as pd\n",
    "import numpy as np\n",
    "from datetime import datetime\n",
    "from dateutil.relativedelta import relativedelta\n",
    "import locale\n",
    "import re\n",
    "import os\n",
    "import logging"
   ]
  },
  {
   "cell_type": "markdown",
   "id": "c0638cfb",
   "metadata": {},
   "source": [
    "# Загрузка данных"
   ]
  },
  {
   "cell_type": "code",
   "execution_count": 4,
   "id": "2cd61d38",
   "metadata": {},
   "outputs": [],
   "source": [
    "# Настройка логирования для отслеживания выполнения кода\n",
    "logging.basicConfig(level=logging.INFO, format='%(asctime)s - %(levelname)s - %(message)s')\n",
    "\n",
    "# Устанавливание рабочей директории\n",
    "os.chdir(\"source/\")\n",
    "\n",
    "# Отображать все столбцы\n",
    "pd.set_option('display.max_columns', None)\n",
    "\n",
    "# Отображать все строки\n",
    "pd.set_option('display.max_rows', None)\n"
   ]
  },
  {
   "cell_type": "code",
   "execution_count": 42,
   "id": "cf6ded01",
   "metadata": {},
   "outputs": [
    {
     "name": "stderr",
     "output_type": "stream",
     "text": [
      "C:\\Users\\F_Jumaev\\AppData\\Local\\Temp\\ipykernel_16248\\3632514673.py:2: DtypeWarning: Columns (17,18,25,26,31,32,33) have mixed types. Specify dtype option on import or set low_memory=False.\n",
      "  data_loan = pd.read_csv('ListPI1.csv')\n",
      "C:\\Users\\F_Jumaev\\AppData\\Local\\Temp\\ipykernel_16248\\3632514673.py:4: DtypeWarning: Columns (20) have mixed types. Specify dtype option on import or set low_memory=False.\n",
      "  data_beh = pd.read_csv('ListB1.csv')\n"
     ]
    }
   ],
   "source": [
    "# Загрузка данных из CSV файлов\n",
    "data_loan = pd.read_csv('ListPI1.csv')\n",
    "data_app = pd.read_csv('ListP1.csv')\n",
    "data_beh = pd.read_csv('ListB1.csv')\n"
   ]
  },
  {
   "cell_type": "markdown",
   "id": "59226f1e",
   "metadata": {},
   "source": [
    "# Преобразование названий столбцов в snake_case"
   ]
  },
  {
   "cell_type": "code",
   "execution_count": 43,
   "id": "2d141135",
   "metadata": {},
   "outputs": [
    {
     "name": "stderr",
     "output_type": "stream",
     "text": [
      "2024-12-04 16:15:01,733 - INFO - Преобразование названий столбцов в snake_case.\n"
     ]
    }
   ],
   "source": [
    "# Функция для преобразования названий столбцов в snake_case\n",
    "def to_snake_case(column_name):\n",
    "    return column_name.lower().replace('.', '_').replace('#', 'number').replace(' ', '_')\n",
    "\n",
    "logging.info(\"Преобразование названий столбцов в snake_case.\")\n",
    "data_loan.columns = [to_snake_case(col) for col in data_loan.columns]\n",
    "data_app.columns = [to_snake_case(col) for col in data_app.columns]\n",
    "data_beh.columns = [to_snake_case(col) for col in data_beh.columns]\n"
   ]
  },
  {
   "cell_type": "markdown",
   "id": "a4f81d55",
   "metadata": {},
   "source": [
    "# Переименование столбцов с русскими именами на английские"
   ]
  },
  {
   "cell_type": "code",
   "execution_count": 44,
   "id": "67ee511c",
   "metadata": {},
   "outputs": [
    {
     "name": "stderr",
     "output_type": "stream",
     "text": [
      "2024-12-04 16:15:01,750 - INFO - Переименование столбцов с русскими именами на английские.\n"
     ]
    }
   ],
   "source": [
    "rename_columns = {\n",
    "    'наличие_эсхата_онлайн': 'eskhata_online',\n",
    "    'наличие_пластиковых_карт': 'plastic_cards',\n",
    "    'наличие_депозита': 'deposit',\n",
    "    'кумулятивная_просрочка': 'cumulative_delinquency',\n",
    "    'рейтинг_бки': 'bki_rating',\n",
    "    'количество_кредитов__в_бки_(заемщик)': 'bki_number_of_loans',\n",
    "    'состояние': 'state',\n",
    "    'причина_отказа': 'rejection_reason',\n",
    "    'кол-во_пролонгации': 'number_of_extensions'\n",
    "    \n",
    "}\n",
    "logging.info(\"Переименование столбцов с русскими именами на английские.\")\n",
    "data_loan.rename(columns=rename_columns, inplace=True)\n",
    "data_app.rename(columns=rename_columns, inplace=True)\n",
    "data_beh.rename(columns=rename_columns, inplace=True)\n"
   ]
  },
  {
   "cell_type": "markdown",
   "id": "3567167a",
   "metadata": {},
   "source": [
    "# Подсчет количества дубликатов (не включая первую строку)"
   ]
  },
  {
   "cell_type": "code",
   "execution_count": 45,
   "id": "e6adf9a3",
   "metadata": {},
   "outputs": [
    {
     "name": "stderr",
     "output_type": "stream",
     "text": [
      "2024-12-04 16:15:01,768 - INFO - Проверка дублирующихся строк по account_id\n"
     ]
    },
    {
     "data": {
      "text/plain": [
       "32801"
      ]
     },
     "metadata": {},
     "output_type": "display_data"
    },
    {
     "data": {
      "text/plain": [
       "0"
      ]
     },
     "metadata": {},
     "output_type": "display_data"
    },
    {
     "data": {
      "text/plain": [
       "0"
      ]
     },
     "metadata": {},
     "output_type": "display_data"
    },
    {
     "name": "stderr",
     "output_type": "stream",
     "text": [
      "2024-12-04 16:15:01,797 - INFO - Проверка дублирующихся строк по customer_id\n"
     ]
    },
    {
     "data": {
      "text/plain": [
       "32801"
      ]
     },
     "metadata": {},
     "output_type": "display_data"
    },
    {
     "data": {
      "text/plain": [
       "0"
      ]
     },
     "metadata": {},
     "output_type": "display_data"
    },
    {
     "data": {
      "text/plain": [
       "0"
      ]
     },
     "metadata": {},
     "output_type": "display_data"
    },
    {
     "name": "stderr",
     "output_type": "stream",
     "text": [
      "2024-12-04 16:15:01,826 - INFO - Подсчет количества дубликатов по application_id\n"
     ]
    },
    {
     "data": {
      "text/plain": [
       "136"
      ]
     },
     "metadata": {},
     "output_type": "display_data"
    },
    {
     "data": {
      "text/plain": [
       "0"
      ]
     },
     "metadata": {},
     "output_type": "display_data"
    }
   ],
   "source": [
    "logging.info(\"Проверка дублирующихся строк по account_id\")\n",
    "display(data_loan.duplicated(subset='account_id').sum())\n",
    "display(data_app.duplicated(subset='account_id').sum())\n",
    "display(data_beh.duplicated(subset='account_id').sum())\n",
    "\n",
    "logging.info(\"Проверка дублирующихся строк по customer_id\")\n",
    "display(data_loan.duplicated(subset='account_id').sum())\n",
    "display(data_app.duplicated(subset='account_id').sum())\n",
    "display(data_beh.duplicated(subset='account_id').sum())\n",
    "\n",
    "logging.info(\"Подсчет количества дубликатов по application_id\")\n",
    "display(data_loan.duplicated(subset='application_id').sum())\n",
    "display(data_app.duplicated(subset='application_id').sum())\n",
    "\n"
   ]
  },
  {
   "cell_type": "markdown",
   "id": "9d3ecbac",
   "metadata": {},
   "source": [
    "# Удаление дубликатов"
   ]
  },
  {
   "cell_type": "code",
   "execution_count": 46,
   "id": "d21891e9",
   "metadata": {},
   "outputs": [
    {
     "name": "stderr",
     "output_type": "stream",
     "text": [
      "2024-12-04 16:15:01,929 - INFO - Удаление дубликатов по account_id.\n",
      "2024-12-04 16:15:02,041 - INFO - Удаление дубликатов по application_id.\n"
     ]
    }
   ],
   "source": [
    "# Удаление дубликатов по account_id\n",
    "logging.info(\"Удаление дубликатов по account_id.\")\n",
    "data_loan.drop_duplicates(subset='account_id', keep='first', inplace=True)\n",
    "\n",
    "# Удаление дубликатов по application_id\n",
    "logging.info(\"Удаление дубликатов по application_id.\")\n",
    "data_loan.drop_duplicates(subset='application_id', keep='first', inplace=True)\n",
    "\n",
    "\n",
    "# # Удаление дубликатов по customer_id\n",
    "# logging.info(\"Удаление дубликатов по customer_id.\")\n",
    "# data_loan.drop_duplicates(subset='customer_id_loan', keep='first', inplace=True)"
   ]
  },
  {
   "cell_type": "markdown",
   "id": "f4f88606",
   "metadata": {},
   "source": [
    "# Объединение данных по account_id"
   ]
  },
  {
   "cell_type": "code",
   "execution_count": 47,
   "id": "4109b66c",
   "metadata": {},
   "outputs": [
    {
     "name": "stderr",
     "output_type": "stream",
     "text": [
      "2024-12-04 16:15:02,169 - INFO - Объединение данных по 'account_id'.\n"
     ]
    }
   ],
   "source": [
    "logging.info(\"Объединение данных по 'account_id'.\")\n",
    "res = data_loan.merge(data_app, on=\"account_id\", how=\"left\", suffixes=('_loan', '_app'))\n",
    "res = res.merge(data_beh, on=\"account_id\", how=\"left\", suffixes=('', '_beh'))\n"
   ]
  },
  {
   "cell_type": "markdown",
   "id": "e1ba129c",
   "metadata": {},
   "source": [
    "# Удаление дублириющих переменных"
   ]
  },
  {
   "cell_type": "code",
   "execution_count": 48,
   "id": "53e9551a",
   "metadata": {},
   "outputs": [],
   "source": [
    "res = res.drop(['application_id_app', 'customer_id_app', 'customer_id'], axis=1)\n",
    "res = res.rename(columns={\n",
    "    'customer_id_loan': 'customer_id',\n",
    "    'application_id_loan': 'application_id'\n",
    "})\n"
   ]
  },
  {
   "cell_type": "markdown",
   "id": "8bd0dff3",
   "metadata": {},
   "source": [
    "# Переименование столбцов для удобства"
   ]
  },
  {
   "cell_type": "code",
   "execution_count": 49,
   "id": "dab63b10",
   "metadata": {},
   "outputs": [
    {
     "name": "stderr",
     "output_type": "stream",
     "text": [
      "2024-12-04 16:15:04,038 - INFO - Переименование столбцов\n"
     ]
    }
   ],
   "source": [
    "rename_columns = {\n",
    "    'client_type_': 'client_type',\n",
    "    'number_dependants':'dependants',\n",
    "    'number_months_at_current_address':'months_at_current_address',\n",
    "    'number_months_at_job':'months_at_job',\n",
    "    'property_type/collateral_type': 'property_type',\n",
    "    'instalment_amount/min_instalment_amount': 'instalment_amount',\n",
    "    'amount_due_–_instalment': 'amount_due',\n",
    "    'maximum_days_past_due': 'max_days_past_due',\n",
    "    'maximum_days_past_due_lifetime': 'max_days_past_due_lifetime',\n",
    "    'ftd-1': 'ftd_1',\n",
    "    'ftd-2': 'ftd_2',\n",
    "    'ftd-3': 'ftd_3',\n",
    "    'ftd-4': 'ftd_4'\n",
    "}\n",
    "\n",
    "logging.info(\"Переименование столбцов\")\n",
    "res.rename(columns=rename_columns, inplace=True)\n"
   ]
  },
  {
   "cell_type": "code",
   "execution_count": 50,
   "id": "0e9150fb",
   "metadata": {},
   "outputs": [
    {
     "data": {
      "text/html": [
       "<div>\n",
       "<style scoped>\n",
       "    .dataframe tbody tr th:only-of-type {\n",
       "        vertical-align: middle;\n",
       "    }\n",
       "\n",
       "    .dataframe tbody tr th {\n",
       "        vertical-align: top;\n",
       "    }\n",
       "\n",
       "    .dataframe thead th {\n",
       "        text-align: right;\n",
       "    }\n",
       "</style>\n",
       "<table border=\"1\" class=\"dataframe\">\n",
       "  <thead>\n",
       "    <tr style=\"text-align: right;\">\n",
       "      <th></th>\n",
       "      <th>customer_id</th>\n",
       "      <th>application_id</th>\n",
       "      <th>account_id</th>\n",
       "      <th>date_of_birth</th>\n",
       "      <th>gender</th>\n",
       "      <th>city_of_living</th>\n",
       "      <th>region_of_living</th>\n",
       "      <th>city_of_registration</th>\n",
       "      <th>region_of_registration</th>\n",
       "      <th>work_phone_number</th>\n",
       "      <th>mobile_phone_number</th>\n",
       "      <th>education</th>\n",
       "      <th>marital_status</th>\n",
       "      <th>dependants</th>\n",
       "      <th>number_children</th>\n",
       "      <th>months_at_current_address</th>\n",
       "      <th>employment_type</th>\n",
       "      <th>employment_sector</th>\n",
       "      <th>employment_segment</th>\n",
       "      <th>months_at_job</th>\n",
       "      <th>net_main_income</th>\n",
       "      <th>source_of_main_income</th>\n",
       "      <th>additional_income</th>\n",
       "      <th>source_of_additional_income</th>\n",
       "      <th>reported_expenses</th>\n",
       "      <th>months_with_bank</th>\n",
       "      <th>current_exposure</th>\n",
       "      <th>client_type</th>\n",
       "      <th>property_object</th>\n",
       "      <th>eskhata_online</th>\n",
       "      <th>plastic_cards</th>\n",
       "      <th>deposit</th>\n",
       "      <th>state</th>\n",
       "      <th>rejection_reason</th>\n",
       "      <th>branch_id</th>\n",
       "      <th>product_id</th>\n",
       "      <th>application_date</th>\n",
       "      <th>date_loan_granted</th>\n",
       "      <th>loan_amount</th>\n",
       "      <th>first_instalment_due_date</th>\n",
       "      <th>interest_rate</th>\n",
       "      <th>collateral_type</th>\n",
       "      <th>value_of_collateral</th>\n",
       "      <th>property_type</th>\n",
       "      <th>salary_payment_in_bank_account</th>\n",
       "      <th>loan_type</th>\n",
       "      <th>number_of_instalments</th>\n",
       "      <th>instalment_amount</th>\n",
       "      <th>run_date</th>\n",
       "      <th>date_account_opened</th>\n",
       "      <th>current_balance</th>\n",
       "      <th>date_last_payment</th>\n",
       "      <th>date_final_payment</th>\n",
       "      <th>due_date</th>\n",
       "      <th>payment_amount</th>\n",
       "      <th>account_status</th>\n",
       "      <th>number_of_payments_in_arrears</th>\n",
       "      <th>cumulative_delinquency</th>\n",
       "      <th>amount_due</th>\n",
       "      <th>principal_amount</th>\n",
       "      <th>interest_accrued</th>\n",
       "      <th>outstanding_balance</th>\n",
       "      <th>arrears_amount</th>\n",
       "      <th>current_days_past_due</th>\n",
       "      <th>max_days_past_due</th>\n",
       "      <th>max_days_past_due_lifetime</th>\n",
       "      <th>default_flag</th>\n",
       "      <th>number_of_extensions</th>\n",
       "      <th>bki_rating</th>\n",
       "      <th>bki_number_of_loans</th>\n",
       "      <th>ftd_1</th>\n",
       "      <th>ftd_2</th>\n",
       "      <th>ftd_3</th>\n",
       "      <th>ftd_4</th>\n",
       "    </tr>\n",
       "  </thead>\n",
       "  <tbody>\n",
       "    <tr>\n",
       "      <th>0</th>\n",
       "      <td>2.512152e+10</td>\n",
       "      <td>764446/КР</td>\n",
       "      <td>3.561914e+10</td>\n",
       "      <td>1998-01-07 00:00:00</td>\n",
       "      <td>Женский</td>\n",
       "      <td>нохияи Фирдавси</td>\n",
       "      <td>Душанбе</td>\n",
       "      <td>Фирдавси</td>\n",
       "      <td>Душанбе</td>\n",
       "      <td>992000805085</td>\n",
       "      <td>NaN</td>\n",
       "      <td>Высшее</td>\n",
       "      <td>Не замужем</td>\n",
       "      <td>0</td>\n",
       "      <td>2</td>\n",
       "      <td>0</td>\n",
       "      <td>Имеет другой источник дохода</td>\n",
       "      <td>NaN</td>\n",
       "      <td>NaN</td>\n",
       "      <td>0</td>\n",
       "      <td>3121.36</td>\n",
       "      <td>Прочее</td>\n",
       "      <td>NaN</td>\n",
       "      <td>NaN</td>\n",
       "      <td>1272.0</td>\n",
       "      <td>36</td>\n",
       "      <td>0.0</td>\n",
       "      <td>0</td>\n",
       "      <td>Квартира</td>\n",
       "      <td>Да</td>\n",
       "      <td>Да</td>\n",
       "      <td>0.0</td>\n",
       "      <td>NaN</td>\n",
       "      <td>NaN</td>\n",
       "      <td>ФИЛИАЛИ ЧСК \"БОНКИ ЭСХАТА\" ДАР Ш.ДУШАНБЕ</td>\n",
       "      <td>Карзхои гуногунмаксад</td>\n",
       "      <td>2021-10-19</td>\n",
       "      <td>2021-11-02</td>\n",
       "      <td>12300.0</td>\n",
       "      <td>2021-12-02</td>\n",
       "      <td>31.0</td>\n",
       "      <td>NaN</td>\n",
       "      <td>NaN</td>\n",
       "      <td>NaN</td>\n",
       "      <td>Нет</td>\n",
       "      <td>Многоцелевые кредиты_005_аннуитет</td>\n",
       "      <td>18.0</td>\n",
       "      <td>863.0</td>\n",
       "      <td>2023-06-30</td>\n",
       "      <td>2021-11-02</td>\n",
       "      <td>0.0</td>\n",
       "      <td>NaN</td>\n",
       "      <td>2023-04-20</td>\n",
       "      <td>NaN</td>\n",
       "      <td>NaN</td>\n",
       "      <td>Закрыт</td>\n",
       "      <td>NaN</td>\n",
       "      <td>0.0</td>\n",
       "      <td>0.0</td>\n",
       "      <td>0.0</td>\n",
       "      <td>0.0</td>\n",
       "      <td>0.0</td>\n",
       "      <td>0.0</td>\n",
       "      <td>0.0</td>\n",
       "      <td>0.0</td>\n",
       "      <td>0.0</td>\n",
       "      <td>NaN</td>\n",
       "      <td>0.0</td>\n",
       "      <td>NaN</td>\n",
       "      <td>0.0</td>\n",
       "      <td>0.0</td>\n",
       "      <td>0.0</td>\n",
       "      <td>0.0</td>\n",
       "      <td>0.0</td>\n",
       "    </tr>\n",
       "    <tr>\n",
       "      <th>1</th>\n",
       "      <td>8.471401e+08</td>\n",
       "      <td>766801/КР</td>\n",
       "      <td>3.573316e+10</td>\n",
       "      <td>1969-05-16 00:00:00</td>\n",
       "      <td>Мужской</td>\n",
       "      <td>Истаравшан</td>\n",
       "      <td>Вилояти Сугд</td>\n",
       "      <td>Истаравшан</td>\n",
       "      <td>Вилояти Сугд</td>\n",
       "      <td>992985675558</td>\n",
       "      <td>NaN</td>\n",
       "      <td>Среднее</td>\n",
       "      <td>Женат</td>\n",
       "      <td>2</td>\n",
       "      <td>2</td>\n",
       "      <td>6</td>\n",
       "      <td>Собственный бизнес</td>\n",
       "      <td>Самозанятость</td>\n",
       "      <td>Услуги транспорта</td>\n",
       "      <td>276</td>\n",
       "      <td>3800.00</td>\n",
       "      <td>Прочее</td>\n",
       "      <td>NaN</td>\n",
       "      <td>NaN</td>\n",
       "      <td>1500.0</td>\n",
       "      <td>143</td>\n",
       "      <td>4691.17</td>\n",
       "      <td>1</td>\n",
       "      <td>Дом</td>\n",
       "      <td>Нет</td>\n",
       "      <td>Нет</td>\n",
       "      <td>0.0</td>\n",
       "      <td>NaN</td>\n",
       "      <td>NaN</td>\n",
       "      <td>ФИЛИАЛИ ЧСК \"БОНКИ ЭСХАТА\" ДАР Ш.ИСТАРАВШАН</td>\n",
       "      <td>Карзхои гуногунмаксад</td>\n",
       "      <td>2021-10-25</td>\n",
       "      <td>2021-11-01</td>\n",
       "      <td>20000.0</td>\n",
       "      <td>2021-12-01</td>\n",
       "      <td>30.0</td>\n",
       "      <td>1) Поручитель;</td>\n",
       "      <td>1) 0;</td>\n",
       "      <td>1) Поручитель;</td>\n",
       "      <td>Нет</td>\n",
       "      <td>Многоцелевые кредиты_005_аннуитет</td>\n",
       "      <td>24.0</td>\n",
       "      <td>1118.0</td>\n",
       "      <td>2023-06-30</td>\n",
       "      <td>2021-11-01</td>\n",
       "      <td>0.0</td>\n",
       "      <td>2023-04-26</td>\n",
       "      <td>2023-10-26</td>\n",
       "      <td>2023-06-01</td>\n",
       "      <td>1118.0</td>\n",
       "      <td>Закрыт</td>\n",
       "      <td>NaN</td>\n",
       "      <td>0.0</td>\n",
       "      <td>0.0</td>\n",
       "      <td>0.0</td>\n",
       "      <td>0.0</td>\n",
       "      <td>0.0</td>\n",
       "      <td>0.0</td>\n",
       "      <td>0.0</td>\n",
       "      <td>0.0</td>\n",
       "      <td>0.0</td>\n",
       "      <td>NaN</td>\n",
       "      <td>0.0</td>\n",
       "      <td>NaN</td>\n",
       "      <td>5.0</td>\n",
       "      <td>0.0</td>\n",
       "      <td>0.0</td>\n",
       "      <td>0.0</td>\n",
       "      <td>0.0</td>\n",
       "    </tr>\n",
       "    <tr>\n",
       "      <th>2</th>\n",
       "      <td>6.286580e+09</td>\n",
       "      <td>766319/КР</td>\n",
       "      <td>3.573691e+10</td>\n",
       "      <td>1991-03-02 00:00:00</td>\n",
       "      <td>Мужской</td>\n",
       "      <td>Истаравшан</td>\n",
       "      <td>Вилояти Сугд</td>\n",
       "      <td>Истаравшан</td>\n",
       "      <td>Вилояти Сугд</td>\n",
       "      <td>992988621755</td>\n",
       "      <td>NaN</td>\n",
       "      <td>Среднее</td>\n",
       "      <td>Женат</td>\n",
       "      <td>3</td>\n",
       "      <td>2</td>\n",
       "      <td>9</td>\n",
       "      <td>Собственный бизнес</td>\n",
       "      <td>Самозанятость</td>\n",
       "      <td>Услуги транспорта</td>\n",
       "      <td>60</td>\n",
       "      <td>3500.00</td>\n",
       "      <td>Прочее</td>\n",
       "      <td>NaN</td>\n",
       "      <td>NaN</td>\n",
       "      <td>1000.0</td>\n",
       "      <td>61</td>\n",
       "      <td>4301.47</td>\n",
       "      <td>1</td>\n",
       "      <td>Дом</td>\n",
       "      <td>Нет</td>\n",
       "      <td>Нет</td>\n",
       "      <td>0.0</td>\n",
       "      <td>NaN</td>\n",
       "      <td>NaN</td>\n",
       "      <td>ФИЛИАЛИ ЧСК \"БОНКИ ЭСХАТА\" ДАР Ш.ИСТАРАВШАН</td>\n",
       "      <td>Карзхои гуногунмаксад</td>\n",
       "      <td>2021-10-25</td>\n",
       "      <td>2021-11-05</td>\n",
       "      <td>10000.0</td>\n",
       "      <td>2021-12-06</td>\n",
       "      <td>30.0</td>\n",
       "      <td>NaN</td>\n",
       "      <td>NaN</td>\n",
       "      <td>NaN</td>\n",
       "      <td>Нет</td>\n",
       "      <td>Многоцелевые кредиты_005_аннуитет</td>\n",
       "      <td>24.0</td>\n",
       "      <td>559.0</td>\n",
       "      <td>2023-06-30</td>\n",
       "      <td>2021-11-05</td>\n",
       "      <td>0.0</td>\n",
       "      <td>2023-04-03</td>\n",
       "      <td>2023-10-26</td>\n",
       "      <td>2023-06-05</td>\n",
       "      <td>559.0</td>\n",
       "      <td>Закрыт</td>\n",
       "      <td>NaN</td>\n",
       "      <td>19.0</td>\n",
       "      <td>0.0</td>\n",
       "      <td>0.0</td>\n",
       "      <td>0.0</td>\n",
       "      <td>0.0</td>\n",
       "      <td>0.0</td>\n",
       "      <td>0.0</td>\n",
       "      <td>0.0</td>\n",
       "      <td>7.0</td>\n",
       "      <td>NaN</td>\n",
       "      <td>0.0</td>\n",
       "      <td>NaN</td>\n",
       "      <td>2.0</td>\n",
       "      <td>0.0</td>\n",
       "      <td>1.0</td>\n",
       "      <td>0.0</td>\n",
       "      <td>7.0</td>\n",
       "    </tr>\n",
       "    <tr>\n",
       "      <th>3</th>\n",
       "      <td>1.493983e+10</td>\n",
       "      <td>766446/КР</td>\n",
       "      <td>3.574159e+10</td>\n",
       "      <td>1966-10-23 00:00:00</td>\n",
       "      <td>Мужской</td>\n",
       "      <td>Фархор</td>\n",
       "      <td>Вилояти Хатлон</td>\n",
       "      <td>Пархар</td>\n",
       "      <td>Вилояти Хатлон</td>\n",
       "      <td>+992900078418; ; ;</td>\n",
       "      <td>NaN</td>\n",
       "      <td>Среднее</td>\n",
       "      <td>Женат</td>\n",
       "      <td>1</td>\n",
       "      <td>2</td>\n",
       "      <td>39</td>\n",
       "      <td>Имеет другой источник дохода</td>\n",
       "      <td>NaN</td>\n",
       "      <td>NaN</td>\n",
       "      <td>0</td>\n",
       "      <td>2400.00</td>\n",
       "      <td>Доход семьи</td>\n",
       "      <td>NaN</td>\n",
       "      <td>NaN</td>\n",
       "      <td>1000.0</td>\n",
       "      <td>60</td>\n",
       "      <td>1153.52</td>\n",
       "      <td>1</td>\n",
       "      <td>Дом</td>\n",
       "      <td>Нет</td>\n",
       "      <td>Нет</td>\n",
       "      <td>0.0</td>\n",
       "      <td>NaN</td>\n",
       "      <td>NaN</td>\n",
       "      <td>ФИЛИАЛИ ЧСК \"БОНКИ ЭСХАТА\" ДАР Ш. КУЛОБ</td>\n",
       "      <td>Карзхои гуногунмаксад</td>\n",
       "      <td>2021-10-25</td>\n",
       "      <td>2021-11-03</td>\n",
       "      <td>3300.0</td>\n",
       "      <td>2021-12-03</td>\n",
       "      <td>31.0</td>\n",
       "      <td>NaN</td>\n",
       "      <td>NaN</td>\n",
       "      <td>NaN</td>\n",
       "      <td>Нет</td>\n",
       "      <td>Многоцелевые кредиты_005_аннуитет</td>\n",
       "      <td>12.0</td>\n",
       "      <td>323.0</td>\n",
       "      <td>2023-06-30</td>\n",
       "      <td>2021-11-03</td>\n",
       "      <td>0.0</td>\n",
       "      <td>2022-09-12</td>\n",
       "      <td>2022-10-26</td>\n",
       "      <td>NaN</td>\n",
       "      <td>NaN</td>\n",
       "      <td>Закрыт</td>\n",
       "      <td>NaN</td>\n",
       "      <td>0.0</td>\n",
       "      <td>0.0</td>\n",
       "      <td>0.0</td>\n",
       "      <td>0.0</td>\n",
       "      <td>0.0</td>\n",
       "      <td>0.0</td>\n",
       "      <td>0.0</td>\n",
       "      <td>0.0</td>\n",
       "      <td>0.0</td>\n",
       "      <td>NaN</td>\n",
       "      <td>0.0</td>\n",
       "      <td>NaN</td>\n",
       "      <td>0.0</td>\n",
       "      <td>0.0</td>\n",
       "      <td>0.0</td>\n",
       "      <td>0.0</td>\n",
       "      <td>0.0</td>\n",
       "    </tr>\n",
       "    <tr>\n",
       "      <th>4</th>\n",
       "      <td>3.283014e+10</td>\n",
       "      <td>767392/КР</td>\n",
       "      <td>3.575473e+10</td>\n",
       "      <td>2001-06-07 00:00:00</td>\n",
       "      <td>Мужской</td>\n",
       "      <td>поселки Варзобского района</td>\n",
       "      <td>Нохияхои тобеи Чумхури</td>\n",
       "      <td>поселки Варзобского района</td>\n",
       "      <td>Нохияхои тобеи Чумхури</td>\n",
       "      <td>NaN</td>\n",
       "      <td>992888051515</td>\n",
       "      <td>Среднее</td>\n",
       "      <td>Холост</td>\n",
       "      <td>0</td>\n",
       "      <td>0</td>\n",
       "      <td>2</td>\n",
       "      <td>Собственный бизнес</td>\n",
       "      <td>Самозанятость</td>\n",
       "      <td>Услуги транспорта</td>\n",
       "      <td>36</td>\n",
       "      <td>5700.00</td>\n",
       "      <td>Предпринимательство</td>\n",
       "      <td>NaN</td>\n",
       "      <td>NaN</td>\n",
       "      <td>3001.0</td>\n",
       "      <td>20</td>\n",
       "      <td>4938.37</td>\n",
       "      <td>0</td>\n",
       "      <td>Дом</td>\n",
       "      <td>Да</td>\n",
       "      <td>Нет</td>\n",
       "      <td>0.0</td>\n",
       "      <td>NaN</td>\n",
       "      <td>NaN</td>\n",
       "      <td>ФИЛИАЛИ ЧСК \"БОНКИ ЭСХАТА\" ДАР Ш.ДУШАНБЕ, Н.СИ...</td>\n",
       "      <td>Карзхои гуногунмаксад</td>\n",
       "      <td>2021-10-26</td>\n",
       "      <td>2021-11-03</td>\n",
       "      <td>5000.0</td>\n",
       "      <td>2021-12-03</td>\n",
       "      <td>31.0</td>\n",
       "      <td>NaN</td>\n",
       "      <td>NaN</td>\n",
       "      <td>NaN</td>\n",
       "      <td>Нет</td>\n",
       "      <td>Многоцелевые кредиты_005_аннуитет</td>\n",
       "      <td>6.0</td>\n",
       "      <td>910.0</td>\n",
       "      <td>2023-06-30</td>\n",
       "      <td>2021-11-03</td>\n",
       "      <td>0.0</td>\n",
       "      <td>2022-04-27</td>\n",
       "      <td>2022-04-27</td>\n",
       "      <td>NaN</td>\n",
       "      <td>NaN</td>\n",
       "      <td>Закрыт</td>\n",
       "      <td>NaN</td>\n",
       "      <td>0.0</td>\n",
       "      <td>0.0</td>\n",
       "      <td>0.0</td>\n",
       "      <td>0.0</td>\n",
       "      <td>0.0</td>\n",
       "      <td>0.0</td>\n",
       "      <td>0.0</td>\n",
       "      <td>0.0</td>\n",
       "      <td>0.0</td>\n",
       "      <td>NaN</td>\n",
       "      <td>0.0</td>\n",
       "      <td>NaN</td>\n",
       "      <td>1.0</td>\n",
       "      <td>0.0</td>\n",
       "      <td>0.0</td>\n",
       "      <td>0.0</td>\n",
       "      <td>0.0</td>\n",
       "    </tr>\n",
       "  </tbody>\n",
       "</table>\n",
       "</div>"
      ],
      "text/plain": [
       "    customer_id application_id    account_id        date_of_birth   gender  \\\n",
       "0  2.512152e+10      764446/КР  3.561914e+10  1998-01-07 00:00:00  Женский   \n",
       "1  8.471401e+08      766801/КР  3.573316e+10  1969-05-16 00:00:00  Мужской   \n",
       "2  6.286580e+09      766319/КР  3.573691e+10  1991-03-02 00:00:00  Мужской   \n",
       "3  1.493983e+10      766446/КР  3.574159e+10  1966-10-23 00:00:00  Мужской   \n",
       "4  3.283014e+10      767392/КР  3.575473e+10  2001-06-07 00:00:00  Мужской   \n",
       "\n",
       "               city_of_living        region_of_living  \\\n",
       "0             нохияи Фирдавси                 Душанбе   \n",
       "1                  Истаравшан            Вилояти Сугд   \n",
       "2                  Истаравшан            Вилояти Сугд   \n",
       "3                      Фархор          Вилояти Хатлон   \n",
       "4  поселки Варзобского района  Нохияхои тобеи Чумхури   \n",
       "\n",
       "         city_of_registration  region_of_registration    work_phone_number  \\\n",
       "0                    Фирдавси                 Душанбе         992000805085   \n",
       "1                  Истаравшан            Вилояти Сугд         992985675558   \n",
       "2                  Истаравшан            Вилояти Сугд         992988621755   \n",
       "3                      Пархар          Вилояти Хатлон  +992900078418; ; ;    \n",
       "4  поселки Варзобского района  Нохияхои тобеи Чумхури                  NaN   \n",
       "\n",
       "  mobile_phone_number education marital_status  dependants  number_children  \\\n",
       "0                 NaN    Высшее     Не замужем           0                2   \n",
       "1                 NaN   Среднее          Женат           2                2   \n",
       "2                 NaN   Среднее          Женат           3                2   \n",
       "3                 NaN   Среднее          Женат           1                2   \n",
       "4        992888051515   Среднее         Холост           0                0   \n",
       "\n",
       "   months_at_current_address               employment_type employment_sector  \\\n",
       "0                          0  Имеет другой источник дохода               NaN   \n",
       "1                          6            Собственный бизнес     Самозанятость   \n",
       "2                          9            Собственный бизнес     Самозанятость   \n",
       "3                         39  Имеет другой источник дохода               NaN   \n",
       "4                          2            Собственный бизнес     Самозанятость   \n",
       "\n",
       "  employment_segment  months_at_job  net_main_income source_of_main_income  \\\n",
       "0                NaN              0          3121.36                Прочее   \n",
       "1  Услуги транспорта            276          3800.00                Прочее   \n",
       "2  Услуги транспорта             60          3500.00                Прочее   \n",
       "3                NaN              0          2400.00           Доход семьи   \n",
       "4  Услуги транспорта             36          5700.00   Предпринимательство   \n",
       "\n",
       "   additional_income source_of_additional_income  reported_expenses  \\\n",
       "0                NaN                         NaN             1272.0   \n",
       "1                NaN                         NaN             1500.0   \n",
       "2                NaN                         NaN             1000.0   \n",
       "3                NaN                         NaN             1000.0   \n",
       "4                NaN                         NaN             3001.0   \n",
       "\n",
       "  months_with_bank current_exposure  client_type property_object  \\\n",
       "0               36              0.0            0        Квартира   \n",
       "1              143          4691.17            1             Дом   \n",
       "2               61          4301.47            1             Дом   \n",
       "3               60          1153.52            1             Дом   \n",
       "4               20          4938.37            0             Дом   \n",
       "\n",
       "  eskhata_online plastic_cards deposit state rejection_reason  \\\n",
       "0             Да            Да     0.0   NaN              NaN   \n",
       "1            Нет           Нет     0.0   NaN              NaN   \n",
       "2            Нет           Нет     0.0   NaN              NaN   \n",
       "3            Нет           Нет     0.0   NaN              NaN   \n",
       "4             Да           Нет     0.0   NaN              NaN   \n",
       "\n",
       "                                           branch_id             product_id  \\\n",
       "0           ФИЛИАЛИ ЧСК \"БОНКИ ЭСХАТА\" ДАР Ш.ДУШАНБЕ  Карзхои гуногунмаксад   \n",
       "1        ФИЛИАЛИ ЧСК \"БОНКИ ЭСХАТА\" ДАР Ш.ИСТАРАВШАН  Карзхои гуногунмаксад   \n",
       "2        ФИЛИАЛИ ЧСК \"БОНКИ ЭСХАТА\" ДАР Ш.ИСТАРАВШАН  Карзхои гуногунмаксад   \n",
       "3            ФИЛИАЛИ ЧСК \"БОНКИ ЭСХАТА\" ДАР Ш. КУЛОБ  Карзхои гуногунмаксад   \n",
       "4  ФИЛИАЛИ ЧСК \"БОНКИ ЭСХАТА\" ДАР Ш.ДУШАНБЕ, Н.СИ...  Карзхои гуногунмаксад   \n",
       "\n",
       "  application_date date_loan_granted  loan_amount first_instalment_due_date  \\\n",
       "0       2021-10-19        2021-11-02      12300.0                2021-12-02   \n",
       "1       2021-10-25        2021-11-01      20000.0                2021-12-01   \n",
       "2       2021-10-25        2021-11-05      10000.0                2021-12-06   \n",
       "3       2021-10-25        2021-11-03       3300.0                2021-12-03   \n",
       "4       2021-10-26        2021-11-03       5000.0                2021-12-03   \n",
       "\n",
       "   interest_rate  collateral_type value_of_collateral    property_type  \\\n",
       "0           31.0              NaN                 NaN              NaN   \n",
       "1           30.0  1) Поручитель;               1) 0;   1) Поручитель;    \n",
       "2           30.0              NaN                 NaN              NaN   \n",
       "3           31.0              NaN                 NaN              NaN   \n",
       "4           31.0              NaN                 NaN              NaN   \n",
       "\n",
       "  salary_payment_in_bank_account                          loan_type  \\\n",
       "0                            Нет  Многоцелевые кредиты_005_аннуитет   \n",
       "1                            Нет  Многоцелевые кредиты_005_аннуитет   \n",
       "2                            Нет  Многоцелевые кредиты_005_аннуитет   \n",
       "3                            Нет  Многоцелевые кредиты_005_аннуитет   \n",
       "4                            Нет  Многоцелевые кредиты_005_аннуитет   \n",
       "\n",
       "   number_of_instalments  instalment_amount    run_date date_account_opened  \\\n",
       "0                   18.0              863.0  2023-06-30          2021-11-02   \n",
       "1                   24.0             1118.0  2023-06-30          2021-11-01   \n",
       "2                   24.0              559.0  2023-06-30          2021-11-05   \n",
       "3                   12.0              323.0  2023-06-30          2021-11-03   \n",
       "4                    6.0              910.0  2023-06-30          2021-11-03   \n",
       "\n",
       "   current_balance date_last_payment date_final_payment    due_date  \\\n",
       "0              0.0               NaN         2023-04-20         NaN   \n",
       "1              0.0        2023-04-26         2023-10-26  2023-06-01   \n",
       "2              0.0        2023-04-03         2023-10-26  2023-06-05   \n",
       "3              0.0        2022-09-12         2022-10-26         NaN   \n",
       "4              0.0        2022-04-27         2022-04-27         NaN   \n",
       "\n",
       "   payment_amount account_status  number_of_payments_in_arrears  \\\n",
       "0             NaN         Закрыт                            NaN   \n",
       "1          1118.0         Закрыт                            NaN   \n",
       "2           559.0         Закрыт                            NaN   \n",
       "3             NaN         Закрыт                            NaN   \n",
       "4             NaN         Закрыт                            NaN   \n",
       "\n",
       "   cumulative_delinquency  amount_due  principal_amount  interest_accrued  \\\n",
       "0                     0.0         0.0               0.0               0.0   \n",
       "1                     0.0         0.0               0.0               0.0   \n",
       "2                    19.0         0.0               0.0               0.0   \n",
       "3                     0.0         0.0               0.0               0.0   \n",
       "4                     0.0         0.0               0.0               0.0   \n",
       "\n",
       "   outstanding_balance  arrears_amount  current_days_past_due  \\\n",
       "0                  0.0             0.0                    0.0   \n",
       "1                  0.0             0.0                    0.0   \n",
       "2                  0.0             0.0                    0.0   \n",
       "3                  0.0             0.0                    0.0   \n",
       "4                  0.0             0.0                    0.0   \n",
       "\n",
       "   max_days_past_due  max_days_past_due_lifetime default_flag  \\\n",
       "0                0.0                         0.0          NaN   \n",
       "1                0.0                         0.0          NaN   \n",
       "2                0.0                         7.0          NaN   \n",
       "3                0.0                         0.0          NaN   \n",
       "4                0.0                         0.0          NaN   \n",
       "\n",
       "   number_of_extensions bki_rating  bki_number_of_loans  ftd_1  ftd_2  ftd_3  \\\n",
       "0                   0.0        NaN                  0.0    0.0    0.0    0.0   \n",
       "1                   0.0        NaN                  5.0    0.0    0.0    0.0   \n",
       "2                   0.0        NaN                  2.0    0.0    1.0    0.0   \n",
       "3                   0.0        NaN                  0.0    0.0    0.0    0.0   \n",
       "4                   0.0        NaN                  1.0    0.0    0.0    0.0   \n",
       "\n",
       "   ftd_4  \n",
       "0    0.0  \n",
       "1    0.0  \n",
       "2    7.0  \n",
       "3    0.0  \n",
       "4    0.0  "
      ]
     },
     "execution_count": 50,
     "metadata": {},
     "output_type": "execute_result"
    }
   ],
   "source": [
    "res.head()"
   ]
  },
  {
   "cell_type": "code",
   "execution_count": 51,
   "id": "cb7bc140",
   "metadata": {},
   "outputs": [],
   "source": [
    "# Создание копии датафрейма для дальнейшей обработки\n",
    "df = res.copy()"
   ]
  },
  {
   "cell_type": "markdown",
   "id": "e6527b42",
   "metadata": {},
   "source": [
    "# Преобразование необходимых столбцов в числовые значения"
   ]
  },
  {
   "cell_type": "code",
   "execution_count": 52,
   "id": "353bf07e",
   "metadata": {},
   "outputs": [
    {
     "name": "stderr",
     "output_type": "stream",
     "text": [
      "2024-12-04 16:15:04,234 - INFO - Преобразование числовых столбцов в числовые значения.\n"
     ]
    }
   ],
   "source": [
    "numeric_columns = [\n",
    "    'net_main_income', 'additional_income', 'months_with_bank',\n",
    "    'reported_expenses', 'deposit', 'current_exposure'\n",
    "]\n",
    "missing_numeric = [col for col in numeric_columns if col not in df.columns]\n",
    "if missing_numeric:\n",
    "    logging.warning(f\"Отсутствуют следующие числовые столбцы: {missing_numeric}\")\n",
    "\n",
    "existing_numeric_columns = [col for col in numeric_columns if col in df.columns]\n",
    "logging.info(\"Преобразование числовых столбцов в числовые значения.\")\n",
    "df[existing_numeric_columns] = df[existing_numeric_columns].apply(pd.to_numeric, errors='coerce')"
   ]
  },
  {
   "cell_type": "code",
   "execution_count": 53,
   "id": "655a58b5",
   "metadata": {},
   "outputs": [
    {
     "name": "stderr",
     "output_type": "stream",
     "text": [
      "2024-12-04 16:15:04,795 - INFO - Преобразование столбцов с датами в формат datetime.\n"
     ]
    }
   ],
   "source": [
    "# Преобразование столбцов с датами в формат datetime\n",
    "date_columns = [\n",
    "    'application_date', 'date_of_birth', 'date_loan_granted', 'first_instalment_due_date',\n",
    "    'date_last_payment', 'date_final_payment', 'due_date', 'date_account_opened'\n",
    "]\n",
    "logging.info(\"Преобразование столбцов с датами в формат datetime.\")\n",
    "for col in date_columns:\n",
    "    if col in df.columns:\n",
    "        df[col] = pd.to_datetime(df[col], errors='coerce')\n"
   ]
  },
  {
   "cell_type": "code",
   "execution_count": 54,
   "id": "4a382307",
   "metadata": {},
   "outputs": [
    {
     "name": "stderr",
     "output_type": "stream",
     "text": [
      "2024-12-04 16:15:05,883 - INFO - Вычисление возраста.\n"
     ]
    }
   ],
   "source": [
    "\n",
    "# Вычисление возраста\n",
    "logging.info(\"Вычисление возраста.\")\n",
    "# Оптимизированное вычисление возраста\n",
    "df['age'] = df['application_date'].dt.year - df['date_of_birth'].dt.year\n",
    "# Корректировка возраста, если месяц или день рождения еще не наступили в году заявки\n",
    "df.loc[\n",
    "    (df['application_date'].dt.month < df['date_of_birth'].dt.month) |\n",
    "    ((df['application_date'].dt.month == df['date_of_birth'].dt.month) &\n",
    "     (df['application_date'].dt.day < df['date_of_birth'].dt.day)),\n",
    "    'age'\n",
    "] -= 1\n",
    "# Удаление отрицательных возрастов, если такие есть\n",
    "df['age'] = df['age'].where(df['age'] >= 0, np.nan)"
   ]
  },
  {
   "cell_type": "code",
   "execution_count": 55,
   "id": "87fbc091",
   "metadata": {},
   "outputs": [
    {
     "name": "stderr",
     "output_type": "stream",
     "text": [
      "2024-12-04 16:15:06,096 - INFO - Создание столбца 'loan_month'.\n",
      "2024-12-04 16:15:06,135 - INFO - Создание признака совпадения города проживания и регистрации.\n",
      "2024-12-04 16:15:06,164 - INFO - Создание признака наличия залога.\n"
     ]
    }
   ],
   "source": [
    "\n",
    "# Создание столбца loan_month как год * 100 + месяц\n",
    "logging.info(\"Создание столбца 'loan_month'.\")\n",
    "df['loan_month'] = df['application_date'].dt.year * 100 + df['application_date'].dt.month\n",
    "\n",
    "# Признак совпадения города проживания и регистрации\n",
    "logging.info(\"Создание признака совпадения города проживания и регистрации.\")\n",
    "df['city_of_living_eq_registration'] = (df['city_of_living'] == df['city_of_registration']).astype(int)\n",
    "\n",
    "# Признак наличия залога\n",
    "logging.info(\"Создание признака наличия залога.\")\n",
    "df['is_collateral'] = df['deposit'].notna().astype(int)"
   ]
  },
  {
   "cell_type": "code",
   "execution_count": 56,
   "id": "d3d3eb18",
   "metadata": {},
   "outputs": [
    {
     "name": "stderr",
     "output_type": "stream",
     "text": [
      "2024-12-04 16:15:06,181 - INFO - Создание временного DataFrame для анализа предыдущих заявок.\n",
      "2024-12-04 16:15:06,322 - INFO - Сортировка по 'customer_id' и 'application_date'.\n",
      "2024-12-04 16:15:06,726 - INFO - Добавление предыдущей даты заявки и предыдущей максимальной просрочки.\n",
      "2024-12-04 16:15:06,794 - INFO - Удаление записей без предыдущих заявок.\n"
     ]
    }
   ],
   "source": [
    "# Создание временного датафрейма для анализа предыдущих заявок\n",
    "logging.info(\"Создание временного DataFrame для анализа предыдущих заявок.\")\n",
    "temp_df = df.copy()\n",
    "\n",
    "# Сортировка по customer_id и application_date для корректного сдвига\n",
    "logging.info(\"Сортировка по 'customer_id' и 'application_date'.\")\n",
    "temp_df = temp_df.sort_values(['customer_id', 'application_date'])\n",
    "\n",
    "# Добавление предыдущей даты заявки и предыдущей максимальной просрочки\n",
    "logging.info(\"Добавление предыдущей даты заявки и предыдущей максимальной просрочки.\")\n",
    "temp_df['prev_application_date'] = temp_df.groupby('customer_id')['application_date'].shift(1)\n",
    "temp_df['prev_max_days_past_due'] = temp_df.groupby('customer_id')['max_days_past_due_lifetime'].shift(1)\n",
    "\n",
    "\n",
    "# Убираем записи без предыдущих заявок\n",
    "logging.info(\"Удаление записей без предыдущих заявок.\")\n",
    "temp_df = temp_df.dropna(subset=['prev_application_date'])"
   ]
  },
  {
   "cell_type": "code",
   "execution_count": 57,
   "id": "ab56a89f",
   "metadata": {},
   "outputs": [
    {
     "name": "stderr",
     "output_type": "stream",
     "text": [
      "2024-12-04 16:15:06,954 - INFO - Группировка по 'account_id' для подсчета количества предыдущих заявок и максимальной просрочки.\n",
      "2024-12-04 16:15:06,980 - INFO - Пример данных после группировки:\n"
     ]
    },
    {
     "name": "stdout",
     "output_type": "stream",
     "text": [
      "\n",
      "acc_numb_before.head():\n",
      "     account_id  cnt  max_max_days_past_due\n",
      "0  3.600220e+10    1                    4.0\n",
      "1  3.600311e+10    1                   17.0\n",
      "2  3.603127e+10    1                    0.0\n",
      "3  3.605477e+10    1                    3.0\n",
      "4  3.606057e+10    1                    0.0\n"
     ]
    }
   ],
   "source": [
    "# Группировка по account_id для подсчета количества предыдущих заявок и максимальной просрочки\n",
    "logging.info(\"Группировка по 'account_id' для подсчета количества предыдущих заявок и максимальной просрочки.\")\n",
    "acc_numb_before = temp_df.groupby('account_id').agg(\n",
    "    cnt=('customer_id', 'count'),\n",
    "    max_max_days_past_due=('prev_max_days_past_due', 'max')\n",
    ").reset_index()\n",
    "\n",
    "logging.info(\"Пример данных после группировки:\")\n",
    "print(\"\\nacc_numb_before.head():\")\n",
    "print(acc_numb_before.head())\n"
   ]
  },
  {
   "cell_type": "code",
   "execution_count": 58,
   "id": "623f5b62",
   "metadata": {},
   "outputs": [
    {
     "name": "stderr",
     "output_type": "stream",
     "text": [
      "2024-12-04 16:15:07,316 - INFO - Добавление флага существующего клиента.\n",
      "2024-12-04 16:15:07,320 - INFO - Объединение 'acc_numb_before' с основным DataFrame.\n"
     ]
    }
   ],
   "source": [
    "# Добавление флага существующего клиента\n",
    "logging.info(\"Добавление флага существующего клиента.\")\n",
    "acc_numb_before['existing_client'] = np.where(acc_numb_before['cnt'] > 1, 1, 0)\n",
    "\n",
    "# Объединение с основным датафреймом\n",
    "logging.info(\"Объединение 'acc_numb_before' с основным DataFrame.\")\n",
    "df = df.merge(\n",
    "    acc_numb_before[['account_id', 'cnt', 'max_max_days_past_due']], \n",
    "    on='account_id', \n",
    "    how='left'\n",
    ")"
   ]
  },
  {
   "cell_type": "code",
   "execution_count": 59,
   "id": "d6ac9045",
   "metadata": {},
   "outputs": [
    {
     "name": "stderr",
     "output_type": "stream",
     "text": [
      "2024-12-04 16:15:08,018 - INFO - Проверка наличия столбца 'cnt' после объединения.\n",
      "2024-12-04 16:15:08,020 - INFO - Заполнение пропусков в 'previous_loans_count' нулями.\n",
      "2024-12-04 16:15:08,027 - INFO - Создание бинарных признаков для просроченности.\n",
      "2024-12-04 16:15:08,034 - INFO - Удаление временных столбцов 'cnt' и 'max_max_days_past_due'.\n"
     ]
    },
    {
     "name": "stdout",
     "output_type": "stream",
     "text": [
      "\n",
      "Столбцы после объединения acc_numb_before:\n",
      "customer_id\n",
      "application_id\n",
      "account_id\n",
      "date_of_birth\n",
      "gender\n",
      "city_of_living\n",
      "region_of_living\n",
      "city_of_registration\n",
      "region_of_registration\n",
      "work_phone_number\n",
      "mobile_phone_number\n",
      "education\n",
      "marital_status\n",
      "dependants\n",
      "number_children\n",
      "months_at_current_address\n",
      "employment_type\n",
      "employment_sector\n",
      "employment_segment\n",
      "months_at_job\n",
      "net_main_income\n",
      "source_of_main_income\n",
      "additional_income\n",
      "source_of_additional_income\n",
      "reported_expenses\n",
      "months_with_bank\n",
      "current_exposure\n",
      "client_type\n",
      "property_object\n",
      "eskhata_online\n",
      "plastic_cards\n",
      "deposit\n",
      "state\n",
      "rejection_reason\n",
      "branch_id\n",
      "product_id\n",
      "application_date\n",
      "date_loan_granted\n",
      "loan_amount\n",
      "first_instalment_due_date\n",
      "interest_rate\n",
      "collateral_type\n",
      "value_of_collateral\n",
      "property_type\n",
      "salary_payment_in_bank_account\n",
      "loan_type\n",
      "number_of_instalments\n",
      "instalment_amount\n",
      "run_date\n",
      "date_account_opened\n",
      "current_balance\n",
      "date_last_payment\n",
      "date_final_payment\n",
      "due_date\n",
      "payment_amount\n",
      "account_status\n",
      "number_of_payments_in_arrears\n",
      "cumulative_delinquency\n",
      "amount_due\n",
      "principal_amount\n",
      "interest_accrued\n",
      "outstanding_balance\n",
      "arrears_amount\n",
      "current_days_past_due\n",
      "max_days_past_due\n",
      "max_days_past_due_lifetime\n",
      "default_flag\n",
      "number_of_extensions\n",
      "bki_rating\n",
      "bki_number_of_loans\n",
      "ftd_1\n",
      "ftd_2\n",
      "ftd_3\n",
      "ftd_4\n",
      "age\n",
      "loan_month\n",
      "city_of_living_eq_registration\n",
      "is_collateral\n",
      "cnt\n",
      "max_max_days_past_due\n"
     ]
    }
   ],
   "source": [
    "# Проверка наличия столбца 'cnt' после объединения\n",
    "logging.info(\"Проверка наличия столбца 'cnt' после объединения.\")\n",
    "print(\"\\nСтолбцы после объединения acc_numb_before:\")\n",
    "for column in df.columns.tolist():\n",
    "    print(column)\n",
    "\n",
    "\n",
    "if 'cnt' not in df.columns:\n",
    "    logging.error(\"Столбец 'cnt' отсутствует в DataFrame после объединения. Проверьте корректность группировки и объединения.\")\n",
    "    raise KeyError(\"Столбец 'cnt' отсутствует в DataFrame после объединения.\")\n",
    "else:\n",
    "    # Заполнение пропусков в previous_loans_count нулями\n",
    "    logging.info(\"Заполнение пропусков в 'previous_loans_count' нулями.\")\n",
    "    df['previous_loans_count'] = df['cnt'].fillna(0).astype(int)\n",
    "    \n",
    "    # Создание бинарных признаков для просроченности с использованием .loc\n",
    "    logging.info(\"Создание бинарных признаков для просроченности.\")\n",
    "    df.loc[:, 'gb_90ever'] = (df['max_days_past_due_lifetime'] >= 90).astype(int)\n",
    "    df.loc[:, 'gb_cum_dlq_90'] = (df['cumulative_delinquency'] >= 90).astype(int)\n",
    "    df.loc[:, 'gb_60ever'] = (df['max_days_past_due_lifetime'] >= 60).astype(int)\n",
    "    \n",
    "    # Удаление временных столбцов, если они больше не нужны\n",
    "    logging.info(\"Удаление временных столбцов 'cnt' и 'max_max_days_past_due'.\")\n",
    "    df.drop(['cnt', 'max_max_days_past_due'], axis=1, inplace=True)"
   ]
  },
  {
   "cell_type": "markdown",
   "id": "660cd167",
   "metadata": {},
   "source": [
    "# Сводные статистики"
   ]
  },
  {
   "cell_type": "code",
   "execution_count": 60,
   "id": "404606b2",
   "metadata": {},
   "outputs": [
    {
     "name": "stderr",
     "output_type": "stream",
     "text": [
      "2024-12-04 16:15:14,107 - INFO - Сводные статистики по 'net_main_income'.\n",
      "2024-12-04 16:15:14,128 - INFO - Сводные статистики по 'age'.\n",
      "2024-12-04 16:15:14,141 - INFO - Сводные статистики по 'marital_status'.\n"
     ]
    },
    {
     "name": "stdout",
     "output_type": "stream",
     "text": [
      "\n",
      "Сводные статистики по net_main_income:\n",
      "count    2.356630e+05\n",
      "mean     5.173426e+03\n",
      "std      4.147526e+05\n",
      "min      1.000000e-02\n",
      "25%      1.950000e+03\n",
      "50%      2.787000e+03\n",
      "75%      4.000000e+03\n",
      "max      9.004431e+07\n",
      "Name: net_main_income, dtype: float64\n",
      "\n",
      "Сводные статистики по age:\n",
      "count    235696.000000\n",
      "mean         38.833540\n",
      "std          12.371292\n",
      "min           0.000000\n",
      "25%          29.000000\n",
      "50%          37.000000\n",
      "75%          48.000000\n",
      "max          94.000000\n",
      "Name: age, dtype: float64\n",
      "\n",
      "Сводные статистики по marital_status:\n",
      "count     235424\n",
      "unique         8\n",
      "top        Женат\n",
      "freq       99528\n",
      "Name: marital_status, dtype: object\n"
     ]
    }
   ],
   "source": [
    "logging.info(\"Сводные статистики по 'net_main_income'.\")\n",
    "print(\"\\nСводные статистики по net_main_income:\")\n",
    "print(df['net_main_income'].describe())\n",
    "\n",
    "logging.info(\"Сводные статистики по 'age'.\")\n",
    "print(\"\\nСводные статистики по age:\")\n",
    "print(df['age'].describe())\n",
    "\n",
    "logging.info(\"Сводные статистики по 'marital_status'.\")\n",
    "print(\"\\nСводные статистики по marital_status:\")\n",
    "print(df['marital_status'].describe())"
   ]
  },
  {
   "cell_type": "markdown",
   "id": "2cea4542",
   "metadata": {},
   "source": [
    "# Преобразование строковых переменных в категориальные"
   ]
  },
  {
   "cell_type": "code",
   "execution_count": 61,
   "id": "9bc509a3",
   "metadata": {},
   "outputs": [
    {
     "name": "stderr",
     "output_type": "stream",
     "text": [
      "2024-12-04 16:15:26,203 - INFO - Преобразование строковых переменных в категориальные.\n"
     ]
    }
   ],
   "source": [
    "logging.info(\"Преобразование строковых переменных в категориальные.\")\n",
    "object_columns = df.select_dtypes(include=['object']).columns\n",
    "df[object_columns] = df[object_columns].astype('category')"
   ]
  },
  {
   "cell_type": "markdown",
   "id": "9b957524",
   "metadata": {},
   "source": [
    "# Структура датафрейма после преобразований"
   ]
  },
  {
   "cell_type": "code",
   "execution_count": 88,
   "id": "cb696664",
   "metadata": {},
   "outputs": [
    {
     "name": "stderr",
     "output_type": "stream",
     "text": [
      "2024-12-04 16:39:32,164 - INFO - Просмотр структуры датафрейма после преобразований.\n"
     ]
    },
    {
     "name": "stdout",
     "output_type": "stream",
     "text": [
      "<class 'pandas.core.frame.DataFrame'>\n",
      "Int64Index: 235699 entries, 0 to 235698\n",
      "Data columns (total 82 columns):\n",
      " #   Column                          Non-Null Count   Dtype         \n",
      "---  ------                          --------------   -----         \n",
      " 0   customer_id                     235699 non-null  float64       \n",
      " 1   application_id                  235699 non-null  category      \n",
      " 2   account_id                      235698 non-null  float64       \n",
      " 3   date_of_birth                   235698 non-null  datetime64[ns]\n",
      " 4   gender                          235699 non-null  category      \n",
      " 5   city_of_living                  235699 non-null  category      \n",
      " 6   region_of_living                235699 non-null  category      \n",
      " 7   city_of_registration            235699 non-null  category      \n",
      " 8   region_of_registration          235699 non-null  category      \n",
      " 9   work_phone_number               225416 non-null  category      \n",
      " 10  mobile_phone_number             14543 non-null   category      \n",
      " 11  education                       223508 non-null  category      \n",
      " 12  marital_status                  235424 non-null  category      \n",
      " 13  dependants                      235699 non-null  int64         \n",
      " 14  number_children                 235699 non-null  int64         \n",
      " 15  months_at_current_address       235699 non-null  int64         \n",
      " 16  employment_type                 235406 non-null  category      \n",
      " 17  employment_sector               148292 non-null  category      \n",
      " 18  employment_segment              148134 non-null  category      \n",
      " 19  months_at_job                   235699 non-null  int64         \n",
      " 20  net_main_income                 235663 non-null  float64       \n",
      " 21  source_of_main_income           234635 non-null  category      \n",
      " 22  additional_income               52927 non-null   float64       \n",
      " 23  source_of_additional_income     52497 non-null   category      \n",
      " 24  reported_expenses               235691 non-null  float64       \n",
      " 25  months_with_bank                235698 non-null  float64       \n",
      " 26  current_exposure                235672 non-null  float64       \n",
      " 27  client_type                     235699 non-null  int64         \n",
      " 28  property_object                 235684 non-null  category      \n",
      " 29  eskhata_online                  235699 non-null  category      \n",
      " 30  plastic_cards                   235699 non-null  category      \n",
      " 31  deposit                         235698 non-null  float64       \n",
      " 32  state                           1 non-null       category      \n",
      " 33  rejection_reason                1 non-null       category      \n",
      " 34  branch_id                       235698 non-null  category      \n",
      " 35  product_id                      235698 non-null  category      \n",
      " 36  application_date                235698 non-null  datetime64[ns]\n",
      " 37  date_loan_granted               235698 non-null  datetime64[ns]\n",
      " 38  loan_amount                     235698 non-null  float64       \n",
      " 39  first_instalment_due_date       235688 non-null  datetime64[ns]\n",
      " 40  interest_rate                   235698 non-null  float64       \n",
      " 41  collateral_type                 26477 non-null   category      \n",
      " 42  value_of_collateral             26477 non-null   category      \n",
      " 43  property_type                   26477 non-null   category      \n",
      " 44  salary_payment_in_bank_account  235698 non-null  category      \n",
      " 45  loan_type                       235698 non-null  category      \n",
      " 46  number_of_instalments           235698 non-null  float64       \n",
      " 47  instalment_amount               234490 non-null  float64       \n",
      " 48  run_date                        235698 non-null  category      \n",
      " 49  date_account_opened             235698 non-null  datetime64[ns]\n",
      " 50  current_balance                 235698 non-null  float64       \n",
      " 51  date_last_payment               224178 non-null  datetime64[ns]\n",
      " 52  date_final_payment              235698 non-null  datetime64[ns]\n",
      " 53  due_date                        187783 non-null  datetime64[ns]\n",
      " 54  payment_amount                  187783 non-null  float64       \n",
      " 55  account_status                  235698 non-null  category      \n",
      " 56  number_of_payments_in_arrears   11872 non-null   float64       \n",
      " 57  cumulative_delinquency          235698 non-null  float64       \n",
      " 58  amount_due                      235698 non-null  float64       \n",
      " 59  principal_amount                235698 non-null  float64       \n",
      " 60  interest_accrued                235698 non-null  float64       \n",
      " 61  outstanding_balance             235698 non-null  float64       \n",
      " 62  arrears_amount                  235698 non-null  float64       \n",
      " 63  current_days_past_due           235698 non-null  float64       \n",
      " 64  max_days_past_due               235698 non-null  float64       \n",
      " 65  max_days_past_due_lifetime      235698 non-null  float64       \n",
      " 66  default_flag                    1682 non-null    category      \n",
      " 67  number_of_extensions            235698 non-null  float64       \n",
      " 68  bki_rating                      87382 non-null   category      \n",
      " 69  bki_number_of_loans             235698 non-null  float64       \n",
      " 70  ftd_1                           235698 non-null  float64       \n",
      " 71  ftd_2                           235698 non-null  float64       \n",
      " 72  ftd_3                           235698 non-null  float64       \n",
      " 73  ftd_4                           235698 non-null  float64       \n",
      " 74  age                             235696 non-null  float64       \n",
      " 75  loan_month                      235698 non-null  float64       \n",
      " 76  city_of_living_eq_registration  235699 non-null  int32         \n",
      " 77  is_collateral                   235699 non-null  int32         \n",
      " 78  previous_loans_count            235699 non-null  int32         \n",
      " 79  gb_90ever                       235699 non-null  int32         \n",
      " 80  gb_cum_dlq_90                   235699 non-null  int32         \n",
      " 81  gb_60ever                       235699 non-null  int32         \n",
      "dtypes: category(31), datetime64[ns](8), float64(32), int32(6), int64(5)\n",
      "memory usage: 113.0 MB\n",
      "None\n"
     ]
    }
   ],
   "source": [
    "logging.info(\"Просмотр структуры датафрейма после преобразований.\")\n",
    "print(df.info())"
   ]
  },
  {
   "cell_type": "markdown",
   "id": "253fc508",
   "metadata": {},
   "source": [
    "# Выбор необходимых столбцов"
   ]
  },
  {
   "cell_type": "code",
   "execution_count": 84,
   "id": "c8d07907",
   "metadata": {},
   "outputs": [],
   "source": [
    "include_vars = [\n",
    "    \"customer_id\",\n",
    "    \"account_id\",\n",
    "    \"loan_amount\",\n",
    "    \"is_collateral\",\n",
    "    \"salary_payment_in_bank_account\",\n",
    "    \"age\",\n",
    "    \"gender\",\n",
    "    \"region_of_living\",\n",
    "    \"region_of_registration\",\n",
    "    \"city_of_living_eq_registration\",\n",
    "    \"education\",\n",
    "    \"marital_status\",\n",
    "    \"dependants\",\n",
    "    \"months_at_current_address\",\n",
    "    \"employment_type\",\n",
    "    \"employment_segment\",\n",
    "    \"months_at_job\",\n",
    "    \"net_main_income\",\n",
    "    \"source_of_main_income\",\n",
    "    \"additional_income\",\n",
    "    \"reported_expenses\",\n",
    "    \"months_with_bank\",\n",
    "    \"client_type\",\n",
    "    \"property_object\",\n",
    "    \"eskhata_online\",\n",
    "    \"plastic_cards\",\n",
    "    \"deposit\",\n",
    "    \"gb_90ever\",\n",
    "    \"gb_cum_dlq_90\",\n",
    "    \"gb_60ever\",\n",
    "    \"bki_rating\",\n",
    "    \"bki_number_of_loans\",\n",
    "    \"loan_month\",\n",
    "    \"previous_loans_count\",\n",
    "    \"max_days_past_due\",\n",
    "    \n",
    "    \n",
    "    # \"collateral_type\",\n",
    "    # \"date_of_birth\",\n",
    "    # \"city_of_living\",\n",
    "    # \"city_of_registration\",\n",
    "    # \"employment_sector\",\n",
    "    # \"source_of_additional_income\",\n",
    "    # \"current_exposure\",\n",
    "    # \"branch_id\",\n",
    "    # \"product_id\",\n",
    "    # \"application_id\",\n",
    "    # \"work_phone_number\",\n",
    "    # \"mobile_phone_number\",\n",
    "    # \"number_children\",\n",
    "    # \"state\",\n",
    "    # \"rejection_reason\",\n",
    "    # \"application_date\",\n",
    "    # \"date_loan_granted\",\n",
    "    # \"first_instalment_due_date\",\n",
    "    # \"interest_rate\",\n",
    "    # \"value_of_collateral\",\n",
    "    # \"property_type\",\n",
    "    # \"loan_type\",\n",
    "    # \"number_of_instalments\",\n",
    "    # \"instalment_amount\",\n",
    "    # \"run_date\",\n",
    "    # \"date_account_opened\",\n",
    "    # \"current_balance\",\n",
    "    # \"date_last_payment\",\n",
    "    # \"date_final_payment\",\n",
    "    # \"due_date\",\n",
    "    # \"payment_amount\",\n",
    "    # \"account_status\",\n",
    "    # \"number_of_payments_in_arrears\",\n",
    "    # \"cumulative_delinquency\",\n",
    "    # \"amount_due\",\n",
    "    # \"principal_amount\",\n",
    "    # \"interest_accrued\",\n",
    "    # \"outstanding_balance\",\n",
    "    # \"arrears_amount\",\n",
    "    # \"current_days_past_due\",\n",
    "    # \"max_days_past_due_lifetime\",\n",
    "    # \"default_flag\",\n",
    "    # \"number_of_extensions\",\n",
    "    # \"ftd_1\",\n",
    "    # \"ftd_2\",\n",
    "    # \"ftd_3\",\n",
    "    # \"ftd_4\"\n",
    "]\n"
   ]
  },
  {
   "cell_type": "code",
   "execution_count": 85,
   "id": "60254e1b",
   "metadata": {},
   "outputs": [],
   "source": [
    "# Проверка наличия всех столбцов\n",
    "missing_columns = [col for col in include_vars if col not in df.columns]\n",
    "if missing_columns:\n",
    "    logging.warning(f\"Отсутствуют следующие столбцы: {missing_columns}\")"
   ]
  },
  {
   "cell_type": "code",
   "execution_count": 86,
   "id": "d113fb05",
   "metadata": {},
   "outputs": [],
   "source": [
    "# Создание нового датафрейма с выбранными столбцами (только существующие)\n",
    "existing_include_vars = [col for col in include_vars if col in df.columns]\n",
    "df_selected = df[existing_include_vars].copy()"
   ]
  },
  {
   "cell_type": "markdown",
   "id": "bf8b61eb",
   "metadata": {},
   "source": [
    "# Группировка по loan_month и вычисление показателей просроченности"
   ]
  },
  {
   "cell_type": "code",
   "execution_count": 66,
   "id": "0cc278cb",
   "metadata": {},
   "outputs": [
    {
     "name": "stderr",
     "output_type": "stream",
     "text": [
      "2024-12-04 16:15:29,628 - INFO - Группировка по 'loan_month' и вычисление показателей просроченности.\n"
     ]
    }
   ],
   "source": [
    "logging.info(\"Группировка по 'loan_month' и вычисление показателей просроченности.\")\n",
    "rep_gb_90ever_month = df_selected.groupby('loan_month').agg(\n",
    "    count=('gb_90ever', 'count'),\n",
    "    bad_num=('gb_90ever', 'sum'),\n",
    "    bad_rate=('gb_90ever', 'mean')\n",
    ").reset_index()\n",
    "\n",
    "rep_gb_cum_dlq_90_month = df_selected.groupby('loan_month').agg(\n",
    "    count=('gb_cum_dlq_90', 'count'),\n",
    "    bad_num=('gb_cum_dlq_90', 'sum'),\n",
    "    bad_rate=('gb_cum_dlq_90', 'mean')\n",
    ").reset_index()\n",
    "\n",
    "rep_gb_60ever_month = df_selected.groupby('loan_month').agg(\n",
    "    count=('gb_60ever', 'count'),\n",
    "    bad_num=('gb_60ever', 'sum'),\n",
    "    bad_rate=('gb_60ever', 'mean')\n",
    ").reset_index()\n"
   ]
  },
  {
   "cell_type": "markdown",
   "id": "97cb0219",
   "metadata": {},
   "source": [
    "# Создание выборок по типу занятости"
   ]
  },
  {
   "cell_type": "code",
   "execution_count": 67,
   "id": "2c53b2e8",
   "metadata": {},
   "outputs": [
    {
     "name": "stderr",
     "output_type": "stream",
     "text": [
      "2024-12-04 16:15:29,697 - INFO - Создание выборок по типу занятости.\n"
     ]
    }
   ],
   "source": [
    "logging.info(\"Создание выборок по типу занятости.\")\n",
    "sample_empl = df_selected[\n",
    "    (df_selected['employment_type'] == \"Работает в организации\") &\n",
    "    (df_selected['employment_segment'].isin([\n",
    "        \"Мед. работник\",\n",
    "        \"Работник в сфере образования\",\n",
    "        \"Работник госструктур\",\n",
    "        \"Работник НПО (Ташкилоти Чамъияти)\",\n",
    "        \"Работник производства\",\n",
    "        \"Работник сельского хозяйство\",\n",
    "        \"Работник частной организации\",\n",
    "        \"Строитель\",\n",
    "        \"Экономист\"\n",
    "    ]))\n",
    "].copy()\n",
    "\n",
    "sample_bus = df_selected[\n",
    "    (df_selected['employment_type'] == \"Собственный бизнес\") &\n",
    "    (df_selected['employment_segment'].isin([\n",
    "        \"Агро\",\n",
    "        \"Производство\",\n",
    "        \"Торговля\",\n",
    "        \"Услуги\",\n",
    "        \"Услуги Мастера\",\n",
    "        \"Услуги транспорта\"\n",
    "    ]))\n",
    "].copy()\n",
    "\n",
    "sample_other = df_selected[\n",
    "    (df_selected['employment_type'] == \"Имеет другой источник дохода\") &\n",
    "    (df_selected['employment_segment'].isna())\n",
    "].copy()"
   ]
  },
  {
   "cell_type": "code",
   "execution_count": 68,
   "id": "613f53e3",
   "metadata": {},
   "outputs": [
    {
     "name": "stderr",
     "output_type": "stream",
     "text": [
      "2024-12-04 16:15:29,991 - INFO - Вывод размеров выборок.\n"
     ]
    },
    {
     "name": "stdout",
     "output_type": "stream",
     "text": [
      "\n",
      "Размер выборки для работников: 51547\n",
      "Размер выборки для бизнесменов: 79305\n",
      "Размер выборки для других источников дохода: 85248\n"
     ]
    }
   ],
   "source": [
    "logging.info(\"Вывод размеров выборок.\")\n",
    "print(f\"\\nРазмер выборки для работников: {sample_empl.shape[0]}\")\n",
    "print(f\"Размер выборки для бизнесменов: {sample_bus.shape[0]}\")\n",
    "print(f\"Размер выборки для других источников дохода: {sample_other.shape[0]}\")"
   ]
  },
  {
   "cell_type": "markdown",
   "id": "c329898b",
   "metadata": {},
   "source": [
    "# Создание выборки для анализа"
   ]
  },
  {
   "cell_type": "code",
   "execution_count": 69,
   "id": "f1fad5b9",
   "metadata": {},
   "outputs": [
    {
     "name": "stderr",
     "output_type": "stream",
     "text": [
      "2024-12-04 16:15:30,471 - INFO - Структура выбранной выборки:\n"
     ]
    },
    {
     "name": "stdout",
     "output_type": "stream",
     "text": [
      "\n",
      "Структура выбранной выборки:\n",
      "<class 'pandas.core.frame.DataFrame'>\n",
      "Int64Index: 51547 entries, 8 to 235698\n",
      "Data columns (total 33 columns):\n",
      " #   Column                          Non-Null Count  Dtype   \n",
      "---  ------                          --------------  -----   \n",
      " 0   customer_id                     51547 non-null  float64 \n",
      " 1   account_id                      51546 non-null  float64 \n",
      " 2   loan_amount                     51546 non-null  float64 \n",
      " 3   is_collateral                   51547 non-null  int32   \n",
      " 4   salary_payment_in_bank_account  51546 non-null  category\n",
      " 5   age                             51545 non-null  float64 \n",
      " 6   gender                          51547 non-null  category\n",
      " 7   region_of_living                51547 non-null  category\n",
      " 8   region_of_registration          51547 non-null  category\n",
      " 9   city_of_living_eq_registration  51547 non-null  int32   \n",
      " 10  education                       48721 non-null  category\n",
      " 11  marital_status                  51463 non-null  category\n",
      " 12  dependants                      51547 non-null  int64   \n",
      " 13  months_at_current_address       51547 non-null  int64   \n",
      " 14  employment_type                 51547 non-null  category\n",
      " 15  employment_segment              51547 non-null  category\n",
      " 16  months_at_job                   51547 non-null  int64   \n",
      " 17  net_main_income                 51543 non-null  float64 \n",
      " 18  source_of_main_income           51302 non-null  category\n",
      " 19  additional_income               22899 non-null  float64 \n",
      " 20  reported_expenses               51547 non-null  float64 \n",
      " 21  months_with_bank                51546 non-null  float64 \n",
      " 22  property_object                 51543 non-null  category\n",
      " 23  eskhata_online                  51547 non-null  category\n",
      " 24  plastic_cards                   51547 non-null  category\n",
      " 25  deposit                         51546 non-null  float64 \n",
      " 26  gb_90ever                       51547 non-null  int32   \n",
      " 27  gb_cum_dlq_90                   51547 non-null  int32   \n",
      " 28  gb_60ever                       51547 non-null  int32   \n",
      " 29  bki_rating                      19774 non-null  category\n",
      " 30  bki_number_of_loans             51546 non-null  float64 \n",
      " 31  loan_month                      51546 non-null  float64 \n",
      " 32  previous_loans_count            51547 non-null  int32   \n",
      "dtypes: category(13), float64(11), int32(6), int64(3)\n",
      "memory usage: 7.7 MB\n",
      "None\n"
     ]
    }
   ],
   "source": [
    "# Пример выбора выборки для анализа\n",
    "sample = sample_empl.copy()\n",
    "# sample = sample_bus.copy()\n",
    "# sample = sample_other.copy()\n",
    "\n",
    "logging.info(\"Структура выбранной выборки:\")\n",
    "print(sample.info())"
   ]
  },
  {
   "cell_type": "markdown",
   "id": "511e0fdc",
   "metadata": {},
   "source": [
    "# Определение целевой переменной"
   ]
  },
  {
   "cell_type": "code",
   "execution_count": 70,
   "id": "bf11c526",
   "metadata": {},
   "outputs": [
    {
     "name": "stderr",
     "output_type": "stream",
     "text": [
      "2024-12-04 16:15:30,890 - INFO - Создание целевой переменной 'gb'.\n"
     ]
    }
   ],
   "source": [
    "# Создание переменной gb\n",
    "logging.info(\"Создание целевой переменной 'gb'.\")\n",
    "sample.loc[:, 'gb'] = sample['gb_60ever']\\\n",
    "\n",
    "# sample.loc[:, 'gb'] = sample['gb_cum_dlq_90']"
   ]
  },
  {
   "cell_type": "markdown",
   "id": "28073e31",
   "metadata": {},
   "source": [
    "# Семплирование\n",
    "## Создание выборок для Train и Test"
   ]
  },
  {
   "cell_type": "code",
   "execution_count": 71,
   "id": "1ee947f3",
   "metadata": {},
   "outputs": [],
   "source": [
    "# Выборка для обучения модели\n",
    "dev = sample[(sample['loan_month'] >= 202110) & (sample['loan_month'] < 202210)].drop(columns=['loan_month']).copy()\n",
    "\n",
    "# Выборка для тестирования модели на временную устойчивость\n",
    "oot = sample[(sample['loan_month'] >= 202210) & (sample['loan_month'] < 202303)].copy()\n",
    "\n",
    "# Выборка для кросс-валидации внутри обучающей выборки\n",
    "oot2 = sample[(sample['loan_month'] >= 202207) & (sample['loan_month'] < 202210)].copy()\n",
    "\n",
    "# Выборка для финального обучения модели\n",
    "dev_final = sample[(sample['loan_month'] >= 202110) & (sample['loan_month'] < 202302)].drop(columns=['loan_month']).copy()"
   ]
  },
  {
   "cell_type": "code",
   "execution_count": 72,
   "id": "4169890d",
   "metadata": {},
   "outputs": [
    {
     "name": "stderr",
     "output_type": "stream",
     "text": [
      "2024-12-04 16:15:31,902 - INFO - Изучение распределений в выборках.\n"
     ]
    },
    {
     "name": "stdout",
     "output_type": "stream",
     "text": [
      "\n",
      "Распределение в Development Sample:\n",
      "          gb\n",
      "count  27834\n",
      "sum      599\n",
      "            gb\n",
      "count  1.00000\n",
      "sum    0.02152\n",
      "\n",
      "Распределение в Out-of-time Sample:\n",
      "          gb\n",
      "count  12429\n",
      "sum       80\n",
      "             gb\n",
      "count  1.000000\n",
      "sum    0.006437\n",
      "\n",
      "Распределение в Out-of-time 2 Sample:\n",
      "         gb\n",
      "count  9355\n",
      "sum     139\n",
      "             gb\n",
      "count  1.000000\n",
      "sum    0.014858\n",
      "\n",
      "Распределение в Development Final Sample:\n",
      "          gb\n",
      "count  37636\n",
      "sum      669\n",
      "             gb\n",
      "count  1.000000\n",
      "sum    0.017776\n"
     ]
    }
   ],
   "source": [
    "# Изучение распределений\n",
    "logging.info(\"Изучение распределений в выборках.\")\n",
    "print(\"\\nРаспределение в Development Sample:\")\n",
    "print(dev[['gb']].agg(['count', 'sum']))\n",
    "print(dev[['gb']].agg(['count', 'sum']) / len(dev))\n",
    "\n",
    "print(\"\\nРаспределение в Out-of-time Sample:\")\n",
    "print(oot[['gb']].agg(['count', 'sum']))\n",
    "print(oot[['gb']].agg(['count', 'sum']) / len(oot))\n",
    "\n",
    "print(\"\\nРаспределение в Out-of-time 2 Sample:\")\n",
    "print(oot2[['gb']].agg(['count', 'sum']))\n",
    "print(oot2[['gb']].agg(['count', 'sum']) / len(oot2))\n",
    "\n",
    "print(\"\\nРаспределение в Development Final Sample:\")\n",
    "print(dev_final[['gb']].agg(['count', 'sum']))\n",
    "print(dev_final[['gb']].agg(['count', 'sum']) / len(dev_final))"
   ]
  },
  {
   "cell_type": "code",
   "execution_count": 73,
   "id": "c1142592",
   "metadata": {},
   "outputs": [
    {
     "name": "stderr",
     "output_type": "stream",
     "text": [
      "2024-12-04 16:15:32,405 - INFO - Вывод количества строк в каждой выборке.\n"
     ]
    },
    {
     "name": "stdout",
     "output_type": "stream",
     "text": [
      "\n",
      "Количество строк в Development Sample: 27834\n",
      "Количество строк в Out-of-time Sample: 12429\n",
      "Количество строк в Out-of-time 2 Sample: 9355\n",
      "Количество строк в Development Final Sample: 37636\n"
     ]
    }
   ],
   "source": [
    "# Вывод количества строк в каждой выборке\n",
    "logging.info(\"Вывод количества строк в каждой выборке.\")\n",
    "print(f\"\\nКоличество строк в Development Sample: {dev.shape[0]}\")\n",
    "print(f\"Количество строк в Out-of-time Sample: {oot.shape[0]}\")\n",
    "print(f\"Количество строк в Out-of-time 2 Sample: {oot2.shape[0]}\")\n",
    "print(f\"Количество строк в Development Final Sample: {dev_final.shape[0]}\")\n"
   ]
  },
  {
   "cell_type": "markdown",
   "id": "6b89b94a",
   "metadata": {},
   "source": [
    "# MACHINE LEARNING"
   ]
  },
  {
   "cell_type": "code",
   "execution_count": 90,
   "id": "ff0c4f60",
   "metadata": {},
   "outputs": [],
   "source": [
    "import pandas as pd\n",
    "import numpy as np\n",
    "import scorecardpy as sc\n",
    "from sklearn.linear_model import LogisticRegression\n",
    "from sklearn.model_selection import train_test_split\n",
    "from sklearn.metrics import roc_auc_score, classification_report, confusion_matrix\n",
    "from sklearn.preprocessing import StandardScaler\n",
    "from sklearn.impute import SimpleImputer\n",
    "from sklearn.feature_selection import VarianceThreshold\n",
    "from imblearn.over_sampling import SMOTE\n",
    "import matplotlib.pyplot as plt\n",
    "import seaborn as sns\n",
    "import logging\n",
    "import json\n",
    "import statsmodels.api as sm\n",
    "import joblib\n",
    "\n"
   ]
  },
  {
   "cell_type": "markdown",
   "id": "227a6d75",
   "metadata": {},
   "source": [
    "# Расчет Information Value (IV)"
   ]
  },
  {
   "cell_type": "code",
   "execution_count": 91,
   "id": "8a2da978",
   "metadata": {},
   "outputs": [
    {
     "name": "stderr",
     "output_type": "stream",
     "text": [
      "2024-12-04 16:48:02,223 - INFO - Расчет Information Value (IV) для всех переменных в dev_final.\n"
     ]
    }
   ],
   "source": [
    "logging.info(\"Расчет Information Value (IV) для всех переменных в dev_final.\")\n",
    "iv_values_final = sc.iv(dt=dev_final, y='gb')\n"
   ]
  },
  {
   "cell_type": "code",
   "execution_count": 92,
   "id": "69b8d3b9",
   "metadata": {},
   "outputs": [
    {
     "name": "stdout",
     "output_type": "stream",
     "text": [
      "Структура iv_values_final:\n",
      "Index(['variable', 'info_value'], dtype='object')\n",
      "\n",
      "Первые 5 строк iv_values_final:\n",
      "             variable  info_value\n",
      "15          gb_60ever   17.210712\n",
      "4       gb_cum_dlq_90    7.762180\n",
      "31          gb_90ever    6.407824\n",
      "16  additional_income    2.209887\n",
      "9         loan_amount    1.865620\n"
     ]
    }
   ],
   "source": [
    "# Просмотр структуры и первых строк DataFrame iv_values_final\n",
    "print(\"Структура iv_values_final:\")\n",
    "print(iv_values_final.columns)\n",
    "\n",
    "print(\"\\nПервые 5 строк iv_values_final:\")\n",
    "print(iv_values_final.head())\n"
   ]
  },
  {
   "cell_type": "markdown",
   "id": "db37d050",
   "metadata": {},
   "source": [
    "# Отбор переменных на основе IV"
   ]
  },
  {
   "cell_type": "code",
   "execution_count": 93,
   "id": "7578b522",
   "metadata": {},
   "outputs": [
    {
     "name": "stderr",
     "output_type": "stream",
     "text": [
      "2024-12-04 16:49:00,476 - INFO - Отбор переменных на основе IV >= 0.01.\n",
      "2024-12-04 16:49:00,480 - INFO - Переменные с info_value >= 0.01: ['gb_60ever', 'gb_cum_dlq_90', 'gb_90ever', 'additional_income', 'loan_amount', 'reported_expenses', 'net_main_income', 'months_at_job', 'deposit', 'bki_number_of_loans', 'months_with_bank', 'age', 'employment_segment', 'marital_status', 'months_at_current_address', 'bki_rating', 'customer_id', 'salary_payment_in_bank_account', 'region_of_living', 'dependants', 'region_of_registration', 'education', 'eskhata_online', 'gender', 'property_object', 'city_of_living_eq_registration', 'source_of_main_income', 'plastic_cards', 'previous_loans_count']\n"
     ]
    }
   ],
   "source": [
    "logging.info(\"Отбор переменных на основе IV >= 0.01.\")\n",
    "selected_vars_iv = iv_values_final[\n",
    "    iv_values_final['info_value'] >= 0.01\n",
    "]['variable'].tolist()\n",
    "\n",
    "logging.info(f\"Переменные с info_value >= 0.01: {selected_vars_iv}\")\n"
   ]
  },
  {
   "cell_type": "markdown",
   "id": "4e20d4ff",
   "metadata": {},
   "source": [
    "# Вычисление доли пропусков для отобранных переменных"
   ]
  },
  {
   "cell_type": "code",
   "execution_count": 97,
   "id": "3e34a37a",
   "metadata": {},
   "outputs": [
    {
     "name": "stderr",
     "output_type": "stream",
     "text": [
      "2024-12-04 16:51:15,466 - INFO - Расчет доли пропусков для отобранных переменных.\n"
     ]
    }
   ],
   "source": [
    "logging.info(\"Расчет доли пропусков для отобранных переменных.\")\n",
    "# Рассчитываем долю пропусков для отобранных переменных\n",
    "missing_rates = dev_final[selected_vars_iv].isnull().mean().reset_index()\n",
    "missing_rates.columns = ['variable', 'missing']\n"
   ]
  },
  {
   "cell_type": "code",
   "execution_count": 101,
   "id": "899b9671",
   "metadata": {},
   "outputs": [
    {
     "name": "stderr",
     "output_type": "stream",
     "text": [
      "2024-12-04 16:52:06,818 - INFO - Структура missing_rates:\n"
     ]
    },
    {
     "data": {
      "text/plain": [
       "Index(['variable', 'missing'], dtype='object')"
      ]
     },
     "metadata": {},
     "output_type": "display_data"
    },
    {
     "name": "stderr",
     "output_type": "stream",
     "text": [
      "2024-12-04 16:52:06,823 - INFO - Первые 5 строк missing_rates:\n"
     ]
    },
    {
     "data": {
      "text/html": [
       "<div>\n",
       "<style scoped>\n",
       "    .dataframe tbody tr th:only-of-type {\n",
       "        vertical-align: middle;\n",
       "    }\n",
       "\n",
       "    .dataframe tbody tr th {\n",
       "        vertical-align: top;\n",
       "    }\n",
       "\n",
       "    .dataframe thead th {\n",
       "        text-align: right;\n",
       "    }\n",
       "</style>\n",
       "<table border=\"1\" class=\"dataframe\">\n",
       "  <thead>\n",
       "    <tr style=\"text-align: right;\">\n",
       "      <th></th>\n",
       "      <th>variable</th>\n",
       "      <th>missing</th>\n",
       "    </tr>\n",
       "  </thead>\n",
       "  <tbody>\n",
       "    <tr>\n",
       "      <th>0</th>\n",
       "      <td>gb_60ever</td>\n",
       "      <td>0.000000</td>\n",
       "    </tr>\n",
       "    <tr>\n",
       "      <th>1</th>\n",
       "      <td>gb_cum_dlq_90</td>\n",
       "      <td>0.000000</td>\n",
       "    </tr>\n",
       "    <tr>\n",
       "      <th>2</th>\n",
       "      <td>gb_90ever</td>\n",
       "      <td>0.000000</td>\n",
       "    </tr>\n",
       "    <tr>\n",
       "      <th>3</th>\n",
       "      <td>additional_income</td>\n",
       "      <td>0.545382</td>\n",
       "    </tr>\n",
       "    <tr>\n",
       "      <th>4</th>\n",
       "      <td>loan_amount</td>\n",
       "      <td>0.000000</td>\n",
       "    </tr>\n",
       "  </tbody>\n",
       "</table>\n",
       "</div>"
      ],
      "text/plain": [
       "            variable   missing\n",
       "0          gb_60ever  0.000000\n",
       "1      gb_cum_dlq_90  0.000000\n",
       "2          gb_90ever  0.000000\n",
       "3  additional_income  0.545382\n",
       "4        loan_amount  0.000000"
      ]
     },
     "metadata": {},
     "output_type": "display_data"
    }
   ],
   "source": [
    "# Просмотр первых строк\n",
    "logging.info(\"Структура missing_rates:\")\n",
    "display(missing_rates.columns)\n",
    "\n",
    "logging.info(\"Первые 5 строк missing_rates:\")\n",
    "display(missing_rates.head())\n"
   ]
  },
  {
   "cell_type": "markdown",
   "id": "5e3abf56",
   "metadata": {},
   "source": [
    "# Объединение IV и missing_rates"
   ]
  },
  {
   "cell_type": "code",
   "execution_count": 100,
   "id": "9fb100d2",
   "metadata": {},
   "outputs": [
    {
     "name": "stderr",
     "output_type": "stream",
     "text": [
      "2024-12-04 16:52:01,805 - INFO - Структура iv_with_missing:\n"
     ]
    },
    {
     "data": {
      "text/plain": [
       "Index(['variable', 'info_value', 'missing'], dtype='object')"
      ]
     },
     "metadata": {},
     "output_type": "display_data"
    },
    {
     "name": "stderr",
     "output_type": "stream",
     "text": [
      "2024-12-04 16:52:01,811 - INFO - Первые 5 строк iv_with_missing:\n"
     ]
    },
    {
     "data": {
      "text/html": [
       "<div>\n",
       "<style scoped>\n",
       "    .dataframe tbody tr th:only-of-type {\n",
       "        vertical-align: middle;\n",
       "    }\n",
       "\n",
       "    .dataframe tbody tr th {\n",
       "        vertical-align: top;\n",
       "    }\n",
       "\n",
       "    .dataframe thead th {\n",
       "        text-align: right;\n",
       "    }\n",
       "</style>\n",
       "<table border=\"1\" class=\"dataframe\">\n",
       "  <thead>\n",
       "    <tr style=\"text-align: right;\">\n",
       "      <th></th>\n",
       "      <th>variable</th>\n",
       "      <th>info_value</th>\n",
       "      <th>missing</th>\n",
       "    </tr>\n",
       "  </thead>\n",
       "  <tbody>\n",
       "    <tr>\n",
       "      <th>0</th>\n",
       "      <td>gb_60ever</td>\n",
       "      <td>17.210712</td>\n",
       "      <td>0.000000</td>\n",
       "    </tr>\n",
       "    <tr>\n",
       "      <th>1</th>\n",
       "      <td>gb_cum_dlq_90</td>\n",
       "      <td>7.762180</td>\n",
       "      <td>0.000000</td>\n",
       "    </tr>\n",
       "    <tr>\n",
       "      <th>2</th>\n",
       "      <td>gb_90ever</td>\n",
       "      <td>6.407824</td>\n",
       "      <td>0.000000</td>\n",
       "    </tr>\n",
       "    <tr>\n",
       "      <th>3</th>\n",
       "      <td>additional_income</td>\n",
       "      <td>2.209887</td>\n",
       "      <td>0.545382</td>\n",
       "    </tr>\n",
       "    <tr>\n",
       "      <th>4</th>\n",
       "      <td>loan_amount</td>\n",
       "      <td>1.865620</td>\n",
       "      <td>0.000000</td>\n",
       "    </tr>\n",
       "  </tbody>\n",
       "</table>\n",
       "</div>"
      ],
      "text/plain": [
       "            variable  info_value   missing\n",
       "0          gb_60ever   17.210712  0.000000\n",
       "1      gb_cum_dlq_90    7.762180  0.000000\n",
       "2          gb_90ever    6.407824  0.000000\n",
       "3  additional_income    2.209887  0.545382\n",
       "4        loan_amount    1.865620  0.000000"
      ]
     },
     "metadata": {},
     "output_type": "display_data"
    }
   ],
   "source": [
    "# Объединяем IV и долю пропусков\n",
    "iv_with_missing = iv_values_final.merge(missing_rates, on='variable')\n",
    "\n",
    "# Просмотр первых строк\n",
    "logging.info(\"Структура iv_with_missing:\")\n",
    "display(iv_with_missing.columns)\n",
    "\n",
    "logging.info(\"Первые 5 строк iv_with_missing:\")\n",
    "display(iv_with_missing.head())\n"
   ]
  },
  {
   "cell_type": "markdown",
   "id": "302e62e5",
   "metadata": {},
   "source": [
    "# Фильтрация переменных по IV и пропускам"
   ]
  },
  {
   "cell_type": "code",
   "execution_count": 104,
   "id": "cf709ea2",
   "metadata": {},
   "outputs": [
    {
     "name": "stderr",
     "output_type": "stream",
     "text": [
      "2024-12-04 16:52:46,894 - INFO - Фильтрация переменных по info_value >= 0.01 и missing <= 0.95.\n",
      "2024-12-04 16:52:46,899 - INFO - Отобранные переменные после фильтрации по IV и пропускам: ['additional_income', 'loan_amount', 'reported_expenses', 'net_main_income', 'months_at_job', 'deposit', 'bki_number_of_loans', 'months_with_bank', 'age', 'employment_segment', 'marital_status', 'months_at_current_address', 'bki_rating', 'salary_payment_in_bank_account', 'region_of_living', 'dependants', 'region_of_registration', 'education', 'eskhata_online', 'gender', 'property_object', 'city_of_living_eq_registration', 'source_of_main_income', 'plastic_cards', 'previous_loans_count']\n"
     ]
    }
   ],
   "source": [
    "logging.info(\"Фильтрация переменных по info_value >= 0.01 и missing <= 0.95.\")\n",
    "# Отбор переменных с info_value >= 0.01 и пропусками <= 0.95\n",
    "filtered_iv = iv_with_missing[\n",
    "    (iv_with_missing['info_value'] >= 0.01) &\n",
    "    (iv_with_missing['missing'] <= 0.95)\n",
    "]\n",
    "\n",
    "# Извлечение списка переменных\n",
    "selected_vars_final = filtered_iv['variable'].tolist()\n",
    "\n",
    "# Исключение определенных переменных\n",
    "vars_to_remove = [\"customer_id\", \"account_id\", \"gb_90ever\", \"gb_60ever\", \"gb_cum_dlq_90\", \"current_exposure\"]\n",
    "selected_vars_final = [var for var in selected_vars_final if var not in vars_to_remove]\n",
    "\n",
    "logging.info(f\"Отобранные переменные после фильтрации по IV и пропускам: {selected_vars_final}\")\n"
   ]
  },
  {
   "cell_type": "markdown",
   "id": "ed94cec2",
   "metadata": {},
   "source": [
    "# Создание dev_final_sel"
   ]
  },
  {
   "cell_type": "code",
   "execution_count": 105,
   "id": "46137ab2",
   "metadata": {},
   "outputs": [
    {
     "name": "stderr",
     "output_type": "stream",
     "text": [
      "2024-12-04 16:53:10,951 - INFO - Создание dev_final_sel с отобранными переменными.\n",
      "2024-12-04 16:53:10,958 - INFO - Количество строк в dev_final_sel: 37636\n",
      "2024-12-04 16:53:10,959 - INFO - Количество столбцов в dev_final_sel: 26\n"
     ]
    }
   ],
   "source": [
    "logging.info(\"Создание dev_final_sel с отобранными переменными.\")\n",
    "dev_final_sel = dev_final[selected_vars_final + ['gb']].copy()\n",
    "\n",
    "logging.info(f\"Количество строк в dev_final_sel: {dev_final_sel.shape[0]}\")\n",
    "logging.info(f\"Количество столбцов в dev_final_sel: {dev_final_sel.shape[1]}\")\n"
   ]
  },
  {
   "cell_type": "markdown",
   "id": "26abb4ab",
   "metadata": {},
   "source": [
    "# Определение правил биннинга"
   ]
  },
  {
   "cell_type": "code",
   "execution_count": 107,
   "id": "d4067ba6",
   "metadata": {},
   "outputs": [
    {
     "name": "stderr",
     "output_type": "stream",
     "text": [
      "2024-12-04 16:53:29,487 - INFO - Определение правил биннинга для переменных.\n"
     ]
    }
   ],
   "source": [
    "logging.info(\"Определение правил биннинга для переменных.\")\n",
    "\n",
    "breaks = {\n",
    "    'education': [\n",
    "        \"Высшее\", \"Ученая степень\", \"2 и более высших\",\n",
    "        \"Среднее\", \"Начальное\",\n",
    "        \"Среднее специальное\",\n",
    "        \"Неоконченное высшее\"\n",
    "    ],\n",
    "    'region_of_living': [\n",
    "        \"Вилояти Сугд\", \n",
    "        \"Вилояти Хатлон\", \"ВМКБ\",\n",
    "        \"Душанбе\", \n",
    "        \"Нохияхои тобеи Чумхури\"\n",
    "    ],\n",
    "    'marital_status': [\n",
    "        \"Женат\", \"Сожитель\",\n",
    "        \"Замужем\", \"Вдова\", \"Разведена\",\n",
    "        \"Холост\", \n",
    "        \"Не замужем\", \"Разведен\"\n",
    "    ],\n",
    "    'employment_segment': [\n",
    "        \"Мед. работник\", \"Работник в сфере образования\", \"Экономист\", \"Работник НПО (Ташкилоти Чамъияти)\",\n",
    "        \"Работник госструктур\", \"Строитель\",\n",
    "        \"Работник производства\", \"Работник сельского хозяйство\",\n",
    "        \"Работник частной организации\"\n",
    "    ],\n",
    "    'source_of_main_income': [\n",
    "        \"Доход семьи\",\n",
    "        \"Зарплата по основному месту работы\",\n",
    "        \"Предпринимательство\",\n",
    "        \"Пенсия\", \"Алименты\", \"Прочее\", \"missing\"\n",
    "    ],\n",
    "    'months_at_job': [31, 61, 145, 277],\n",
    "    'months_with_bank': [10, 25, 79],\n",
    "    'net_main_income': [\"missing\", \"1600\", 3400]\n",
    "}\n"
   ]
  },
  {
   "cell_type": "code",
   "execution_count": null,
   "id": "2b612db4",
   "metadata": {},
   "outputs": [],
   "source": []
  }
 ],
 "metadata": {
  "kernelspec": {
   "display_name": "Python 3 (ipykernel)",
   "language": "python",
   "name": "python3"
  },
  "language_info": {
   "codemirror_mode": {
    "name": "ipython",
    "version": 3
   },
   "file_extension": ".py",
   "mimetype": "text/x-python",
   "name": "python",
   "nbconvert_exporter": "python",
   "pygments_lexer": "ipython3",
   "version": "3.10.9"
  }
 },
 "nbformat": 4,
 "nbformat_minor": 5
}
