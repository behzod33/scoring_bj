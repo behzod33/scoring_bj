{
 "cells": [
  {
   "cell_type": "markdown",
   "id": "c6090d67",
   "metadata": {},
   "source": [
    "# DATA PROCESSING"
   ]
  },
  {
   "cell_type": "markdown",
   "id": "b026b5b8",
   "metadata": {},
   "source": [
    "# Импорт необходимых модумей"
   ]
  },
  {
   "cell_type": "code",
   "execution_count": 1,
   "id": "31e2bffc",
   "metadata": {},
   "outputs": [],
   "source": [
    "import re\n",
    "import os\n",
    "import logging\n",
    "import pandas as pd\n",
    "import numpy as np\n",
    "import matplotlib.pyplot as plt\n",
    "import seaborn as sns\n",
    "\n",
    "from datetime import datetime\n",
    "from dateutil.relativedelta import relativedelta\n"
   ]
  },
  {
   "cell_type": "markdown",
   "id": "c0638cfb",
   "metadata": {},
   "source": [
    "# Загрузка данных"
   ]
  },
  {
   "cell_type": "code",
   "execution_count": 2,
   "id": "2cd61d38",
   "metadata": {},
   "outputs": [],
   "source": [
    "# Настройка логирования для отслеживания выполнения кода\n",
    "logging.basicConfig(level=logging.INFO, format='%(asctime)s - %(levelname)s - %(message)s')\n",
    "\n",
    "# Устанавливание рабочей директории\n",
    "os.chdir(\"source/\")\n",
    "\n",
    "# Отображать все столбцы\n",
    "pd.set_option('display.max_columns', None)\n",
    "\n",
    "# Отображать все строки\n",
    "pd.set_option('display.max_rows', None)\n"
   ]
  },
  {
   "cell_type": "code",
   "execution_count": 3,
   "id": "0d7a81e1",
   "metadata": {},
   "outputs": [],
   "source": [
    "# Загрузка данных из Excel\n",
    "# data_loan = pd.read_excel(\"full_data.xlsx\", sheet_name='ListPI1.csv')\n",
    "# data_app = pd.read_excel(\"full_data.xlsx\", sheet_name='ListP1.csv')\n",
    "# data_beh = pd.read_excel(\"full_data.xlsx\", sheet_name='ListB1.csv')"
   ]
  },
  {
   "cell_type": "code",
   "execution_count": 4,
   "id": "cf6ded01",
   "metadata": {},
   "outputs": [
    {
     "name": "stderr",
     "output_type": "stream",
     "text": [
      "C:\\Users\\F_Jumaev\\AppData\\Local\\Temp\\ipykernel_16728\\501409823.py:2: DtypeWarning: Columns (17,18,25,26,31,32,33) have mixed types. Specify dtype option on import or set low_memory=False.\n",
      "  data_app = pd.read_csv('ListPI1.csv')\n",
      "C:\\Users\\F_Jumaev\\AppData\\Local\\Temp\\ipykernel_16728\\501409823.py:4: DtypeWarning: Columns (20) have mixed types. Specify dtype option on import or set low_memory=False.\n",
      "  data_beh = pd.read_csv('ListB1.csv')\n"
     ]
    }
   ],
   "source": [
    "# Загрузка данных из CSV файлов\n",
    "data_app = pd.read_csv('ListPI1.csv')\n",
    "data_loan = pd.read_csv('ListP1.csv')\n",
    "data_beh = pd.read_csv('ListB1.csv')\n"
   ]
  },
  {
   "cell_type": "markdown",
   "id": "d6970b99",
   "metadata": {},
   "source": [
    "# Объединение данных по Account ID"
   ]
  },
  {
   "cell_type": "code",
   "execution_count": 5,
   "id": "df25e925",
   "metadata": {},
   "outputs": [
    {
     "name": "stderr",
     "output_type": "stream",
     "text": [
      "2024-12-05 16:52:50,087 - INFO - Объединение данных по 'Account ID'.\n"
     ]
    }
   ],
   "source": [
    "logging.info(\"Объединение данных по 'Account ID'.\")\n",
    "res = data_loan.merge(data_app, on=\"Account ID\", how=\"left\", suffixes=('_loan', '_app'))\n",
    "res = res.merge(data_beh, on=\"Account ID\", how=\"left\", suffixes=('', '_beh'))\n"
   ]
  },
  {
   "cell_type": "markdown",
   "id": "215a7a56",
   "metadata": {},
   "source": [
    "# Преобразование названий столбцов в snake_case"
   ]
  },
  {
   "cell_type": "code",
   "execution_count": 6,
   "id": "6d6aa65c",
   "metadata": {},
   "outputs": [
    {
     "name": "stderr",
     "output_type": "stream",
     "text": [
      "2024-12-05 16:52:51,772 - INFO - Просмотр название столбцов до преобразования\n"
     ]
    },
    {
     "name": "stdout",
     "output_type": "stream",
     "text": [
      "0 <=> Customer ID_loan\n",
      "1 <=> Application ID_loan\n",
      "2 <=> Account ID\n",
      "3 <=> Branch ID\n",
      "4 <=> Product ID\n",
      "5 <=> Application date\n",
      "6 <=> Date loan granted\n",
      "7 <=> Loan Amount\n",
      "8 <=> First instalment due date\n",
      "9 <=> Interest rate\n",
      "10 <=> Collateral type\n",
      "11 <=> Value of collateral\n",
      "12 <=> Property type/Collateral type\n",
      "13 <=> Salary payment in bank account\n",
      "14 <=> Loan type\n",
      "15 <=> # of instalments\n",
      "16 <=> Instalment amount/Min instalment amount\n",
      "17 <=> Customer ID_app\n",
      "18 <=> Application ID_app\n",
      "19 <=> Date of birth\n",
      "20 <=> Gender\n",
      "21 <=> City of Living\n",
      "22 <=> Region of living\n",
      "23 <=> City of registration\n",
      "24 <=> Region of registration\n",
      "25 <=> Work phone number\n",
      "26 <=> Mobile phone number\n",
      "27 <=> Education\n",
      "28 <=> Marital status\n",
      "29 <=> # Dependants\n",
      "30 <=> # Children\n",
      "31 <=> # months at current address\n",
      "32 <=> Employment type\n",
      "33 <=> Employment sector\n",
      "34 <=> Employment segment\n",
      "35 <=> # months at job\n",
      "36 <=> Net main income\n",
      "37 <=> Source of main income\n",
      "38 <=> Additional income\n",
      "39 <=> Source of additional income\n",
      "40 <=> Reported expenses\n",
      "41 <=> Months with bank\n",
      "42 <=> Current exposure\n",
      "43 <=> Client type \n",
      "44 <=> Property object\n",
      "45 <=> Наличие Эсхата онлайн\n",
      "46 <=> Наличие пластиковых карт\n",
      "47 <=> Наличие депозита\n",
      "48 <=> Состояние\n",
      "49 <=> Причина отказа\n",
      "50 <=> Run Date\n",
      "51 <=> Customer ID\n",
      "52 <=> Date account opened\n",
      "53 <=> Current balance\n",
      "54 <=> Date last payment\n",
      "55 <=> Date final payment\n",
      "56 <=> Due date\n",
      "57 <=> Payment amount\n",
      "58 <=> Account status\n",
      "59 <=> # of payments in arrears\n",
      "60 <=> кумулятивная просрочка\n",
      "61 <=> Amount due – Instalment\n",
      "62 <=> Principal amount\n",
      "63 <=> Interest accrued\n",
      "64 <=> Outstanding balance\n",
      "65 <=> Arrears amount\n",
      "66 <=> Current days past due\n",
      "67 <=> Maximum days past due\n",
      "68 <=> Maximum days past due lifetime\n",
      "69 <=> Default flag\n",
      "70 <=> Кол-во пролонгации\n",
      "71 <=> Рейтинг БКИ\n",
      "72 <=> Количество кредитов  в БКИ (заемщик)\n",
      "73 <=> FTD-1\n",
      "74 <=> FTD-2\n",
      "75 <=> FTD-3\n",
      "76 <=> FTD-4\n"
     ]
    }
   ],
   "source": [
    "logging.info(\"Просмотр название столбцов до преобразования\")\n",
    "for i, column in enumerate(res.columns.to_list()):\n",
    "    print(f\"{i} <=> {column}\")"
   ]
  },
  {
   "cell_type": "code",
   "execution_count": 7,
   "id": "5de8df11",
   "metadata": {},
   "outputs": [
    {
     "name": "stderr",
     "output_type": "stream",
     "text": [
      "2024-12-05 16:52:51,803 - INFO - Преобразование названий столбцов в snake_case.\n"
     ]
    }
   ],
   "source": [
    "# Функция для преобразования названий столбцов в snake_case\n",
    "def to_snake_case(column_name):\n",
    "    return column_name.lower().replace('.', '_').replace('#', 'number').replace(' ', '_')\n",
    "\n",
    "logging.info(\"Преобразование названий столбцов в snake_case.\")\n",
    "\n",
    "res.columns = [to_snake_case(col) for col in res.columns]\n"
   ]
  },
  {
   "cell_type": "code",
   "execution_count": 8,
   "id": "5f7f10bc",
   "metadata": {},
   "outputs": [
    {
     "name": "stderr",
     "output_type": "stream",
     "text": [
      "2024-12-05 16:52:51,822 - INFO - Просмотр название столбцов после преобразования\n"
     ]
    },
    {
     "name": "stdout",
     "output_type": "stream",
     "text": [
      "0 <=> customer_id_loan\n",
      "1 <=> application_id_loan\n",
      "2 <=> account_id\n",
      "3 <=> branch_id\n",
      "4 <=> product_id\n",
      "5 <=> application_date\n",
      "6 <=> date_loan_granted\n",
      "7 <=> loan_amount\n",
      "8 <=> first_instalment_due_date\n",
      "9 <=> interest_rate\n",
      "10 <=> collateral_type\n",
      "11 <=> value_of_collateral\n",
      "12 <=> property_type/collateral_type\n",
      "13 <=> salary_payment_in_bank_account\n",
      "14 <=> loan_type\n",
      "15 <=> number_of_instalments\n",
      "16 <=> instalment_amount/min_instalment_amount\n",
      "17 <=> customer_id_app\n",
      "18 <=> application_id_app\n",
      "19 <=> date_of_birth\n",
      "20 <=> gender\n",
      "21 <=> city_of_living\n",
      "22 <=> region_of_living\n",
      "23 <=> city_of_registration\n",
      "24 <=> region_of_registration\n",
      "25 <=> work_phone_number\n",
      "26 <=> mobile_phone_number\n",
      "27 <=> education\n",
      "28 <=> marital_status\n",
      "29 <=> number_dependants\n",
      "30 <=> number_children\n",
      "31 <=> number_months_at_current_address\n",
      "32 <=> employment_type\n",
      "33 <=> employment_sector\n",
      "34 <=> employment_segment\n",
      "35 <=> number_months_at_job\n",
      "36 <=> net_main_income\n",
      "37 <=> source_of_main_income\n",
      "38 <=> additional_income\n",
      "39 <=> source_of_additional_income\n",
      "40 <=> reported_expenses\n",
      "41 <=> months_with_bank\n",
      "42 <=> current_exposure\n",
      "43 <=> client_type_\n",
      "44 <=> property_object\n",
      "45 <=> наличие_эсхата_онлайн\n",
      "46 <=> наличие_пластиковых_карт\n",
      "47 <=> наличие_депозита\n",
      "48 <=> состояние\n",
      "49 <=> причина_отказа\n",
      "50 <=> run_date\n",
      "51 <=> customer_id\n",
      "52 <=> date_account_opened\n",
      "53 <=> current_balance\n",
      "54 <=> date_last_payment\n",
      "55 <=> date_final_payment\n",
      "56 <=> due_date\n",
      "57 <=> payment_amount\n",
      "58 <=> account_status\n",
      "59 <=> number_of_payments_in_arrears\n",
      "60 <=> кумулятивная_просрочка\n",
      "61 <=> amount_due_–_instalment\n",
      "62 <=> principal_amount\n",
      "63 <=> interest_accrued\n",
      "64 <=> outstanding_balance\n",
      "65 <=> arrears_amount\n",
      "66 <=> current_days_past_due\n",
      "67 <=> maximum_days_past_due\n",
      "68 <=> maximum_days_past_due_lifetime\n",
      "69 <=> default_flag\n",
      "70 <=> кол-во_пролонгации\n",
      "71 <=> рейтинг_бки\n",
      "72 <=> количество_кредитов__в_бки_(заемщик)\n",
      "73 <=> ftd-1\n",
      "74 <=> ftd-2\n",
      "75 <=> ftd-3\n",
      "76 <=> ftd-4\n"
     ]
    }
   ],
   "source": [
    "logging.info(\"Просмотр название столбцов после преобразования\")\n",
    "for i, column in enumerate(res.columns.to_list()):\n",
    "    print(f\"{i} <=> {column}\")"
   ]
  },
  {
   "cell_type": "markdown",
   "id": "4fb66e62",
   "metadata": {},
   "source": [
    "# Удаление дублириющих переменных"
   ]
  },
  {
   "cell_type": "code",
   "execution_count": 9,
   "id": "744f4c2c",
   "metadata": {},
   "outputs": [],
   "source": [
    "res = res.drop(['application_id_app', 'customer_id_app', 'customer_id'], axis=1)\n",
    "res = res.rename(columns={\n",
    "    'customer_id_loan': 'customer_id',\n",
    "    'application_id_loan': 'application_id'\n",
    "})\n"
   ]
  },
  {
   "cell_type": "markdown",
   "id": "a4f81d55",
   "metadata": {},
   "source": [
    "# Переименование столбцов с русскими именами на английские"
   ]
  },
  {
   "cell_type": "code",
   "execution_count": 10,
   "id": "e70f238b",
   "metadata": {},
   "outputs": [
    {
     "name": "stderr",
     "output_type": "stream",
     "text": [
      "2024-12-05 16:52:52,557 - INFO - Просмотр название столбцов после переименования\n"
     ]
    },
    {
     "data": {
      "text/html": [
       "<div>\n",
       "<style scoped>\n",
       "    .dataframe tbody tr th:only-of-type {\n",
       "        vertical-align: middle;\n",
       "    }\n",
       "\n",
       "    .dataframe tbody tr th {\n",
       "        vertical-align: top;\n",
       "    }\n",
       "\n",
       "    .dataframe thead th {\n",
       "        text-align: right;\n",
       "    }\n",
       "</style>\n",
       "<table border=\"1\" class=\"dataframe\">\n",
       "  <thead>\n",
       "    <tr style=\"text-align: right;\">\n",
       "      <th></th>\n",
       "      <th>customer_id</th>\n",
       "      <th>application_id</th>\n",
       "      <th>account_id</th>\n",
       "      <th>branch_id</th>\n",
       "      <th>product_id</th>\n",
       "      <th>application_date</th>\n",
       "      <th>date_loan_granted</th>\n",
       "      <th>loan_amount</th>\n",
       "      <th>first_instalment_due_date</th>\n",
       "      <th>interest_rate</th>\n",
       "      <th>collateral_type</th>\n",
       "      <th>value_of_collateral</th>\n",
       "      <th>property_type/collateral_type</th>\n",
       "      <th>salary_payment_in_bank_account</th>\n",
       "      <th>loan_type</th>\n",
       "      <th>number_of_instalments</th>\n",
       "      <th>instalment_amount/min_instalment_amount</th>\n",
       "      <th>date_of_birth</th>\n",
       "      <th>gender</th>\n",
       "      <th>city_of_living</th>\n",
       "      <th>region_of_living</th>\n",
       "      <th>city_of_registration</th>\n",
       "      <th>region_of_registration</th>\n",
       "      <th>work_phone_number</th>\n",
       "      <th>mobile_phone_number</th>\n",
       "      <th>education</th>\n",
       "      <th>marital_status</th>\n",
       "      <th>number_dependants</th>\n",
       "      <th>number_children</th>\n",
       "      <th>number_months_at_current_address</th>\n",
       "      <th>employment_type</th>\n",
       "      <th>employment_sector</th>\n",
       "      <th>employment_segment</th>\n",
       "      <th>number_months_at_job</th>\n",
       "      <th>net_main_income</th>\n",
       "      <th>source_of_main_income</th>\n",
       "      <th>additional_income</th>\n",
       "      <th>source_of_additional_income</th>\n",
       "      <th>reported_expenses</th>\n",
       "      <th>months_with_bank</th>\n",
       "      <th>current_exposure</th>\n",
       "      <th>client_type_</th>\n",
       "      <th>property_object</th>\n",
       "      <th>наличие_эсхата_онлайн</th>\n",
       "      <th>наличие_пластиковых_карт</th>\n",
       "      <th>наличие_депозита</th>\n",
       "      <th>состояние</th>\n",
       "      <th>причина_отказа</th>\n",
       "      <th>run_date</th>\n",
       "      <th>date_account_opened</th>\n",
       "      <th>current_balance</th>\n",
       "      <th>date_last_payment</th>\n",
       "      <th>date_final_payment</th>\n",
       "      <th>due_date</th>\n",
       "      <th>payment_amount</th>\n",
       "      <th>account_status</th>\n",
       "      <th>number_of_payments_in_arrears</th>\n",
       "      <th>кумулятивная_просрочка</th>\n",
       "      <th>amount_due_–_instalment</th>\n",
       "      <th>principal_amount</th>\n",
       "      <th>interest_accrued</th>\n",
       "      <th>outstanding_balance</th>\n",
       "      <th>arrears_amount</th>\n",
       "      <th>current_days_past_due</th>\n",
       "      <th>maximum_days_past_due</th>\n",
       "      <th>maximum_days_past_due_lifetime</th>\n",
       "      <th>default_flag</th>\n",
       "      <th>кол-во_пролонгации</th>\n",
       "      <th>рейтинг_бки</th>\n",
       "      <th>количество_кредитов__в_бки_(заемщик)</th>\n",
       "      <th>ftd-1</th>\n",
       "      <th>ftd-2</th>\n",
       "      <th>ftd-3</th>\n",
       "      <th>ftd-4</th>\n",
       "    </tr>\n",
       "  </thead>\n",
       "  <tbody>\n",
       "    <tr>\n",
       "      <th>0</th>\n",
       "      <td>25121517058</td>\n",
       "      <td>764446/КР</td>\n",
       "      <td>35619143897</td>\n",
       "      <td>ФИЛИАЛИ ЧСК \"БОНКИ ЭСХАТА\" ДАР Ш.ДУШАНБЕ</td>\n",
       "      <td>Карзхои гуногунмаксад</td>\n",
       "      <td>2021-10-19</td>\n",
       "      <td>2021-11-02</td>\n",
       "      <td>12300.0</td>\n",
       "      <td>2021-12-02</td>\n",
       "      <td>31.0</td>\n",
       "      <td>NaN</td>\n",
       "      <td>NaN</td>\n",
       "      <td>NaN</td>\n",
       "      <td>Нет</td>\n",
       "      <td>Многоцелевые кредиты_005_аннуитет</td>\n",
       "      <td>18</td>\n",
       "      <td>863.0</td>\n",
       "      <td>1998-01-07 00:00:00</td>\n",
       "      <td>Женский</td>\n",
       "      <td>нохияи Фирдавси</td>\n",
       "      <td>Душанбе</td>\n",
       "      <td>Фирдавси</td>\n",
       "      <td>Душанбе</td>\n",
       "      <td>992000805085</td>\n",
       "      <td>NaN</td>\n",
       "      <td>Высшее</td>\n",
       "      <td>Не замужем</td>\n",
       "      <td>0</td>\n",
       "      <td>2</td>\n",
       "      <td>0</td>\n",
       "      <td>Имеет другой источник дохода</td>\n",
       "      <td>NaN</td>\n",
       "      <td>NaN</td>\n",
       "      <td>0</td>\n",
       "      <td>3121.36</td>\n",
       "      <td>Прочее</td>\n",
       "      <td>NaN</td>\n",
       "      <td>NaN</td>\n",
       "      <td>1272.0</td>\n",
       "      <td>36</td>\n",
       "      <td>0.0</td>\n",
       "      <td>0</td>\n",
       "      <td>Квартира</td>\n",
       "      <td>Да</td>\n",
       "      <td>Да</td>\n",
       "      <td>0.0</td>\n",
       "      <td>NaN</td>\n",
       "      <td>NaN</td>\n",
       "      <td>2023-06-30</td>\n",
       "      <td>2021-11-02</td>\n",
       "      <td>0.0</td>\n",
       "      <td>NaN</td>\n",
       "      <td>2023-04-20</td>\n",
       "      <td>NaN</td>\n",
       "      <td>NaN</td>\n",
       "      <td>Закрыт</td>\n",
       "      <td>NaN</td>\n",
       "      <td>0</td>\n",
       "      <td>0.0</td>\n",
       "      <td>0.0</td>\n",
       "      <td>0.0</td>\n",
       "      <td>0.0</td>\n",
       "      <td>0.0</td>\n",
       "      <td>0</td>\n",
       "      <td>0</td>\n",
       "      <td>0</td>\n",
       "      <td>NaN</td>\n",
       "      <td>0</td>\n",
       "      <td>NaN</td>\n",
       "      <td>0</td>\n",
       "      <td>0</td>\n",
       "      <td>0</td>\n",
       "      <td>0</td>\n",
       "      <td>0</td>\n",
       "    </tr>\n",
       "    <tr>\n",
       "      <th>1</th>\n",
       "      <td>847140141</td>\n",
       "      <td>766801/КР</td>\n",
       "      <td>35733163635</td>\n",
       "      <td>ФИЛИАЛИ ЧСК \"БОНКИ ЭСХАТА\" ДАР Ш.ИСТАРАВШАН</td>\n",
       "      <td>Карзхои гуногунмаксад</td>\n",
       "      <td>2021-10-25</td>\n",
       "      <td>2021-11-01</td>\n",
       "      <td>20000.0</td>\n",
       "      <td>2021-12-01</td>\n",
       "      <td>30.0</td>\n",
       "      <td>1) Поручитель;</td>\n",
       "      <td>1) 0;</td>\n",
       "      <td>1) Поручитель;</td>\n",
       "      <td>Нет</td>\n",
       "      <td>Многоцелевые кредиты_005_аннуитет</td>\n",
       "      <td>24</td>\n",
       "      <td>1118.0</td>\n",
       "      <td>1969-05-16 00:00:00</td>\n",
       "      <td>Мужской</td>\n",
       "      <td>Истаравшан</td>\n",
       "      <td>Вилояти Сугд</td>\n",
       "      <td>Истаравшан</td>\n",
       "      <td>Вилояти Сугд</td>\n",
       "      <td>992985675558</td>\n",
       "      <td>NaN</td>\n",
       "      <td>Среднее</td>\n",
       "      <td>Женат</td>\n",
       "      <td>2</td>\n",
       "      <td>2</td>\n",
       "      <td>6</td>\n",
       "      <td>Собственный бизнес</td>\n",
       "      <td>Самозанятость</td>\n",
       "      <td>Услуги транспорта</td>\n",
       "      <td>276</td>\n",
       "      <td>3800.00</td>\n",
       "      <td>Прочее</td>\n",
       "      <td>NaN</td>\n",
       "      <td>NaN</td>\n",
       "      <td>1500.0</td>\n",
       "      <td>143</td>\n",
       "      <td>4691.17</td>\n",
       "      <td>1</td>\n",
       "      <td>Дом</td>\n",
       "      <td>Нет</td>\n",
       "      <td>Нет</td>\n",
       "      <td>0.0</td>\n",
       "      <td>NaN</td>\n",
       "      <td>NaN</td>\n",
       "      <td>2023-06-30</td>\n",
       "      <td>2021-11-01</td>\n",
       "      <td>0.0</td>\n",
       "      <td>2023-04-26</td>\n",
       "      <td>2023-10-26</td>\n",
       "      <td>2023-06-01</td>\n",
       "      <td>1118.0</td>\n",
       "      <td>Закрыт</td>\n",
       "      <td>NaN</td>\n",
       "      <td>0</td>\n",
       "      <td>0.0</td>\n",
       "      <td>0.0</td>\n",
       "      <td>0.0</td>\n",
       "      <td>0.0</td>\n",
       "      <td>0.0</td>\n",
       "      <td>0</td>\n",
       "      <td>0</td>\n",
       "      <td>0</td>\n",
       "      <td>NaN</td>\n",
       "      <td>0</td>\n",
       "      <td>NaN</td>\n",
       "      <td>5</td>\n",
       "      <td>0</td>\n",
       "      <td>0</td>\n",
       "      <td>0</td>\n",
       "      <td>0</td>\n",
       "    </tr>\n",
       "  </tbody>\n",
       "</table>\n",
       "</div>"
      ],
      "text/plain": [
       "   customer_id application_id   account_id  \\\n",
       "0  25121517058      764446/КР  35619143897   \n",
       "1    847140141      766801/КР  35733163635   \n",
       "\n",
       "                                     branch_id             product_id  \\\n",
       "0     ФИЛИАЛИ ЧСК \"БОНКИ ЭСХАТА\" ДАР Ш.ДУШАНБЕ  Карзхои гуногунмаксад   \n",
       "1  ФИЛИАЛИ ЧСК \"БОНКИ ЭСХАТА\" ДАР Ш.ИСТАРАВШАН  Карзхои гуногунмаксад   \n",
       "\n",
       "  application_date date_loan_granted  loan_amount first_instalment_due_date  \\\n",
       "0       2021-10-19        2021-11-02      12300.0                2021-12-02   \n",
       "1       2021-10-25        2021-11-01      20000.0                2021-12-01   \n",
       "\n",
       "   interest_rate  collateral_type value_of_collateral  \\\n",
       "0           31.0              NaN                 NaN   \n",
       "1           30.0  1) Поручитель;               1) 0;    \n",
       "\n",
       "  property_type/collateral_type salary_payment_in_bank_account  \\\n",
       "0                           NaN                            Нет   \n",
       "1               1) Поручитель;                             Нет   \n",
       "\n",
       "                           loan_type  number_of_instalments  \\\n",
       "0  Многоцелевые кредиты_005_аннуитет                     18   \n",
       "1  Многоцелевые кредиты_005_аннуитет                     24   \n",
       "\n",
       "   instalment_amount/min_instalment_amount        date_of_birth   gender  \\\n",
       "0                                    863.0  1998-01-07 00:00:00  Женский   \n",
       "1                                   1118.0  1969-05-16 00:00:00  Мужской   \n",
       "\n",
       "    city_of_living region_of_living city_of_registration  \\\n",
       "0  нохияи Фирдавси          Душанбе             Фирдавси   \n",
       "1       Истаравшан     Вилояти Сугд           Истаравшан   \n",
       "\n",
       "  region_of_registration work_phone_number mobile_phone_number education  \\\n",
       "0                Душанбе      992000805085                 NaN    Высшее   \n",
       "1           Вилояти Сугд      992985675558                 NaN   Среднее   \n",
       "\n",
       "  marital_status  number_dependants  number_children  \\\n",
       "0     Не замужем                  0                2   \n",
       "1          Женат                  2                2   \n",
       "\n",
       "   number_months_at_current_address               employment_type  \\\n",
       "0                                 0  Имеет другой источник дохода   \n",
       "1                                 6            Собственный бизнес   \n",
       "\n",
       "  employment_sector employment_segment  number_months_at_job  net_main_income  \\\n",
       "0               NaN                NaN                     0          3121.36   \n",
       "1     Самозанятость  Услуги транспорта                   276          3800.00   \n",
       "\n",
       "  source_of_main_income  additional_income source_of_additional_income  \\\n",
       "0                Прочее                NaN                         NaN   \n",
       "1                Прочее                NaN                         NaN   \n",
       "\n",
       "   reported_expenses months_with_bank current_exposure  client_type_  \\\n",
       "0             1272.0               36              0.0             0   \n",
       "1             1500.0              143          4691.17             1   \n",
       "\n",
       "  property_object наличие_эсхата_онлайн наличие_пластиковых_карт  \\\n",
       "0        Квартира                    Да                       Да   \n",
       "1             Дом                   Нет                      Нет   \n",
       "\n",
       "  наличие_депозита состояние причина_отказа    run_date date_account_opened  \\\n",
       "0              0.0       NaN            NaN  2023-06-30          2021-11-02   \n",
       "1              0.0       NaN            NaN  2023-06-30          2021-11-01   \n",
       "\n",
       "   current_balance date_last_payment date_final_payment    due_date  \\\n",
       "0              0.0               NaN         2023-04-20         NaN   \n",
       "1              0.0        2023-04-26         2023-10-26  2023-06-01   \n",
       "\n",
       "   payment_amount account_status  number_of_payments_in_arrears  \\\n",
       "0             NaN         Закрыт                            NaN   \n",
       "1          1118.0         Закрыт                            NaN   \n",
       "\n",
       "   кумулятивная_просрочка  amount_due_–_instalment  principal_amount  \\\n",
       "0                       0                      0.0               0.0   \n",
       "1                       0                      0.0               0.0   \n",
       "\n",
       "   interest_accrued  outstanding_balance  arrears_amount  \\\n",
       "0               0.0                  0.0             0.0   \n",
       "1               0.0                  0.0             0.0   \n",
       "\n",
       "   current_days_past_due  maximum_days_past_due  \\\n",
       "0                      0                      0   \n",
       "1                      0                      0   \n",
       "\n",
       "   maximum_days_past_due_lifetime default_flag  кол-во_пролонгации  \\\n",
       "0                               0          NaN                   0   \n",
       "1                               0          NaN                   0   \n",
       "\n",
       "  рейтинг_бки  количество_кредитов__в_бки_(заемщик)  ftd-1  ftd-2  ftd-3  \\\n",
       "0         NaN                                     0      0      0      0   \n",
       "1         NaN                                     5      0      0      0   \n",
       "\n",
       "   ftd-4  \n",
       "0      0  \n",
       "1      0  "
      ]
     },
     "execution_count": 10,
     "metadata": {},
     "output_type": "execute_result"
    }
   ],
   "source": [
    "logging.info(\"Просмотр название столбцов после переименования\")\n",
    "res.head(2)"
   ]
  },
  {
   "cell_type": "code",
   "execution_count": 11,
   "id": "67ee511c",
   "metadata": {},
   "outputs": [
    {
     "name": "stderr",
     "output_type": "stream",
     "text": [
      "2024-12-05 16:52:52,672 - INFO - Переименование столбцов с русскими именами на английские.\n"
     ]
    }
   ],
   "source": [
    "rename_columns = {\n",
    "    'наличие_эсхата_онлайн': 'eskhata_online',\n",
    "    'наличие_пластиковых_карт': 'plastic_cards',\n",
    "    'наличие_депозита': 'deposit',\n",
    "    'кумулятивная_просрочка': 'cumulative_delinquency',\n",
    "    'рейтинг_бки': 'bki_rating',\n",
    "    'количество_кредитов__в_бки_(заемщик)': 'bki_number_of_loans',\n",
    "    'состояние': 'state',\n",
    "    'причина_отказа': 'rejection_reason',\n",
    "    'кол-во_пролонгации': 'number_of_extensions'\n",
    "    \n",
    "}\n",
    "logging.info(\"Переименование столбцов с русскими именами на английские.\")\n",
    "res.rename(columns=rename_columns, inplace=True)\n"
   ]
  },
  {
   "cell_type": "markdown",
   "id": "ec8e8dc6",
   "metadata": {},
   "source": [
    "# Переименование столбцов для удобства"
   ]
  },
  {
   "cell_type": "code",
   "execution_count": 12,
   "id": "2abc1ae6",
   "metadata": {},
   "outputs": [
    {
     "name": "stderr",
     "output_type": "stream",
     "text": [
      "2024-12-05 16:52:52,700 - INFO - Переименование столбцов\n"
     ]
    }
   ],
   "source": [
    "rename_columns = {\n",
    "    'client_type_': 'client_type',\n",
    "    'number_dependants':'dependants',\n",
    "    'number_months_at_current_address':'months_at_current_address',\n",
    "    'number_months_at_job':'months_at_job',\n",
    "    'property_type/collateral_type': 'property_type',\n",
    "    'instalment_amount/min_instalment_amount': 'instalment_amount',\n",
    "    'amount_due_–_instalment': 'amount_due',\n",
    "    'maximum_days_past_due': 'max_days_past_due',\n",
    "    'maximum_days_past_due_lifetime': 'max_days_past_due_lifetime',\n",
    "    'ftd-1': 'ftd_1',\n",
    "    'ftd-2': 'ftd_2',\n",
    "    'ftd-3': 'ftd_3',\n",
    "    'ftd-4': 'ftd_4'\n",
    "}\n",
    "\n",
    "logging.info(\"Переименование столбцов\")\n",
    "res.rename(columns=rename_columns, inplace=True)"
   ]
  },
  {
   "cell_type": "code",
   "execution_count": 13,
   "id": "3a4c4193",
   "metadata": {},
   "outputs": [
    {
     "name": "stderr",
     "output_type": "stream",
     "text": [
      "2024-12-05 16:52:52,715 - INFO - Просмотр название столбцов после переименования\n"
     ]
    },
    {
     "data": {
      "text/html": [
       "<div>\n",
       "<style scoped>\n",
       "    .dataframe tbody tr th:only-of-type {\n",
       "        vertical-align: middle;\n",
       "    }\n",
       "\n",
       "    .dataframe tbody tr th {\n",
       "        vertical-align: top;\n",
       "    }\n",
       "\n",
       "    .dataframe thead th {\n",
       "        text-align: right;\n",
       "    }\n",
       "</style>\n",
       "<table border=\"1\" class=\"dataframe\">\n",
       "  <thead>\n",
       "    <tr style=\"text-align: right;\">\n",
       "      <th></th>\n",
       "      <th>customer_id</th>\n",
       "      <th>application_id</th>\n",
       "      <th>account_id</th>\n",
       "      <th>branch_id</th>\n",
       "      <th>product_id</th>\n",
       "      <th>application_date</th>\n",
       "      <th>date_loan_granted</th>\n",
       "      <th>loan_amount</th>\n",
       "      <th>first_instalment_due_date</th>\n",
       "      <th>interest_rate</th>\n",
       "      <th>collateral_type</th>\n",
       "      <th>value_of_collateral</th>\n",
       "      <th>property_type</th>\n",
       "      <th>salary_payment_in_bank_account</th>\n",
       "      <th>loan_type</th>\n",
       "      <th>number_of_instalments</th>\n",
       "      <th>instalment_amount</th>\n",
       "      <th>date_of_birth</th>\n",
       "      <th>gender</th>\n",
       "      <th>city_of_living</th>\n",
       "      <th>region_of_living</th>\n",
       "      <th>city_of_registration</th>\n",
       "      <th>region_of_registration</th>\n",
       "      <th>work_phone_number</th>\n",
       "      <th>mobile_phone_number</th>\n",
       "      <th>education</th>\n",
       "      <th>marital_status</th>\n",
       "      <th>dependants</th>\n",
       "      <th>number_children</th>\n",
       "      <th>months_at_current_address</th>\n",
       "      <th>employment_type</th>\n",
       "      <th>employment_sector</th>\n",
       "      <th>employment_segment</th>\n",
       "      <th>months_at_job</th>\n",
       "      <th>net_main_income</th>\n",
       "      <th>source_of_main_income</th>\n",
       "      <th>additional_income</th>\n",
       "      <th>source_of_additional_income</th>\n",
       "      <th>reported_expenses</th>\n",
       "      <th>months_with_bank</th>\n",
       "      <th>current_exposure</th>\n",
       "      <th>client_type</th>\n",
       "      <th>property_object</th>\n",
       "      <th>eskhata_online</th>\n",
       "      <th>plastic_cards</th>\n",
       "      <th>deposit</th>\n",
       "      <th>state</th>\n",
       "      <th>rejection_reason</th>\n",
       "      <th>run_date</th>\n",
       "      <th>date_account_opened</th>\n",
       "      <th>current_balance</th>\n",
       "      <th>date_last_payment</th>\n",
       "      <th>date_final_payment</th>\n",
       "      <th>due_date</th>\n",
       "      <th>payment_amount</th>\n",
       "      <th>account_status</th>\n",
       "      <th>number_of_payments_in_arrears</th>\n",
       "      <th>cumulative_delinquency</th>\n",
       "      <th>amount_due</th>\n",
       "      <th>principal_amount</th>\n",
       "      <th>interest_accrued</th>\n",
       "      <th>outstanding_balance</th>\n",
       "      <th>arrears_amount</th>\n",
       "      <th>current_days_past_due</th>\n",
       "      <th>max_days_past_due</th>\n",
       "      <th>max_days_past_due_lifetime</th>\n",
       "      <th>default_flag</th>\n",
       "      <th>number_of_extensions</th>\n",
       "      <th>bki_rating</th>\n",
       "      <th>bki_number_of_loans</th>\n",
       "      <th>ftd_1</th>\n",
       "      <th>ftd_2</th>\n",
       "      <th>ftd_3</th>\n",
       "      <th>ftd_4</th>\n",
       "    </tr>\n",
       "  </thead>\n",
       "  <tbody>\n",
       "    <tr>\n",
       "      <th>0</th>\n",
       "      <td>25121517058</td>\n",
       "      <td>764446/КР</td>\n",
       "      <td>35619143897</td>\n",
       "      <td>ФИЛИАЛИ ЧСК \"БОНКИ ЭСХАТА\" ДАР Ш.ДУШАНБЕ</td>\n",
       "      <td>Карзхои гуногунмаксад</td>\n",
       "      <td>2021-10-19</td>\n",
       "      <td>2021-11-02</td>\n",
       "      <td>12300.0</td>\n",
       "      <td>2021-12-02</td>\n",
       "      <td>31.0</td>\n",
       "      <td>NaN</td>\n",
       "      <td>NaN</td>\n",
       "      <td>NaN</td>\n",
       "      <td>Нет</td>\n",
       "      <td>Многоцелевые кредиты_005_аннуитет</td>\n",
       "      <td>18</td>\n",
       "      <td>863.0</td>\n",
       "      <td>1998-01-07 00:00:00</td>\n",
       "      <td>Женский</td>\n",
       "      <td>нохияи Фирдавси</td>\n",
       "      <td>Душанбе</td>\n",
       "      <td>Фирдавси</td>\n",
       "      <td>Душанбе</td>\n",
       "      <td>992000805085</td>\n",
       "      <td>NaN</td>\n",
       "      <td>Высшее</td>\n",
       "      <td>Не замужем</td>\n",
       "      <td>0</td>\n",
       "      <td>2</td>\n",
       "      <td>0</td>\n",
       "      <td>Имеет другой источник дохода</td>\n",
       "      <td>NaN</td>\n",
       "      <td>NaN</td>\n",
       "      <td>0</td>\n",
       "      <td>3121.36</td>\n",
       "      <td>Прочее</td>\n",
       "      <td>NaN</td>\n",
       "      <td>NaN</td>\n",
       "      <td>1272.0</td>\n",
       "      <td>36</td>\n",
       "      <td>0.0</td>\n",
       "      <td>0</td>\n",
       "      <td>Квартира</td>\n",
       "      <td>Да</td>\n",
       "      <td>Да</td>\n",
       "      <td>0.0</td>\n",
       "      <td>NaN</td>\n",
       "      <td>NaN</td>\n",
       "      <td>2023-06-30</td>\n",
       "      <td>2021-11-02</td>\n",
       "      <td>0.0</td>\n",
       "      <td>NaN</td>\n",
       "      <td>2023-04-20</td>\n",
       "      <td>NaN</td>\n",
       "      <td>NaN</td>\n",
       "      <td>Закрыт</td>\n",
       "      <td>NaN</td>\n",
       "      <td>0</td>\n",
       "      <td>0.0</td>\n",
       "      <td>0.0</td>\n",
       "      <td>0.0</td>\n",
       "      <td>0.0</td>\n",
       "      <td>0.0</td>\n",
       "      <td>0</td>\n",
       "      <td>0</td>\n",
       "      <td>0</td>\n",
       "      <td>NaN</td>\n",
       "      <td>0</td>\n",
       "      <td>NaN</td>\n",
       "      <td>0</td>\n",
       "      <td>0</td>\n",
       "      <td>0</td>\n",
       "      <td>0</td>\n",
       "      <td>0</td>\n",
       "    </tr>\n",
       "    <tr>\n",
       "      <th>1</th>\n",
       "      <td>847140141</td>\n",
       "      <td>766801/КР</td>\n",
       "      <td>35733163635</td>\n",
       "      <td>ФИЛИАЛИ ЧСК \"БОНКИ ЭСХАТА\" ДАР Ш.ИСТАРАВШАН</td>\n",
       "      <td>Карзхои гуногунмаксад</td>\n",
       "      <td>2021-10-25</td>\n",
       "      <td>2021-11-01</td>\n",
       "      <td>20000.0</td>\n",
       "      <td>2021-12-01</td>\n",
       "      <td>30.0</td>\n",
       "      <td>1) Поручитель;</td>\n",
       "      <td>1) 0;</td>\n",
       "      <td>1) Поручитель;</td>\n",
       "      <td>Нет</td>\n",
       "      <td>Многоцелевые кредиты_005_аннуитет</td>\n",
       "      <td>24</td>\n",
       "      <td>1118.0</td>\n",
       "      <td>1969-05-16 00:00:00</td>\n",
       "      <td>Мужской</td>\n",
       "      <td>Истаравшан</td>\n",
       "      <td>Вилояти Сугд</td>\n",
       "      <td>Истаравшан</td>\n",
       "      <td>Вилояти Сугд</td>\n",
       "      <td>992985675558</td>\n",
       "      <td>NaN</td>\n",
       "      <td>Среднее</td>\n",
       "      <td>Женат</td>\n",
       "      <td>2</td>\n",
       "      <td>2</td>\n",
       "      <td>6</td>\n",
       "      <td>Собственный бизнес</td>\n",
       "      <td>Самозанятость</td>\n",
       "      <td>Услуги транспорта</td>\n",
       "      <td>276</td>\n",
       "      <td>3800.00</td>\n",
       "      <td>Прочее</td>\n",
       "      <td>NaN</td>\n",
       "      <td>NaN</td>\n",
       "      <td>1500.0</td>\n",
       "      <td>143</td>\n",
       "      <td>4691.17</td>\n",
       "      <td>1</td>\n",
       "      <td>Дом</td>\n",
       "      <td>Нет</td>\n",
       "      <td>Нет</td>\n",
       "      <td>0.0</td>\n",
       "      <td>NaN</td>\n",
       "      <td>NaN</td>\n",
       "      <td>2023-06-30</td>\n",
       "      <td>2021-11-01</td>\n",
       "      <td>0.0</td>\n",
       "      <td>2023-04-26</td>\n",
       "      <td>2023-10-26</td>\n",
       "      <td>2023-06-01</td>\n",
       "      <td>1118.0</td>\n",
       "      <td>Закрыт</td>\n",
       "      <td>NaN</td>\n",
       "      <td>0</td>\n",
       "      <td>0.0</td>\n",
       "      <td>0.0</td>\n",
       "      <td>0.0</td>\n",
       "      <td>0.0</td>\n",
       "      <td>0.0</td>\n",
       "      <td>0</td>\n",
       "      <td>0</td>\n",
       "      <td>0</td>\n",
       "      <td>NaN</td>\n",
       "      <td>0</td>\n",
       "      <td>NaN</td>\n",
       "      <td>5</td>\n",
       "      <td>0</td>\n",
       "      <td>0</td>\n",
       "      <td>0</td>\n",
       "      <td>0</td>\n",
       "    </tr>\n",
       "  </tbody>\n",
       "</table>\n",
       "</div>"
      ],
      "text/plain": [
       "   customer_id application_id   account_id  \\\n",
       "0  25121517058      764446/КР  35619143897   \n",
       "1    847140141      766801/КР  35733163635   \n",
       "\n",
       "                                     branch_id             product_id  \\\n",
       "0     ФИЛИАЛИ ЧСК \"БОНКИ ЭСХАТА\" ДАР Ш.ДУШАНБЕ  Карзхои гуногунмаксад   \n",
       "1  ФИЛИАЛИ ЧСК \"БОНКИ ЭСХАТА\" ДАР Ш.ИСТАРАВШАН  Карзхои гуногунмаксад   \n",
       "\n",
       "  application_date date_loan_granted  loan_amount first_instalment_due_date  \\\n",
       "0       2021-10-19        2021-11-02      12300.0                2021-12-02   \n",
       "1       2021-10-25        2021-11-01      20000.0                2021-12-01   \n",
       "\n",
       "   interest_rate  collateral_type value_of_collateral    property_type  \\\n",
       "0           31.0              NaN                 NaN              NaN   \n",
       "1           30.0  1) Поручитель;               1) 0;   1) Поручитель;    \n",
       "\n",
       "  salary_payment_in_bank_account                          loan_type  \\\n",
       "0                            Нет  Многоцелевые кредиты_005_аннуитет   \n",
       "1                            Нет  Многоцелевые кредиты_005_аннуитет   \n",
       "\n",
       "   number_of_instalments  instalment_amount        date_of_birth   gender  \\\n",
       "0                     18              863.0  1998-01-07 00:00:00  Женский   \n",
       "1                     24             1118.0  1969-05-16 00:00:00  Мужской   \n",
       "\n",
       "    city_of_living region_of_living city_of_registration  \\\n",
       "0  нохияи Фирдавси          Душанбе             Фирдавси   \n",
       "1       Истаравшан     Вилояти Сугд           Истаравшан   \n",
       "\n",
       "  region_of_registration work_phone_number mobile_phone_number education  \\\n",
       "0                Душанбе      992000805085                 NaN    Высшее   \n",
       "1           Вилояти Сугд      992985675558                 NaN   Среднее   \n",
       "\n",
       "  marital_status  dependants  number_children  months_at_current_address  \\\n",
       "0     Не замужем           0                2                          0   \n",
       "1          Женат           2                2                          6   \n",
       "\n",
       "                employment_type employment_sector employment_segment  \\\n",
       "0  Имеет другой источник дохода               NaN                NaN   \n",
       "1            Собственный бизнес     Самозанятость  Услуги транспорта   \n",
       "\n",
       "   months_at_job  net_main_income source_of_main_income  additional_income  \\\n",
       "0              0          3121.36                Прочее                NaN   \n",
       "1            276          3800.00                Прочее                NaN   \n",
       "\n",
       "  source_of_additional_income  reported_expenses months_with_bank  \\\n",
       "0                         NaN             1272.0               36   \n",
       "1                         NaN             1500.0              143   \n",
       "\n",
       "  current_exposure  client_type property_object eskhata_online plastic_cards  \\\n",
       "0              0.0            0        Квартира             Да            Да   \n",
       "1          4691.17            1             Дом            Нет           Нет   \n",
       "\n",
       "  deposit state rejection_reason    run_date date_account_opened  \\\n",
       "0     0.0   NaN              NaN  2023-06-30          2021-11-02   \n",
       "1     0.0   NaN              NaN  2023-06-30          2021-11-01   \n",
       "\n",
       "   current_balance date_last_payment date_final_payment    due_date  \\\n",
       "0              0.0               NaN         2023-04-20         NaN   \n",
       "1              0.0        2023-04-26         2023-10-26  2023-06-01   \n",
       "\n",
       "   payment_amount account_status  number_of_payments_in_arrears  \\\n",
       "0             NaN         Закрыт                            NaN   \n",
       "1          1118.0         Закрыт                            NaN   \n",
       "\n",
       "   cumulative_delinquency  amount_due  principal_amount  interest_accrued  \\\n",
       "0                       0         0.0               0.0               0.0   \n",
       "1                       0         0.0               0.0               0.0   \n",
       "\n",
       "   outstanding_balance  arrears_amount  current_days_past_due  \\\n",
       "0                  0.0             0.0                      0   \n",
       "1                  0.0             0.0                      0   \n",
       "\n",
       "   max_days_past_due  max_days_past_due_lifetime default_flag  \\\n",
       "0                  0                           0          NaN   \n",
       "1                  0                           0          NaN   \n",
       "\n",
       "   number_of_extensions bki_rating  bki_number_of_loans  ftd_1  ftd_2  ftd_3  \\\n",
       "0                     0        NaN                    0      0      0      0   \n",
       "1                     0        NaN                    5      0      0      0   \n",
       "\n",
       "   ftd_4  \n",
       "0      0  \n",
       "1      0  "
      ]
     },
     "execution_count": 13,
     "metadata": {},
     "output_type": "execute_result"
    }
   ],
   "source": [
    "logging.info(\"Просмотр название столбцов после переименования\")\n",
    "res.head(2)"
   ]
  },
  {
   "cell_type": "markdown",
   "id": "3567167a",
   "metadata": {},
   "source": [
    "# Подсчет количества дубликатов (не включая первую строку)"
   ]
  },
  {
   "cell_type": "code",
   "execution_count": 14,
   "id": "e6adf9a3",
   "metadata": {},
   "outputs": [
    {
     "name": "stderr",
     "output_type": "stream",
     "text": [
      "2024-12-05 16:52:52,821 - INFO - Проверка дублирующихся строк по account_id\n"
     ]
    },
    {
     "data": {
      "text/plain": [
       "0"
      ]
     },
     "metadata": {},
     "output_type": "display_data"
    },
    {
     "name": "stderr",
     "output_type": "stream",
     "text": [
      "2024-12-05 16:52:52,838 - INFO - Проверка дублирующихся строк по customer_id\n"
     ]
    },
    {
     "data": {
      "text/plain": [
       "60704"
      ]
     },
     "metadata": {},
     "output_type": "display_data"
    },
    {
     "name": "stderr",
     "output_type": "stream",
     "text": [
      "2024-12-05 16:52:52,856 - INFO - Подсчет количества дубликатов по application_id\n"
     ]
    },
    {
     "data": {
      "text/plain": [
       "0"
      ]
     },
     "metadata": {},
     "output_type": "display_data"
    }
   ],
   "source": [
    "logging.info(\"Проверка дублирующихся строк по account_id\")\n",
    "display(res.duplicated(subset='account_id').sum())\n",
    "\n",
    "\n",
    "logging.info(\"Проверка дублирующихся строк по customer_id\")\n",
    "display(res.duplicated(subset='customer_id').sum())\n",
    "\n",
    "\n",
    "logging.info(\"Подсчет количества дубликатов по application_id\")\n",
    "display(res.duplicated(subset='application_id').sum())\n"
   ]
  },
  {
   "cell_type": "markdown",
   "id": "9d3ecbac",
   "metadata": {},
   "source": [
    "# Удаление дубликатов"
   ]
  },
  {
   "cell_type": "code",
   "execution_count": 15,
   "id": "d21891e9",
   "metadata": {},
   "outputs": [],
   "source": [
    "# # Удаление дубликатов по account_id\n",
    "# logging.info(\"Удаление дубликатов по account_id.\")\n",
    "# res.drop_duplicates(subset='account_id', keep='first', inplace=True)\n",
    "\n",
    "\n",
    "# # Удаление дубликатов по application_id\n",
    "# logging.info(\"Удаление дубликатов по application_id.\")\n",
    "# res.drop_duplicates(subset='application_id', keep='first', inplace=True)\n",
    "\n",
    "\n",
    "# # Удаление дубликатов по customer_id\n",
    "# logging.info(\"Удаление дубликатов по customer_id.\")\n",
    "# res.drop_duplicates(subset='customer_id_loan', keep='first', inplace=True)"
   ]
  },
  {
   "cell_type": "code",
   "execution_count": 16,
   "id": "cb7bc140",
   "metadata": {},
   "outputs": [],
   "source": [
    "# Создание копии датафрейма для дальнейшей обработки\n",
    "df = res.copy()"
   ]
  },
  {
   "cell_type": "markdown",
   "id": "e6527b42",
   "metadata": {},
   "source": [
    "# Преобразование необходимых столбцов в числовые значения"
   ]
  },
  {
   "cell_type": "code",
   "execution_count": 17,
   "id": "c93a4776",
   "metadata": {},
   "outputs": [
    {
     "name": "stderr",
     "output_type": "stream",
     "text": [
      "2024-12-05 16:52:53,082 - INFO - Просмотр столбцов с числами\n"
     ]
    },
    {
     "data": {
      "text/html": [
       "<div>\n",
       "<style scoped>\n",
       "    .dataframe tbody tr th:only-of-type {\n",
       "        vertical-align: middle;\n",
       "    }\n",
       "\n",
       "    .dataframe tbody tr th {\n",
       "        vertical-align: top;\n",
       "    }\n",
       "\n",
       "    .dataframe thead th {\n",
       "        text-align: right;\n",
       "    }\n",
       "</style>\n",
       "<table border=\"1\" class=\"dataframe\">\n",
       "  <thead>\n",
       "    <tr style=\"text-align: right;\">\n",
       "      <th></th>\n",
       "      <th>net_main_income</th>\n",
       "      <th>additional_income</th>\n",
       "      <th>months_with_bank</th>\n",
       "      <th>reported_expenses</th>\n",
       "      <th>deposit</th>\n",
       "      <th>current_exposure</th>\n",
       "    </tr>\n",
       "  </thead>\n",
       "  <tbody>\n",
       "    <tr>\n",
       "      <th>0</th>\n",
       "      <td>3121.36</td>\n",
       "      <td>NaN</td>\n",
       "      <td>36</td>\n",
       "      <td>1272.0</td>\n",
       "      <td>0.0</td>\n",
       "      <td>0.0</td>\n",
       "    </tr>\n",
       "    <tr>\n",
       "      <th>1</th>\n",
       "      <td>3800.00</td>\n",
       "      <td>NaN</td>\n",
       "      <td>143</td>\n",
       "      <td>1500.0</td>\n",
       "      <td>0.0</td>\n",
       "      <td>4691.17</td>\n",
       "    </tr>\n",
       "    <tr>\n",
       "      <th>2</th>\n",
       "      <td>3500.00</td>\n",
       "      <td>NaN</td>\n",
       "      <td>61</td>\n",
       "      <td>1000.0</td>\n",
       "      <td>0.0</td>\n",
       "      <td>4301.47</td>\n",
       "    </tr>\n",
       "    <tr>\n",
       "      <th>3</th>\n",
       "      <td>2400.00</td>\n",
       "      <td>NaN</td>\n",
       "      <td>60</td>\n",
       "      <td>1000.0</td>\n",
       "      <td>0.0</td>\n",
       "      <td>1153.52</td>\n",
       "    </tr>\n",
       "    <tr>\n",
       "      <th>4</th>\n",
       "      <td>5700.00</td>\n",
       "      <td>NaN</td>\n",
       "      <td>20</td>\n",
       "      <td>3001.0</td>\n",
       "      <td>0.0</td>\n",
       "      <td>4938.37</td>\n",
       "    </tr>\n",
       "  </tbody>\n",
       "</table>\n",
       "</div>"
      ],
      "text/plain": [
       "   net_main_income  additional_income months_with_bank  reported_expenses  \\\n",
       "0          3121.36                NaN               36             1272.0   \n",
       "1          3800.00                NaN              143             1500.0   \n",
       "2          3500.00                NaN               61             1000.0   \n",
       "3          2400.00                NaN               60             1000.0   \n",
       "4          5700.00                NaN               20             3001.0   \n",
       "\n",
       "  deposit current_exposure  \n",
       "0     0.0              0.0  \n",
       "1     0.0          4691.17  \n",
       "2     0.0          4301.47  \n",
       "3     0.0          1153.52  \n",
       "4     0.0          4938.37  "
      ]
     },
     "metadata": {},
     "output_type": "display_data"
    },
    {
     "name": "stderr",
     "output_type": "stream",
     "text": [
      "2024-12-05 16:52:53,117 - INFO - Просмотр типа столбцов с числами до преобразования\n"
     ]
    },
    {
     "data": {
      "text/plain": [
       "net_main_income      float64\n",
       "additional_income    float64\n",
       "months_with_bank      object\n",
       "reported_expenses    float64\n",
       "deposit               object\n",
       "current_exposure      object\n",
       "dtype: object"
      ]
     },
     "metadata": {},
     "output_type": "display_data"
    }
   ],
   "source": [
    "numeric_columns = [\n",
    "    'net_main_income', 'additional_income', 'months_with_bank',\n",
    "    'reported_expenses', 'deposit', 'current_exposure'\n",
    "]\n",
    "missing_numeric = [col for col in numeric_columns if col not in df.columns]\n",
    "if missing_numeric:\n",
    "    logging.warning(f\"Отсутствуют следующие числовые столбцы: {missing_numeric}\")\n",
    "    \n",
    "\n",
    "logging.info(\"Просмотр столбцов с числами\")\n",
    "display(df[numeric_columns].head())\n",
    "\n",
    "logging.info(\"Просмотр типа столбцов с числами до преобразования\")\n",
    "display(df[numeric_columns].dtypes)\n"
   ]
  },
  {
   "cell_type": "code",
   "execution_count": 18,
   "id": "353bf07e",
   "metadata": {},
   "outputs": [
    {
     "name": "stderr",
     "output_type": "stream",
     "text": [
      "2024-12-05 16:52:53,165 - INFO - Преобразование числовых столбцов в числовые значения.\n"
     ]
    }
   ],
   "source": [
    "existing_numeric_columns = [col for col in numeric_columns if col in df.columns]\n",
    "logging.info(\"Преобразование числовых столбцов в числовые значения.\")\n",
    "df[existing_numeric_columns] = df[existing_numeric_columns].apply(pd.to_numeric, errors='coerce')\n"
   ]
  },
  {
   "cell_type": "code",
   "execution_count": 19,
   "id": "aa85531b",
   "metadata": {},
   "outputs": [
    {
     "name": "stderr",
     "output_type": "stream",
     "text": [
      "2024-12-05 16:52:53,974 - INFO - Просмотр типа столбцов с числами после преобразования\n"
     ]
    },
    {
     "data": {
      "text/plain": [
       "net_main_income      float64\n",
       "additional_income    float64\n",
       "months_with_bank       int64\n",
       "reported_expenses    float64\n",
       "deposit              float64\n",
       "current_exposure     float64\n",
       "dtype: object"
      ]
     },
     "metadata": {},
     "output_type": "display_data"
    }
   ],
   "source": [
    "logging.info(\"Просмотр типа столбцов с числами после преобразования\")\n",
    "display(df[numeric_columns].dtypes)"
   ]
  },
  {
   "cell_type": "markdown",
   "id": "5c37d3f1",
   "metadata": {},
   "source": [
    "# Преобразование столбцов с датами в формат datetime"
   ]
  },
  {
   "cell_type": "code",
   "execution_count": 20,
   "id": "3297fa74",
   "metadata": {},
   "outputs": [
    {
     "name": "stderr",
     "output_type": "stream",
     "text": [
      "2024-12-05 16:52:54,081 - INFO - Просмотр столбцов с датами\n"
     ]
    },
    {
     "data": {
      "text/html": [
       "<div>\n",
       "<style scoped>\n",
       "    .dataframe tbody tr th:only-of-type {\n",
       "        vertical-align: middle;\n",
       "    }\n",
       "\n",
       "    .dataframe tbody tr th {\n",
       "        vertical-align: top;\n",
       "    }\n",
       "\n",
       "    .dataframe thead th {\n",
       "        text-align: right;\n",
       "    }\n",
       "</style>\n",
       "<table border=\"1\" class=\"dataframe\">\n",
       "  <thead>\n",
       "    <tr style=\"text-align: right;\">\n",
       "      <th></th>\n",
       "      <th>application_date</th>\n",
       "      <th>date_of_birth</th>\n",
       "      <th>date_loan_granted</th>\n",
       "      <th>first_instalment_due_date</th>\n",
       "      <th>date_last_payment</th>\n",
       "      <th>date_final_payment</th>\n",
       "      <th>due_date</th>\n",
       "      <th>date_account_opened</th>\n",
       "    </tr>\n",
       "  </thead>\n",
       "  <tbody>\n",
       "    <tr>\n",
       "      <th>0</th>\n",
       "      <td>2021-10-19</td>\n",
       "      <td>1998-01-07 00:00:00</td>\n",
       "      <td>2021-11-02</td>\n",
       "      <td>2021-12-02</td>\n",
       "      <td>NaN</td>\n",
       "      <td>2023-04-20</td>\n",
       "      <td>NaN</td>\n",
       "      <td>2021-11-02</td>\n",
       "    </tr>\n",
       "    <tr>\n",
       "      <th>1</th>\n",
       "      <td>2021-10-25</td>\n",
       "      <td>1969-05-16 00:00:00</td>\n",
       "      <td>2021-11-01</td>\n",
       "      <td>2021-12-01</td>\n",
       "      <td>2023-04-26</td>\n",
       "      <td>2023-10-26</td>\n",
       "      <td>2023-06-01</td>\n",
       "      <td>2021-11-01</td>\n",
       "    </tr>\n",
       "    <tr>\n",
       "      <th>2</th>\n",
       "      <td>2021-10-25</td>\n",
       "      <td>1991-03-02 00:00:00</td>\n",
       "      <td>2021-11-05</td>\n",
       "      <td>2021-12-06</td>\n",
       "      <td>2023-04-03</td>\n",
       "      <td>2023-10-26</td>\n",
       "      <td>2023-06-05</td>\n",
       "      <td>2021-11-05</td>\n",
       "    </tr>\n",
       "    <tr>\n",
       "      <th>3</th>\n",
       "      <td>2021-10-25</td>\n",
       "      <td>1966-10-23 00:00:00</td>\n",
       "      <td>2021-11-03</td>\n",
       "      <td>2021-12-03</td>\n",
       "      <td>2022-09-12</td>\n",
       "      <td>2022-10-26</td>\n",
       "      <td>NaN</td>\n",
       "      <td>2021-11-03</td>\n",
       "    </tr>\n",
       "    <tr>\n",
       "      <th>4</th>\n",
       "      <td>2021-10-26</td>\n",
       "      <td>2001-06-07 00:00:00</td>\n",
       "      <td>2021-11-03</td>\n",
       "      <td>2021-12-03</td>\n",
       "      <td>2022-04-27</td>\n",
       "      <td>2022-04-27</td>\n",
       "      <td>NaN</td>\n",
       "      <td>2021-11-03</td>\n",
       "    </tr>\n",
       "  </tbody>\n",
       "</table>\n",
       "</div>"
      ],
      "text/plain": [
       "  application_date        date_of_birth date_loan_granted  \\\n",
       "0       2021-10-19  1998-01-07 00:00:00        2021-11-02   \n",
       "1       2021-10-25  1969-05-16 00:00:00        2021-11-01   \n",
       "2       2021-10-25  1991-03-02 00:00:00        2021-11-05   \n",
       "3       2021-10-25  1966-10-23 00:00:00        2021-11-03   \n",
       "4       2021-10-26  2001-06-07 00:00:00        2021-11-03   \n",
       "\n",
       "  first_instalment_due_date date_last_payment date_final_payment    due_date  \\\n",
       "0                2021-12-02               NaN         2023-04-20         NaN   \n",
       "1                2021-12-01        2023-04-26         2023-10-26  2023-06-01   \n",
       "2                2021-12-06        2023-04-03         2023-10-26  2023-06-05   \n",
       "3                2021-12-03        2022-09-12         2022-10-26         NaN   \n",
       "4                2021-12-03        2022-04-27         2022-04-27         NaN   \n",
       "\n",
       "  date_account_opened  \n",
       "0          2021-11-02  \n",
       "1          2021-11-01  \n",
       "2          2021-11-05  \n",
       "3          2021-11-03  \n",
       "4          2021-11-03  "
      ]
     },
     "metadata": {},
     "output_type": "display_data"
    },
    {
     "name": "stderr",
     "output_type": "stream",
     "text": [
      "2024-12-05 16:52:54,132 - INFO - Просмотр типа столбцов с датами до преобразования\n"
     ]
    },
    {
     "data": {
      "text/plain": [
       "application_date             object\n",
       "date_of_birth                object\n",
       "date_loan_granted            object\n",
       "first_instalment_due_date    object\n",
       "date_last_payment            object\n",
       "date_final_payment           object\n",
       "due_date                     object\n",
       "date_account_opened          object\n",
       "dtype: object"
      ]
     },
     "metadata": {},
     "output_type": "display_data"
    }
   ],
   "source": [
    "date_columns = [\n",
    "    'application_date', 'date_of_birth', 'date_loan_granted', 'first_instalment_due_date',\n",
    "    'date_last_payment', 'date_final_payment', 'due_date', 'date_account_opened'\n",
    "]\n",
    "\n",
    "logging.info(\"Просмотр столбцов с датами\")\n",
    "display(df[date_columns].head())\n",
    "\n",
    "logging.info(\"Просмотр типа столбцов с датами до преобразования\")\n",
    "display(df[date_columns].dtypes)\n"
   ]
  },
  {
   "cell_type": "code",
   "execution_count": 21,
   "id": "655a58b5",
   "metadata": {},
   "outputs": [
    {
     "name": "stderr",
     "output_type": "stream",
     "text": [
      "2024-12-05 16:52:54,210 - INFO - Преобразование столбцов с датами в формат datetime.\n"
     ]
    }
   ],
   "source": [
    "logging.info(\"Преобразование столбцов с датами в формат datetime.\")\n",
    "for col in date_columns:\n",
    "    if col in df.columns:\n",
    "        df[col] = pd.to_datetime(df[col], errors='coerce')\n"
   ]
  },
  {
   "cell_type": "code",
   "execution_count": 22,
   "id": "eb1f394f",
   "metadata": {},
   "outputs": [
    {
     "name": "stderr",
     "output_type": "stream",
     "text": [
      "2024-12-05 16:52:55,906 - INFO - Просмотр типа столбцов с датами после преобразования\n"
     ]
    },
    {
     "data": {
      "text/plain": [
       "application_date             datetime64[ns]\n",
       "date_of_birth                datetime64[ns]\n",
       "date_loan_granted            datetime64[ns]\n",
       "first_instalment_due_date    datetime64[ns]\n",
       "date_last_payment            datetime64[ns]\n",
       "date_final_payment           datetime64[ns]\n",
       "due_date                     datetime64[ns]\n",
       "date_account_opened          datetime64[ns]\n",
       "dtype: object"
      ]
     },
     "metadata": {},
     "output_type": "display_data"
    }
   ],
   "source": [
    "logging.info(\"Просмотр типа столбцов с датами после преобразования\")\n",
    "display(df[date_columns].dtypes)\n"
   ]
  },
  {
   "cell_type": "markdown",
   "id": "cb922ce8",
   "metadata": {},
   "source": [
    "# Вычисление возраста и исправление неправилных значений"
   ]
  },
  {
   "cell_type": "code",
   "execution_count": 23,
   "id": "e4fb48cd",
   "metadata": {},
   "outputs": [
    {
     "name": "stderr",
     "output_type": "stream",
     "text": [
      "2024-12-05 16:52:55,963 - INFO - Вычисление возраста.\n"
     ]
    }
   ],
   "source": [
    "logging.info(\"Вычисление возраста.\")\n",
    "df['age'] = df['application_date'].dt.year - df['date_of_birth'].dt.year\n"
   ]
  },
  {
   "cell_type": "code",
   "execution_count": 24,
   "id": "f1729f92",
   "metadata": {},
   "outputs": [
    {
     "name": "stderr",
     "output_type": "stream",
     "text": [
      "2024-12-05 16:52:56,103 - INFO - Подсчет количество возрастов меньше 18 до корректировки\n"
     ]
    },
    {
     "data": {
      "text/plain": [
       "4"
      ]
     },
     "metadata": {},
     "output_type": "display_data"
    }
   ],
   "source": [
    "logging.info(\"Подсчет количество возрастов меньше 18 до корректировки\")\n",
    "display(df.query('age < 18').age.count())"
   ]
  },
  {
   "cell_type": "code",
   "execution_count": 25,
   "id": "4a382307",
   "metadata": {},
   "outputs": [
    {
     "name": "stderr",
     "output_type": "stream",
     "text": [
      "2024-12-05 16:52:56,219 - INFO - Корректировка неправилных возрастов\n"
     ]
    }
   ],
   "source": [
    "logging.info(\"Корректировка неправилных возрастов\")\n",
    "\n",
    "# Корректировка возраста, если месяц или день рождения еще не наступили в году заявки (но такие были исправлены вручную)\n",
    "df.loc[\n",
    "    (df['application_date'].dt.month < df['date_of_birth'].dt.month) |\n",
    "    ((df['application_date'].dt.month == df['date_of_birth'].dt.month) &\n",
    "     (df['application_date'].dt.day < df['date_of_birth'].dt.day)),\n",
    "    'age'\n",
    "] -= 1\n",
    "\n",
    "# Исправление некоторых возрастов (которые были проверены и исправлены вручную)\n",
    "df.loc[df['age'] == 17, 'age'] = 18\n",
    "df.loc[df['age'] == 0, 'age'] = 27\n",
    "df.loc[df['age'] == -1, 'age'] = 33\n",
    "df['age'] = df['age'].fillna(df['age'].mean())\n",
    "\n",
    "# Удаление отрицательных возрастов, если они остались\n",
    "df['age'] = df['age'].where(df['age'] >= 0, np.nan)\n",
    "\n",
    "# Приведение возраста к целочисленному типу\n",
    "df.age = np.floor(df.age).astype(np.int64)\n"
   ]
  },
  {
   "cell_type": "code",
   "execution_count": 26,
   "id": "e331c5b4",
   "metadata": {},
   "outputs": [
    {
     "name": "stderr",
     "output_type": "stream",
     "text": [
      "2024-12-05 16:52:56,636 - INFO - Подсчет количество возрастов меньше 18 после корректировки\n"
     ]
    },
    {
     "data": {
      "text/plain": [
       "0"
      ]
     },
     "metadata": {},
     "output_type": "display_data"
    }
   ],
   "source": [
    "logging.info(\"Подсчет количество возрастов меньше 18 после корректировки\")\n",
    "display(df.query('age < 18').age.count())"
   ]
  },
  {
   "cell_type": "markdown",
   "id": "c22016f3",
   "metadata": {},
   "source": [
    "# Создание столбцов необходимых для дальнейших вычисленый"
   ]
  },
  {
   "cell_type": "code",
   "execution_count": 27,
   "id": "87fbc091",
   "metadata": {},
   "outputs": [
    {
     "name": "stderr",
     "output_type": "stream",
     "text": [
      "2024-12-05 16:52:56,722 - INFO - Создание столбца год/месяц выдачи кредита как год.\n",
      "2024-12-05 16:52:56,806 - INFO - Создание признака совпадения города проживания и регистрации.\n",
      "2024-12-05 16:52:56,855 - INFO - Создание признака наличия залога.\n"
     ]
    }
   ],
   "source": [
    "# Создание столбца месяц/год выдачи кредита как год * 100 + месяц\n",
    "logging.info(\"Создание столбца год/месяц выдачи кредита как год.\")\n",
    "df['loan_month'] = df['application_date'].dt.year * 100 + df['application_date'].dt.month\n",
    "\n",
    "# Признак совпадения города проживания и регистрации\n",
    "logging.info(\"Создание признака совпадения города проживания и регистрации.\")\n",
    "df['city_of_living_eq_registration'] = (df['city_of_living'] == df['city_of_registration']).astype(int)\n",
    "\n",
    "# Признак наличия залога\n",
    "logging.info(\"Создание признака наличия залога.\")\n",
    "df['is_collateral'] = df['deposit'].notna().astype(int)"
   ]
  },
  {
   "cell_type": "code",
   "execution_count": 28,
   "id": "264690f8",
   "metadata": {},
   "outputs": [
    {
     "name": "stderr",
     "output_type": "stream",
     "text": [
      "2024-12-05 16:52:56,888 - INFO - Просмотр новых таблиц\n"
     ]
    },
    {
     "data": {
      "text/html": [
       "<div>\n",
       "<style scoped>\n",
       "    .dataframe tbody tr th:only-of-type {\n",
       "        vertical-align: middle;\n",
       "    }\n",
       "\n",
       "    .dataframe tbody tr th {\n",
       "        vertical-align: top;\n",
       "    }\n",
       "\n",
       "    .dataframe thead th {\n",
       "        text-align: right;\n",
       "    }\n",
       "</style>\n",
       "<table border=\"1\" class=\"dataframe\">\n",
       "  <thead>\n",
       "    <tr style=\"text-align: right;\">\n",
       "      <th></th>\n",
       "      <th>age</th>\n",
       "      <th>loan_month</th>\n",
       "      <th>city_of_living_eq_registration</th>\n",
       "      <th>is_collateral</th>\n",
       "    </tr>\n",
       "  </thead>\n",
       "  <tbody>\n",
       "    <tr>\n",
       "      <th>0</th>\n",
       "      <td>23</td>\n",
       "      <td>202110</td>\n",
       "      <td>0</td>\n",
       "      <td>1</td>\n",
       "    </tr>\n",
       "    <tr>\n",
       "      <th>1</th>\n",
       "      <td>52</td>\n",
       "      <td>202110</td>\n",
       "      <td>1</td>\n",
       "      <td>1</td>\n",
       "    </tr>\n",
       "    <tr>\n",
       "      <th>2</th>\n",
       "      <td>30</td>\n",
       "      <td>202110</td>\n",
       "      <td>1</td>\n",
       "      <td>1</td>\n",
       "    </tr>\n",
       "    <tr>\n",
       "      <th>3</th>\n",
       "      <td>55</td>\n",
       "      <td>202110</td>\n",
       "      <td>0</td>\n",
       "      <td>1</td>\n",
       "    </tr>\n",
       "    <tr>\n",
       "      <th>4</th>\n",
       "      <td>20</td>\n",
       "      <td>202110</td>\n",
       "      <td>1</td>\n",
       "      <td>1</td>\n",
       "    </tr>\n",
       "  </tbody>\n",
       "</table>\n",
       "</div>"
      ],
      "text/plain": [
       "   age  loan_month  city_of_living_eq_registration  is_collateral\n",
       "0   23      202110                               0              1\n",
       "1   52      202110                               1              1\n",
       "2   30      202110                               1              1\n",
       "3   55      202110                               0              1\n",
       "4   20      202110                               1              1"
      ]
     },
     "metadata": {},
     "output_type": "display_data"
    },
    {
     "data": {
      "text/plain": [
       "age                               int64\n",
       "loan_month                        int64\n",
       "city_of_living_eq_registration    int32\n",
       "is_collateral                     int32\n",
       "dtype: object"
      ]
     },
     "metadata": {},
     "output_type": "display_data"
    }
   ],
   "source": [
    "new_tables = [\n",
    "    'age',\n",
    "    'loan_month',\n",
    "    'city_of_living_eq_registration',\n",
    "    'is_collateral'\n",
    "]\n",
    "\n",
    "logging.info(\"Просмотр новых таблиц\")\n",
    "display(df[new_tables].head(5))\n",
    "display(df[new_tables].dtypes)"
   ]
  },
  {
   "cell_type": "markdown",
   "id": "006e1b00",
   "metadata": {},
   "source": [
    "# Создание временного датафрейма для анализа предыдущих заявок"
   ]
  },
  {
   "cell_type": "code",
   "execution_count": 29,
   "id": "d3d3eb18",
   "metadata": {},
   "outputs": [
    {
     "name": "stderr",
     "output_type": "stream",
     "text": [
      "2024-12-05 16:52:57,003 - INFO - Создание временного DataFrame для анализа предыдущих заявок.\n",
      "2024-12-05 16:52:57,088 - INFO - Сортировка по 'customer_id' и 'application_date'.\n",
      "2024-12-05 16:52:57,733 - INFO - Добавление предыдущей даты заявки и предыдущей максимальной просрочки.\n",
      "2024-12-05 16:52:57,859 - INFO - Удаление записей без предыдущих заявок.\n"
     ]
    }
   ],
   "source": [
    "logging.info(\"Создание временного DataFrame для анализа предыдущих заявок.\")\n",
    "temp_df = df.copy()\n",
    "\n",
    "# Сортировка по customer_id и application_date для корректного сдвига\n",
    "logging.info(\"Сортировка по 'customer_id' и 'application_date'.\")\n",
    "temp_df = temp_df.sort_values(['customer_id', 'application_date'])\n",
    "\n",
    "# Добавление предыдущей даты заявки и предыдущей максимальной просрочки\n",
    "logging.info(\"Добавление предыдущей даты заявки и предыдущей максимальной просрочки.\")\n",
    "temp_df['prev_application_date'] = temp_df.groupby('customer_id')['application_date'].shift(1)\n",
    "temp_df['prev_max_days_past_due'] = temp_df.groupby('customer_id')['max_days_past_due_lifetime'].shift(1)\n",
    "\n",
    "\n",
    "# Убираем записи без предыдущих заявок\n",
    "logging.info(\"Удаление записей без предыдущих заявок.\")\n",
    "temp_df = temp_df.dropna(subset=['prev_application_date'])"
   ]
  },
  {
   "cell_type": "markdown",
   "id": "7d0e3153",
   "metadata": {},
   "source": [
    "# Подсчет количества предыдущих заявок и максимальной просрочки"
   ]
  },
  {
   "cell_type": "code",
   "execution_count": 30,
   "id": "ab56a89f",
   "metadata": {},
   "outputs": [
    {
     "name": "stderr",
     "output_type": "stream",
     "text": [
      "2024-12-05 16:52:58,072 - INFO - Группировка по 'account_id' для подсчета количества предыдущих заявок и максимальной просрочки.\n",
      "2024-12-05 16:52:58,138 - INFO - Пример данных после группировки:\n",
      "2024-12-05 16:52:58,142 - INFO - Добавление флага существующего клиента.\n"
     ]
    },
    {
     "name": "stdout",
     "output_type": "stream",
     "text": [
      "\n",
      "acc_numb_before.head():\n",
      "    account_id  cnt  max_max_days_past_due\n",
      "0  36002196446    1                    4.0\n",
      "1  36003105046    1                   17.0\n",
      "2  36031268759    1                    0.0\n",
      "3  36054772668    1                    3.0\n",
      "4  36060574691    1                    0.0\n"
     ]
    }
   ],
   "source": [
    "logging.info(\"Группировка по 'account_id' для подсчета количества предыдущих заявок и максимальной просрочки.\")\n",
    "acc_numb_before = temp_df.groupby('account_id').agg(\n",
    "    cnt=('customer_id', 'count'),\n",
    "    max_max_days_past_due=('prev_max_days_past_due', 'max')\n",
    ").reset_index()\n",
    "\n",
    "logging.info(\"Пример данных после группировки:\")\n",
    "print(\"\\nacc_numb_before.head():\")\n",
    "print(acc_numb_before.head())\n",
    "\n",
    "logging.info(\"Добавление флага существующего клиента.\")\n",
    "acc_numb_before['existing_client'] = np.where(acc_numb_before['cnt'] > 1, 1, 0)\n"
   ]
  },
  {
   "cell_type": "code",
   "execution_count": 31,
   "id": "f4eb99aa",
   "metadata": {},
   "outputs": [
    {
     "name": "stderr",
     "output_type": "stream",
     "text": [
      "2024-12-05 16:52:58,173 - INFO - Объединение 'acc_numb_before' с основным DataFrame.\n"
     ]
    }
   ],
   "source": [
    "# Объединение с основным датафреймом\n",
    "logging.info(\"Объединение 'acc_numb_before' с основным DataFrame.\")\n",
    "df = df.merge(\n",
    "    acc_numb_before[['account_id', 'cnt', 'max_max_days_past_due']], \n",
    "    on='account_id', \n",
    "    how='left'\n",
    ")"
   ]
  },
  {
   "cell_type": "code",
   "execution_count": 32,
   "id": "db041c54",
   "metadata": {},
   "outputs": [
    {
     "name": "stderr",
     "output_type": "stream",
     "text": [
      "2024-12-05 16:52:58,813 - INFO - Проверка наличия столбца cnt после объединения.\n"
     ]
    },
    {
     "name": "stdout",
     "output_type": "stream",
     "text": [
      "\n",
      "Столбцы после объединения acc_numb_before:\n",
      "customer_id\n",
      "application_id\n",
      "account_id\n",
      "branch_id\n",
      "product_id\n",
      "application_date\n",
      "date_loan_granted\n",
      "loan_amount\n",
      "first_instalment_due_date\n",
      "interest_rate\n",
      "collateral_type\n",
      "value_of_collateral\n",
      "property_type\n",
      "salary_payment_in_bank_account\n",
      "loan_type\n",
      "number_of_instalments\n",
      "instalment_amount\n",
      "date_of_birth\n",
      "gender\n",
      "city_of_living\n",
      "region_of_living\n",
      "city_of_registration\n",
      "region_of_registration\n",
      "work_phone_number\n",
      "mobile_phone_number\n",
      "education\n",
      "marital_status\n",
      "dependants\n",
      "number_children\n",
      "months_at_current_address\n",
      "employment_type\n",
      "employment_sector\n",
      "employment_segment\n",
      "months_at_job\n",
      "net_main_income\n",
      "source_of_main_income\n",
      "additional_income\n",
      "source_of_additional_income\n",
      "reported_expenses\n",
      "months_with_bank\n",
      "current_exposure\n",
      "client_type\n",
      "property_object\n",
      "eskhata_online\n",
      "plastic_cards\n",
      "deposit\n",
      "state\n",
      "rejection_reason\n",
      "run_date\n",
      "date_account_opened\n",
      "current_balance\n",
      "date_last_payment\n",
      "date_final_payment\n",
      "due_date\n",
      "payment_amount\n",
      "account_status\n",
      "number_of_payments_in_arrears\n",
      "cumulative_delinquency\n",
      "amount_due\n",
      "principal_amount\n",
      "interest_accrued\n",
      "outstanding_balance\n",
      "arrears_amount\n",
      "current_days_past_due\n",
      "max_days_past_due\n",
      "max_days_past_due_lifetime\n",
      "default_flag\n",
      "number_of_extensions\n",
      "bki_rating\n",
      "bki_number_of_loans\n",
      "ftd_1\n",
      "ftd_2\n",
      "ftd_3\n",
      "ftd_4\n",
      "age\n",
      "loan_month\n",
      "city_of_living_eq_registration\n",
      "is_collateral\n",
      "cnt\n",
      "max_max_days_past_due\n"
     ]
    }
   ],
   "source": [
    "# Проверка наличия столбца cnt после объединения\n",
    "logging.info(\"Проверка наличия столбца cnt после объединения.\")\n",
    "print(\"\\nСтолбцы после объединения acc_numb_before:\")\n",
    "for column in df.columns.tolist():\n",
    "    print(column)\n"
   ]
  },
  {
   "cell_type": "code",
   "execution_count": 33,
   "id": "d6ac9045",
   "metadata": {},
   "outputs": [
    {
     "name": "stderr",
     "output_type": "stream",
     "text": [
      "2024-12-05 16:52:58,843 - INFO - Заполнение пропусков в 'previous_loans_count' нулями.\n",
      "2024-12-05 16:52:58,851 - INFO - Создание бинарных признаков для просроченности.\n"
     ]
    }
   ],
   "source": [
    "if 'cnt' not in df.columns:\n",
    "    logging.error(\"Столбец 'cnt' отсутствует в DataFrame после объединения. Проверьте корректность группировки и объединения.\")\n",
    "    raise KeyError(\"Столбец 'cnt' отсутствует в DataFrame после объединения.\")\n",
    "else:\n",
    "    # Заполнение пропусков в previous_loans_count нулями\n",
    "    logging.info(\"Заполнение пропусков в 'previous_loans_count' нулями.\")\n",
    "    df['previous_loans_count'] = df['cnt'].fillna(0).astype(int)\n",
    "    \n",
    "    # Создание бинарных признаков для просроченности\n",
    "    logging.info(\"Создание бинарных признаков для просроченности.\")\n",
    "    df.loc[:, 'gb_90ever'] = (df['max_days_past_due_lifetime'] >= 90).astype(int)\n",
    "    df.loc[:, 'gb_cum_dlq_90'] = (df['cumulative_delinquency'] >= 90).astype(int)\n",
    "    df.loc[:, 'gb_60ever'] = (df['max_days_past_due_lifetime'] >= 60).astype(int)\n",
    "    \n",
    "    # Удаление временных столбцов\n",
    "#     logging.info(\"Удаление временных столбцов 'cnt' и 'max_max_days_past_due'.\")\n",
    "#     df.drop(['cnt', 'max_max_days_past_due'], axis=1, inplace=True)"
   ]
  },
  {
   "cell_type": "markdown",
   "id": "54deed98",
   "metadata": {},
   "source": [
    "# Преобразование строковых переменных в категориальные"
   ]
  },
  {
   "cell_type": "code",
   "execution_count": 34,
   "id": "9bc509a3",
   "metadata": {},
   "outputs": [
    {
     "name": "stderr",
     "output_type": "stream",
     "text": [
      "2024-12-05 16:52:58,884 - INFO - Преобразование строковых переменных в категориальные.\n"
     ]
    }
   ],
   "source": [
    "logging.info(\"Преобразование строковых переменных в категориальные.\")\n",
    "object_columns = df.select_dtypes(include=['object']).columns\n",
    "df[object_columns] = df[object_columns].astype('category')"
   ]
  },
  {
   "cell_type": "markdown",
   "id": "5c97abdf",
   "metadata": {},
   "source": [
    "# Структура датафрейма после преобразований"
   ]
  },
  {
   "cell_type": "code",
   "execution_count": 35,
   "id": "cb696664",
   "metadata": {},
   "outputs": [
    {
     "name": "stderr",
     "output_type": "stream",
     "text": [
      "2024-12-05 16:53:03,863 - INFO - Просмотр структуры датафрейма после преобразований.\n"
     ]
    },
    {
     "name": "stdout",
     "output_type": "stream",
     "text": [
      "<class 'pandas.core.frame.DataFrame'>\n",
      "Int64Index: 235698 entries, 0 to 235697\n",
      "Data columns (total 84 columns):\n",
      " #   Column                          Non-Null Count   Dtype         \n",
      "---  ------                          --------------   -----         \n",
      " 0   customer_id                     235698 non-null  int64         \n",
      " 1   application_id                  235698 non-null  category      \n",
      " 2   account_id                      235698 non-null  int64         \n",
      " 3   branch_id                       235698 non-null  category      \n",
      " 4   product_id                      235698 non-null  category      \n",
      " 5   application_date                235698 non-null  datetime64[ns]\n",
      " 6   date_loan_granted               235698 non-null  datetime64[ns]\n",
      " 7   loan_amount                     235698 non-null  float64       \n",
      " 8   first_instalment_due_date       235688 non-null  datetime64[ns]\n",
      " 9   interest_rate                   235698 non-null  float64       \n",
      " 10  collateral_type                 26477 non-null   category      \n",
      " 11  value_of_collateral             26477 non-null   category      \n",
      " 12  property_type                   26477 non-null   category      \n",
      " 13  salary_payment_in_bank_account  235698 non-null  category      \n",
      " 14  loan_type                       235698 non-null  category      \n",
      " 15  number_of_instalments           235698 non-null  int64         \n",
      " 16  instalment_amount               234490 non-null  float64       \n",
      " 17  date_of_birth                   235697 non-null  datetime64[ns]\n",
      " 18  gender                          235698 non-null  category      \n",
      " 19  city_of_living                  235698 non-null  category      \n",
      " 20  region_of_living                235698 non-null  category      \n",
      " 21  city_of_registration            235698 non-null  category      \n",
      " 22  region_of_registration          235698 non-null  category      \n",
      " 23  work_phone_number               225416 non-null  category      \n",
      " 24  mobile_phone_number             14542 non-null   category      \n",
      " 25  education                       223507 non-null  category      \n",
      " 26  marital_status                  235423 non-null  category      \n",
      " 27  dependants                      235698 non-null  int64         \n",
      " 28  number_children                 235698 non-null  int64         \n",
      " 29  months_at_current_address       235698 non-null  int64         \n",
      " 30  employment_type                 235405 non-null  category      \n",
      " 31  employment_sector               148291 non-null  category      \n",
      " 32  employment_segment              148133 non-null  category      \n",
      " 33  months_at_job                   235698 non-null  int64         \n",
      " 34  net_main_income                 235662 non-null  float64       \n",
      " 35  source_of_main_income           234634 non-null  category      \n",
      " 36  additional_income               52926 non-null   float64       \n",
      " 37  source_of_additional_income     52496 non-null   category      \n",
      " 38  reported_expenses               235690 non-null  float64       \n",
      " 39  months_with_bank                235698 non-null  int64         \n",
      " 40  current_exposure                235672 non-null  float64       \n",
      " 41  client_type                     235698 non-null  int64         \n",
      " 42  property_object                 235684 non-null  category      \n",
      " 43  eskhata_online                  235698 non-null  category      \n",
      " 44  plastic_cards                   235698 non-null  category      \n",
      " 45  deposit                         235698 non-null  float64       \n",
      " 46  state                           0 non-null       category      \n",
      " 47  rejection_reason                0 non-null       category      \n",
      " 48  run_date                        235698 non-null  category      \n",
      " 49  date_account_opened             235698 non-null  datetime64[ns]\n",
      " 50  current_balance                 235698 non-null  float64       \n",
      " 51  date_last_payment               224178 non-null  datetime64[ns]\n",
      " 52  date_final_payment              235698 non-null  datetime64[ns]\n",
      " 53  due_date                        187783 non-null  datetime64[ns]\n",
      " 54  payment_amount                  187783 non-null  float64       \n",
      " 55  account_status                  235698 non-null  category      \n",
      " 56  number_of_payments_in_arrears   11872 non-null   float64       \n",
      " 57  cumulative_delinquency          235698 non-null  int64         \n",
      " 58  amount_due                      235698 non-null  float64       \n",
      " 59  principal_amount                235698 non-null  float64       \n",
      " 60  interest_accrued                235698 non-null  float64       \n",
      " 61  outstanding_balance             235698 non-null  float64       \n",
      " 62  arrears_amount                  235698 non-null  float64       \n",
      " 63  current_days_past_due           235698 non-null  int64         \n",
      " 64  max_days_past_due               235698 non-null  int64         \n",
      " 65  max_days_past_due_lifetime      235698 non-null  int64         \n",
      " 66  default_flag                    1682 non-null    category      \n",
      " 67  number_of_extensions            235698 non-null  int64         \n",
      " 68  bki_rating                      87382 non-null   category      \n",
      " 69  bki_number_of_loans             235698 non-null  int64         \n",
      " 70  ftd_1                           235698 non-null  int64         \n",
      " 71  ftd_2                           235698 non-null  int64         \n",
      " 72  ftd_3                           235698 non-null  int64         \n",
      " 73  ftd_4                           235698 non-null  int64         \n",
      " 74  age                             235698 non-null  int64         \n",
      " 75  loan_month                      235698 non-null  int64         \n",
      " 76  city_of_living_eq_registration  235698 non-null  int32         \n",
      " 77  is_collateral                   235698 non-null  int32         \n",
      " 78  cnt                             60704 non-null   float64       \n",
      " 79  max_max_days_past_due           60704 non-null   float64       \n",
      " 80  previous_loans_count            235698 non-null  int32         \n",
      " 81  gb_90ever                       235698 non-null  int32         \n",
      " 82  gb_cum_dlq_90                   235698 non-null  int32         \n",
      " 83  gb_60ever                       235698 non-null  int32         \n",
      "dtypes: category(31), datetime64[ns](8), float64(18), int32(6), int64(21)\n",
      "memory usage: 116.6 MB\n",
      "None\n"
     ]
    }
   ],
   "source": [
    "logging.info(\"Просмотр структуры датафрейма после преобразований.\")\n",
    "print(df.info())"
   ]
  },
  {
   "cell_type": "code",
   "execution_count": 36,
   "id": "0706c2f4",
   "metadata": {},
   "outputs": [
    {
     "data": {
      "text/plain": [
       "first_instalment_due_date            10\n",
       "collateral_type                  209221\n",
       "value_of_collateral              209221\n",
       "property_type                    209221\n",
       "instalment_amount                  1208\n",
       "date_of_birth                         1\n",
       "work_phone_number                 10282\n",
       "mobile_phone_number              221156\n",
       "education                         12191\n",
       "marital_status                      275\n",
       "employment_type                     293\n",
       "employment_sector                 87407\n",
       "employment_segment                87565\n",
       "net_main_income                      36\n",
       "source_of_main_income              1064\n",
       "additional_income                182772\n",
       "source_of_additional_income      183202\n",
       "reported_expenses                     8\n",
       "current_exposure                     26\n",
       "property_object                      14\n",
       "state                            235698\n",
       "rejection_reason                 235698\n",
       "date_last_payment                 11520\n",
       "due_date                          47915\n",
       "payment_amount                    47915\n",
       "number_of_payments_in_arrears    223826\n",
       "default_flag                     234016\n",
       "bki_rating                       148316\n",
       "cnt                              174994\n",
       "max_max_days_past_due            174994\n",
       "dtype: int64"
      ]
     },
     "execution_count": 36,
     "metadata": {},
     "output_type": "execute_result"
    }
   ],
   "source": [
    "# Вычисляем количество пропущенных значений в каждом столбце\n",
    "missing_values = df.isnull().sum()\n",
    "columns_with_missing = missing_values[missing_values > 0]\n",
    "columns_with_missing\n"
   ]
  },
  {
   "cell_type": "markdown",
   "id": "70051c3f",
   "metadata": {},
   "source": [
    "# Сводные статистики"
   ]
  },
  {
   "cell_type": "code",
   "execution_count": 37,
   "id": "1ee0ad08",
   "metadata": {
    "scrolled": false
   },
   "outputs": [],
   "source": [
    "# for column in df.columns.to_list():\n",
    "#     plt.figure(figsize=(10, 6))\n",
    "#     plt.hist(df[column], bins=50, alpha=0.7, label=column)\n",
    "#     plt.xlabel(column)\n",
    "#     plt.show()"
   ]
  },
  {
   "cell_type": "code",
   "execution_count": null,
   "id": "3090adbc",
   "metadata": {},
   "outputs": [],
   "source": []
  },
  {
   "cell_type": "markdown",
   "id": "1aba1199",
   "metadata": {},
   "source": [
    "# Выбор необходимых столбцов"
   ]
  },
  {
   "cell_type": "code",
   "execution_count": 38,
   "id": "c8d07907",
   "metadata": {},
   "outputs": [],
   "source": [
    "include_vars = [\n",
    "    \"customer_id\",\n",
    "    \"account_id\",\n",
    "    \"loan_amount\",\n",
    "    \"is_collateral\",\n",
    "    \"salary_payment_in_bank_account\",\n",
    "    \"age\",\n",
    "    \"gender\",\n",
    "    \"region_of_living\",\n",
    "    \"region_of_registration\",\n",
    "    \"city_of_living_eq_registration\",\n",
    "    \"education\",\n",
    "    \"marital_status\",\n",
    "    \"dependants\",\n",
    "    \"months_at_current_address\",\n",
    "    \"employment_type\",\n",
    "    \"employment_segment\",\n",
    "    \"months_at_job\",\n",
    "    \"net_main_income\",\n",
    "    \"source_of_main_income\",\n",
    "    \"additional_income\",\n",
    "    \"reported_expenses\",\n",
    "    \"months_with_bank\",\n",
    "    \"client_type\",\n",
    "    \"property_object\",\n",
    "    \"eskhata_online\",\n",
    "    \"plastic_cards\",\n",
    "    \"deposit\",\n",
    "    \"gb_90ever\",\n",
    "    \"gb_cum_dlq_90\",\n",
    "    \"gb_60ever\",\n",
    "    \"bki_rating\",\n",
    "    \"bki_number_of_loans\",\n",
    "    \"loan_month\",\n",
    "    \"previous_loans_count\",\n",
    "    \"max_max_days_past_due\",\n",
    "]\n"
   ]
  },
  {
   "cell_type": "code",
   "execution_count": 67,
   "id": "77964f6f",
   "metadata": {
    "scrolled": false
   },
   "outputs": [],
   "source": [
    "def get_describe_df(df):\n",
    "    describe = {\n",
    "        'column': [i for i in df.columns],\n",
    "        'notnull': [df[i].notnull().sum() for i in df.columns],\n",
    "        'null': [df[i].isnull().sum() for i in df.columns],\n",
    "        'N_unique': [df[i].nunique() for i in df.columns],\n",
    "        'dtype': [df[i].dtype for i in df.columns],\n",
    "    }\n",
    "    return pd.DataFrame.from_dict(describe)\n"
   ]
  },
  {
   "cell_type": "code",
   "execution_count": 69,
   "id": "50c3ce14",
   "metadata": {},
   "outputs": [
    {
     "data": {
      "text/html": [
       "<div>\n",
       "<style scoped>\n",
       "    .dataframe tbody tr th:only-of-type {\n",
       "        vertical-align: middle;\n",
       "    }\n",
       "\n",
       "    .dataframe tbody tr th {\n",
       "        vertical-align: top;\n",
       "    }\n",
       "\n",
       "    .dataframe thead th {\n",
       "        text-align: right;\n",
       "    }\n",
       "</style>\n",
       "<table border=\"1\" class=\"dataframe\">\n",
       "  <thead>\n",
       "    <tr style=\"text-align: right;\">\n",
       "      <th></th>\n",
       "      <th>column</th>\n",
       "      <th>notnull</th>\n",
       "      <th>null</th>\n",
       "      <th>N_unique</th>\n",
       "      <th>dtype</th>\n",
       "    </tr>\n",
       "  </thead>\n",
       "  <tbody>\n",
       "    <tr>\n",
       "      <th>0</th>\n",
       "      <td>customer_id</td>\n",
       "      <td>235698</td>\n",
       "      <td>0</td>\n",
       "      <td>174994</td>\n",
       "      <td>int64</td>\n",
       "    </tr>\n",
       "    <tr>\n",
       "      <th>1</th>\n",
       "      <td>account_id</td>\n",
       "      <td>235698</td>\n",
       "      <td>0</td>\n",
       "      <td>235698</td>\n",
       "      <td>int64</td>\n",
       "    </tr>\n",
       "    <tr>\n",
       "      <th>2</th>\n",
       "      <td>loan_amount</td>\n",
       "      <td>235698</td>\n",
       "      <td>0</td>\n",
       "      <td>2397</td>\n",
       "      <td>float64</td>\n",
       "    </tr>\n",
       "    <tr>\n",
       "      <th>3</th>\n",
       "      <td>is_collateral</td>\n",
       "      <td>235698</td>\n",
       "      <td>0</td>\n",
       "      <td>1</td>\n",
       "      <td>int32</td>\n",
       "    </tr>\n",
       "    <tr>\n",
       "      <th>4</th>\n",
       "      <td>salary_payment_in_bank_account</td>\n",
       "      <td>235698</td>\n",
       "      <td>0</td>\n",
       "      <td>2</td>\n",
       "      <td>category</td>\n",
       "    </tr>\n",
       "    <tr>\n",
       "      <th>5</th>\n",
       "      <td>age</td>\n",
       "      <td>235698</td>\n",
       "      <td>0</td>\n",
       "      <td>67</td>\n",
       "      <td>int64</td>\n",
       "    </tr>\n",
       "    <tr>\n",
       "      <th>6</th>\n",
       "      <td>gender</td>\n",
       "      <td>235698</td>\n",
       "      <td>0</td>\n",
       "      <td>2</td>\n",
       "      <td>category</td>\n",
       "    </tr>\n",
       "    <tr>\n",
       "      <th>7</th>\n",
       "      <td>region_of_living</td>\n",
       "      <td>235698</td>\n",
       "      <td>0</td>\n",
       "      <td>5</td>\n",
       "      <td>category</td>\n",
       "    </tr>\n",
       "    <tr>\n",
       "      <th>8</th>\n",
       "      <td>region_of_registration</td>\n",
       "      <td>235698</td>\n",
       "      <td>0</td>\n",
       "      <td>5</td>\n",
       "      <td>category</td>\n",
       "    </tr>\n",
       "    <tr>\n",
       "      <th>9</th>\n",
       "      <td>city_of_living_eq_registration</td>\n",
       "      <td>235698</td>\n",
       "      <td>0</td>\n",
       "      <td>2</td>\n",
       "      <td>int32</td>\n",
       "    </tr>\n",
       "    <tr>\n",
       "      <th>10</th>\n",
       "      <td>education</td>\n",
       "      <td>223507</td>\n",
       "      <td>12191</td>\n",
       "      <td>7</td>\n",
       "      <td>category</td>\n",
       "    </tr>\n",
       "    <tr>\n",
       "      <th>11</th>\n",
       "      <td>marital_status</td>\n",
       "      <td>235423</td>\n",
       "      <td>275</td>\n",
       "      <td>8</td>\n",
       "      <td>category</td>\n",
       "    </tr>\n",
       "    <tr>\n",
       "      <th>12</th>\n",
       "      <td>dependants</td>\n",
       "      <td>235698</td>\n",
       "      <td>0</td>\n",
       "      <td>22</td>\n",
       "      <td>int64</td>\n",
       "    </tr>\n",
       "    <tr>\n",
       "      <th>13</th>\n",
       "      <td>months_at_current_address</td>\n",
       "      <td>235698</td>\n",
       "      <td>0</td>\n",
       "      <td>83</td>\n",
       "      <td>int64</td>\n",
       "    </tr>\n",
       "    <tr>\n",
       "      <th>14</th>\n",
       "      <td>employment_type</td>\n",
       "      <td>235405</td>\n",
       "      <td>293</td>\n",
       "      <td>3</td>\n",
       "      <td>category</td>\n",
       "    </tr>\n",
       "    <tr>\n",
       "      <th>15</th>\n",
       "      <td>employment_segment</td>\n",
       "      <td>148133</td>\n",
       "      <td>87565</td>\n",
       "      <td>56</td>\n",
       "      <td>category</td>\n",
       "    </tr>\n",
       "    <tr>\n",
       "      <th>16</th>\n",
       "      <td>months_at_job</td>\n",
       "      <td>235698</td>\n",
       "      <td>0</td>\n",
       "      <td>389</td>\n",
       "      <td>int64</td>\n",
       "    </tr>\n",
       "    <tr>\n",
       "      <th>17</th>\n",
       "      <td>net_main_income</td>\n",
       "      <td>235662</td>\n",
       "      <td>36</td>\n",
       "      <td>11620</td>\n",
       "      <td>float64</td>\n",
       "    </tr>\n",
       "    <tr>\n",
       "      <th>18</th>\n",
       "      <td>source_of_main_income</td>\n",
       "      <td>234634</td>\n",
       "      <td>1064</td>\n",
       "      <td>6</td>\n",
       "      <td>category</td>\n",
       "    </tr>\n",
       "    <tr>\n",
       "      <th>19</th>\n",
       "      <td>additional_income</td>\n",
       "      <td>52926</td>\n",
       "      <td>182772</td>\n",
       "      <td>3310</td>\n",
       "      <td>float64</td>\n",
       "    </tr>\n",
       "    <tr>\n",
       "      <th>20</th>\n",
       "      <td>reported_expenses</td>\n",
       "      <td>235690</td>\n",
       "      <td>8</td>\n",
       "      <td>4347</td>\n",
       "      <td>float64</td>\n",
       "    </tr>\n",
       "    <tr>\n",
       "      <th>21</th>\n",
       "      <td>months_with_bank</td>\n",
       "      <td>235698</td>\n",
       "      <td>0</td>\n",
       "      <td>235</td>\n",
       "      <td>int64</td>\n",
       "    </tr>\n",
       "    <tr>\n",
       "      <th>22</th>\n",
       "      <td>client_type</td>\n",
       "      <td>235698</td>\n",
       "      <td>0</td>\n",
       "      <td>2</td>\n",
       "      <td>int64</td>\n",
       "    </tr>\n",
       "    <tr>\n",
       "      <th>23</th>\n",
       "      <td>property_object</td>\n",
       "      <td>235684</td>\n",
       "      <td>14</td>\n",
       "      <td>7</td>\n",
       "      <td>category</td>\n",
       "    </tr>\n",
       "    <tr>\n",
       "      <th>24</th>\n",
       "      <td>eskhata_online</td>\n",
       "      <td>235698</td>\n",
       "      <td>0</td>\n",
       "      <td>3</td>\n",
       "      <td>category</td>\n",
       "    </tr>\n",
       "    <tr>\n",
       "      <th>25</th>\n",
       "      <td>plastic_cards</td>\n",
       "      <td>235698</td>\n",
       "      <td>0</td>\n",
       "      <td>2</td>\n",
       "      <td>category</td>\n",
       "    </tr>\n",
       "    <tr>\n",
       "      <th>26</th>\n",
       "      <td>deposit</td>\n",
       "      <td>235698</td>\n",
       "      <td>0</td>\n",
       "      <td>1288</td>\n",
       "      <td>float64</td>\n",
       "    </tr>\n",
       "    <tr>\n",
       "      <th>27</th>\n",
       "      <td>gb_90ever</td>\n",
       "      <td>235698</td>\n",
       "      <td>0</td>\n",
       "      <td>2</td>\n",
       "      <td>int32</td>\n",
       "    </tr>\n",
       "    <tr>\n",
       "      <th>28</th>\n",
       "      <td>gb_cum_dlq_90</td>\n",
       "      <td>235698</td>\n",
       "      <td>0</td>\n",
       "      <td>2</td>\n",
       "      <td>int32</td>\n",
       "    </tr>\n",
       "    <tr>\n",
       "      <th>29</th>\n",
       "      <td>gb_60ever</td>\n",
       "      <td>235698</td>\n",
       "      <td>0</td>\n",
       "      <td>2</td>\n",
       "      <td>int32</td>\n",
       "    </tr>\n",
       "    <tr>\n",
       "      <th>30</th>\n",
       "      <td>bki_rating</td>\n",
       "      <td>87382</td>\n",
       "      <td>148316</td>\n",
       "      <td>10</td>\n",
       "      <td>category</td>\n",
       "    </tr>\n",
       "    <tr>\n",
       "      <th>31</th>\n",
       "      <td>bki_number_of_loans</td>\n",
       "      <td>235698</td>\n",
       "      <td>0</td>\n",
       "      <td>300</td>\n",
       "      <td>int64</td>\n",
       "    </tr>\n",
       "    <tr>\n",
       "      <th>32</th>\n",
       "      <td>loan_month</td>\n",
       "      <td>235698</td>\n",
       "      <td>0</td>\n",
       "      <td>21</td>\n",
       "      <td>int64</td>\n",
       "    </tr>\n",
       "    <tr>\n",
       "      <th>33</th>\n",
       "      <td>previous_loans_count</td>\n",
       "      <td>235698</td>\n",
       "      <td>0</td>\n",
       "      <td>2</td>\n",
       "      <td>int32</td>\n",
       "    </tr>\n",
       "    <tr>\n",
       "      <th>34</th>\n",
       "      <td>max_max_days_past_due</td>\n",
       "      <td>60704</td>\n",
       "      <td>174994</td>\n",
       "      <td>147</td>\n",
       "      <td>float64</td>\n",
       "    </tr>\n",
       "  </tbody>\n",
       "</table>\n",
       "</div>"
      ],
      "text/plain": [
       "                            column  notnull    null  N_unique     dtype\n",
       "0                      customer_id   235698       0    174994     int64\n",
       "1                       account_id   235698       0    235698     int64\n",
       "2                      loan_amount   235698       0      2397   float64\n",
       "3                    is_collateral   235698       0         1     int32\n",
       "4   salary_payment_in_bank_account   235698       0         2  category\n",
       "5                              age   235698       0        67     int64\n",
       "6                           gender   235698       0         2  category\n",
       "7                 region_of_living   235698       0         5  category\n",
       "8           region_of_registration   235698       0         5  category\n",
       "9   city_of_living_eq_registration   235698       0         2     int32\n",
       "10                       education   223507   12191         7  category\n",
       "11                  marital_status   235423     275         8  category\n",
       "12                      dependants   235698       0        22     int64\n",
       "13       months_at_current_address   235698       0        83     int64\n",
       "14                 employment_type   235405     293         3  category\n",
       "15              employment_segment   148133   87565        56  category\n",
       "16                   months_at_job   235698       0       389     int64\n",
       "17                 net_main_income   235662      36     11620   float64\n",
       "18           source_of_main_income   234634    1064         6  category\n",
       "19               additional_income    52926  182772      3310   float64\n",
       "20               reported_expenses   235690       8      4347   float64\n",
       "21                months_with_bank   235698       0       235     int64\n",
       "22                     client_type   235698       0         2     int64\n",
       "23                 property_object   235684      14         7  category\n",
       "24                  eskhata_online   235698       0         3  category\n",
       "25                   plastic_cards   235698       0         2  category\n",
       "26                         deposit   235698       0      1288   float64\n",
       "27                       gb_90ever   235698       0         2     int32\n",
       "28                   gb_cum_dlq_90   235698       0         2     int32\n",
       "29                       gb_60ever   235698       0         2     int32\n",
       "30                      bki_rating    87382  148316        10  category\n",
       "31             bki_number_of_loans   235698       0       300     int64\n",
       "32                      loan_month   235698       0        21     int64\n",
       "33            previous_loans_count   235698       0         2     int32\n",
       "34           max_max_days_past_due    60704  174994       147   float64"
      ]
     },
     "execution_count": 69,
     "metadata": {},
     "output_type": "execute_result"
    }
   ],
   "source": [
    "get_describe_df(df_selected)"
   ]
  },
  {
   "cell_type": "code",
   "execution_count": 39,
   "id": "60254e1b",
   "metadata": {},
   "outputs": [],
   "source": [
    "# Проверка наличия всех столбцов\n",
    "missing_columns = [col for col in include_vars if col not in df.columns]\n",
    "if missing_columns:\n",
    "    logging.warning(f\"Отсутствуют следующие столбцы: {missing_columns}\")"
   ]
  },
  {
   "cell_type": "code",
   "execution_count": 40,
   "id": "d113fb05",
   "metadata": {},
   "outputs": [],
   "source": [
    "# Создание нового датафрейма с выбранными столбцами (только существующие)\n",
    "existing_include_vars = [col for col in include_vars if col in df.columns]\n",
    "df_selected = df[existing_include_vars].copy()"
   ]
  },
  {
   "cell_type": "markdown",
   "id": "7d32cc04",
   "metadata": {},
   "source": [
    "# Группировка по loan_month и вычисление показателей просроченности"
   ]
  },
  {
   "cell_type": "code",
   "execution_count": 41,
   "id": "0cc278cb",
   "metadata": {},
   "outputs": [
    {
     "name": "stderr",
     "output_type": "stream",
     "text": [
      "2024-12-05 16:53:04,697 - INFO - Группировка по 'loan_month' и вычисление показателей просроченности.\n"
     ]
    }
   ],
   "source": [
    "logging.info(\"Группировка по 'loan_month' и вычисление показателей просроченности.\")\n",
    "rep_gb_90ever_month = df_selected.groupby('loan_month').agg(\n",
    "    count=('gb_90ever', 'count'),\n",
    "    bad_num=('gb_90ever', 'sum'),\n",
    "    bad_rate=('gb_90ever', 'mean')\n",
    ").reset_index()\n",
    "\n",
    "rep_gb_cum_dlq_90_month = df_selected.groupby('loan_month').agg(\n",
    "    count=('gb_cum_dlq_90', 'count'),\n",
    "    bad_num=('gb_cum_dlq_90', 'sum'),\n",
    "    bad_rate=('gb_cum_dlq_90', 'mean')\n",
    ").reset_index()\n",
    "\n",
    "rep_gb_60ever_month = df_selected.groupby('loan_month').agg(\n",
    "    count=('gb_60ever', 'count'),\n",
    "    bad_num=('gb_60ever', 'sum'),\n",
    "    bad_rate=('gb_60ever', 'mean')\n",
    ").reset_index()\n"
   ]
  },
  {
   "cell_type": "markdown",
   "id": "c4a2c051",
   "metadata": {},
   "source": [
    "# Создание выборок по типу занятости"
   ]
  },
  {
   "cell_type": "code",
   "execution_count": 42,
   "id": "2c53b2e8",
   "metadata": {},
   "outputs": [
    {
     "name": "stderr",
     "output_type": "stream",
     "text": [
      "2024-12-05 16:53:04,806 - INFO - Создание выборок по типу занятости.\n"
     ]
    }
   ],
   "source": [
    "logging.info(\"Создание выборок по типу занятости.\")\n",
    "sample_empl = df_selected[\n",
    "    (df_selected['employment_type'] == \"Работает в организации\") &\n",
    "    (df_selected['employment_segment'].isin([\n",
    "        \"Мед. работник\",\n",
    "        \"Работник в сфере образования\",\n",
    "        \"Работник госструктур\",\n",
    "        \"Работник НПО (Ташкилоти Чамъияти)\",\n",
    "        \"Работник производства\",\n",
    "        \"Работник сельского хозяйство\",\n",
    "        \"Работник частной организации\",\n",
    "        \"Строитель\",\n",
    "        \"Экономист\"\n",
    "    ]))\n",
    "].copy()\n",
    "\n",
    "sample_bus = df_selected[\n",
    "    (df_selected['employment_type'] == \"Собственный бизнес\") &\n",
    "    (df_selected['employment_segment'].isin([\n",
    "        \"Агро\",\n",
    "        \"Производство\",\n",
    "        \"Торговля\",\n",
    "        \"Услуги\",\n",
    "        \"Услуги Мастера\",\n",
    "        \"Услуги транспорта\"\n",
    "    ]))\n",
    "].copy()\n",
    "\n",
    "sample_other = df_selected[\n",
    "    (df_selected['employment_type'] == \"Имеет другой источник дохода\") &\n",
    "    (df_selected['employment_segment'].isna())\n",
    "].copy()"
   ]
  },
  {
   "cell_type": "code",
   "execution_count": 43,
   "id": "613f53e3",
   "metadata": {},
   "outputs": [
    {
     "name": "stderr",
     "output_type": "stream",
     "text": [
      "2024-12-05 16:53:04,935 - INFO - Вывод размеров выборок.\n"
     ]
    },
    {
     "name": "stdout",
     "output_type": "stream",
     "text": [
      "\n",
      "Размер выборки для работников: 51546\n",
      "Размер выборки для бизнесменов: 79305\n",
      "Размер выборки для других источников дохода: 85248\n"
     ]
    }
   ],
   "source": [
    "logging.info(\"Вывод размеров выборок.\")\n",
    "print(f\"\\nРазмер выборки для работников: {sample_empl.shape[0]}\")\n",
    "print(f\"Размер выборки для бизнесменов: {sample_bus.shape[0]}\")\n",
    "print(f\"Размер выборки для других источников дохода: {sample_other.shape[0]}\")"
   ]
  },
  {
   "cell_type": "markdown",
   "id": "2cb346e1",
   "metadata": {},
   "source": [
    "# Создание выборки для анализа"
   ]
  },
  {
   "cell_type": "code",
   "execution_count": 44,
   "id": "f1fad5b9",
   "metadata": {},
   "outputs": [
    {
     "name": "stderr",
     "output_type": "stream",
     "text": [
      "2024-12-05 16:53:04,963 - INFO - Структура выбранной выборки:\n"
     ]
    },
    {
     "name": "stdout",
     "output_type": "stream",
     "text": [
      "<class 'pandas.core.frame.DataFrame'>\n",
      "Int64Index: 51546 entries, 8 to 235696\n",
      "Data columns (total 35 columns):\n",
      " #   Column                          Non-Null Count  Dtype   \n",
      "---  ------                          --------------  -----   \n",
      " 0   customer_id                     51546 non-null  int64   \n",
      " 1   account_id                      51546 non-null  int64   \n",
      " 2   loan_amount                     51546 non-null  float64 \n",
      " 3   is_collateral                   51546 non-null  int32   \n",
      " 4   salary_payment_in_bank_account  51546 non-null  category\n",
      " 5   age                             51546 non-null  int64   \n",
      " 6   gender                          51546 non-null  category\n",
      " 7   region_of_living                51546 non-null  category\n",
      " 8   region_of_registration          51546 non-null  category\n",
      " 9   city_of_living_eq_registration  51546 non-null  int32   \n",
      " 10  education                       48720 non-null  category\n",
      " 11  marital_status                  51462 non-null  category\n",
      " 12  dependants                      51546 non-null  int64   \n",
      " 13  months_at_current_address       51546 non-null  int64   \n",
      " 14  employment_type                 51546 non-null  category\n",
      " 15  employment_segment              51546 non-null  category\n",
      " 16  months_at_job                   51546 non-null  int64   \n",
      " 17  net_main_income                 51542 non-null  float64 \n",
      " 18  source_of_main_income           51301 non-null  category\n",
      " 19  additional_income               22898 non-null  float64 \n",
      " 20  reported_expenses               51546 non-null  float64 \n",
      " 21  months_with_bank                51546 non-null  int64   \n",
      " 22  client_type                     51546 non-null  int64   \n",
      " 23  property_object                 51543 non-null  category\n",
      " 24  eskhata_online                  51546 non-null  category\n",
      " 25  plastic_cards                   51546 non-null  category\n",
      " 26  deposit                         51546 non-null  float64 \n",
      " 27  gb_90ever                       51546 non-null  int32   \n",
      " 28  gb_cum_dlq_90                   51546 non-null  int32   \n",
      " 29  gb_60ever                       51546 non-null  int32   \n",
      " 30  bki_rating                      19774 non-null  category\n",
      " 31  bki_number_of_loans             51546 non-null  int64   \n",
      " 32  loan_month                      51546 non-null  int64   \n",
      " 33  previous_loans_count            51546 non-null  int32   \n",
      " 34  max_max_days_past_due           12592 non-null  float64 \n",
      "dtypes: category(13), float64(6), int32(6), int64(10)\n",
      "memory usage: 8.5 MB\n",
      "None\n"
     ]
    }
   ],
   "source": [
    "# Пример выбора выборки для анализа\n",
    "sample = sample_empl.copy()\n",
    "# sample = sample_bus.copy()\n",
    "# sample = sample_other.copy()\n",
    "\n",
    "logging.info(\"Структура выбранной выборки:\")\n",
    "print(sample.info())"
   ]
  },
  {
   "cell_type": "markdown",
   "id": "9df96251",
   "metadata": {},
   "source": [
    "# Определение целевой переменной"
   ]
  },
  {
   "cell_type": "code",
   "execution_count": 45,
   "id": "bf11c526",
   "metadata": {},
   "outputs": [
    {
     "name": "stderr",
     "output_type": "stream",
     "text": [
      "2024-12-05 16:53:05,021 - INFO - Создание целевой переменной 'gb'.\n"
     ]
    }
   ],
   "source": [
    "# Создание переменной gb\n",
    "logging.info(\"Создание целевой переменной 'gb'.\")\n",
    "sample.loc[:, 'gb'] = sample['gb_60ever']\\\n",
    "\n",
    "# sample.loc[:, 'gb'] = sample['gb_cum_dlq_90']"
   ]
  },
  {
   "cell_type": "markdown",
   "id": "5a50a9c4",
   "metadata": {},
   "source": [
    "# Семплирование\n",
    "## Создание выборок для Train и Test"
   ]
  },
  {
   "cell_type": "code",
   "execution_count": 46,
   "id": "1ee947f3",
   "metadata": {},
   "outputs": [],
   "source": [
    "# Выборка для обучения модели\n",
    "dev = sample[(sample['loan_month'] >= 202110) & (sample['loan_month'] < 202210)].drop(columns=['loan_month']).copy()\n",
    "\n",
    "# Выборка для тестирования модели на временную устойчивость\n",
    "oot = sample[(sample['loan_month'] >= 202210) & (sample['loan_month'] < 202303)].copy()\n",
    "\n",
    "# Выборка для кросс-валидации внутри обучающей выборки\n",
    "oot2 = sample[(sample['loan_month'] >= 202207) & (sample['loan_month'] < 202210)].copy()\n",
    "\n",
    "# Выборка для финального обучения модели\n",
    "dev_final = sample[(sample['loan_month'] >= 202110) & (sample['loan_month'] < 202302)].drop(columns=['loan_month']).copy()"
   ]
  },
  {
   "cell_type": "code",
   "execution_count": 47,
   "id": "4169890d",
   "metadata": {},
   "outputs": [
    {
     "name": "stderr",
     "output_type": "stream",
     "text": [
      "2024-12-05 16:53:05,126 - INFO - Изучение распределений в выборках.\n"
     ]
    },
    {
     "name": "stdout",
     "output_type": "stream",
     "text": [
      "\n",
      "Распределение в Development Sample:\n",
      "          gb\n",
      "count  27834\n",
      "sum      599\n",
      "            gb\n",
      "count  1.00000\n",
      "sum    0.02152\n",
      "\n",
      "Распределение в Out-of-time Sample:\n",
      "          gb\n",
      "count  12429\n",
      "sum       80\n",
      "             gb\n",
      "count  1.000000\n",
      "sum    0.006437\n",
      "\n",
      "Распределение в Out-of-time 2 Sample:\n",
      "         gb\n",
      "count  9355\n",
      "sum     139\n",
      "             gb\n",
      "count  1.000000\n",
      "sum    0.014858\n",
      "\n",
      "Распределение в Development Final Sample:\n",
      "          gb\n",
      "count  37636\n",
      "sum      669\n",
      "             gb\n",
      "count  1.000000\n",
      "sum    0.017776\n"
     ]
    }
   ],
   "source": [
    "# Изучение распределений\n",
    "logging.info(\"Изучение распределений в выборках.\")\n",
    "print(\"\\nРаспределение в Development Sample:\")\n",
    "print(dev[['gb']].agg(['count', 'sum']))\n",
    "print(dev[['gb']].agg(['count', 'sum']) / len(dev))\n",
    "\n",
    "print(\"\\nРаспределение в Out-of-time Sample:\")\n",
    "print(oot[['gb']].agg(['count', 'sum']))\n",
    "print(oot[['gb']].agg(['count', 'sum']) / len(oot))\n",
    "\n",
    "print(\"\\nРаспределение в Out-of-time 2 Sample:\")\n",
    "print(oot2[['gb']].agg(['count', 'sum']))\n",
    "print(oot2[['gb']].agg(['count', 'sum']) / len(oot2))\n",
    "\n",
    "print(\"\\nРаспределение в Development Final Sample:\")\n",
    "print(dev_final[['gb']].agg(['count', 'sum']))\n",
    "print(dev_final[['gb']].agg(['count', 'sum']) / len(dev_final))"
   ]
  },
  {
   "cell_type": "code",
   "execution_count": 48,
   "id": "c1142592",
   "metadata": {},
   "outputs": [
    {
     "name": "stderr",
     "output_type": "stream",
     "text": [
      "2024-12-05 16:53:05,198 - INFO - Вывод количества строк в каждой выборке.\n"
     ]
    },
    {
     "name": "stdout",
     "output_type": "stream",
     "text": [
      "\n",
      "Количество строк в Development Sample: 27834\n",
      "Количество строк в Out-of-time Sample: 12429\n",
      "Количество строк в Out-of-time 2 Sample: 9355\n",
      "Количество строк в Development Final Sample: 37636\n"
     ]
    }
   ],
   "source": [
    "# Вывод количества строк в каждой выборке\n",
    "logging.info(\"Вывод количества строк в каждой выборке.\")\n",
    "print(f\"\\nКоличество строк в Development Sample: {dev.shape[0]}\")\n",
    "print(f\"Количество строк в Out-of-time Sample: {oot.shape[0]}\")\n",
    "print(f\"Количество строк в Out-of-time 2 Sample: {oot2.shape[0]}\")\n",
    "print(f\"Количество строк в Development Final Sample: {dev_final.shape[0]}\")\n"
   ]
  },
  {
   "cell_type": "markdown",
   "id": "96b4fb30",
   "metadata": {},
   "source": [
    "# MACHINE LEARNING"
   ]
  },
  {
   "cell_type": "code",
   "execution_count": 49,
   "id": "ff0c4f60",
   "metadata": {},
   "outputs": [],
   "source": [
    "import pandas as pd\n",
    "import numpy as np\n",
    "import scorecardpy as sc\n",
    "from sklearn.linear_model import LogisticRegression\n",
    "from sklearn.model_selection import train_test_split\n",
    "from sklearn.metrics import roc_auc_score, classification_report, confusion_matrix\n",
    "from sklearn.preprocessing import StandardScaler\n",
    "from sklearn.impute import SimpleImputer\n",
    "from sklearn.feature_selection import VarianceThreshold\n",
    "from imblearn.over_sampling import SMOTE\n",
    "import matplotlib.pyplot as plt\n",
    "import seaborn as sns\n",
    "import logging\n",
    "import json\n",
    "import statsmodels.api as sm\n",
    "import joblib\n",
    "\n"
   ]
  },
  {
   "cell_type": "markdown",
   "id": "d04b2e93",
   "metadata": {},
   "source": [
    "# Расчет Information Value (IV)"
   ]
  },
  {
   "cell_type": "code",
   "execution_count": 50,
   "id": "8a2da978",
   "metadata": {},
   "outputs": [
    {
     "name": "stderr",
     "output_type": "stream",
     "text": [
      "2024-12-05 16:53:10,564 - INFO - Расчет Information Value (IV) для всех переменных в dev_final.\n"
     ]
    }
   ],
   "source": [
    "logging.info(\"Расчет Information Value (IV) для всех переменных в dev_final.\")\n",
    "iv_values_final = sc.iv(dt=dev_final, y='gb')\n"
   ]
  },
  {
   "cell_type": "code",
   "execution_count": 51,
   "id": "b8c5b710",
   "metadata": {},
   "outputs": [
    {
     "name": "stdout",
     "output_type": "stream",
     "text": [
      "Структура iv_values_final:\n",
      "Index(['variable', 'info_value'], dtype='object')\n",
      "\n",
      "Первые 5 строк iv_values_final:\n",
      "             variable  info_value\n",
      "32          gb_60ever   17.210712\n",
      "14      gb_cum_dlq_90    7.762180\n",
      "13          gb_90ever    6.407824\n",
      "10  additional_income    2.209887\n",
      "8         loan_amount    1.865620\n"
     ]
    }
   ],
   "source": [
    "# Просмотр структуры и первых строк DataFrame iv_values_final\n",
    "print(\"Структура iv_values_final:\")\n",
    "print(iv_values_final.columns)\n",
    "\n",
    "print(\"\\nПервые 5 строк iv_values_final:\")\n",
    "print(iv_values_final.head())\n"
   ]
  },
  {
   "cell_type": "markdown",
   "id": "c63bab05",
   "metadata": {},
   "source": [
    "# Отбор переменных на основе IV"
   ]
  },
  {
   "cell_type": "code",
   "execution_count": 52,
   "id": "7578b522",
   "metadata": {},
   "outputs": [
    {
     "name": "stderr",
     "output_type": "stream",
     "text": [
      "2024-12-05 16:55:17,113 - INFO - Отбор переменных на основе IV >= 0.01.\n",
      "2024-12-05 16:55:17,117 - INFO - Переменные с info_value >= 0.01: ['gb_60ever', 'gb_cum_dlq_90', 'gb_90ever', 'additional_income', 'loan_amount', 'reported_expenses', 'net_main_income', 'months_at_job', 'deposit', 'bki_number_of_loans', 'months_with_bank', 'max_max_days_past_due', 'age', 'employment_segment', 'marital_status', 'months_at_current_address', 'client_type', 'bki_rating', 'customer_id', 'salary_payment_in_bank_account', 'region_of_living', 'dependants', 'region_of_registration', 'education', 'eskhata_online', 'gender', 'property_object', 'city_of_living_eq_registration', 'source_of_main_income', 'plastic_cards', 'previous_loans_count']\n"
     ]
    }
   ],
   "source": [
    "logging.info(\"Отбор переменных на основе IV >= 0.01.\")\n",
    "selected_vars_iv = iv_values_final[\n",
    "    iv_values_final['info_value'] >= 0.01\n",
    "]['variable'].tolist()\n",
    "\n",
    "logging.info(f\"Переменные с info_value >= 0.01: {selected_vars_iv}\")\n"
   ]
  },
  {
   "cell_type": "markdown",
   "id": "f80e6cb4",
   "metadata": {},
   "source": [
    "# Вычисление доли пропусков для отобранных переменных"
   ]
  },
  {
   "cell_type": "code",
   "execution_count": 53,
   "id": "f3981ba4",
   "metadata": {},
   "outputs": [
    {
     "name": "stderr",
     "output_type": "stream",
     "text": [
      "2024-12-05 16:55:17,139 - INFO - Расчет доли пропусков для отобранных переменных.\n"
     ]
    }
   ],
   "source": [
    "logging.info(\"Расчет доли пропусков для отобранных переменных.\")\n",
    "# Рассчитываем долю пропусков для отобранных переменных\n",
    "missing_rates = dev_final[selected_vars_iv].isnull().mean().reset_index()\n",
    "missing_rates.columns = ['variable', 'missing']\n"
   ]
  },
  {
   "cell_type": "code",
   "execution_count": 54,
   "id": "dc1e958a",
   "metadata": {},
   "outputs": [
    {
     "name": "stderr",
     "output_type": "stream",
     "text": [
      "2024-12-05 16:55:17,173 - INFO - Структура missing_rates:\n"
     ]
    },
    {
     "data": {
      "text/plain": [
       "Index(['variable', 'missing'], dtype='object')"
      ]
     },
     "metadata": {},
     "output_type": "display_data"
    },
    {
     "name": "stderr",
     "output_type": "stream",
     "text": [
      "2024-12-05 16:55:17,179 - INFO - Первые строк missing_rates:\n"
     ]
    },
    {
     "data": {
      "text/html": [
       "<div>\n",
       "<style scoped>\n",
       "    .dataframe tbody tr th:only-of-type {\n",
       "        vertical-align: middle;\n",
       "    }\n",
       "\n",
       "    .dataframe tbody tr th {\n",
       "        vertical-align: top;\n",
       "    }\n",
       "\n",
       "    .dataframe thead th {\n",
       "        text-align: right;\n",
       "    }\n",
       "</style>\n",
       "<table border=\"1\" class=\"dataframe\">\n",
       "  <thead>\n",
       "    <tr style=\"text-align: right;\">\n",
       "      <th></th>\n",
       "      <th>variable</th>\n",
       "      <th>missing</th>\n",
       "    </tr>\n",
       "  </thead>\n",
       "  <tbody>\n",
       "    <tr>\n",
       "      <th>0</th>\n",
       "      <td>gb_60ever</td>\n",
       "      <td>0.000000</td>\n",
       "    </tr>\n",
       "    <tr>\n",
       "      <th>1</th>\n",
       "      <td>gb_cum_dlq_90</td>\n",
       "      <td>0.000000</td>\n",
       "    </tr>\n",
       "    <tr>\n",
       "      <th>2</th>\n",
       "      <td>gb_90ever</td>\n",
       "      <td>0.000000</td>\n",
       "    </tr>\n",
       "    <tr>\n",
       "      <th>3</th>\n",
       "      <td>additional_income</td>\n",
       "      <td>0.545382</td>\n",
       "    </tr>\n",
       "    <tr>\n",
       "      <th>4</th>\n",
       "      <td>loan_amount</td>\n",
       "      <td>0.000000</td>\n",
       "    </tr>\n",
       "    <tr>\n",
       "      <th>5</th>\n",
       "      <td>reported_expenses</td>\n",
       "      <td>0.000000</td>\n",
       "    </tr>\n",
       "    <tr>\n",
       "      <th>6</th>\n",
       "      <td>net_main_income</td>\n",
       "      <td>0.000053</td>\n",
       "    </tr>\n",
       "    <tr>\n",
       "      <th>7</th>\n",
       "      <td>months_at_job</td>\n",
       "      <td>0.000000</td>\n",
       "    </tr>\n",
       "    <tr>\n",
       "      <th>8</th>\n",
       "      <td>deposit</td>\n",
       "      <td>0.000000</td>\n",
       "    </tr>\n",
       "    <tr>\n",
       "      <th>9</th>\n",
       "      <td>bki_number_of_loans</td>\n",
       "      <td>0.000000</td>\n",
       "    </tr>\n",
       "    <tr>\n",
       "      <th>10</th>\n",
       "      <td>months_with_bank</td>\n",
       "      <td>0.000000</td>\n",
       "    </tr>\n",
       "    <tr>\n",
       "      <th>11</th>\n",
       "      <td>max_max_days_past_due</td>\n",
       "      <td>0.810580</td>\n",
       "    </tr>\n",
       "    <tr>\n",
       "      <th>12</th>\n",
       "      <td>age</td>\n",
       "      <td>0.000000</td>\n",
       "    </tr>\n",
       "    <tr>\n",
       "      <th>13</th>\n",
       "      <td>employment_segment</td>\n",
       "      <td>0.000000</td>\n",
       "    </tr>\n",
       "    <tr>\n",
       "      <th>14</th>\n",
       "      <td>marital_status</td>\n",
       "      <td>0.002019</td>\n",
       "    </tr>\n",
       "    <tr>\n",
       "      <th>15</th>\n",
       "      <td>months_at_current_address</td>\n",
       "      <td>0.000000</td>\n",
       "    </tr>\n",
       "    <tr>\n",
       "      <th>16</th>\n",
       "      <td>client_type</td>\n",
       "      <td>0.000000</td>\n",
       "    </tr>\n",
       "    <tr>\n",
       "      <th>17</th>\n",
       "      <td>bki_rating</td>\n",
       "      <td>0.616245</td>\n",
       "    </tr>\n",
       "    <tr>\n",
       "      <th>18</th>\n",
       "      <td>customer_id</td>\n",
       "      <td>0.000000</td>\n",
       "    </tr>\n",
       "    <tr>\n",
       "      <th>19</th>\n",
       "      <td>salary_payment_in_bank_account</td>\n",
       "      <td>0.000000</td>\n",
       "    </tr>\n",
       "    <tr>\n",
       "      <th>20</th>\n",
       "      <td>region_of_living</td>\n",
       "      <td>0.000000</td>\n",
       "    </tr>\n",
       "    <tr>\n",
       "      <th>21</th>\n",
       "      <td>dependants</td>\n",
       "      <td>0.000000</td>\n",
       "    </tr>\n",
       "    <tr>\n",
       "      <th>22</th>\n",
       "      <td>region_of_registration</td>\n",
       "      <td>0.000000</td>\n",
       "    </tr>\n",
       "    <tr>\n",
       "      <th>23</th>\n",
       "      <td>education</td>\n",
       "      <td>0.060341</td>\n",
       "    </tr>\n",
       "    <tr>\n",
       "      <th>24</th>\n",
       "      <td>eskhata_online</td>\n",
       "      <td>0.000000</td>\n",
       "    </tr>\n",
       "    <tr>\n",
       "      <th>25</th>\n",
       "      <td>gender</td>\n",
       "      <td>0.000000</td>\n",
       "    </tr>\n",
       "    <tr>\n",
       "      <th>26</th>\n",
       "      <td>property_object</td>\n",
       "      <td>0.000080</td>\n",
       "    </tr>\n",
       "    <tr>\n",
       "      <th>27</th>\n",
       "      <td>city_of_living_eq_registration</td>\n",
       "      <td>0.000000</td>\n",
       "    </tr>\n",
       "    <tr>\n",
       "      <th>28</th>\n",
       "      <td>source_of_main_income</td>\n",
       "      <td>0.003746</td>\n",
       "    </tr>\n",
       "    <tr>\n",
       "      <th>29</th>\n",
       "      <td>plastic_cards</td>\n",
       "      <td>0.000000</td>\n",
       "    </tr>\n",
       "    <tr>\n",
       "      <th>30</th>\n",
       "      <td>previous_loans_count</td>\n",
       "      <td>0.000000</td>\n",
       "    </tr>\n",
       "  </tbody>\n",
       "</table>\n",
       "</div>"
      ],
      "text/plain": [
       "                          variable   missing\n",
       "0                        gb_60ever  0.000000\n",
       "1                    gb_cum_dlq_90  0.000000\n",
       "2                        gb_90ever  0.000000\n",
       "3                additional_income  0.545382\n",
       "4                      loan_amount  0.000000\n",
       "5                reported_expenses  0.000000\n",
       "6                  net_main_income  0.000053\n",
       "7                    months_at_job  0.000000\n",
       "8                          deposit  0.000000\n",
       "9              bki_number_of_loans  0.000000\n",
       "10                months_with_bank  0.000000\n",
       "11           max_max_days_past_due  0.810580\n",
       "12                             age  0.000000\n",
       "13              employment_segment  0.000000\n",
       "14                  marital_status  0.002019\n",
       "15       months_at_current_address  0.000000\n",
       "16                     client_type  0.000000\n",
       "17                      bki_rating  0.616245\n",
       "18                     customer_id  0.000000\n",
       "19  salary_payment_in_bank_account  0.000000\n",
       "20                region_of_living  0.000000\n",
       "21                      dependants  0.000000\n",
       "22          region_of_registration  0.000000\n",
       "23                       education  0.060341\n",
       "24                  eskhata_online  0.000000\n",
       "25                          gender  0.000000\n",
       "26                 property_object  0.000080\n",
       "27  city_of_living_eq_registration  0.000000\n",
       "28           source_of_main_income  0.003746\n",
       "29                   plastic_cards  0.000000\n",
       "30            previous_loans_count  0.000000"
      ]
     },
     "metadata": {},
     "output_type": "display_data"
    }
   ],
   "source": [
    "# Просмотр первых строк\n",
    "logging.info(\"Структура missing_rates:\")\n",
    "display(missing_rates.columns)\n",
    "\n",
    "logging.info(\"Первые строк missing_rates:\")\n",
    "display(missing_rates)\n"
   ]
  },
  {
   "cell_type": "markdown",
   "id": "12ba8fb3",
   "metadata": {},
   "source": [
    "# Объединение IV и missing_rates"
   ]
  },
  {
   "cell_type": "code",
   "execution_count": 59,
   "id": "9fb100d2",
   "metadata": {},
   "outputs": [
    {
     "name": "stderr",
     "output_type": "stream",
     "text": [
      "2024-12-05 16:55:17,382 - INFO - Структура iv_with_missing:\n"
     ]
    },
    {
     "data": {
      "text/plain": [
       "Index(['variable', 'info_value', 'missing'], dtype='object')"
      ]
     },
     "metadata": {},
     "output_type": "display_data"
    },
    {
     "name": "stderr",
     "output_type": "stream",
     "text": [
      "2024-12-05 16:55:17,388 - INFO - iv_with_missing:\n"
     ]
    },
    {
     "data": {
      "text/html": [
       "<div>\n",
       "<style scoped>\n",
       "    .dataframe tbody tr th:only-of-type {\n",
       "        vertical-align: middle;\n",
       "    }\n",
       "\n",
       "    .dataframe tbody tr th {\n",
       "        vertical-align: top;\n",
       "    }\n",
       "\n",
       "    .dataframe thead th {\n",
       "        text-align: right;\n",
       "    }\n",
       "</style>\n",
       "<table border=\"1\" class=\"dataframe\">\n",
       "  <thead>\n",
       "    <tr style=\"text-align: right;\">\n",
       "      <th></th>\n",
       "      <th>variable</th>\n",
       "      <th>info_value</th>\n",
       "      <th>missing</th>\n",
       "    </tr>\n",
       "  </thead>\n",
       "  <tbody>\n",
       "    <tr>\n",
       "      <th>0</th>\n",
       "      <td>gb_60ever</td>\n",
       "      <td>17.210712</td>\n",
       "      <td>0.000000</td>\n",
       "    </tr>\n",
       "    <tr>\n",
       "      <th>1</th>\n",
       "      <td>gb_cum_dlq_90</td>\n",
       "      <td>7.762180</td>\n",
       "      <td>0.000000</td>\n",
       "    </tr>\n",
       "    <tr>\n",
       "      <th>2</th>\n",
       "      <td>gb_90ever</td>\n",
       "      <td>6.407824</td>\n",
       "      <td>0.000000</td>\n",
       "    </tr>\n",
       "    <tr>\n",
       "      <th>3</th>\n",
       "      <td>additional_income</td>\n",
       "      <td>2.209887</td>\n",
       "      <td>0.545382</td>\n",
       "    </tr>\n",
       "    <tr>\n",
       "      <th>4</th>\n",
       "      <td>loan_amount</td>\n",
       "      <td>1.865620</td>\n",
       "      <td>0.000000</td>\n",
       "    </tr>\n",
       "  </tbody>\n",
       "</table>\n",
       "</div>"
      ],
      "text/plain": [
       "            variable  info_value   missing\n",
       "0          gb_60ever   17.210712  0.000000\n",
       "1      gb_cum_dlq_90    7.762180  0.000000\n",
       "2          gb_90ever    6.407824  0.000000\n",
       "3  additional_income    2.209887  0.545382\n",
       "4        loan_amount    1.865620  0.000000"
      ]
     },
     "metadata": {},
     "output_type": "display_data"
    }
   ],
   "source": [
    "# Объединяем IV и по долю пропусков\n",
    "iv_with_missing = iv_values_final.merge(missing_rates, on='variable')\n",
    "\n",
    "# Просмотр первых строк\n",
    "logging.info(\"Структура iv_with_missing:\")\n",
    "display(iv_with_missing.columns)\n",
    "\n",
    "logging.info(\"iv_with_missing:\")\n",
    "display(iv_with_missing.head())\n"
   ]
  },
  {
   "cell_type": "markdown",
   "id": "03d256d1",
   "metadata": {},
   "source": [
    "# Фильтрация переменных по IV и пропускам"
   ]
  },
  {
   "cell_type": "code",
   "execution_count": 56,
   "id": "cf709ea2",
   "metadata": {},
   "outputs": [
    {
     "name": "stderr",
     "output_type": "stream",
     "text": [
      "2024-12-05 16:55:17,270 - INFO - Фильтрация переменных по info_value >= 0.01 и missing <= 0.95.\n",
      "2024-12-05 16:55:17,275 - INFO - Отобранные переменные после фильтрации по IV и пропускам: ['additional_income', 'loan_amount', 'reported_expenses', 'net_main_income', 'months_at_job', 'deposit', 'bki_number_of_loans', 'months_with_bank', 'max_max_days_past_due', 'age', 'employment_segment', 'marital_status', 'months_at_current_address', 'client_type', 'bki_rating', 'salary_payment_in_bank_account', 'region_of_living', 'dependants', 'region_of_registration', 'education', 'eskhata_online', 'gender', 'property_object', 'city_of_living_eq_registration', 'source_of_main_income', 'plastic_cards', 'previous_loans_count']\n"
     ]
    }
   ],
   "source": [
    "logging.info(\"Фильтрация переменных по info_value >= 0.01 и missing <= 0.95.\")\n",
    "# Отбор переменных с info_value >= 0.01 и пропусками <= 0.95\n",
    "filtered_iv = iv_with_missing[\n",
    "    (iv_with_missing['info_value'] >= 0.01) &\n",
    "    (iv_with_missing['missing'] <= 0.95)\n",
    "]\n",
    "\n",
    "# Извлечение списка переменных\n",
    "selected_vars_final = filtered_iv['variable'].tolist()\n",
    "\n",
    "# Исключение определенных переменных\n",
    "vars_to_remove = [\"customer_id\", \"account_id\", \"gb_90ever\", \"gb_60ever\", \"gb_cum_dlq_90\", \"current_exposure\"]\n",
    "selected_vars_final = [var for var in selected_vars_final if var not in vars_to_remove]\n",
    "\n",
    "logging.info(f\"Отобранные переменные после фильтрации по IV и пропускам: {selected_vars_final}\")\n"
   ]
  },
  {
   "cell_type": "markdown",
   "id": "1f6dd9c5",
   "metadata": {},
   "source": [
    "# Создание dev_final_sel"
   ]
  },
  {
   "cell_type": "code",
   "execution_count": 57,
   "id": "46137ab2",
   "metadata": {},
   "outputs": [
    {
     "name": "stderr",
     "output_type": "stream",
     "text": [
      "2024-12-05 16:55:17,298 - INFO - Создание dev_final_sel с отобранными переменными.\n",
      "2024-12-05 16:55:17,320 - INFO - Количество строк в dev_final_sel: 37636\n",
      "2024-12-05 16:55:17,320 - INFO - Количество столбцов в dev_final_sel: 28\n"
     ]
    }
   ],
   "source": [
    "logging.info(\"Создание dev_final_sel с отобранными переменными.\")\n",
    "dev_final_sel = dev_final[selected_vars_final + ['gb']].copy()\n",
    "\n",
    "logging.info(f\"Количество строк в dev_final_sel: {dev_final_sel.shape[0]}\")\n",
    "logging.info(f\"Количество столбцов в dev_final_sel: {dev_final_sel.shape[1]}\")\n"
   ]
  },
  {
   "cell_type": "markdown",
   "id": "f7c87e9a",
   "metadata": {},
   "source": [
    "# Определение правил биннинга"
   ]
  },
  {
   "cell_type": "code",
   "execution_count": 58,
   "id": "d4067ba6",
   "metadata": {},
   "outputs": [
    {
     "name": "stderr",
     "output_type": "stream",
     "text": [
      "2024-12-05 16:55:17,347 - INFO - Определение правил биннинга для переменных.\n"
     ]
    }
   ],
   "source": [
    "logging.info(\"Определение правил биннинга для переменных.\")\n",
    "\n",
    "breaks = {\n",
    "    'education': [\n",
    "        \"Высшее\", \"Ученая степень\", \"2 и более высших\",\n",
    "        \"Среднее\", \"Начальное\",\n",
    "        \"Среднее специальное\",\n",
    "        \"Неоконченное высшее\"\n",
    "    ],\n",
    "    'region_of_living': [\n",
    "        \"Вилояти Сугд\", \n",
    "        \"Вилояти Хатлон\", \"ВМКБ\",\n",
    "        \"Душанбе\", \n",
    "        \"Нохияхои тобеи Чумхури\"\n",
    "    ],\n",
    "    'marital_status': [\n",
    "        \"Женат\", \"Сожитель\",\n",
    "        \"Замужем\", \"Вдова\", \"Разведена\",\n",
    "        \"Холост\", \n",
    "        \"Не замужем\", \"Разведен\"\n",
    "    ],\n",
    "    'employment_segment': [\n",
    "        \"Мед. работник\", \"Работник в сфере образования\", \"Экономист\", \"Работник НПО (Ташкилоти Чамъияти)\",\n",
    "        \"Работник госструктур\", \"Строитель\",\n",
    "        \"Работник производства\", \"Работник сельского хозяйство\",\n",
    "        \"Работник частной организации\"\n",
    "    ],\n",
    "    'source_of_main_income': [\n",
    "        \"Доход семьи\",\n",
    "        \"Зарплата по основному месту работы\",\n",
    "        \"Предпринимательство\",\n",
    "        \"Пенсия\", \"Алименты\", \"Прочее\", \"missing\"\n",
    "    ],\n",
    "    'months_at_job': [31, 61, 145, 277],\n",
    "    'months_with_bank': [10, 25, 79],\n",
    "    'net_main_income': [\"missing\", \"1600\", 3400]\n",
    "}\n"
   ]
  },
  {
   "cell_type": "markdown",
   "id": "d116b2c7",
   "metadata": {},
   "source": [
    "# Обработка пропусков в категориальных переменных: добавление категории 'missing'"
   ]
  },
  {
   "cell_type": "code",
   "execution_count": 60,
   "id": "540ad295",
   "metadata": {},
   "outputs": [
    {
     "name": "stderr",
     "output_type": "stream",
     "text": [
      "2024-12-05 16:57:18,394 - INFO - Обработка пропусков в категориальных переменных.\n",
      "C:\\Users\\F_Jumaev\\AppData\\Local\\Temp\\ipykernel_16728\\1224771141.py:7: FutureWarning: The `inplace` parameter in pandas.Categorical.add_categories is deprecated and will be removed in a future version. Removing unused categories will always return a new Categorical object.\n",
      "  dev_final_sel[var].cat.add_categories('missing', inplace=True)\n",
      "C:\\Users\\F_Jumaev\\AppData\\Local\\Temp\\ipykernel_16728\\1224771141.py:7: FutureWarning: The `inplace` parameter in pandas.Categorical.add_categories is deprecated and will be removed in a future version. Removing unused categories will always return a new Categorical object.\n",
      "  dev_final_sel[var].cat.add_categories('missing', inplace=True)\n",
      "C:\\Users\\F_Jumaev\\AppData\\Local\\Temp\\ipykernel_16728\\1224771141.py:7: FutureWarning: The `inplace` parameter in pandas.Categorical.add_categories is deprecated and will be removed in a future version. Removing unused categories will always return a new Categorical object.\n",
      "  dev_final_sel[var].cat.add_categories('missing', inplace=True)\n",
      "C:\\Users\\F_Jumaev\\AppData\\Local\\Temp\\ipykernel_16728\\1224771141.py:7: FutureWarning: The `inplace` parameter in pandas.Categorical.add_categories is deprecated and will be removed in a future version. Removing unused categories will always return a new Categorical object.\n",
      "  dev_final_sel[var].cat.add_categories('missing', inplace=True)\n",
      "C:\\Users\\F_Jumaev\\AppData\\Local\\Temp\\ipykernel_16728\\1224771141.py:7: FutureWarning: The `inplace` parameter in pandas.Categorical.add_categories is deprecated and will be removed in a future version. Removing unused categories will always return a new Categorical object.\n",
      "  dev_final_sel[var].cat.add_categories('missing', inplace=True)\n",
      "2024-12-05 16:57:18,419 - INFO - Применение биннинга и расчет WOE на dev_final_sel.\n"
     ]
    },
    {
     "name": "stdout",
     "output_type": "stream",
     "text": [
      "[INFO] creating woe binning ...\n"
     ]
    },
    {
     "name": "stderr",
     "output_type": "stream",
     "text": [
      "2024-12-05 16:57:41,426 - INFO - Биннинг и расчет WOE выполнены успешно.\n"
     ]
    },
    {
     "name": "stdout",
     "output_type": "stream",
     "text": [
      "Binning on 37636 rows and 28 columns in 00:00:23\n"
     ]
    }
   ],
   "source": [
    "logging.info(\"Обработка пропусков в категориальных переменных.\")\n",
    "for var in selected_vars_final:\n",
    "    if dev_final_sel[var].dtype == 'object' or pd.api.types.is_categorical_dtype(dev_final_sel[var]):\n",
    "        if dev_final_sel[var].isnull().any():\n",
    "            dev_final_sel[var] = dev_final_sel[var].astype('category')\n",
    "            if 'missing' not in dev_final_sel[var].cat.categories:\n",
    "                dev_final_sel[var].cat.add_categories('missing', inplace=True)\n",
    "            dev_final_sel[var].fillna('missing', inplace=True)\n",
    "\n",
    "logging.info(\"Применение биннинга и расчет WOE на dev_final_sel.\")\n",
    "try:\n",
    "    bins_final5_M1_Employee = sc.woebin(\n",
    "        dt=dev_final_sel,\n",
    "        y=\"gb\",\n",
    "        method=\"tree\",\n",
    "        breaks_list=breaks,\n",
    "        check_cate_num=False,\n",
    "        count_distr_limit=0.05,\n",
    "        bin_num_limit=5\n",
    "    )\n",
    "    logging.info(\"Биннинг и расчет WOE выполнены успешно.\")\n",
    "except Exception as e:\n",
    "    logging.error(f\"Ошибка при биннинге и расчете WOE: {e}\")\n",
    "    raise"
   ]
  },
  {
   "cell_type": "code",
   "execution_count": null,
   "id": "e4b5070a",
   "metadata": {},
   "outputs": [],
   "source": []
  }
 ],
 "metadata": {
  "kernelspec": {
   "display_name": "Python 3 (ipykernel)",
   "language": "python",
   "name": "python3"
  },
  "language_info": {
   "codemirror_mode": {
    "name": "ipython",
    "version": 3
   },
   "file_extension": ".py",
   "mimetype": "text/x-python",
   "name": "python",
   "nbconvert_exporter": "python",
   "pygments_lexer": "ipython3",
   "version": "3.10.9"
  }
 },
 "nbformat": 4,
 "nbformat_minor": 5
}
